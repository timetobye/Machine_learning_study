{
 "cells": [
  {
   "cell_type": "markdown",
   "metadata": {},
   "source": [
    "## part2 - Regression - Evaluating Regression Models Performance\n",
    "\n",
    "- 학습 날짜 : 2019 - 03 - 26"
   ]
  },
  {
   "cell_type": "markdown",
   "metadata": {},
   "source": [
    "## R Squared\n",
    "\n",
    "![alt text](R_Squared_1.png)\n",
    "\n",
    "- SS(res) = SUM(yi - yi^) ** 2\n",
    "- SS(tot) = SUM(yi - yavg) ** 2"
   ]
  },
  {
   "cell_type": "markdown",
   "metadata": {},
   "source": [
    "![alt text](R_Squared_2.png)\n",
    "\n",
    "- R**2 = 1 - (SS(res) / SS(tot))\n",
    "\n",
    "- how good is your line compared to the you know average line which anybody can think of.\n",
    "\n",
    "- R**2 이 1에 가까울수록 이상적인 모델"
   ]
  },
  {
   "cell_type": "markdown",
   "metadata": {},
   "source": [
    "## Adjusted R**2\n",
    "\n",
    "![alt text](Adjusted_R_Squared_1.png)\n",
    "\n",
    "- 어떤 식으로든 변수가 추가되면 R**2에 영향을 준다.\n",
    "- 변수가 추가될 경우 R**2가 작아지지 않으며, 다른 변수와 관계 없는 값이 들어와도 영향을 끼친다."
   ]
  },
  {
   "cell_type": "markdown",
   "metadata": {},
   "source": [
    "![alt text](Adjusted_R_Squared_2.png)\n",
    "\n",
    "- Adj R ** 2 = 1 - (1-R ** 2)(n-1)/(n-p-1)\n",
    "- p : number of regressors\n",
    "- n : sample size"
   ]
  },
  {
   "cell_type": "markdown",
   "metadata": {},
   "source": [
    "![alt text](analysis_result.png)\n",
    "\n",
    "- 어떤 모델을 선택할 것인지는 결과를 보고 판단할 것\n",
    "- 각 feature가 가지는 특징들에 대해 정확히 보고 판단해도 된다."
   ]
  },
  {
   "cell_type": "code",
   "execution_count": null,
   "metadata": {},
   "outputs": [],
   "source": []
  }
 ],
 "metadata": {
  "kernelspec": {
   "display_name": "Python 3",
   "language": "python",
   "name": "python3"
  },
  "language_info": {
   "codemirror_mode": {
    "name": "ipython",
    "version": 3
   },
   "file_extension": ".py",
   "mimetype": "text/x-python",
   "name": "python",
   "nbconvert_exporter": "python",
   "pygments_lexer": "ipython3",
   "version": "3.7.0"
  }
 },
 "nbformat": 4,
 "nbformat_minor": 2
}
