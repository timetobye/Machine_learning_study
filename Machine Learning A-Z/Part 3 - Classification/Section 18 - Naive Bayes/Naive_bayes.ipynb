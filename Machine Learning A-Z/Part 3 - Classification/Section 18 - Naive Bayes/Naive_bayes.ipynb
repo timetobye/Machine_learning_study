{
 "cells": [
  {
   "cell_type": "markdown",
   "metadata": {},
   "source": [
    "## part3 - Classification - Naive Bayes\n",
    "\n",
    "- 학습 날짜 : 2019 - 03 - 28\n",
    "- 예전에 학습한 적이 있어서 쉽게 할 수 있을듯!!\n",
    "- 조대협님 티스토리를 보면 정말 이해하기 쉽게 나와있다."
   ]
  },
  {
   "cell_type": "markdown",
   "metadata": {},
   "source": [
    "### bayes Theorem\n",
    "\n",
    "- 조건부 확률 이용해서 문제를 풀면 됩니다.\n",
    "\n",
    "![alt text](naive_bayes_1.png)\n",
    "![alt text](naive_bayes_2.png)\n",
    "![alt text](naive_bayes_3.png)"
   ]
  },
  {
   "cell_type": "markdown",
   "metadata": {},
   "source": [
    "### Naive Bayes intuition"
   ]
  },
  {
   "cell_type": "code",
   "execution_count": null,
   "metadata": {},
   "outputs": [],
   "source": []
  }
 ],
 "metadata": {
  "kernelspec": {
   "display_name": "Python 3",
   "language": "python",
   "name": "python3"
  },
  "language_info": {
   "codemirror_mode": {
    "name": "ipython",
    "version": 3
   },
   "file_extension": ".py",
   "mimetype": "text/x-python",
   "name": "python",
   "nbconvert_exporter": "python",
   "pygments_lexer": "ipython3",
   "version": "3.7.0"
  }
 },
 "nbformat": 4,
 "nbformat_minor": 2
}
