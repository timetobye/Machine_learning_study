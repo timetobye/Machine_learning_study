{
 "cells": [
  {
   "cell_type": "markdown",
   "metadata": {},
   "source": [
    "### part3 - Classification - False Positives & False Negatives\n",
    "\n",
    "- 학습 날짜 : 2019 - 03 - 30\n"
   ]
  },
  {
   "cell_type": "markdown",
   "metadata": {},
   "source": [
    "### note\n",
    "\n",
    "- logistic regression에서 #2와 #3의 경우를 살펴봐라\n",
    "- error가 발생한 것을 알 수 있다.(실제는 1인데 예측은 0 / 혹은 그 반대)\n",
    "\n",
    "![alt text](False_Positives&False_Negatives_1.png)\n",
    "![alt text](False_Positives&False_Negatives_2.png)\n",
    "![alt text](False_Positives&False_Negatives_3.png)"
   ]
  }
 ],
 "metadata": {
  "kernelspec": {
   "display_name": "Python 3",
   "language": "python",
   "name": "python3"
  },
  "language_info": {
   "codemirror_mode": {
    "name": "ipython",
    "version": 3
   },
   "file_extension": ".py",
   "mimetype": "text/x-python",
   "name": "python",
   "nbconvert_exporter": "python",
   "pygments_lexer": "ipython3",
   "version": "3.7.0"
  }
 },
 "nbformat": 4,
 "nbformat_minor": 2
}
