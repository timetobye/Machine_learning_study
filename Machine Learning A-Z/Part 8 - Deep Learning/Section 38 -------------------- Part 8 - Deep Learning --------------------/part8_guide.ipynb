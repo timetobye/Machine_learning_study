{
 "cells": [
  {
   "cell_type": "markdown",
   "metadata": {},
   "source": [
    "### Part8 - Deep Learning"
   ]
  },
  {
   "cell_type": "markdown",
   "metadata": {},
   "source": [
    "### Part 8 guide\n",
    "\n",
    "Deep Learning is the most exciting and powerful branch of Machine Learning. Deep Learning models can be used for a variety of complex tasks:\n",
    "\n",
    "- Artificial Neural Networks for Regression and Classification\n",
    "- Convolutional Neural Networks for Computer Vision\n",
    "- Recurrent Neural Networks for Time Series Analysis\n",
    "- Self Organizing Maps for Feature Extraction\n",
    "- Deep Boltzmann Machines for Recommendation Systems\n",
    "- Auto Encoders for Recommendation Systems\n",
    "\n",
    "In this part, you will understand and learn how to implement the following Deep Learning models:\n",
    "\n",
    "Artificial Neural Networks for a Business Problem\n",
    "Convolutional Neural Networks for a Computer Vision task\n"
   ]
  },
  {
   "cell_type": "markdown",
   "metadata": {},
   "source": [
    "### lecture note\n",
    "\n",
    "![alt text](what_is_deep_learning_1.png)\n",
    "![alt text](what_is_deep_learning_2.png)\n",
    "![alt text](what_is_deep_learning_3.png)\n",
    "![alt text](what_is_deep_learning_4.png)\n",
    "![alt text](what_is_deep_learning_5.png)\n",
    "![alt text](what_is_deep_learning_6.png)"
   ]
  },
  {
   "cell_type": "code",
   "execution_count": null,
   "metadata": {},
   "outputs": [],
   "source": []
  }
 ],
 "metadata": {
  "kernelspec": {
   "display_name": "Python 3",
   "language": "python",
   "name": "python3"
  },
  "language_info": {
   "codemirror_mode": {
    "name": "ipython",
    "version": 3
   },
   "file_extension": ".py",
   "mimetype": "text/x-python",
   "name": "python",
   "nbconvert_exporter": "python",
   "pygments_lexer": "ipython3",
   "version": "3.7.0"
  }
 },
 "nbformat": 4,
 "nbformat_minor": 2
}
