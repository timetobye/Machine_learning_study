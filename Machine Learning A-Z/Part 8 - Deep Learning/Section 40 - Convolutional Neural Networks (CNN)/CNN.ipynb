{
 "cells": [
  {
   "cell_type": "markdown",
   "metadata": {},
   "source": [
    "### Part8 - Deep Learning - Convolutional Neural Networks(CNN)"
   ]
  },
  {
   "cell_type": "markdown",
   "metadata": {},
   "source": [
    "### Lecture note\n",
    "\n",
    "- reference : http://taewan.kim/post/cnn/\n",
    "\n",
    "#### image\n",
    "\n",
    "- image를 숫자로 표현하고 색을 구하고 표현\n",
    "\n",
    "\n",
    "#### convolution\n",
    "\n",
    "- convolution is a combined integration of the two functions and it shows you how one function modifies the other or modifies the shape\n",
    "- 자세한건 이미지 참고, 논문 참고\n",
    "- filter?\n",
    "  - feature detector를 이용하여 input image를 순회하여 feature map을 완성\n",
    "  - 완성된 map에서 가장 높은 값을 지니는 부분을 확인한다.\n",
    "  \n",
    "- we create many feature maps to obtain our first convolution layer\n",
    "- filter를 이용하면 다양한 이미지 결과를 이끌어 낼 수 있다.(이미지 참고)\n",
    "\n",
    "#### ReLU layer\n",
    "\n",
    "- Rectifier\n",
    "  - image are highly non-linear"
   ]
  },
  {
   "cell_type": "code",
   "execution_count": null,
   "metadata": {},
   "outputs": [],
   "source": []
  }
 ],
 "metadata": {
  "kernelspec": {
   "display_name": "Python 3",
   "language": "python",
   "name": "python3"
  },
  "language_info": {
   "codemirror_mode": {
    "name": "ipython",
    "version": 3
   },
   "file_extension": ".py",
   "mimetype": "text/x-python",
   "name": "python",
   "nbconvert_exporter": "python",
   "pygments_lexer": "ipython3",
   "version": "3.6.8"
  }
 },
 "nbformat": 4,
 "nbformat_minor": 2
}
