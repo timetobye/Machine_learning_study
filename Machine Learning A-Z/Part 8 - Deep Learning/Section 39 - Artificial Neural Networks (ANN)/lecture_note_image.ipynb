{
 "cells": [
  {
   "cell_type": "markdown",
   "metadata": {},
   "source": [
    "![image info](lecture_note_image/ann_1.png)\n",
    "![image info](lecture_note_image/ann_2.png)\n",
    "![image info](lecture_note_image/ann_3.png)\n",
    "![image info](lecture_note_image/ann_4.png)\n",
    "![image info](lecture_note_image/ann_5.png)\n",
    "![image info](lecture_note_image/ann_6.png)\n",
    "![image info](lecture_note_image/ann_7.png)\n",
    "![image info](lecture_note_image/ann_8.png)\n",
    "![image info](lecture_note_image/ann_9.png)\n",
    "![image info](lecture_note_image/ann_10.png)\n",
    "![image info](lecture_note_image/ann_11.png)\n",
    "![image info](lecture_note_image/ann_12.png)\n",
    "![image info](lecture_note_image/ann_13.png)\n",
    "![image info](lecture_note_image/ann_14.png)\n",
    "![image info](lecture_note_image/ann_15.png)\n",
    "![image info](lecture_note_image/ann_16.png)\n",
    "![image info](lecture_note_image/ann_17.png)\n",
    "![image info](lecture_note_image/ann_18.png)\n",
    "![image info](lecture_note_image/ann_19.png)\n",
    "![image info](lecture_note_image/ann_20.png)\n",
    "![image info](lecture_note_image/ann_21.png)\n",
    "![image info](lecture_note_image/ann_22.png)\n",
    "![image info](lecture_note_image/ann_23.png)\n",
    "![image info](lecture_note_image/ann_24.png)\n",
    "![image info](lecture_note_image/ann_25.png)\n",
    "![image info](lecture_note_image/ann_26.png)\n",
    "![image info](lecture_note_image/ann_27.png)\n",
    "![image info](lecture_note_image/ann_28.png)\n",
    "![image info](lecture_note_image/ann_29.png)\n",
    "![image info](lecture_note_image/ann_30.png)\n",
    "![image info](lecture_note_image/ann_31.png)\n",
    "![image info](lecture_note_image/ann_32.png)\n",
    "![image info](lecture_note_image/ann_33.png)\n",
    "![image info](lecture_note_image/ann_34.png)\n",
    "![image info](lecture_note_image/ann_35.png)\n",
    "![image info](lecture_note_image/ann_36.png)\n",
    "![image info](lecture_note_image/ann_37.png)\n",
    "![image info](lecture_note_image/ann_38.png)\n",
    "![image info](lecture_note_image/ann_39.png)\n",
    "![image info](lecture_note_image/ann_40.png)\n",
    "![image info](lecture_note_image/ann_41.png)\n",
    "![image info](lecture_note_image/ann_42.png)\n",
    "![image info](lecture_note_image/ann_43.png)\n",
    "![image info](lecture_note_image/ann_44.png)\n",
    "![image info](lecture_note_image/ann_45.png)\n",
    "![image info](lecture_note_image/ann_46.png)"
   ]
  },
  {
   "cell_type": "code",
   "execution_count": null,
   "metadata": {},
   "outputs": [],
   "source": []
  }
 ],
 "metadata": {
  "kernelspec": {
   "display_name": "Python 3",
   "language": "python",
   "name": "python3"
  },
  "language_info": {
   "codemirror_mode": {
    "name": "ipython",
    "version": 3
   },
   "file_extension": ".py",
   "mimetype": "text/x-python",
   "name": "python",
   "nbconvert_exporter": "python",
   "pygments_lexer": "ipython3",
   "version": "3.6.8"
  }
 },
 "nbformat": 4,
 "nbformat_minor": 2
}
