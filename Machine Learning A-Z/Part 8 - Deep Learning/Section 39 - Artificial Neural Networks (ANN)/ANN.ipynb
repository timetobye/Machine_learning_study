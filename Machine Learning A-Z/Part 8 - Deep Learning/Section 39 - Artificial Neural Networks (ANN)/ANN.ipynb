{
 "cells": [
  {
   "cell_type": "markdown",
   "metadata": {},
   "source": [
    "### Part8 - Deep Learning - Artificial Neural Networks(ANN)"
   ]
  },
  {
   "cell_type": "markdown",
   "metadata": {},
   "source": [
    "### Lecture note\n",
    "\n",
    "- lecture note image in lecture_note_image.ipynb\n",
    "\n",
    "#### The Neuron\n",
    "\n",
    "- 인간의 두뇌처럼 구조를 만들어 나가는 과정이 우리에게는 필요하다.\n",
    "- 생물학 내용이 많군...\n",
    "- input layer : see, hear, touch ....like human mind things..\n",
    "- input value : independent variable - > standardize, 정규화 해서 이용할 수 있게 사용할 거임\n",
    "- output은 one row\n",
    "- weight : nn에서 중요한 항목, 가중치를 줘서 모델을 발전 시킬 거임\n",
    "\n",
    "#### The Activation Function\n",
    "\n",
    "- Threshold function\n",
    "- sigmoid function\n",
    "- Rectifier : most popular\n",
    "- Hyperbolic Tangent(tanh) : It's similar to sigmoid, but it goes below zero to 1\n",
    "\n",
    "#### How do NNs work?\n",
    "\n",
    "- input layer의 여러 input들이 hidden layer에 들어가면서 변화가 생김\n",
    "\n",
    "\n",
    "#### How do Neural Networks learn?\n",
    "\n",
    "- hard coding?, creating?\n",
    "- perceptron\n",
    "  - actual value\n",
    "  - feed back from result are comparing output value and actual value\n",
    "  - goal : minimize cost function\n",
    "  - repeat this work..\n",
    "  - all the rows shares weight and iteration.\n",
    "  \n",
    "\n",
    "#### Gradient Descent\n",
    "\n",
    "- curse of dimensionality\n",
    "  - reference(http://norman3.github.io/prml/docs/chapter01/4.html)\n",
    "- 미분 기울기!!\n",
    "- required the cost function convex(볼록한), 볼록하 경우에만 찾을 수 있는...\n",
    "  \n",
    "#### Stochastic Gradient Descent\n",
    "\n",
    "- 하나의 결과를 가지고 weight를 계속 조정\n",
    "- batch gradient Descent vs stochastic gradient descent\n",
    "  - 한 번에 vs 하나씩 순차적으로\n",
    "  - It's random and with the best gradient and method as long as you have the same starting weights.\n",
    "\n",
    "\n",
    "#### backpropagation\n",
    "\n",
    "- http://jaejunyoo.blogspot.com/2017/01/backpropagation.html\n",
    "- "
   ]
  },
  {
   "cell_type": "markdown",
   "metadata": {},
   "source": [
    "### Code"
   ]
  },
  {
   "cell_type": "code",
   "execution_count": 2,
   "metadata": {},
   "outputs": [],
   "source": [
    "# !conda install -c conda-forge keras -y"
   ]
  },
  {
   "cell_type": "code",
   "execution_count": 9,
   "metadata": {},
   "outputs": [],
   "source": [
    "# Importing the libraries\n",
    "\n",
    "import numpy as np\n",
    "import matplotlib.pyplot as plt\n",
    "import pandas as pd\n",
    "import seaborn as sns"
   ]
  },
  {
   "cell_type": "code",
   "execution_count": 11,
   "metadata": {},
   "outputs": [],
   "source": [
    "# Importing the dataset\n",
    "\n",
    "dataset = pd.read_csv('Churn_Modelling.csv')\n",
    "X = dataset.iloc[:, 3:13].values\n",
    "y = dataset.iloc[:, 13].values"
   ]
  },
  {
   "cell_type": "code",
   "execution_count": 13,
   "metadata": {},
   "outputs": [
    {
     "data": {
      "text/plain": [
       "array([[619, 'France', 'Female', ..., 1, 1, 101348.88],\n",
       "       [608, 'Spain', 'Female', ..., 0, 1, 112542.58],\n",
       "       [502, 'France', 'Female', ..., 1, 0, 113931.57],\n",
       "       ...,\n",
       "       [709, 'France', 'Female', ..., 0, 1, 42085.58],\n",
       "       [772, 'Germany', 'Male', ..., 1, 0, 92888.52],\n",
       "       [792, 'France', 'Female', ..., 1, 0, 38190.78]], dtype=object)"
      ]
     },
     "execution_count": 13,
     "metadata": {},
     "output_type": "execute_result"
    }
   ],
   "source": [
    "X"
   ]
  },
  {
   "cell_type": "markdown",
   "metadata": {},
   "source": [
    "### encoder\n",
    "\n",
    "- 국가별 정리\n",
    "  - avoid dummy trap using onehotencoder\n",
    "- 성별 정리"
   ]
  },
  {
   "cell_type": "code",
   "execution_count": 16,
   "metadata": {},
   "outputs": [],
   "source": [
    "# Encoding categorical data\n",
    "\n",
    "from sklearn.preprocessing import LabelEncoder, OneHotEncoder\n",
    "\n",
    "labelencoder_X_1 = LabelEncoder()\n",
    "X[:, 1] = labelencoder_X_1.fit_transform(X[:, 1])\n",
    "\n",
    "labelencoder_X_2 = LabelEncoder()\n",
    "X[:, 2] = labelencoder_X_2.fit_transform(X[:, 2])\n"
   ]
  },
  {
   "cell_type": "code",
   "execution_count": 17,
   "metadata": {},
   "outputs": [
    {
     "data": {
      "text/plain": [
       "array([[619, 0, 0, ..., 1, 1, 101348.88],\n",
       "       [608, 2, 0, ..., 0, 1, 112542.58],\n",
       "       [502, 0, 0, ..., 1, 0, 113931.57],\n",
       "       ...,\n",
       "       [709, 0, 0, ..., 0, 1, 42085.58],\n",
       "       [772, 1, 1, ..., 1, 0, 92888.52],\n",
       "       [792, 0, 0, ..., 1, 0, 38190.78]], dtype=object)"
      ]
     },
     "execution_count": 17,
     "metadata": {},
     "output_type": "execute_result"
    }
   ],
   "source": [
    "X"
   ]
  },
  {
   "cell_type": "code",
   "execution_count": 18,
   "metadata": {},
   "outputs": [
    {
     "name": "stderr",
     "output_type": "stream",
     "text": [
      "/Users/wontaek/anaconda3/lib/python3.6/site-packages/sklearn/preprocessing/_encoders.py:371: FutureWarning: The handling of integer data will change in version 0.22. Currently, the categories are determined based on the range [0, max(values)], while in the future they will be determined based on the unique values.\n",
      "If you want the future behaviour and silence this warning, you can specify \"categories='auto'\".\n",
      "In case you used a LabelEncoder before this OneHotEncoder to convert the categories to integers, then you can now use the OneHotEncoder directly.\n",
      "  warnings.warn(msg, FutureWarning)\n",
      "/Users/wontaek/anaconda3/lib/python3.6/site-packages/sklearn/preprocessing/_encoders.py:392: DeprecationWarning: The 'categorical_features' keyword is deprecated in version 0.20 and will be removed in 0.22. You can use the ColumnTransformer instead.\n",
      "  \"use the ColumnTransformer instead.\", DeprecationWarning)\n"
     ]
    }
   ],
   "source": [
    "onehotencoder = OneHotEncoder(categorical_features = [1])\n",
    "X = onehotencoder.fit_transform(X).toarray()"
   ]
  },
  {
   "cell_type": "code",
   "execution_count": 19,
   "metadata": {},
   "outputs": [
    {
     "data": {
      "text/plain": [
       "array([[1.0000000e+00, 0.0000000e+00, 0.0000000e+00, ..., 1.0000000e+00,\n",
       "        1.0000000e+00, 1.0134888e+05],\n",
       "       [0.0000000e+00, 0.0000000e+00, 1.0000000e+00, ..., 0.0000000e+00,\n",
       "        1.0000000e+00, 1.1254258e+05],\n",
       "       [1.0000000e+00, 0.0000000e+00, 0.0000000e+00, ..., 1.0000000e+00,\n",
       "        0.0000000e+00, 1.1393157e+05],\n",
       "       ...,\n",
       "       [1.0000000e+00, 0.0000000e+00, 0.0000000e+00, ..., 0.0000000e+00,\n",
       "        1.0000000e+00, 4.2085580e+04],\n",
       "       [0.0000000e+00, 1.0000000e+00, 0.0000000e+00, ..., 1.0000000e+00,\n",
       "        0.0000000e+00, 9.2888520e+04],\n",
       "       [1.0000000e+00, 0.0000000e+00, 0.0000000e+00, ..., 1.0000000e+00,\n",
       "        0.0000000e+00, 3.8190780e+04]])"
      ]
     },
     "execution_count": 19,
     "metadata": {},
     "output_type": "execute_result"
    }
   ],
   "source": [
    "X"
   ]
  },
  {
   "cell_type": "code",
   "execution_count": 20,
   "metadata": {},
   "outputs": [],
   "source": [
    "X = X[:, 1:]"
   ]
  },
  {
   "cell_type": "code",
   "execution_count": 22,
   "metadata": {},
   "outputs": [],
   "source": [
    "# Splitting the dataset into the Training set and Test set\n",
    "\n",
    "from sklearn.model_selection import train_test_split\n",
    "\n",
    "X_train, X_test, y_train, y_test = train_test_split(\n",
    "    X, \n",
    "    y, \n",
    "    test_size = 0.2, \n",
    "    random_state = 0\n",
    ")"
   ]
  },
  {
   "cell_type": "code",
   "execution_count": 23,
   "metadata": {},
   "outputs": [],
   "source": [
    "# Feature Scaling\n",
    "\n",
    "from sklearn.preprocessing import StandardScaler\n",
    "\n",
    "sc = StandardScaler()\n",
    "X_train = sc.fit_transform(X_train)\n",
    "X_test = sc.transform(X_test)"
   ]
  },
  {
   "cell_type": "markdown",
   "metadata": {},
   "source": [
    "#### part 2 - ANN"
   ]
  },
  {
   "cell_type": "code",
   "execution_count": 25,
   "metadata": {},
   "outputs": [],
   "source": [
    "# importing the Keras libraries and packages\n",
    "# Sequential : required to initializa neural network\n",
    "# Dense : requeired to build the layers\n",
    "\n",
    "import keras\n",
    "from keras.models import Sequential\n",
    "from keras.layers import Dense"
   ]
  },
  {
   "cell_type": "code",
   "execution_count": 27,
   "metadata": {},
   "outputs": [],
   "source": [
    "# initialising the ANN\n",
    "\n",
    "classifier = Sequential()"
   ]
  },
  {
   "cell_type": "code",
   "execution_count": 28,
   "metadata": {},
   "outputs": [
    {
     "name": "stderr",
     "output_type": "stream",
     "text": [
      "/Users/wontaek/anaconda3/lib/python3.6/site-packages/ipykernel_launcher.py:14: UserWarning: Update your `Dense` call to the Keras 2 API: `Dense(activation=\"relu\", input_dim=11, units=6, kernel_initializer=\"uniform\")`\n",
      "  \n"
     ]
    }
   ],
   "source": [
    "# Adding the input layer and the first hidden layer\n",
    "# output_dim : the number of nodes of the layer we are adding in this function\n",
    "# how many node in this layer???\n",
    "# parameter tunning....we need.\n",
    "# average node : (input layer + output layer) / 2\n",
    "# init : randomly initialized the weights as small numbers close to zero, 균일하게 랜덤 분포 \n",
    "# activation : relu (https://pythonkim.tistory.com/40)\n",
    "# input_dim : input layer~\n",
    "\n",
    "classifier.add(Dense(\n",
    "    output_dim = 6,\n",
    "    init = 'uniform',\n",
    "    activation = \"relu\",\n",
    "    input_dim = 11)\n",
    "              )"
   ]
  },
  {
   "cell_type": "code",
   "execution_count": 30,
   "metadata": {},
   "outputs": [
    {
     "name": "stderr",
     "output_type": "stream",
     "text": [
      "/Users/wontaek/anaconda3/lib/python3.6/site-packages/ipykernel_launcher.py:6: UserWarning: Update your `Dense` call to the Keras 2 API: `Dense(activation=\"relu\", units=6, kernel_initializer=\"uniform\")`\n",
      "  \n"
     ]
    }
   ],
   "source": [
    "# Adding the second hidden layer\n",
    "\n",
    "classifier.add(Dense(\n",
    "    output_dim = 6,\n",
    "    init = 'uniform',\n",
    "    activation = \"relu\")\n",
    "              )"
   ]
  },
  {
   "cell_type": "markdown",
   "metadata": {},
   "source": [
    "### remember\n",
    "\n",
    "- sigmoid function\n",
    "  - the heart of probabilistic apprach\n",
    "  - managed to get some probabilities in the logistic regression model\n",
    "\n",
    "\n",
    "- more than two categories...?\n",
    "  - input three\n",
    "  - activation function : Soft Max function\n",
    "  \n",
    "지금 작업하는 건 두 개 카테고리가 결과니까 sigmoid로 충분"
   ]
  },
  {
   "cell_type": "code",
   "execution_count": 31,
   "metadata": {},
   "outputs": [
    {
     "name": "stderr",
     "output_type": "stream",
     "text": [
      "/Users/wontaek/anaconda3/lib/python3.6/site-packages/ipykernel_launcher.py:6: UserWarning: Update your `Dense` call to the Keras 2 API: `Dense(activation=\"sigmoid\", units=1, kernel_initializer=\"uniform\")`\n",
      "  \n"
     ]
    }
   ],
   "source": [
    "# Adding the output layer\n",
    "\n",
    "classifier.add(Dense(\n",
    "    output_dim = 1,\n",
    "    init = 'uniform',\n",
    "    activation = \"sigmoid\")\n",
    "              )"
   ]
  },
  {
   "cell_type": "code",
   "execution_count": 32,
   "metadata": {},
   "outputs": [],
   "source": [
    "# compiling the ANN\n",
    "# optimizer : the algorithm you want to use to find the optimal set of weights\n",
    "# loss : lost function\n",
    "# metric : \n",
    "\n",
    "classifier.compile(\n",
    "    optimizer='adam',\n",
    "    loss='binary_crossentropy',\n",
    "    metrics=['accuracy']\n",
    ")"
   ]
  },
  {
   "cell_type": "code",
   "execution_count": 34,
   "metadata": {},
   "outputs": [
    {
     "name": "stderr",
     "output_type": "stream",
     "text": [
      "/Users/wontaek/anaconda3/lib/python3.6/site-packages/ipykernel_launcher.py:9: UserWarning: The `nb_epoch` argument in `fit` has been renamed `epochs`.\n",
      "  if __name__ == '__main__':\n"
     ]
    },
    {
     "name": "stdout",
     "output_type": "stream",
     "text": [
      "Epoch 1/100\n",
      "8000/8000 [==============================] - 2s 228us/step - loss: 0.4841 - acc: 0.7957\n",
      "Epoch 2/100\n",
      "8000/8000 [==============================] - 2s 220us/step - loss: 0.4277 - acc: 0.7960\n",
      "Epoch 3/100\n",
      "8000/8000 [==============================] - 2s 212us/step - loss: 0.4220 - acc: 0.8014\n",
      "Epoch 4/100\n",
      "8000/8000 [==============================] - 2s 213us/step - loss: 0.4179 - acc: 0.8231\n",
      "Epoch 5/100\n",
      "8000/8000 [==============================] - 2s 221us/step - loss: 0.4156 - acc: 0.8267\n",
      "Epoch 6/100\n",
      "8000/8000 [==============================] - 2s 250us/step - loss: 0.4136 - acc: 0.8299\n",
      "Epoch 7/100\n",
      "8000/8000 [==============================] - 2s 215us/step - loss: 0.4127 - acc: 0.8310\n",
      "Epoch 8/100\n",
      "8000/8000 [==============================] - 2s 203us/step - loss: 0.4111 - acc: 0.8332\n",
      "Epoch 9/100\n",
      "8000/8000 [==============================] - 2s 201us/step - loss: 0.4106 - acc: 0.8344\n",
      "Epoch 10/100\n",
      "8000/8000 [==============================] - 2s 201us/step - loss: 0.4096 - acc: 0.8336\n",
      "Epoch 11/100\n",
      "8000/8000 [==============================] - 2s 198us/step - loss: 0.4083 - acc: 0.8336\n",
      "Epoch 12/100\n",
      "8000/8000 [==============================] - 2s 198us/step - loss: 0.4080 - acc: 0.8337\n",
      "Epoch 13/100\n",
      "8000/8000 [==============================] - 2s 198us/step - loss: 0.4072 - acc: 0.8334\n",
      "Epoch 14/100\n",
      "8000/8000 [==============================] - 2s 199us/step - loss: 0.4072 - acc: 0.8330\n",
      "Epoch 15/100\n",
      "8000/8000 [==============================] - 2s 199us/step - loss: 0.4064 - acc: 0.8327\n",
      "Epoch 16/100\n",
      "8000/8000 [==============================] - 2s 200us/step - loss: 0.4062 - acc: 0.8356\n",
      "Epoch 17/100\n",
      "8000/8000 [==============================] - 2s 198us/step - loss: 0.4057 - acc: 0.8340\n",
      "Epoch 18/100\n",
      "8000/8000 [==============================] - 2s 200us/step - loss: 0.4052 - acc: 0.8344\n",
      "Epoch 19/100\n",
      "8000/8000 [==============================] - 2s 199us/step - loss: 0.4050 - acc: 0.8356\n",
      "Epoch 20/100\n",
      "8000/8000 [==============================] - 2s 202us/step - loss: 0.4049 - acc: 0.8345\n",
      "Epoch 21/100\n",
      "8000/8000 [==============================] - 2s 199us/step - loss: 0.4044 - acc: 0.8347\n",
      "Epoch 22/100\n",
      "8000/8000 [==============================] - 2s 200us/step - loss: 0.4042 - acc: 0.8341\n",
      "Epoch 23/100\n",
      "8000/8000 [==============================] - 2s 201us/step - loss: 0.4039 - acc: 0.8344\n",
      "Epoch 24/100\n",
      "8000/8000 [==============================] - 2s 200us/step - loss: 0.4039 - acc: 0.8339\n",
      "Epoch 25/100\n",
      "8000/8000 [==============================] - 2s 200us/step - loss: 0.4033 - acc: 0.8351\n",
      "Epoch 26/100\n",
      "8000/8000 [==============================] - 2s 205us/step - loss: 0.4034 - acc: 0.8352\n",
      "Epoch 27/100\n",
      "8000/8000 [==============================] - 2s 206us/step - loss: 0.4030 - acc: 0.8331\n",
      "Epoch 28/100\n",
      "8000/8000 [==============================] - 2s 206us/step - loss: 0.4030 - acc: 0.8335\n",
      "Epoch 29/100\n",
      "8000/8000 [==============================] - 2s 201us/step - loss: 0.4033 - acc: 0.8362\n",
      "Epoch 30/100\n",
      "8000/8000 [==============================] - 2s 201us/step - loss: 0.4029 - acc: 0.8349\n",
      "Epoch 31/100\n",
      "8000/8000 [==============================] - 2s 201us/step - loss: 0.4027 - acc: 0.8351\n",
      "Epoch 32/100\n",
      "8000/8000 [==============================] - 2s 203us/step - loss: 0.4029 - acc: 0.8347\n",
      "Epoch 33/100\n",
      "8000/8000 [==============================] - 2s 216us/step - loss: 0.4027 - acc: 0.8334\n",
      "Epoch 34/100\n",
      "8000/8000 [==============================] - 2s 212us/step - loss: 0.4024 - acc: 0.8351\n",
      "Epoch 35/100\n",
      "8000/8000 [==============================] - 2s 200us/step - loss: 0.4022 - acc: 0.8349\n",
      "Epoch 36/100\n",
      "8000/8000 [==============================] - 2s 200us/step - loss: 0.4022 - acc: 0.8342\n",
      "Epoch 37/100\n",
      "8000/8000 [==============================] - 2s 200us/step - loss: 0.4021 - acc: 0.8349\n",
      "Epoch 38/100\n",
      "8000/8000 [==============================] - 2s 198us/step - loss: 0.4020 - acc: 0.8354\n",
      "Epoch 39/100\n",
      "8000/8000 [==============================] - 2s 201us/step - loss: 0.4021 - acc: 0.8354\n",
      "Epoch 40/100\n",
      "8000/8000 [==============================] - 2s 200us/step - loss: 0.4020 - acc: 0.8346\n",
      "Epoch 41/100\n",
      "8000/8000 [==============================] - 2s 200us/step - loss: 0.4016 - acc: 0.8340\n",
      "Epoch 42/100\n",
      "8000/8000 [==============================] - 2s 199us/step - loss: 0.4020 - acc: 0.8351\n",
      "Epoch 43/100\n",
      "8000/8000 [==============================] - 2s 201us/step - loss: 0.4014 - acc: 0.8361\n",
      "Epoch 44/100\n",
      "8000/8000 [==============================] - 2s 200us/step - loss: 0.4018 - acc: 0.8361\n",
      "Epoch 45/100\n",
      "8000/8000 [==============================] - 2s 200us/step - loss: 0.4017 - acc: 0.8349\n",
      "Epoch 46/100\n",
      "8000/8000 [==============================] - 2s 198us/step - loss: 0.4021 - acc: 0.8344\n",
      "Epoch 47/100\n",
      "8000/8000 [==============================] - 2s 207us/step - loss: 0.4022 - acc: 0.8350\n",
      "Epoch 48/100\n",
      "8000/8000 [==============================] - 2s 201us/step - loss: 0.4014 - acc: 0.8350\n",
      "Epoch 49/100\n",
      "8000/8000 [==============================] - 2s 200us/step - loss: 0.4015 - acc: 0.8345\n",
      "Epoch 50/100\n",
      "8000/8000 [==============================] - 2s 199us/step - loss: 0.4012 - acc: 0.8360\n",
      "Epoch 51/100\n",
      "8000/8000 [==============================] - 2s 199us/step - loss: 0.4014 - acc: 0.8354\n",
      "Epoch 52/100\n",
      "8000/8000 [==============================] - 2s 199us/step - loss: 0.4010 - acc: 0.8351\n",
      "Epoch 53/100\n",
      "8000/8000 [==============================] - 2s 200us/step - loss: 0.4013 - acc: 0.8352\n",
      "Epoch 54/100\n",
      "8000/8000 [==============================] - 2s 202us/step - loss: 0.4011 - acc: 0.8345\n",
      "Epoch 55/100\n",
      "8000/8000 [==============================] - 2s 199us/step - loss: 0.4011 - acc: 0.8355\n",
      "Epoch 56/100\n",
      "8000/8000 [==============================] - 2s 200us/step - loss: 0.4017 - acc: 0.8342\n",
      "Epoch 57/100\n",
      "8000/8000 [==============================] - 2s 202us/step - loss: 0.4018 - acc: 0.8345\n",
      "Epoch 58/100\n",
      "8000/8000 [==============================] - 2s 201us/step - loss: 0.4016 - acc: 0.8347\n",
      "Epoch 59/100\n",
      "8000/8000 [==============================] - 2s 201us/step - loss: 0.4014 - acc: 0.8350\n",
      "Epoch 60/100\n",
      "8000/8000 [==============================] - 2s 224us/step - loss: 0.4009 - acc: 0.8361\n",
      "Epoch 61/100\n",
      "8000/8000 [==============================] - 2s 221us/step - loss: 0.4008 - acc: 0.8357\n",
      "Epoch 62/100\n",
      "8000/8000 [==============================] - 2s 203us/step - loss: 0.4009 - acc: 0.8354\n",
      "Epoch 63/100\n",
      "8000/8000 [==============================] - 2s 201us/step - loss: 0.4011 - acc: 0.8354\n",
      "Epoch 64/100\n",
      "8000/8000 [==============================] - 2s 208us/step - loss: 0.4014 - acc: 0.8352\n",
      "Epoch 65/100\n",
      "8000/8000 [==============================] - 2s 207us/step - loss: 0.4011 - acc: 0.8344\n",
      "Epoch 66/100\n",
      "8000/8000 [==============================] - 2s 242us/step - loss: 0.4012 - acc: 0.8357\n",
      "Epoch 67/100\n",
      "8000/8000 [==============================] - 2s 212us/step - loss: 0.4007 - acc: 0.8344\n",
      "Epoch 68/100\n",
      "8000/8000 [==============================] - 2s 206us/step - loss: 0.4009 - acc: 0.8349\n",
      "Epoch 69/100\n",
      "8000/8000 [==============================] - 2s 244us/step - loss: 0.4012 - acc: 0.8355\n",
      "Epoch 70/100\n",
      "8000/8000 [==============================] - 2s 299us/step - loss: 0.4014 - acc: 0.8352\n",
      "Epoch 71/100\n",
      "8000/8000 [==============================] - 2s 264us/step - loss: 0.4010 - acc: 0.8362\n",
      "Epoch 72/100\n",
      "8000/8000 [==============================] - 2s 235us/step - loss: 0.4012 - acc: 0.8350\n",
      "Epoch 73/100\n",
      "8000/8000 [==============================] - 2s 227us/step - loss: 0.4004 - acc: 0.8366\n",
      "Epoch 74/100\n",
      "8000/8000 [==============================] - 2s 215us/step - loss: 0.4012 - acc: 0.8362\n",
      "Epoch 75/100\n",
      "8000/8000 [==============================] - 2s 208us/step - loss: 0.4011 - acc: 0.8349\n",
      "Epoch 76/100\n",
      "8000/8000 [==============================] - 2s 207us/step - loss: 0.4012 - acc: 0.8352\n",
      "Epoch 77/100\n",
      "8000/8000 [==============================] - 2s 212us/step - loss: 0.4003 - acc: 0.8341\n",
      "Epoch 78/100\n",
      "8000/8000 [==============================] - 2s 230us/step - loss: 0.4010 - acc: 0.8356\n",
      "Epoch 79/100\n",
      "8000/8000 [==============================] - 2s 268us/step - loss: 0.4009 - acc: 0.8342\n",
      "Epoch 80/100\n",
      "8000/8000 [==============================] - 2s 216us/step - loss: 0.4009 - acc: 0.8350\n",
      "Epoch 81/100\n",
      "8000/8000 [==============================] - 2s 215us/step - loss: 0.4007 - acc: 0.8350\n",
      "Epoch 82/100\n",
      "8000/8000 [==============================] - 2s 232us/step - loss: 0.4009 - acc: 0.8342\n",
      "Epoch 83/100\n",
      "8000/8000 [==============================] - 2s 226us/step - loss: 0.4006 - acc: 0.8344\n",
      "Epoch 84/100\n",
      "8000/8000 [==============================] - 2s 211us/step - loss: 0.4006 - acc: 0.8352\n",
      "Epoch 85/100\n",
      "8000/8000 [==============================] - 2s 207us/step - loss: 0.4008 - acc: 0.8347\n",
      "Epoch 86/100\n",
      "8000/8000 [==============================] - 2s 210us/step - loss: 0.4011 - acc: 0.8362\n",
      "Epoch 87/100\n",
      "8000/8000 [==============================] - 2s 207us/step - loss: 0.4006 - acc: 0.8344\n",
      "Epoch 88/100\n",
      "8000/8000 [==============================] - 2s 208us/step - loss: 0.4013 - acc: 0.8344\n",
      "Epoch 89/100\n",
      "8000/8000 [==============================] - 2s 207us/step - loss: 0.4009 - acc: 0.8365\n",
      "Epoch 90/100\n",
      "8000/8000 [==============================] - 2s 207us/step - loss: 0.4009 - acc: 0.8361\n",
      "Epoch 91/100\n",
      "8000/8000 [==============================] - 2s 207us/step - loss: 0.4007 - acc: 0.8352\n",
      "Epoch 92/100\n",
      "8000/8000 [==============================] - 2s 209us/step - loss: 0.4008 - acc: 0.8351\n",
      "Epoch 93/100\n",
      "8000/8000 [==============================] - 2s 211us/step - loss: 0.4008 - acc: 0.8351\n",
      "Epoch 94/100\n",
      "8000/8000 [==============================] - 2s 211us/step - loss: 0.4009 - acc: 0.8341\n",
      "Epoch 95/100\n",
      "8000/8000 [==============================] - 2s 209us/step - loss: 0.4006 - acc: 0.8375\n",
      "Epoch 96/100\n",
      "8000/8000 [==============================] - 2s 207us/step - loss: 0.4005 - acc: 0.8344\n",
      "Epoch 97/100\n",
      "8000/8000 [==============================] - 2s 211us/step - loss: 0.4007 - acc: 0.8359\n",
      "Epoch 98/100\n",
      "8000/8000 [==============================] - 2s 207us/step - loss: 0.4001 - acc: 0.8355\n",
      "Epoch 99/100\n",
      "8000/8000 [==============================] - 2s 209us/step - loss: 0.4007 - acc: 0.8359\n",
      "Epoch 100/100\n",
      "8000/8000 [==============================] - 2s 208us/step - loss: 0.4005 - acc: 0.8361\n"
     ]
    },
    {
     "data": {
      "text/plain": [
       "<keras.callbacks.History at 0x12b7436d8>"
      ]
     },
     "execution_count": 34,
     "metadata": {},
     "output_type": "execute_result"
    }
   ],
   "source": [
    "# Fitting the ANN to the Training set\n",
    "# batch size : the number of observations after which you want to update the weights\n",
    "# 실험적으로 알아내야 함...\n",
    "\n",
    "classifier.fit(\n",
    "    X_train, \n",
    "    y_train,\n",
    "    batch_size=10,\n",
    "    nb_epoch=100\n",
    ")"
   ]
  },
  {
   "cell_type": "code",
   "execution_count": 38,
   "metadata": {},
   "outputs": [],
   "source": [
    "# Predicting the Test set results\n",
    "# 확률 결과로 나왔기 때문에 threshold 값을 정해주고 결과를 다시 정리 해야 함\n",
    "\n",
    "y_pred = classifier.predict(X_test)\n",
    "y_pred = (y_pred > 0.5)"
   ]
  },
  {
   "cell_type": "code",
   "execution_count": 39,
   "metadata": {},
   "outputs": [
    {
     "data": {
      "text/plain": [
       "array([[False],\n",
       "       [False],\n",
       "       [False],\n",
       "       ...,\n",
       "       [False],\n",
       "       [False],\n",
       "       [False]])"
      ]
     },
     "execution_count": 39,
     "metadata": {},
     "output_type": "execute_result"
    }
   ],
   "source": [
    "y_pred"
   ]
  },
  {
   "cell_type": "code",
   "execution_count": 40,
   "metadata": {},
   "outputs": [],
   "source": [
    "# Making the Confusion Matrix\n",
    "\n",
    "from sklearn.metrics import confusion_matrix\n",
    "cm = confusion_matrix(y_test, y_pred)"
   ]
  },
  {
   "cell_type": "code",
   "execution_count": 41,
   "metadata": {},
   "outputs": [
    {
     "data": {
      "text/plain": [
       "array([[1544,   51],\n",
       "       [ 265,  140]])"
      ]
     },
     "execution_count": 41,
     "metadata": {},
     "output_type": "execute_result"
    }
   ],
   "source": [
    "cm"
   ]
  },
  {
   "cell_type": "code",
   "execution_count": 42,
   "metadata": {},
   "outputs": [
    {
     "data": {
      "text/plain": [
       "0.8595"
      ]
     },
     "execution_count": 42,
     "metadata": {},
     "output_type": "execute_result"
    }
   ],
   "source": [
    "(1544 + 175) / 2000"
   ]
  },
  {
   "cell_type": "code",
   "execution_count": null,
   "metadata": {},
   "outputs": [],
   "source": []
  }
 ],
 "metadata": {
  "kernelspec": {
   "display_name": "Python 3",
   "language": "python",
   "name": "python3"
  },
  "language_info": {
   "codemirror_mode": {
    "name": "ipython",
    "version": 3
   },
   "file_extension": ".py",
   "mimetype": "text/x-python",
   "name": "python",
   "nbconvert_exporter": "python",
   "pygments_lexer": "ipython3",
   "version": "3.7.3"
  }
 },
 "nbformat": 4,
 "nbformat_minor": 2
}
