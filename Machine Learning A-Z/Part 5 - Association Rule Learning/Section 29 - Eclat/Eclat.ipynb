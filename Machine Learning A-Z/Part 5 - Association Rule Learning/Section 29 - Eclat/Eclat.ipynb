{
 "cells": [
  {
   "cell_type": "markdown",
   "metadata": {},
   "source": [
    "### part5 - Association Rule Learning - Eclat\n",
    "\n",
    "- only R"
   ]
  },
  {
   "cell_type": "markdown",
   "metadata": {},
   "source": [
    "## Reference\n",
    "\n",
    "- https://www.slideshare.net/wanaezwani/apriori-and-eclat-algorithm-in-association-rule-mining\n",
    "- https://www.youtube.com/watch?v=WGlMlS_Yydk"
   ]
  }
 ],
 "metadata": {
  "kernelspec": {
   "display_name": "Python 3",
   "language": "python",
   "name": "python3"
  },
  "language_info": {
   "codemirror_mode": {
    "name": "ipython",
    "version": 3
   },
   "file_extension": ".py",
   "mimetype": "text/x-python",
   "name": "python",
   "nbconvert_exporter": "python",
   "pygments_lexer": "ipython3",
   "version": "3.7.0"
  }
 },
 "nbformat": 4,
 "nbformat_minor": 2
}
