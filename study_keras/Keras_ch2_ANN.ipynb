{
 "cells": [
  {
   "cell_type": "markdown",
   "metadata": {},
   "source": [
    "### ch2. ANN\n",
    "\n",
    "- 학습 날짜 : 2019 07 - 01"
   ]
  },
  {
   "cell_type": "markdown",
   "metadata": {},
   "source": [
    "### 2.1 ANN 원리"
   ]
  },
  {
   "cell_type": "markdown",
   "metadata": {},
   "source": [
    "### 2.2 필기체를 구분하는 분류 ANN 구현\n",
    "\n",
    "### 2.2.1 분류 ANN을 위한 인공지능 모델 구현"
   ]
  },
  {
   "cell_type": "markdown",
   "metadata": {},
   "source": [
    "#### ANN 구현 6단계\n",
    "\n",
    "\n",
    "1. 분류 ANN 구현용 패키지 불러오기\n",
    "2. 분류 ANN에 필요한 파라미터 설정\n",
    "3. 분류 ANN 모델 구현\n",
    "4. 학습과 성능 평가용 데이터 불러오기\n",
    "5. 분류 ANN 학습 및 검증\n",
    "6. 분류 ANN 학습 결과 분석"
   ]
  },
  {
   "cell_type": "markdown",
   "metadata": {},
   "source": [
    "#### 1단계\n",
    "- layers : 각 계층을 만드는 모듈\n",
    "- models : 각 layers들을 연결하여 신경망 모델을 만든 후, 컴파일하고, 학습시키는 역할"
   ]
  },
  {
   "cell_type": "code",
   "execution_count": 1,
   "metadata": {},
   "outputs": [
    {
     "name": "stderr",
     "output_type": "stream",
     "text": [
      "Using TensorFlow backend.\n"
     ]
    }
   ],
   "source": [
    "from keras import layers, models"
   ]
  },
  {
   "cell_type": "markdown",
   "metadata": {},
   "source": [
    "#### 2단계\n",
    "ANN에 필요한 파라미터 설정\n",
    "\n",
    "- Nin : 노드 수\n",
    "- Nh : 은닉 계층의 노드 수\n",
    "- number_of_class : 출력값이 가질 클래스 수\n",
    "- Nout : 출력 노드 수"
   ]
  },
  {
   "cell_type": "markdown",
   "metadata": {},
   "source": [
    "#### 3단계\n",
    "얀쇄 방식과 분산 방식으로 구현 가능\n",
    "\n",
    "- 연쇄 방식 : 간단히 구현 할 수 있지만, 복잡도가 높은 모델에 적용하기에는 한계\n",
    "- 이 책에서는 분산 방식 모델링(함수형, 객체지향형), 연쇄 방식 모델링(함수형, 객체지향형) 을 다룰 예정"
   ]
  },
  {
   "cell_type": "code",
   "execution_count": 2,
   "metadata": {},
   "outputs": [
    {
     "ename": "NameError",
     "evalue": "name 'Nin' is not defined",
     "output_type": "error",
     "traceback": [
      "\u001b[0;31m\u001b[0m",
      "\u001b[0;31mNameError\u001b[0mTraceback (most recent call last)",
      "\u001b[0;32m<ipython-input-2-82676fa96b71>\u001b[0m in \u001b[0;36m<module>\u001b[0;34m\u001b[0m\n\u001b[1;32m      2\u001b[0m \u001b[0;34m\u001b[0m\u001b[0m\n\u001b[1;32m      3\u001b[0m \u001b[0;31m# 입력 계층\u001b[0m\u001b[0;34m\u001b[0m\u001b[0;34m\u001b[0m\u001b[0;34m\u001b[0m\u001b[0m\n\u001b[0;32m----> 4\u001b[0;31m \u001b[0mx\u001b[0m \u001b[0;34m=\u001b[0m \u001b[0mlayers\u001b[0m\u001b[0;34m.\u001b[0m\u001b[0mInput\u001b[0m\u001b[0;34m(\u001b[0m\u001b[0mshape\u001b[0m\u001b[0;34m=\u001b[0m\u001b[0;34m(\u001b[0m\u001b[0mNin\u001b[0m\u001b[0;34m,\u001b[0m\u001b[0;34m)\u001b[0m\u001b[0;34m)\u001b[0m\u001b[0;34m\u001b[0m\u001b[0;34m\u001b[0m\u001b[0m\n\u001b[0m\u001b[1;32m      5\u001b[0m \u001b[0;34m\u001b[0m\u001b[0m\n\u001b[1;32m      6\u001b[0m \u001b[0;31m# 은닉 계층의 구조와 수\u001b[0m\u001b[0;34m\u001b[0m\u001b[0;34m\u001b[0m\u001b[0;34m\u001b[0m\u001b[0m\n",
      "\u001b[0;31mNameError\u001b[0m: name 'Nin' is not defined"
     ]
    }
   ],
   "source": [
    "# 분산 방식으로 구현, 함수형 방식\n",
    "\n",
    "# 입력 계층\n",
    "x = layers.Input(shape=(Nin,))\n",
    "\n",
    "# 은닉 계층의 구조와 수\n",
    "h = layers.Activation('relu')(layers.Dense(Nh)(x))\n",
    "\n",
    "# 출력 계층\n",
    "# 다중 클래스 분류를 ANN으로 구현하므로 출력 노드 수는 클래스 수로 지정(추력 노드에 입력 되는 정보는 은닉 노드의 출력값)\n",
    "y = layers.Activation('softmax')(layers.Dense(Nout)(h))"
   ]
  },
  {
   "cell_type": "code",
   "execution_count": null,
   "metadata": {},
   "outputs": [],
   "source": [
    "# 모델 구현, 중간 계층은 알아서 자동 설정\n",
    "\n",
    "model = models.Model(x, y)"
   ]
  },
  {
   "cell_type": "code",
   "execution_count": null,
   "metadata": {},
   "outputs": [],
   "source": [
    "# model compile 과정\n",
    "\n",
    "model.compile(\n",
    "    loss='categorical_crossentropy', # loss function 지정\n",
    "    optimizer='adim',   # 최적화 함수 지정\n",
    "    metrics=['accuracy']   # 학습, 예측 및 성능 검증의 정확성 측정\n",
    ")"
   ]
  },
  {
   "cell_type": "markdown",
   "metadata": {},
   "source": [
    "### 연쇄 방식 모델링을 포함하는 함수형 구현"
   ]
  },
  {
   "cell_type": "code",
   "execution_count": 3,
   "metadata": {},
   "outputs": [
    {
     "name": "stderr",
     "output_type": "stream",
     "text": [
      "WARNING: Logging before flag parsing goes to stderr.\n",
      "W0630 15:56:29.656615 140591263082304 deprecation_wrapper.py:119] From /opt/conda/lib/python3.7/site-packages/keras/backend/tensorflow_backend.py:74: The name tf.get_default_graph is deprecated. Please use tf.compat.v1.get_default_graph instead.\n",
      "\n"
     ]
    }
   ],
   "source": [
    "model = models.Sequential()"
   ]
  },
  {
   "cell_type": "code",
   "execution_count": null,
   "metadata": {},
   "outputs": [],
   "source": [
    "# 첫 번째 add : 입력 계층과 은닉 계층의 형태가 동시에 정해짐\n",
    "# 입력 노트 Nin개는 완전 연결 계층 Nh개로 구성된 은닉 계층으로 보내짐\n",
    "# 두 번째 add :은닉 계층의 출력이 출력이 nout인 출력 노드로 전달, 활성화 함수는 softmax\n",
    "\n",
    "model.add(layers.Dense(Nh, activation='relu', input_shape=(Nin, )))\n",
    "model.add(layers.Dense(Nout, activation='softmax'))"
   ]
  },
  {
   "cell_type": "markdown",
   "metadata": {},
   "source": [
    "### 분산 방식 모델링을 포함하는 객체지향형 구현"
   ]
  },
  {
   "cell_type": "code",
   "execution_count": 30,
   "metadata": {},
   "outputs": [],
   "source": [
    "class ANN_models_class(models.Model):\n",
    "    def __init__(self, Nin, Nh, Nout):\n",
    "        # Prepare network layers and activate functions\n",
    "        hidden = layers.Dense(Nh)\n",
    "        output = layers.Dense(Nout)\n",
    "        relu = layers.Activation('relu')\n",
    "        softmax = layers.Activation('softmax')\n",
    "\n",
    "        # Connect network elements\n",
    "        x = layers.Input(shape=(Nin,))\n",
    "        h = relu(hidden(x))\n",
    "        y = softmax(output(h))\n",
    "\n",
    "        super().__init__(x, y) # 상속 받은 부모 클래스의 초기화 진행\n",
    "        self.compile(loss='categorical_crossentropy',\n",
    "                     optimizer='adam', metrics=['accuracy'])"
   ]
  },
  {
   "cell_type": "markdown",
   "metadata": {},
   "source": [
    "### 연쇄 방식 모델링을 포함하는 객체지향형 구현"
   ]
  },
  {
   "cell_type": "code",
   "execution_count": 2,
   "metadata": {},
   "outputs": [],
   "source": [
    "class ANN_seq_class(models.Sequential):\n",
    "    def __init__(self, Nin, Nh, Nout):\n",
    "        super().__init__()\n",
    "        \n",
    "        self.add(layers.Dense(Nh, activation='relu', input_shape=(Nin,)))\n",
    "        self.add(layers.Dense(Nout, activation='softmax'))\n",
    "        self.compile(\n",
    "            loss='categorical_crossentropy',\n",
    "            optimizer='adam', \n",
    "            metrics=['accuracy']\n",
    "        )"
   ]
  },
  {
   "cell_type": "markdown",
   "metadata": {},
   "source": [
    "### 2.2.2 분류 ANN에 사용할 데이터 불러오기\n",
    "\n",
    "1. 데이터 처리에 사용할 패키지 임포트\n",
    "2. 데이터 불러오기\n",
    "3. 출력값 변수를 이진 벡터 형태로 바꾸기\n",
    "4. 이미지를 나타내는 아규먼트를 1차원 벡터 형태로 바꾸기\n",
    "5. ANN을 위해 입력값들을 정규화 하기"
   ]
  },
  {
   "cell_type": "code",
   "execution_count": 3,
   "metadata": {},
   "outputs": [],
   "source": [
    "# load data\n",
    "\n",
    "import numpy as np\n",
    "from keras import datasets #mnist\n",
    "from keras.utils import np_utils #to_categorical"
   ]
  },
  {
   "cell_type": "code",
   "execution_count": 4,
   "metadata": {},
   "outputs": [],
   "source": [
    "(X_train, y_train), (X_test, y_test) = datasets.mnist.load_data()"
   ]
  },
  {
   "cell_type": "code",
   "execution_count": 5,
   "metadata": {},
   "outputs": [],
   "source": [
    "# 0부터 0까지의 숫자로 구성된 출력갑승 ㄹ0과 1로 표현되는 벡터 10개로 바꾸기\n",
    "\n",
    "Y_train = np_utils.to_categorical(y_train)\n",
    "Y_test = np_utils.to_categorical(y_test)\n",
    "\n",
    "# why?\n",
    "# 분류 작업 시 정수보다 이진 벡터로 출력 변수를 구성하는 것이 효율적"
   ]
  },
  {
   "cell_type": "code",
   "execution_count": 6,
   "metadata": {},
   "outputs": [],
   "source": [
    "# X_train, X_test에 (x, y)축에 대한 픽셀 정보가 들어 있는 3차원 데이터인 실제 학습 및 평가용 이미지를 2차원으로 조정\n",
    "\n",
    "L, W, H = X_train.shape\n",
    "X_train = X_train.reshape(-1, W*H)\n",
    "X_test = X_test.reshape(-1, W*H)"
   ]
  },
  {
   "cell_type": "code",
   "execution_count": 7,
   "metadata": {},
   "outputs": [],
   "source": [
    "# 학습 데이터 셋 샘플 L개\n",
    "# L * W * H의 텐서로 저장된 상태\n",
    "# 멤버 변수 shape에는 2D 이미지 데이터를 저장하는 저장소 규격 있음, 이를 ANN으로 학습하려면 벡터 이미지 형태로 변경, reshape사용\n",
    "# -1은 행렬의 행을 자동으로 설정"
   ]
  },
  {
   "cell_type": "code",
   "execution_count": 8,
   "metadata": {},
   "outputs": [],
   "source": [
    "# ANN 최적화를 위한 아규먼트\n",
    "\n",
    "X_train = X_train / 255.0\n",
    "X_test = X_test / 255.0"
   ]
  },
  {
   "cell_type": "code",
   "execution_count": 9,
   "metadata": {},
   "outputs": [],
   "source": [
    "def Data_func():\n",
    "    (X_train, y_train), (X_test, y_test) = datasets.mnist.load_data()\n",
    "\n",
    "    Y_train = np_utils.to_categorical(y_train)\n",
    "    Y_test = np_utils.to_categorical(y_test)\n",
    "\n",
    "    L, W, H = X_train.shape\n",
    "    X_train = X_train.reshape(-1, W * H)\n",
    "    X_test = X_test.reshape(-1, W * H)\n",
    "\n",
    "    X_train = X_train / 255.0\n",
    "    X_test = X_test / 255.0\n",
    "\n",
    "    return (X_train, Y_train), (X_test, Y_test)"
   ]
  },
  {
   "cell_type": "code",
   "execution_count": 10,
   "metadata": {},
   "outputs": [],
   "source": [
    "import matplotlib.pyplot as plt\n",
    "\n",
    "%matplotlib inline"
   ]
  },
  {
   "cell_type": "code",
   "execution_count": 11,
   "metadata": {},
   "outputs": [],
   "source": [
    "def plot_loss(history):\n",
    "    plt.plot(history.history['loss'])  # 실제 학습 데이터로 구한 손실값\n",
    "    plt.plot(history.history['val_loss']) # 학습 데이터 일부를 사용한 검증 데이터로 구한 손실 값\n",
    "    plt.title('Model Loss')\n",
    "    plt.ylabel('Loss')\n",
    "    plt.xlabel('Epoch')\n",
    "    plt.legend(['Train', 'Test'], loc=0)"
   ]
  },
  {
   "cell_type": "code",
   "execution_count": 12,
   "metadata": {},
   "outputs": [],
   "source": [
    "def plot_acc(history):\n",
    "    plt.plot(history.history['acc'])  # 실제 학습 데이터로 구한 손실값\n",
    "    plt.plot(history.history['val_acc']) # 학습 데이터 일부를 사용한 검증 데이터로 구한 손실 값\n",
    "    plt.title('Model accuracy')\n",
    "    plt.ylabel('Accuracy')\n",
    "    plt.xlabel('Epoch')\n",
    "    plt.legend(['Train', 'Test'], loc=0)"
   ]
  },
  {
   "cell_type": "markdown",
   "metadata": {},
   "source": [
    "### 2.2.4 분류 ANN 학습 및 성능 분석"
   ]
  },
  {
   "cell_type": "code",
   "execution_count": 13,
   "metadata": {},
   "outputs": [],
   "source": [
    "def main():\n",
    "    Nin = 784 # 입력 Nin\n",
    "    Nh = 100 # 은닉 계층 노드 수\n",
    "    number_of_class = 10 # 분류 할 갯수(classification)\n",
    "    Nout = number_of_class # 출력 할 값\n",
    "    \n",
    "    model = ANN_seq_class(Nin, Nh, Nout)\n",
    "    (X_train, Y_train), (X_test, Y_test) = Data_func()\n",
    "    \n",
    "    history = model.fit(\n",
    "        X_train, \n",
    "        Y_train, \n",
    "        epochs=5, \n",
    "        batch_size=100, \n",
    "        validation_split=0.2\n",
    "    )\n",
    "    \n",
    "    \n",
    "    # model 평가\n",
    "\n",
    "    performance_test = model.evaluate(X_test, Y_test, batch_size=100)\n",
    "    print('Test Loss and Accuracy ->', performance_test)\n",
    "    \n",
    "    plot_loss(history)\n",
    "    plt.show()\n",
    "    \n",
    "    plot_acc(history)\n",
    "    plt.show()"
   ]
  },
  {
   "cell_type": "code",
   "execution_count": 14,
   "metadata": {},
   "outputs": [
    {
     "name": "stderr",
     "output_type": "stream",
     "text": [
      "WARNING: Logging before flag parsing goes to stderr.\n",
      "W0630 16:47:36.681868 139670238701376 deprecation_wrapper.py:119] From /opt/conda/lib/python3.7/site-packages/keras/backend/tensorflow_backend.py:74: The name tf.get_default_graph is deprecated. Please use tf.compat.v1.get_default_graph instead.\n",
      "\n",
      "W0630 16:47:36.704388 139670238701376 deprecation_wrapper.py:119] From /opt/conda/lib/python3.7/site-packages/keras/backend/tensorflow_backend.py:517: The name tf.placeholder is deprecated. Please use tf.compat.v1.placeholder instead.\n",
      "\n",
      "W0630 16:47:36.763573 139670238701376 deprecation_wrapper.py:119] From /opt/conda/lib/python3.7/site-packages/keras/backend/tensorflow_backend.py:4138: The name tf.random_uniform is deprecated. Please use tf.random.uniform instead.\n",
      "\n",
      "W0630 16:47:36.787494 139670238701376 deprecation_wrapper.py:119] From /opt/conda/lib/python3.7/site-packages/keras/optimizers.py:790: The name tf.train.Optimizer is deprecated. Please use tf.compat.v1.train.Optimizer instead.\n",
      "\n",
      "W0630 16:47:36.806253 139670238701376 deprecation_wrapper.py:119] From /opt/conda/lib/python3.7/site-packages/keras/backend/tensorflow_backend.py:3295: The name tf.log is deprecated. Please use tf.math.log instead.\n",
      "\n",
      "W0630 16:47:37.249015 139670238701376 deprecation.py:323] From /opt/conda/lib/python3.7/site-packages/tensorflow/python/ops/math_grad.py:1250: add_dispatch_support.<locals>.wrapper (from tensorflow.python.ops.array_ops) is deprecated and will be removed in a future version.\n",
      "Instructions for updating:\n",
      "Use tf.where in 2.0, which has the same broadcast rule as np.where\n",
      "W0630 16:47:37.287526 139670238701376 deprecation_wrapper.py:119] From /opt/conda/lib/python3.7/site-packages/keras/backend/tensorflow_backend.py:986: The name tf.assign_add is deprecated. Please use tf.compat.v1.assign_add instead.\n",
      "\n"
     ]
    },
    {
     "name": "stdout",
     "output_type": "stream",
     "text": [
      "Train on 48000 samples, validate on 12000 samples\n",
      "Epoch 1/5\n",
      "48000/48000 [==============================] - 2s 34us/step - loss: 0.3951 - acc: 0.8898 - val_loss: 0.2195 - val_acc: 0.9388\n",
      "Epoch 2/5\n",
      "48000/48000 [==============================] - 1s 27us/step - loss: 0.1906 - acc: 0.9453 - val_loss: 0.1590 - val_acc: 0.9566\n",
      "Epoch 3/5\n",
      "48000/48000 [==============================] - 1s 28us/step - loss: 0.1404 - acc: 0.9598 - val_loss: 0.1347 - val_acc: 0.9609\n",
      "Epoch 4/5\n",
      "48000/48000 [==============================] - 1s 27us/step - loss: 0.1109 - acc: 0.9690 - val_loss: 0.1174 - val_acc: 0.9653\n",
      "Epoch 5/5\n",
      "48000/48000 [==============================] - 1s 27us/step - loss: 0.0912 - acc: 0.9742 - val_loss: 0.1068 - val_acc: 0.9675\n",
      "10000/10000 [==============================] - 0s 10us/step\n",
      "Test Loss and Accuracy -> [0.10633875235565939, 0.9680000048875809]\n"
     ]
    },
    {
     "data": {
      "image/png": "[encoded data removed]",
      "text/plain": [
       "<Figure size 432x288 with 1 Axes>"
      ]
     },
     "metadata": {
      "needs_background": "light"
     },
     "output_type": "display_data"
    },
    {
     "data": {
      "image/png": "[encoded data removed]",
      "text/plain": [
       "<Figure size 432x288 with 1 Axes>"
      ]
     },
     "metadata": {
      "needs_background": "light"
     },
     "output_type": "display_data"
    }
   ],
   "source": [
    "main()"
   ]
  },
  {
   "cell_type": "markdown",
   "metadata": {},
   "source": [
    "### 각 출력문의 의미\n",
    "\n",
    "Train on 48000 samples, validate on 12000 samples\n",
    "- 학습에 주어진 샘플 60,000개 중에서 48,000개가 실제 학습에 사용되고 12,000개가 검증에 사용되었습니다.\n",
    "\n",
    "Epoch 1/5\n",
    "- 5번의 학습에서 첫 번째 단계 학습이 완료되었습니다.\n",
    "\n",
    "2s\n",
    "- 학습에 걸린 시간이 2초입니다.\n",
    "\n",
    "loss : 0.3916\n",
    "- 학습 데이터로 평가한 성능 손실(loss)이 0.3916입니다.\n",
    "- loss는 손실 함수로 구한 오류율 입니다.\n",
    "\n",
    "acc : 0.8913\n",
    "- 정확도(acc), acc는 정확히 예측했을 경우 최댓값 1을 가지는 평가값\n",
    "\n",
    "val_loss: 0.2068 - val_acc: 0.9431\n",
    "- val_loss와 val_acc는 검증 데이터로 측정한 손실과 정확도를 나타냅니다."
   ]
  },
  {
   "cell_type": "markdown",
   "metadata": {},
   "source": [
    "- 그래프를 보고 hyperparameter 조정 가능"
   ]
  },
  {
   "cell_type": "markdown",
   "metadata": {},
   "source": [
    "-----------------------------------"
   ]
  },
  {
   "cell_type": "markdown",
   "metadata": {},
   "source": [
    "### 2.3 시계열 데이터를 예측하는 회귀 ANN 구현\n",
    "\n",
    "1. 회귀 ANN 구현\n",
    "2. 학습과 평가용 데이터 불러오기\n",
    "3. 회귀 ANN 학습 및 성능 평가\n",
    "4. 회귀 ANN 학습 결과 분석"
   ]
  },
  {
   "cell_type": "markdown",
   "metadata": {},
   "source": [
    "#### 2.3.1 회귀 ANN 모델링"
   ]
  },
  {
   "cell_type": "code",
   "execution_count": 16,
   "metadata": {},
   "outputs": [],
   "source": [
    "from keras import layers, models\n",
    "from sklearn import preprocessing"
   ]
  },
  {
   "cell_type": "code",
   "execution_count": 33,
   "metadata": {},
   "outputs": [],
   "source": [
    "class ANN(models.Model):\n",
    "    def __init__(self, Nin, Nh, Nout):\n",
    "        # Prepare network layers and activate functions\n",
    "        hidden = layers.Dense(Nh)\n",
    "        output = layers.Dense(Nout)\n",
    "        relu = layers.Activation('relu')\n",
    "\n",
    "        # Connect network elements\n",
    "        x = layers.Input(shape=(Nin,))\n",
    "        h = relu(hidden(x))\n",
    "        y = output(h)\n",
    "\n",
    "        super().__init__(x, y)\n",
    "\n",
    "        self.compile(loss='mse', optimizer='sgd')"
   ]
  },
  {
   "cell_type": "markdown",
   "metadata": {},
   "source": [
    "- 입력에 해당하는 x는 Nin 길이를 가지는 1차원 열 벡터\n",
    "- 은칙 계층은 입력 계층의 신호인 x가 hidden()을 통과한 뒤 다시 활성화 함수인 relu() 단계를 통과하도록 구성\n",
    "  - 그 결과 h는 최종적으로 output으로 정의된 계층에 들어감\n",
    "- 출력은 활성화 함수 없이 바로 y로 나옵니다."
   ]
  },
  {
   "cell_type": "markdown",
   "metadata": {},
   "source": [
    "#### 2.3.2 학습과 평가용 데이터 불러오기"
   ]
  },
  {
   "cell_type": "code",
   "execution_count": 34,
   "metadata": {},
   "outputs": [],
   "source": [
    "from keras import datasets"
   ]
  },
  {
   "cell_type": "code",
   "execution_count": 35,
   "metadata": {},
   "outputs": [],
   "source": [
    "def data_func():\n",
    "    (X_train, y_train), (X_test, y_test) = datasets.boston_housing.load_data()\n",
    "    \n",
    "    scaler = preprocessing.MinMaxScaler() # 0과 1로 정규화 해주는 MinMaxScaler()\n",
    "    X_train = scaler.fit_transform(X_train)\n",
    "    X_test = scaler.transform(X_test)\n",
    "    \n",
    "    return (X_train, y_train), (X_test, y_test)"
   ]
  },
  {
   "cell_type": "markdown",
   "metadata": {},
   "source": [
    "#### 2.3.3 회귀 ANN학습 결과 그래프 구현"
   ]
  },
  {
   "cell_type": "code",
   "execution_count": 37,
   "metadata": {},
   "outputs": [
    {
     "name": "stdout",
     "output_type": "stream",
     "text": [
      "Train on 323 samples, validate on 81 samples\n",
      "Epoch 1/100\n",
      " - 0s - loss: 549.2299 - val_loss: 544.1247\n",
      "Epoch 2/100\n",
      " - 0s - loss: 390.5700 - val_loss: 103.3929\n",
      "Epoch 3/100\n",
      " - 0s - loss: 98.1901 - val_loss: 85.2140\n",
      "Epoch 4/100\n",
      " - 0s - loss: 77.4438 - val_loss: 81.0683\n",
      "Epoch 5/100\n",
      " - 0s - loss: 66.6654 - val_loss: 61.9228\n",
      "Epoch 6/100\n",
      " - 0s - loss: 61.4270 - val_loss: 65.4058\n",
      "Epoch 7/100\n",
      " - 0s - loss: 71.9419 - val_loss: 58.9549\n",
      "Epoch 8/100\n",
      " - 0s - loss: 51.9858 - val_loss: 93.1045\n",
      "Epoch 9/100\n",
      " - 0s - loss: 62.5920 - val_loss: 62.6678\n",
      "Epoch 10/100\n",
      " - 0s - loss: 47.1879 - val_loss: 53.1253\n",
      "Epoch 11/100\n",
      " - 0s - loss: 42.8130 - val_loss: 49.0748\n",
      "Epoch 12/100\n",
      " - 0s - loss: 40.8272 - val_loss: 41.4224\n",
      "Epoch 13/100\n",
      " - 0s - loss: 38.3668 - val_loss: 54.4867\n",
      "Epoch 14/100\n",
      " - 0s - loss: 42.8160 - val_loss: 41.1169\n",
      "Epoch 15/100\n",
      " - 0s - loss: 40.6437 - val_loss: 44.5766\n",
      "Epoch 16/100\n",
      " - 0s - loss: 34.1632 - val_loss: 44.1284\n",
      "Epoch 17/100\n",
      " - 0s - loss: 32.6141 - val_loss: 35.6701\n",
      "Epoch 18/100\n",
      " - 0s - loss: 31.8371 - val_loss: 41.4578\n",
      "Epoch 19/100\n",
      " - 0s - loss: 31.4799 - val_loss: 33.7411\n",
      "Epoch 20/100\n",
      " - 0s - loss: 31.6695 - val_loss: 31.0509\n",
      "Epoch 21/100\n",
      " - 0s - loss: 30.1381 - val_loss: 29.6005\n",
      "Epoch 22/100\n",
      " - 0s - loss: 29.6423 - val_loss: 29.8011\n",
      "Epoch 23/100\n",
      " - 0s - loss: 27.3097 - val_loss: 32.7661\n",
      "Epoch 24/100\n",
      " - 0s - loss: 28.1749 - val_loss: 31.3858\n",
      "Epoch 25/100\n",
      " - 0s - loss: 29.1246 - val_loss: 37.3142\n",
      "Epoch 26/100\n",
      " - 0s - loss: 47.5032 - val_loss: 61.4618\n",
      "Epoch 27/100\n",
      " - 0s - loss: 43.6481 - val_loss: 35.6209\n",
      "Epoch 28/100\n",
      " - 0s - loss: 33.2338 - val_loss: 29.8917\n",
      "Epoch 29/100\n",
      " - 0s - loss: 31.0864 - val_loss: 83.4420\n",
      "Epoch 30/100\n",
      " - 0s - loss: 82.9983 - val_loss: 26.0464\n",
      "Epoch 31/100\n",
      " - 0s - loss: 25.6455 - val_loss: 38.0414\n",
      "Epoch 32/100\n",
      " - 0s - loss: 29.5294 - val_loss: 38.5752\n",
      "Epoch 33/100\n",
      " - 0s - loss: 69.2320 - val_loss: 44.9254\n",
      "Epoch 34/100\n",
      " - 0s - loss: 43.4128 - val_loss: 28.1755\n",
      "Epoch 35/100\n",
      " - 0s - loss: 27.1895 - val_loss: 34.2579\n",
      "Epoch 36/100\n",
      " - 0s - loss: 27.6167 - val_loss: 50.1033\n",
      "Epoch 37/100\n",
      " - 0s - loss: 64.4461 - val_loss: 25.4696\n",
      "Epoch 38/100\n",
      " - 0s - loss: 24.7110 - val_loss: 25.2783\n",
      "Epoch 39/100\n",
      " - 0s - loss: 25.0629 - val_loss: 24.4034\n",
      "Epoch 40/100\n",
      " - 0s - loss: 26.0310 - val_loss: 24.0858\n",
      "Epoch 41/100\n",
      " - 0s - loss: 24.5863 - val_loss: 26.5323\n",
      "Epoch 42/100\n",
      " - 0s - loss: 27.0199 - val_loss: 25.4231\n",
      "Epoch 43/100\n",
      " - 0s - loss: 24.5642 - val_loss: 26.1481\n",
      "Epoch 44/100\n",
      " - 0s - loss: 24.5724 - val_loss: 24.1831\n",
      "Epoch 45/100\n",
      " - 0s - loss: 27.3775 - val_loss: 36.1618\n",
      "Epoch 46/100\n",
      " - 0s - loss: 32.5407 - val_loss: 25.3338\n",
      "Epoch 47/100\n",
      " - 0s - loss: 25.1064 - val_loss: 49.4786\n",
      "Epoch 48/100\n",
      " - 0s - loss: 39.5750 - val_loss: 40.9195\n",
      "Epoch 49/100\n",
      " - 0s - loss: 27.3443 - val_loss: 25.7950\n",
      "Epoch 50/100\n",
      " - 0s - loss: 24.0890 - val_loss: 33.7814\n",
      "Epoch 51/100\n",
      " - 0s - loss: 39.2970 - val_loss: 23.2005\n",
      "Epoch 52/100\n",
      " - 0s - loss: 23.2485 - val_loss: 24.5087\n",
      "Epoch 53/100\n",
      " - 0s - loss: 27.9142 - val_loss: 46.8522\n",
      "Epoch 54/100\n",
      " - 0s - loss: 29.9593 - val_loss: 46.1911\n",
      "Epoch 55/100\n",
      " - 0s - loss: 37.3952 - val_loss: 77.3554\n",
      "Epoch 56/100\n",
      " - 0s - loss: 43.3119 - val_loss: 47.9137\n",
      "Epoch 57/100\n",
      " - 0s - loss: 33.8245 - val_loss: 24.2573\n",
      "Epoch 58/100\n",
      " - 0s - loss: 23.8116 - val_loss: 22.6962\n",
      "Epoch 59/100\n",
      " - 0s - loss: 23.1479 - val_loss: 27.6688\n",
      "Epoch 60/100\n",
      " - 0s - loss: 24.2488 - val_loss: 40.6938\n",
      "Epoch 61/100\n",
      " - 0s - loss: 28.9352 - val_loss: 25.5619\n",
      "Epoch 62/100\n",
      " - 0s - loss: 23.6436 - val_loss: 23.7776\n",
      "Epoch 63/100\n",
      " - 0s - loss: 30.2227 - val_loss: 22.3508\n",
      "Epoch 64/100\n",
      " - 0s - loss: 23.2901 - val_loss: 27.8002\n",
      "Epoch 65/100\n",
      " - 0s - loss: 34.9193 - val_loss: 34.5853\n",
      "Epoch 66/100\n",
      " - 0s - loss: 36.8911 - val_loss: 23.0478\n",
      "Epoch 67/100\n",
      " - 0s - loss: 27.9345 - val_loss: 24.5130\n",
      "Epoch 68/100\n",
      " - 0s - loss: 25.6443 - val_loss: 22.2940\n",
      "Epoch 69/100\n",
      " - 0s - loss: 24.0507 - val_loss: 22.5804\n",
      "Epoch 70/100\n",
      " - 0s - loss: 22.6889 - val_loss: 22.1838\n",
      "Epoch 71/100\n",
      " - 0s - loss: 24.7613 - val_loss: 21.6722\n",
      "Epoch 72/100\n",
      " - 0s - loss: 25.1369 - val_loss: 23.6477\n",
      "Epoch 73/100\n",
      " - 0s - loss: 22.6512 - val_loss: 24.3192\n",
      "Epoch 74/100\n",
      " - 0s - loss: 25.7796 - val_loss: 38.4467\n",
      "Epoch 75/100\n",
      " - 0s - loss: 31.0655 - val_loss: 25.8890\n",
      "Epoch 76/100\n",
      " - 0s - loss: 23.7910 - val_loss: 24.1573\n",
      "Epoch 77/100\n",
      " - 0s - loss: 29.6641 - val_loss: 24.6975\n",
      "Epoch 78/100\n",
      " - 0s - loss: 24.3418 - val_loss: 21.3095\n",
      "Epoch 79/100\n",
      " - 0s - loss: 22.8283 - val_loss: 21.4512\n",
      "Epoch 80/100\n",
      " - 0s - loss: 23.4514 - val_loss: 24.6407\n",
      "Epoch 81/100\n",
      " - 0s - loss: 29.1098 - val_loss: 34.8964\n",
      "Epoch 82/100\n",
      " - 0s - loss: 37.4931 - val_loss: 22.1402\n",
      "Epoch 83/100\n",
      " - 0s - loss: 22.7403 - val_loss: 21.7782\n",
      "Epoch 84/100\n",
      " - 0s - loss: 22.8044 - val_loss: 24.8003\n",
      "Epoch 85/100\n",
      " - 0s - loss: 26.4320 - val_loss: 21.6200\n",
      "Epoch 86/100\n",
      " - 0s - loss: 26.8816 - val_loss: 29.6172\n",
      "Epoch 87/100\n",
      " - 0s - loss: 34.9159 - val_loss: 38.0714\n",
      "Epoch 88/100\n",
      " - 0s - loss: 31.0467 - val_loss: 21.2284\n",
      "Epoch 89/100\n",
      " - 0s - loss: 22.3350 - val_loss: 22.8039\n",
      "Epoch 90/100\n",
      " - 0s - loss: 22.4469 - val_loss: 21.4812\n",
      "Epoch 91/100\n",
      " - 0s - loss: 24.7644 - val_loss: 25.1129\n",
      "Epoch 92/100\n",
      " - 0s - loss: 23.1150 - val_loss: 21.2504\n",
      "Epoch 93/100\n",
      " - 0s - loss: 22.2459 - val_loss: 24.0941\n",
      "Epoch 94/100\n",
      " - 0s - loss: 22.1371 - val_loss: 26.7855\n",
      "Epoch 95/100\n",
      " - 0s - loss: 21.9836 - val_loss: 20.7148\n",
      "Epoch 96/100\n",
      " - 0s - loss: 22.2926 - val_loss: 20.5655\n",
      "Epoch 97/100\n",
      " - 0s - loss: 23.3026 - val_loss: 22.8065\n",
      "Epoch 98/100\n",
      " - 0s - loss: 22.8036 - val_loss: 23.2894\n",
      "Epoch 99/100\n",
      " - 0s - loss: 22.1996 - val_loss: 26.6226\n",
      "Epoch 100/100\n",
      " - 0s - loss: 26.8299 - val_loss: 31.8798\n",
      "102/102 [==============================] - 0s 25us/step\n",
      "\n",
      "Test Loss -> 30.13\n"
     ]
    },
    {
     "data": {
      "image/png": "[encoded data removed]",
      "text/plain": [
       "<Figure size 432x288 with 1 Axes>"
      ]
     },
     "metadata": {
      "needs_background": "light"
     },
     "output_type": "display_data"
    }
   ],
   "source": [
    "def main():\n",
    "    Nin = 13\n",
    "    Nh = 5\n",
    "    Nout = 1\n",
    "    \n",
    "    model = ANN(Nin, Nh, Nout)\n",
    "    \n",
    "    (X_train, y_train), (X_test, y_test) = data_func()\n",
    "    \n",
    "    history = model.fit(\n",
    "        X_train, \n",
    "        y_train, \n",
    "        epochs=100, \n",
    "        batch_size=100, \n",
    "        validation_split=0.2, \n",
    "        verbose=2\n",
    "    )\n",
    "    \n",
    "    performance_test = model.evaluate(X_test, y_test, batch_size=100)\n",
    "    print('\\nTest Loss -> {:.2f}'.format(performance_test))\n",
    "\n",
    "    plot_loss(history)\n",
    "    plt.show()\n",
    "    \n",
    "if __name__==\"__main__\":\n",
    "    main()"
   ]
  }
 ],
 "metadata": {
  "kernelspec": {
   "display_name": "Python 3",
   "language": "python",
   "name": "python3"
  },
  "language_info": {
   "codemirror_mode": {
    "name": "ipython",
    "version": 3
   },
   "file_extension": ".py",
   "mimetype": "text/x-python",
   "name": "python",
   "nbconvert_exporter": "python",
   "pygments_lexer": "ipython3",
   "version": "3.6.7"
  }
 },
 "nbformat": 4,
 "nbformat_minor": 2
}
