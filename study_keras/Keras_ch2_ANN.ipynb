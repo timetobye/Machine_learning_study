{
 "cells": [
  {
   "cell_type": "markdown",
   "metadata": {},
   "source": [
    "ch2. ANN\n",
    "---------"
   ]
  },
  {
   "cell_type": "markdown",
   "metadata": {},
   "source": [
    "- 인공신경망은 입력, 은닉, 출력 계층으로 구성\n",
    "- 은닉 계층은 한 개 이상 포함 할 수 있다.\n",
    "- 각 계층은 여러 노드로 구성\n",
    "- ANN은 SNN(Shallow NN, 얕은 신경망)으로 부르기도 함"
   ]
  },
  {
   "cell_type": "markdown",
   "metadata": {},
   "source": [
    "## 2.1 ANN 원리\n",
    "\n",
    "### 2.1.1 ANN 개념\n",
    "- 은닉 계층을 포함하는 신경망 기술\n",
    "- 초기에는 은닉 계층 한 개\n",
    "- 처리할 데이터양이 늘어나거나 비정형 데이터인 경우는 복잡도가 높아져 활용하기 어려운데 ANN이 효과적\n",
    "\n",
    "### 2.1.2 ANN 구조\n",
    "- ANN은 입력 계층, 은닉 계층, 출력 계층으로 구성되고 각 계층은 순서별로 여러 입력 노드, 은닉 노드, 출력 노드를 포함\n",
    "\n",
    "#### 1단계\n",
    "- 입력 계층을 통해 외부로부터 들어온 입력 신호 벡터(x)에 가중치 행렬 Wxh를 곱하여 은닉 계층으로 보냄\n",
    "- 입력 노드 중 하나에는 외부 정보가 아니라 상수 1이 항상 들어옴\n",
    "- 이 상수 입력은 편향값 보상에 사용\n",
    "\n",
    "#### 2단계\n",
    "- 은닉 계층의 각 노드들은 자신에게 입력된 신호 벡터에 활성화 함수(activation function)을 적용한 결과 벡터(h)로 내보냄\n",
    "- 뉴런의 동작을 흉내 내고 비선형성을 보상하는 활성화 함수로 시그모이드, 하이퍼볼릭탄젠트 함수 등을 사용\n",
    "\n",
    "#### 3단계\n",
    "- 은닉 계층의 결과 벡터에 새로운 가중치 행렬 Why를 곱한 뒤 출력 계층으로 보냄\n",
    "\n",
    "#### 4단계\n",
    "- 출력 계층으로 들어온 신호 벡터에 출력 활성화 함수인 f를 적용하고 그 결과 벡터를 신경망 외부로 최종 출력\n",
    "- 분류의 경우에는 출력용 활성화 함수로 소프트맥스(Softmax) 연산을 주로 사용, 일반적인 회귀 방식에는 사용하지 않음"
   ]
  },
  {
   "cell_type": "markdown",
   "metadata": {},
   "source": [
    "### 2.1.3 ANN 활용\n",
    "분류와 회귀로 나눌 수 있다.\n",
    "\n",
    "#### 분류\n",
    "- 입력 정보를 클래스별로 분류하는 방식\n",
    "- 숫자 0~9를 구별\n",
    "- 분류 문제에서는 분류 할 항목 만큼 노드를 생성하는 것이 효과적이라고 함\n",
    "  - 0 / 1을 구분해야 하는 문제라면 두 개의 노드를 생성해서 구현\n",
    "  - 판별을 어느 쪽이 더 큰 값인지 확인하여 분류함\n",
    "\n",
    "분류 과정\n",
    "- 정방향 예측\n",
    "  - 예측값을 추론하는 과정\n",
    "- 역전파\n",
    "  - back propagation\n",
    "  - 가중치의 학습은 예측값의 목푯값에 대한 오차를 역방향으로 되돌리면서 이루어짐\n",
    "- 오차를 줄이는 방법?\n",
    "  - gradient descent(경사 하강법)\n",
    "    - 가중치에 대한 손실 함수를 미분하고, 그 미분값의 방향과 크기를 활용해 가중치를 보상하는 방법\n",
    "  - loss function?\n",
    "    - 손실 함수\n",
    "    - 가중치에 따라 오차가 얼마나 커지거나 작아지는지 평가하는 함수\n",
    "    - ANN은 주로 cross-entropy를 loss function으로 활용함, 이것을 활용하려면 출력 노드의 결과를 확률값으로 바꿔야 함\n",
    "    - 그래서 확률 출력 노드값을 softmax를 적용하여 구함\n",
    "\n",
    "cross_entropy에 대한 이해\n",
    "- https://m.blog.naver.com/PostView.nhn?blogId=yonggeol93&logNo=221230536533&proxyReferer=https%3A%2F%2Fwww.google.com%2F\n",
    "- http://blog.naver.com/PostView.nhn?blogId=gyrbsdl18&logNo=221013188633&parentCategoryNo=3&categoryNo=&viewDate=&isShowPopularPosts=true&from=search\n",
    "- https://hyunw.kim/blog/2017/10/26/Cross_Entropy.html\n",
    "\n",
    "\n",
    "#### 회귀\n",
    "- 입력 정보로 다른 값을 예측하는 방식\n",
    "- 평균 온도 예측, 집 값 예측\n",
    "\n",
    "회귀 과정\n",
    "- 분류와 마찬가지로 back propagation을 활용함\n",
    "- loss function으로 'mse'(mean square error)를 활용함\n",
    "- 오차를 줄이는 최적화 방법으로 SGD를 사용하나, 최근에는 더 나은 기술이 적용됨\n",
    "  - Adam : 경사의 분산과 평균으로부터 파라미터를 업데이트하는 적응 알고리즘\n",
    "  - Adagrad : 밀집되지 않은 데이터에 적합하도록 경사 제곱을 통해 시간에 따라 학습률을 조정하는 적응 알고리즘"
   ]
  },
  {
   "cell_type": "markdown",
   "metadata": {},
   "source": [
    "### 2.2 필기체를 구분하는 분류 ANN 구현\n",
    "\n",
    "### 2.2.1 분류 ANN을 위한 인공지능 모델 구현"
   ]
  },
  {
   "cell_type": "markdown",
   "metadata": {},
   "source": [
    "#### ANN 구현 6단계\n",
    "\n",
    "\n",
    "1. 분류 ANN 구현용 패키지 불러오기\n",
    "2. 분류 ANN에 필요한 파라미터 설정\n",
    "3. 분류 ANN 모델 구현\n",
    "4. 학습과 성능 평가용 데이터 불러오기\n",
    "5. 분류 ANN 학습 및 검증\n",
    "6. 분류 ANN 학습 결과 분석"
   ]
  },
  {
   "cell_type": "markdown",
   "metadata": {},
   "source": [
    "### 1단계\n",
    "- layers\n",
    "  - 각 계층을 만드는 모듈\n",
    "- models\n",
    "  - 각 layers들을 연결하여 신경망 모델을 만든 후, 컴파일하고, 학습시키는 역할\n",
    "  - 학습 후 평가도 models를 이용하여 진행\n",
    "  - models.Model 객체에서 compile(), fit(), predict(), evalute() 등 다양하게 지원"
   ]
  },
  {
   "cell_type": "code",
   "execution_count": 1,
   "metadata": {},
   "outputs": [
    {
     "name": "stderr",
     "output_type": "stream",
     "text": [
      "Using TensorFlow backend.\n"
     ]
    }
   ],
   "source": [
    "from keras import layers, models"
   ]
  },
  {
   "cell_type": "markdown",
   "metadata": {},
   "source": [
    "### 2단계\n",
    "ANN에 필요한 파라미터 설정\n",
    "\n",
    "- Nin : 입력 계층의 노드 수, N이 in 한다로 기억하면 쉽네\n",
    "- Nh : 은닉 계층의 노드 수, 은닉(hidden)의 노드 수 N\n",
    "- number_of_class : 출력값이 가질 클래스 수\n",
    "- Nout : 출력 노드, 출력(out)의 노드 수 N"
   ]
  },
  {
   "cell_type": "markdown",
   "metadata": {},
   "source": [
    "### 3단계 - 모델링 파트\n",
    "연쇄 방식과 분산 방식으로 구현 가능, 양 쪽 방식 모두를 아는 것이 낫다.\n",
    "\n",
    "- 연쇄 방식은 간단히 구현 할 수 있지만, 복잡도가 높은 모델에 적용하기에는 한계\n",
    "- 이 책에서는 분산 방식 모델링(함수형, 객체지향형), 연쇄 방식 모델링(함수형, 객체지향형) 을 다룰 예정\n",
    "-------------"
   ]
  },
  {
   "cell_type": "markdown",
   "metadata": {},
   "source": [
    "#### 분산 방식 모델링 - 함수형"
   ]
  },
  {
   "cell_type": "code",
   "execution_count": 5,
   "metadata": {},
   "outputs": [],
   "source": [
    "# 신경망 구조 지정 - 입력 계층 정의\n",
    "\n",
    "x = layers.Input(shape=(Nin,))"
   ]
  },
  {
   "cell_type": "markdown",
   "metadata": {},
   "source": [
    "- 입력 계층은 layers.Input() 함수로 지정\n",
    "- 원소를 Nin개 가지는 입력 신호 벡터는 입력 노드의 따른 계층의 shape을 (Nin,)으로 지정"
   ]
  },
  {
   "cell_type": "code",
   "execution_count": 3,
   "metadata": {},
   "outputs": [
    {
     "data": {
      "text/plain": [
       "\u001b[0;31mSignature:\u001b[0m\n",
       "\u001b[0mlayers\u001b[0m\u001b[0;34m.\u001b[0m\u001b[0mInput\u001b[0m\u001b[0;34m(\u001b[0m\u001b[0;34m\u001b[0m\n",
       "\u001b[0;34m\u001b[0m    \u001b[0mshape\u001b[0m\u001b[0;34m=\u001b[0m\u001b[0;32mNone\u001b[0m\u001b[0;34m,\u001b[0m\u001b[0;34m\u001b[0m\n",
       "\u001b[0;34m\u001b[0m    \u001b[0mbatch_shape\u001b[0m\u001b[0;34m=\u001b[0m\u001b[0;32mNone\u001b[0m\u001b[0;34m,\u001b[0m\u001b[0;34m\u001b[0m\n",
       "\u001b[0;34m\u001b[0m    \u001b[0mname\u001b[0m\u001b[0;34m=\u001b[0m\u001b[0;32mNone\u001b[0m\u001b[0;34m,\u001b[0m\u001b[0;34m\u001b[0m\n",
       "\u001b[0;34m\u001b[0m    \u001b[0mdtype\u001b[0m\u001b[0;34m=\u001b[0m\u001b[0;32mNone\u001b[0m\u001b[0;34m,\u001b[0m\u001b[0;34m\u001b[0m\n",
       "\u001b[0;34m\u001b[0m    \u001b[0msparse\u001b[0m\u001b[0;34m=\u001b[0m\u001b[0;32mFalse\u001b[0m\u001b[0;34m,\u001b[0m\u001b[0;34m\u001b[0m\n",
       "\u001b[0;34m\u001b[0m    \u001b[0mtensor\u001b[0m\u001b[0;34m=\u001b[0m\u001b[0;32mNone\u001b[0m\u001b[0;34m,\u001b[0m\u001b[0;34m\u001b[0m\n",
       "\u001b[0;34m\u001b[0m\u001b[0;34m)\u001b[0m\u001b[0;34m\u001b[0m\u001b[0;34m\u001b[0m\u001b[0m\n",
       "\u001b[0;31mDocstring:\u001b[0m\n",
       "`Input()` is used to instantiate a Keras tensor.\n",
       "\n",
       "A Keras tensor is a tensor object from the underlying backend\n",
       "(Theano, TensorFlow or CNTK), which we augment with certain\n",
       "attributes that allow us to build a Keras model\n",
       "just by knowing the inputs and outputs of the model.\n",
       "\n",
       "For instance, if a, b and c are Keras tensors,\n",
       "it becomes possible to do:\n",
       "`model = Model(input=[a, b], output=c)`\n",
       "\n",
       "The added Keras attributes are:\n",
       "    `_keras_shape`: Integer shape tuple propagated\n",
       "        via Keras-side shape inference.\n",
       "    `_keras_history`: Last layer applied to the tensor.\n",
       "        the entire layer graph is retrievable from that layer,\n",
       "        recursively.\n",
       "\n",
       "# Arguments\n",
       "    shape: A shape tuple (integer), not including the batch size.\n",
       "        For instance, `shape=(32,)` indicates that the expected input\n",
       "        will be batches of 32-dimensional vectors.\n",
       "    batch_shape: A shape tuple (integer), including the batch size.\n",
       "        For instance, `batch_shape=(10, 32)` indicates that\n",
       "        the expected input will be batches of 10 32-dimensional vectors.\n",
       "        `batch_shape=(None, 32)` indicates batches of an arbitrary number\n",
       "        of 32-dimensional vectors.\n",
       "    name: An optional name string for the layer.\n",
       "        Should be unique in a model (do not reuse the same name twice).\n",
       "        It will be autogenerated if it isn't provided.\n",
       "    dtype: The data type expected by the input, as a string\n",
       "        (`float32`, `float64`, `int32`...)\n",
       "    sparse: A boolean specifying whether the placeholder\n",
       "        to be created is sparse.\n",
       "    tensor: Optional existing tensor to wrap into the `Input` layer.\n",
       "        If set, the layer will not create a placeholder tensor.\n",
       "\n",
       "# Returns\n",
       "    A tensor.\n",
       "\n",
       "# Example\n",
       "\n",
       "    ```python\n",
       "    # this is a logistic regression in Keras\n",
       "    x = Input(shape=(32,))\n",
       "    y = Dense(16, activation='softmax')(x)\n",
       "    model = Model(x, y)\n",
       "    ```\n",
       "\u001b[0;31mFile:\u001b[0m      /opt/conda/lib/python3.7/site-packages/keras/engine/topology.py\n",
       "\u001b[0;31mType:\u001b[0m      function\n"
      ]
     },
     "metadata": {},
     "output_type": "display_data"
    }
   ],
   "source": [
    "layers.Input?"
   ]
  },
  {
   "cell_type": "code",
   "execution_count": null,
   "metadata": {},
   "outputs": [],
   "source": [
    "# 은닉 계층의 구조와 수\n",
    "\n",
    "h = layers.Activation('relu')(layers.Dense(Nh)(x))"
   ]
  },
  {
   "cell_type": "markdown",
   "metadata": {},
   "source": [
    "- 은닉 계층은 layers.Dense()로 지정\n",
    "- 노트가 Nh개인 경우에 layers.Dense(Nh)로 구성\n",
    "- 이 은닉 계층의 입력은 입력 노드임\n",
    "  - 즉, x를 입력으로 받아들이도록 layers.Dense(Nh)(x)로 지정\n",
    "  \n",
    "활성화 함수를 layers.Activation('relu')로 지정\n",
    "- relu : f(x) = max(x, 0)\n",
    "\n",
    "정리하면 입력 벡터인 x를 완전히 연결된 은닉 계층의 노드들로 모두 보내고 은닉 계층의 각 노드들은 ReLu로 활성화 처리한 뒤에 다음 계층으로 보냄"
   ]
  },
  {
   "cell_type": "code",
   "execution_count": null,
   "metadata": {},
   "outputs": [],
   "source": [
    "# 출력 계층\n",
    "\n",
    "# 다중 클래스 분류를 ANN으로 구현하므로 출력 노드 수는 클래스 수로 지정(출력 노드에 입력 되는 정보는 은닉 노드의 출력값)\n",
    "y = layers.Activation('softmax')(layers.Dense(Nout)(h))"
   ]
  },
  {
   "cell_type": "markdown",
   "metadata": {},
   "source": [
    "- 다중 클래스 분류를 ANN으로 구현하므로 출력 노드 수는 클래스 수로 지정\n",
    "- 이 때, 출력 노드에 입력 되는 정보는 은닉 노드의 출력값\n",
    "- 분류의 경우에 출력 노드의 활성화 함수로 소프트맥스 연산을 사용"
   ]
  },
  {
   "cell_type": "code",
   "execution_count": null,
   "metadata": {},
   "outputs": [],
   "source": [
    "# 모델 구현, 중간 계층은 알아서 자동 설정\n",
    "\n",
    "model = models.Model(x, y)"
   ]
  },
  {
   "cell_type": "markdown",
   "metadata": {},
   "source": [
    "- 모델은 입력과 출력을 지정하여 만듬\n",
    "- 중간 계층들은 앞서 정의한 계층 간 신호의 연결 관계대로 자동 설정\n",
    "- 여러 가지 필요한 함수와 자동 연계되도록 역할함\n",
    "\n",
    "캐라스는 컴파일을 수행하여 타깃 플랫폼에 맞게 딥러닝 코드를 구성\n",
    "- 파이썬은 스크립트 언어이기 때문에 컴파일 없어도 됨\n",
    "- 그러나 케라스의 내부 딥러닝 엔진이 최적화를 위해 컴파일해 수행 속도 최적화\n",
    "- GPU 쓴다면 엔비디아 CUDA 컴파일러를 이용해 실행 코드 만들고, 텐서플로이면 코드를 컴파일 하지는 않지만 다양한 초기화 작업을 진행"
   ]
  },
  {
   "cell_type": "code",
   "execution_count": null,
   "metadata": {},
   "outputs": [],
   "source": [
    "# model compile 과정\n",
    "\n",
    "model.compile(\n",
    "    loss='categorical_crossentropy', # loss function 지정\n",
    "    optimizer='adam',   # 최적화 함수 지정\n",
    "    metrics=['accuracy']   # 학습, 예측 및 성능 검증의 정확성 측정\n",
    ")"
   ]
  },
  {
   "cell_type": "markdown",
   "metadata": {},
   "source": [
    "-------"
   ]
  },
  {
   "cell_type": "markdown",
   "metadata": {},
   "source": [
    "#### 연쇄 방식 모델링 - 함수형\n",
    "\n",
    "- 연쇄 방식은 분산 방식과 모델을 지정하는 부분만 다르고, 상수를 정의하고 설정한 모델을 컴파일하는 구현 코드는 동일\n",
    "- 분산 방식과 다르게 모델을 먼저 설정"
   ]
  },
  {
   "cell_type": "code",
   "execution_count": 6,
   "metadata": {},
   "outputs": [],
   "source": [
    "model = models.Sequential()"
   ]
  },
  {
   "cell_type": "markdown",
   "metadata": {},
   "source": [
    "- 첫 번째 add : 입력 계층과 은닉 계층의 형태가 동시에 정해짐\n",
    "- 입력 노드 Nin개는 완전 연결 계층 Nh개로 구성된 은닉 계층으로 보내짐\n",
    "- 두 번째 add :은닉 계층의 출력이 출력이 nout인 출력 노드로 전달, 활성화 함수는 softmax"
   ]
  },
  {
   "cell_type": "code",
   "execution_count": null,
   "metadata": {},
   "outputs": [],
   "source": [
    "model.add(layers.Dense(Nh, activation='relu', input_shape=(Nin, )))\n",
    "model.add(layers.Dense(Nout, activation='softmax'))"
   ]
  },
  {
   "cell_type": "markdown",
   "metadata": {},
   "source": [
    "- 연쇄 방식은 추가되는 계층을 기술할 때 간편하게 기술할 수 있는 장점이 있음\n",
    "- 복잡한 경우는 연쇄형으로 구현이 힘든 경우도 있음\n",
    "  - 이럴 경우 분산 방식 모델링을 선택해야 함"
   ]
  },
  {
   "cell_type": "markdown",
   "metadata": {},
   "source": [
    "--------\n",
    "#### 분산 방식 모델링 - 객체지향형\n",
    "\n",
    "코드의 재상용성을 높이기 위해 객체지향 방식으로 구현 가능"
   ]
  },
  {
   "cell_type": "code",
   "execution_count": 8,
   "metadata": {},
   "outputs": [],
   "source": [
    "class ANN_models_class(models.Model):\n",
    "    def __init__(self, Nin, Nh, Nout):\n",
    "        # Prepare network layers and activate functions\n",
    "        hidden = layers.Dense(Nh)\n",
    "        output = layers.Dense(Nout)\n",
    "        \n",
    "        # set the activation function\n",
    "        relu = layers.Activation('relu')\n",
    "        softmax = layers.Activation('softmax')\n",
    "\n",
    "        # Connect network elements x -> h -> y\n",
    "        x = layers.Input(shape=(Nin,))\n",
    "        h = relu(hidden(x))\n",
    "        y = softmax(output(h))\n",
    "\n",
    "        super().__init__(x, y) # 상속 받은 부모 클래스의 초기화 진행\n",
    "        self.compile(loss='categorical_crossentropy',\n",
    "                     optimizer='adam', metrics=['accuracy'])"
   ]
  },
  {
   "cell_type": "code",
   "execution_count": 10,
   "metadata": {},
   "outputs": [],
   "source": [
    "model = ANN_models_class(Nin, Nh, Nout)"
   ]
  },
  {
   "cell_type": "markdown",
   "metadata": {},
   "source": [
    "- init 함수에는 입력 계층, 은닉 계층, 출력 계층의 노드 수를 받는다.\n",
    "  - 각각 Nin, Nh, Nout으로 받는다.\n",
    "\n",
    "- 은닉 계층이 여러 개라면 반복문 사용해서 생성할 수 있다. 예를 들면....\n",
    "\n",
    "case 1.\n",
    "```python\n",
    "Nh_1 = [5, 10, 5]\n",
    "\n",
    "hidden_layers = map(layers.Dense, Nh_1)\n",
    "```\n",
    "\n",
    "case 2.\n",
    "```python\n",
    "Nh_1 = [5, 10, 5]\n",
    "\n",
    "hidden_layers = [layers.Dense(n) for n in Nh_l]\n",
    "```\n",
    "\n",
    "case 3.\n",
    "```python\n",
    "hidden_layers = []\n",
    "for n in Nh_1:\n",
    "    hidden_layers.append(layers.Dense(n))\n",
    "```\n",
    "\n",
    "- 노드 수가 Nout개인 출력 계층을 정의\n",
    "- activation function을 각각 정의해준다.\n",
    "- 그 후 상속받은 부모 클래스의 초기화를 진행\n",
    "  - 부모 클래스는 models.Model\n",
    "\n",
    "\n",
    "Python에서 super()의 기능에 대해 간단 설명\n",
    "\n",
    "- https://programmers.co.kr/learn/courses/2/lessons/330\n",
    "- 자식클래스에서 부모클래스의 내용을 사용하고 싶은 경우\n",
    "- super().부모클래스내용\n",
    "\n",
    "\n",
    "```python\n",
    "class Animal( ):\n",
    "    def __init__( self, name ):\n",
    "        self.name = name\n",
    "\n",
    "class Human( Animal ):\n",
    "    def __init__( self, name, hand ):\n",
    "        super().__init__( name ) # 부모클래스의 __init__ 메소드 호출\n",
    "        self.hand = hand\n",
    "\n",
    "person = Human( \"사람\", \"오른손\" )\n",
    "```\n",
    "  "
   ]
  },
  {
   "cell_type": "markdown",
   "metadata": {},
   "source": [
    "#### 연쇄 방식 모델링 - 객체지향형\n",
    "- Sequential 방식을 사용하면 더 편리하게 모델링 가능\n",
    "- 연쇄 방식은 객체지향으로 구성할 수도 있고, 클래스 없이 기본 형태로 구성할 수도 있다.\n",
    "  - 단, 이때는 신경망 모델이 연속적인 하나의 고리로 연결되어 있다는 가정하에 모델링이 이루어짐\n",
    "- 각 층의 동작 단계가 연속으로 기술되기 때문에 표현하기도 쉽고 개념적으로 이해하기 쉬움\n",
    "- 그러나, 딥러닝 구조가 복잡해지면 계층 간의 연결이 연쇄적으로 구성되지 않는 경우가 생길 수 있다.\n",
    "  - 이럴 경우 직접 모델링 하는 방법이 권장됨"
   ]
  },
  {
   "cell_type": "markdown",
   "metadata": {},
   "source": [
    "- models.Model -> models.Sequential\n",
    "- 직접 모델링 방법에서는 컴파일 하기 직전에 초기화 했음\n",
    "  - 연쇄 방식에서는 부모 클래스의 초기화 함수를 자신의 초기화 함수 가장 앞 단에서 부름\n",
    "  \n",
    "모델링은 앞의 계층에 새로운 계층을 계속 추가하는 형태\n",
    "- 연쇄 방법은 입력 계층을 별도로 정의하지 않고 은닉 계층부터 추가해나감\n",
    "\n",
    "은닉 계층을 붙일 때, 변수 중에 하나로 입력 계층의 노드 수를 input_shape=(Nin,)을 포함시켜 간단하게 입력 계층 정의함"
   ]
  },
  {
   "cell_type": "code",
   "execution_count": 11,
   "metadata": {},
   "outputs": [],
   "source": [
    "class ANN_seq_class(models.Sequential):\n",
    "    def __init__(self, Nin, Nh, Nout):\n",
    "        super().__init__()\n",
    "        \n",
    "        self.add(layers.Dense(Nh, activation='relu', input_shape=(Nin,)))\n",
    "        self.add(layers.Dense(Nout, activation='softmax'))\n",
    "        self.compile(\n",
    "            loss='categorical_crossentropy',\n",
    "            optimizer='adam', \n",
    "            metrics=['accuracy']\n",
    "        )"
   ]
  },
  {
   "cell_type": "markdown",
   "metadata": {},
   "source": [
    "### 2.2.2 분류 ANN에 사용할 데이터 불러오기\n",
    "\n",
    "1. 데이터 처리에 사용할 패키지 임포트\n",
    "2. 데이터 불러오기\n",
    "3. 출력값 변수를 이진 벡터 형태로 바꾸기\n",
    "4. 이미지를 나타내는 argument를 1차원 벡터 형태로 바꾸기\n",
    "5. ANN을 위해 입력값들을 정규화(regularization) 하기"
   ]
  },
  {
   "cell_type": "code",
   "execution_count": 12,
   "metadata": {},
   "outputs": [],
   "source": [
    "# load data\n",
    "\n",
    "import numpy as np\n",
    "from keras import datasets # mnist\n",
    "from keras.utils import np_utils # to_categorical"
   ]
  },
  {
   "cell_type": "code",
   "execution_count": 45,
   "metadata": {},
   "outputs": [],
   "source": [
    "(X_train, y_train), (X_test, y_test) = datasets.mnist.load_data()"
   ]
  },
  {
   "cell_type": "markdown",
   "metadata": {},
   "source": [
    "딥러닝에 사용되는 데이터는 활용 방향에 따라 크게 3가지로 나뉨\n",
    "- training\n",
    "  - 모델을 학습하는데 사용\n",
    "- validation\n",
    "  - 학습이 진행되는 동안 성능을 검증하는 데 사용되는 데이터\n",
    "- test\n",
    "  - 학습을 마치고 나서 모델의 성능을 최종적으로 평가하는 데 사용하는 데이터"
   ]
  },
  {
   "cell_type": "code",
   "execution_count": 46,
   "metadata": {},
   "outputs": [],
   "source": [
    "# 0부터 9까지의 숫자로 구성된 출력값을 0과 1로 표현되는 벡터 10개로 바꾸기\n",
    "\n",
    "Y_train = np_utils.to_categorical(y_train)\n",
    "Y_test = np_utils.to_categorical(y_test)\n",
    "\n",
    "# why?\n",
    "# 분류 작업 시 정수보다 이진 벡터로 출력 변수를 구성하는 것이 효율적"
   ]
  },
  {
   "cell_type": "code",
   "execution_count": 47,
   "metadata": {},
   "outputs": [],
   "source": [
    "# X_train, X_test에 (x, y)축에 대한 픽셀 정보가 들어 있는 3차원 데이터인 실제 학습 및 평가용 이미지를 2차원으로 조정\n",
    "# X_train.shape = (60000, 28, 28)\n",
    "\n",
    "L, W, H = X_train.shape\n",
    "X_train = X_train.reshape(-1, W*H)\n",
    "X_test = X_test.reshape(-1, W*H)"
   ]
  },
  {
   "cell_type": "markdown",
   "metadata": {},
   "source": [
    "#### reshape(-1, n)?은 무엇일까\n",
    "\n",
    "- https://rfriend.tistory.com/345\n",
    "- 쉽게 이해한 건 어떤 행렬을 자동으로 배열 해준다는 것\n",
    "- (4,3) -> reshape(-1, 4) -> (3, 4)\n",
    "- -1과 4가 있으면 예시의 12개 중 4개를 열로 잡고 행은 자동으로 3만큼 배정된다.\n",
    "- 행렬의 열 수가 W * H로 지정되어 있으니 행은 전체 원소 수에서 W * H를 자동으로 나누어줌\n",
    "\n",
    "```python\n",
    "arr = np.array([[1,2,3], [4,5,6], [7,8,9], [10,11,12]])\n",
    "\n",
    "arr.shape : (4, 3)\n",
    "    \n",
    "array([[ 1,  2,  3],\n",
    "       [ 4,  5,  6],\n",
    "       [ 7,  8,  9],\n",
    "       [10, 11, 12]])\n",
    "\n",
    "arr.reshape(-1, 4)\n",
    "\n",
    "array([[ 1,  2,  3,  4],\n",
    "       [ 5,  6,  7,  8],\n",
    "       [ 9, 10, 11, 12]])\n",
    "```"
   ]
  },
  {
   "cell_type": "code",
   "execution_count": 62,
   "metadata": {},
   "outputs": [
    {
     "data": {
      "text/plain": [
       "(60000, 784)"
      ]
     },
     "execution_count": 62,
     "metadata": {},
     "output_type": "execute_result"
    }
   ],
   "source": [
    "X_train.shape"
   ]
  },
  {
   "cell_type": "code",
   "execution_count": 49,
   "metadata": {},
   "outputs": [],
   "source": [
    "# 학습 데이터 셋 샘플 L개\n",
    "# L * W * H의 텐서로 저장된 상태\n",
    "# 멤버 변수 shape에는 2D 이미지 데이터를 저장하는 저장소 규격 있음, 이를 ANN으로 학습하려면 벡터 이미지 형태로 변경, reshape사용\n",
    "# -1은 행렬의 행을 자동으로 설정"
   ]
  },
  {
   "cell_type": "code",
   "execution_count": 48,
   "metadata": {},
   "outputs": [],
   "source": [
    "# ANN 최적화를 위한 argument, 값을 0~1사이의 실수로 바꿈\n",
    "\n",
    "X_train = X_train / 255.0\n",
    "X_test = X_test / 255.0"
   ]
  },
  {
   "cell_type": "markdown",
   "metadata": {},
   "source": [
    "#### 2.2.3 분류 ANN 학습 결과 그래프 구현\n",
    "- 하이퍼파라미터는 인공신경망을 학습하기 전에 사람이 지정해주어야 하는 변수\n",
    "- 학습이 진행되는 동안 측정한 손실과 정확도의 추이를 관찰하여 이루어짐\n",
    "- fit() 함수의 결과인 history 변수에 저장되어 있음"
   ]
  },
  {
   "cell_type": "code",
   "execution_count": 50,
   "metadata": {},
   "outputs": [],
   "source": [
    "import matplotlib.pyplot as plt\n",
    "\n",
    "%matplotlib inline"
   ]
  },
  {
   "cell_type": "code",
   "execution_count": 51,
   "metadata": {},
   "outputs": [],
   "source": [
    "def Data_func():\n",
    "    (X_train, y_train), (X_test, y_test) = datasets.mnist.load_data()\n",
    "\n",
    "    Y_train = np_utils.to_categorical(y_train)\n",
    "    Y_test = np_utils.to_categorical(y_test)\n",
    "\n",
    "    L, W, H = X_train.shape\n",
    "    X_train = X_train.reshape(-1, W * H)\n",
    "    X_test = X_test.reshape(-1, W * H)\n",
    "\n",
    "    X_train = X_train / 255.0\n",
    "    X_test = X_test / 255.0\n",
    "\n",
    "    return (X_train, Y_train), (X_test, Y_test)"
   ]
  },
  {
   "cell_type": "code",
   "execution_count": 55,
   "metadata": {},
   "outputs": [],
   "source": [
    "# loss function graph\n",
    "\n",
    "def plot_loss(history):\n",
    "    plt.plot(history.history['loss'])  # 실제 학습 데이터로 구한 손실값\n",
    "    plt.plot(history.history['val_loss']) # 학습 데이터 일부를 사용한 검증 데이터로 구한 손실 값\n",
    "    \n",
    "    plt.title('Model Loss')\n",
    "    plt.ylabel('Loss')\n",
    "    plt.xlabel('Epoch')\n",
    "    plt.legend(['Train', 'Test'], loc=0)"
   ]
  },
  {
   "cell_type": "code",
   "execution_count": 56,
   "metadata": {},
   "outputs": [],
   "source": [
    "# accuracy graph\n",
    "\n",
    "def plot_acc(history):\n",
    "    plt.plot(history.history['acc'])  # 실제 학습 데이터로 구한 손실값\n",
    "    plt.plot(history.history['val_acc']) # 학습 데이터 일부를 사용한 검증 데이터로 구한 손실 값\n",
    "    \n",
    "    plt.title('Model accuracy')\n",
    "    plt.ylabel('Accuracy')\n",
    "    plt.xlabel('Epoch')\n",
    "    plt.legend(['Train', 'Test'], loc=0)"
   ]
  },
  {
   "cell_type": "markdown",
   "metadata": {},
   "source": [
    "#### 2.2.4 분류 ANN 학습 및 성능 분석"
   ]
  },
  {
   "cell_type": "code",
   "execution_count": 59,
   "metadata": {},
   "outputs": [],
   "source": [
    "def main():\n",
    "    Nin = 784 # 입력 Nin\n",
    "    Nh = 100 # 은닉 계층 노드 수\n",
    "    number_of_class = 10 # 분류 할 갯수(classification)\n",
    "    Nout = number_of_class # 출력 할 값\n",
    "    \n",
    "    model = ANN_seq_class(Nin, Nh, Nout) # Sequential class\n",
    "    (X_train, y_train), (X_test, y_test) = Data_func() # dataset\n",
    "    \n",
    "    history = model.fit(\n",
    "        X_train, \n",
    "        Y_train, \n",
    "        epochs=5, # 전체 반복 횟수\n",
    "        batch_size=100, # 한 번 진행할 때 데이털르 얼마씩 나눠서 넣을지 지정하는 값\n",
    "        validation_split=0.2 # 검증 데이터 셋\n",
    "    )\n",
    "    \n",
    "    \n",
    "    # model 평가\n",
    "\n",
    "    performance_test = model.evaluate(X_test, Y_test, batch_size=100) # batch size에서도 한 번에 계산할 데이터 길이를 지정\n",
    "    print('Test Loss and Accuracy ->', performance_test)\n",
    "    \n",
    "    plot_loss(history)\n",
    "    plt.show()\n",
    "    \n",
    "    plot_acc(history)\n",
    "    plt.show()\n",
    "    \n",
    "    return history"
   ]
  },
  {
   "cell_type": "code",
   "execution_count": 60,
   "metadata": {},
   "outputs": [
    {
     "name": "stdout",
     "output_type": "stream",
     "text": [
      "Train on 48000 samples, validate on 12000 samples\n",
      "Epoch 1/5\n",
      "48000/48000 [==============================] - 3s 61us/step - loss: 0.3957 - acc: 0.8909 - val_loss: 0.2144 - val_acc: 0.9406\n",
      "Epoch 2/5\n",
      "48000/48000 [==============================] - 1s 31us/step - loss: 0.1896 - acc: 0.9462 - val_loss: 0.1594 - val_acc: 0.9538\n",
      "Epoch 3/5\n",
      "48000/48000 [==============================] - 1s 30us/step - loss: 0.1411 - acc: 0.9602 - val_loss: 0.1327 - val_acc: 0.9612\n",
      "Epoch 4/5\n",
      "48000/48000 [==============================] - 1s 28us/step - loss: 0.1106 - acc: 0.9684 - val_loss: 0.1210 - val_acc: 0.9638\n",
      "Epoch 5/5\n",
      "48000/48000 [==============================] - 1s 28us/step - loss: 0.0900 - acc: 0.9745 - val_loss: 0.1072 - val_acc: 0.9691\n",
      "10000/10000 [==============================] - 0s 11us/step\n",
      "Test Loss and Accuracy -> [0.10254214589716866, 0.9693000048398972]\n"
     ]
    },
    {
     "data": {
      "image/png": "[encoded data removed]",
      "text/plain": [
       "<Figure size 432x288 with 1 Axes>"
      ]
     },
     "metadata": {
      "needs_background": "light"
     },
     "output_type": "display_data"
    },
    {
     "data": {
      "image/png": "[encoded data removed]",
      "text/plain": [
       "<Figure size 432x288 with 1 Axes>"
      ]
     },
     "metadata": {
      "needs_background": "light"
     },
     "output_type": "display_data"
    }
   ],
   "source": [
    "result = main()"
   ]
  },
  {
   "cell_type": "code",
   "execution_count": 61,
   "metadata": {},
   "outputs": [
    {
     "data": {
      "text/plain": [
       "{'val_loss': [0.2144149294278274,\n",
       "  0.15938795229109626,\n",
       "  0.13267191254999489,\n",
       "  0.12097270864372452,\n",
       "  0.10717347916215658],\n",
       " 'val_acc': [0.9405833353598912,\n",
       "  0.9537500043710073,\n",
       "  0.9611666724085808,\n",
       "  0.9638333395123482,\n",
       "  0.9690833419561387],\n",
       " 'loss': [0.39574545789510013,\n",
       "  0.18956152470006296,\n",
       "  0.14110844922252,\n",
       "  0.1105787019051301,\n",
       "  0.08995310295528422],\n",
       " 'acc': [0.8909166687478621,\n",
       "  0.9462083343416452,\n",
       "  0.9602083376298348,\n",
       "  0.9684375061343113,\n",
       "  0.97445834291478]}"
      ]
     },
     "execution_count": 61,
     "metadata": {},
     "output_type": "execute_result"
    }
   ],
   "source": [
    "result.history"
   ]
  },
  {
   "cell_type": "markdown",
   "metadata": {},
   "source": [
    "#### 각 출력문의 의미\n",
    "\n",
    "Train on 48000 samples, validate on 12000 samples\n",
    "- 학습에 주어진 샘플 60,000개 중에서 48,000개가 실제 학습에 사용되고 12,000개가 검증에 사용되었습니다.\n",
    "\n",
    "Epoch 1/5\n",
    "- 5번의 학습에서 첫 번째 단계 학습이 완료되었습니다.\n",
    "\n",
    "2s\n",
    "- 학습에 걸린 시간이 2초입니다.\n",
    "\n",
    "loss : 0.3916\n",
    "- 학습 데이터로 평가한 성능 손실(loss)이 0.3916입니다.\n",
    "- loss는 손실 함수로 구한 오류율 입니다.\n",
    "\n",
    "acc : 0.8913\n",
    "- 정확도(acc), acc는 정확히 예측했을 경우 최댓값 1을 가지는 평가값\n",
    "\n",
    "val_loss: 0.2068 - val_acc: 0.9431\n",
    "- val_loss와 val_acc는 검증 데이터로 측정한 손실과 정확도를 나타냅니다.\n",
    "\n",
    "- 그래프를 보고 hyperparameter 조정 가능"
   ]
  },
  {
   "cell_type": "markdown",
   "metadata": {},
   "source": [
    "**overfitting 방지 방법**\n",
    "\n",
    "- early dropping : 학습을 조기에 종료시키는 것\n",
    "- dropout : 입력 계층 또는 은닉 계층에서 무작위로 선정한 일부 노드의 결과값을 0으로 처리하는 방법, 0으로 처리할 노드 수는 지정한 확률값을 따름\n",
    "- parameter 수를 줄이는 방법"
   ]
  },
  {
   "cell_type": "markdown",
   "metadata": {},
   "source": [
    "#### 전체 코드"
   ]
  },
  {
   "cell_type": "code",
   "execution_count": null,
   "metadata": {},
   "outputs": [],
   "source": [
    "import numpy as np\n",
    "import keras\n",
    "import matplotlib.pyplot as plt\n",
    "from keras import models, layers\n",
    "from keras import datasets\n",
    "from keras.utils import np_utils\n",
    "\n",
    "\n",
    "class ANN_seq_class(models.Sequential):\n",
    "    def __init__(self, Nin, Nh, Nout):\n",
    "        super().__init__()\n",
    "        self.add(layers.Dense(Nh, activation='relu', input_shape=(Nin,)))\n",
    "        self.add(layers.Dense(Nout, activation='softmax'))\n",
    "        self.compile(\n",
    "            loss='categorical_crossentropy',\n",
    "            optimizer='adam',\n",
    "            metrics=['accuracy']\n",
    "        )\n",
    "\n",
    "\n",
    "def data_func():\n",
    "    (X_train, y_train), (X_test, y_test) = datasets.mnist.load_data()\n",
    "\n",
    "    Y_train = np_utils.to_categorical(y_train)\n",
    "    Y_test = np_utils.to_categorical(y_test)\n",
    "\n",
    "    L, W, H = X_train.shape\n",
    "    X_train = X_train.reshape(-1, W*H)\n",
    "    X_test = X_test.reshape(-1, W*H)\n",
    "\n",
    "    X_train = X_train / 255.0\n",
    "    X_test = X_test / 255.0\n",
    "\n",
    "    return (X_train, Y_train), (X_test, y_test)\n",
    "\n",
    "\n",
    "def plot_loss(history):\n",
    "    plt.plot(history.history['loss'])\n",
    "    plt.plot(history.history['val_loss'])\n",
    "\n",
    "    plt.title('Model Loss')\n",
    "    plt.ylabel('Loss')\n",
    "    plt.xlabel('Epoch')\n",
    "    plt.legend(['Train', 'Test'], loc=0)\n",
    "\n",
    "\n",
    "def plot_acc(history):\n",
    "    plt.plot(history.history['acc'])\n",
    "    plt.plot(history.history['val_acc'])\n",
    "\n",
    "    plt.title('Model accuracy')\n",
    "    plt.ylabel('Accuracy')\n",
    "    plt.xlabel('Epoch')\n",
    "    plt.legend(['Train', 'Test'], loc=0)\n",
    "\n",
    "\n",
    "def main():\n",
    "    Nin = 784\n",
    "    Nh = 100\n",
    "    number_of_class = 10\n",
    "    Nout = number_of_class\n",
    "\n",
    "    model = ANN_seq_class(Nin, Nh, Nout)\n",
    "\n",
    "    (X_train, y_train), (X_test, y_test) = data_func()\n",
    "\n",
    "    #################\n",
    "    # Training ######\n",
    "    #################\n",
    "\n",
    "    history = model.fit(\n",
    "        X_train,\n",
    "        y_train,\n",
    "        epochs=10,\n",
    "        batch_size=100,\n",
    "        verbose=2,\n",
    "        validation_split=0.2\n",
    "    )\n",
    "\n",
    "    performance_test = model.evaluate(X_test, y_test)\n",
    "    print('Test Loss and Accuracy -> ', performance_test)\n",
    "\n",
    "    plot_acc(history)\n",
    "    plt.show()\n",
    "    plot_loss(history)\n",
    "    plt.show()\n",
    "\n",
    "\n",
    "if __name__==\"__main__\":\n",
    "    main()\n",
    "\n"
   ]
  },
  {
   "cell_type": "markdown",
   "metadata": {},
   "source": [
    "-----------------------------------"
   ]
  },
  {
   "cell_type": "markdown",
   "metadata": {},
   "source": [
    "### 2.3 시계열 데이터를 예측하는 회귀 ANN 구현\n",
    "\n",
    "1. 회귀 ANN 구현\n",
    "2. 학습과 평가용 데이터 불러오기\n",
    "3. 회귀 ANN 학습 및 성능 평가\n",
    "4. 회귀 ANN 학습 결과 분석"
   ]
  },
  {
   "cell_type": "markdown",
   "metadata": {},
   "source": [
    "#### 2.3.1 회귀 ANN 모델링"
   ]
  },
  {
   "cell_type": "code",
   "execution_count": 66,
   "metadata": {},
   "outputs": [],
   "source": [
    "from keras import layers, models\n",
    "from sklearn import preprocessing"
   ]
  },
  {
   "cell_type": "code",
   "execution_count": 67,
   "metadata": {},
   "outputs": [],
   "source": [
    "class ANN(models.Model):\n",
    "    def __init__(self, Nin, Nh, Nout):\n",
    "        # Prepare network layers and activate functions\n",
    "        hidden = layers.Dense(Nh)\n",
    "        output = layers.Dense(Nout)\n",
    "        relu = layers.Activation('relu')\n",
    "\n",
    "        # Connect network elements\n",
    "        x = layers.Input(shape=(Nin,))\n",
    "        h = relu(hidden(x))\n",
    "        y = output(h)\n",
    "\n",
    "        super().__init__(x, y)\n",
    "\n",
    "        self.compile(loss='mse', optimizer='sgd')"
   ]
  },
  {
   "cell_type": "markdown",
   "metadata": {},
   "source": [
    "- 입력에 해당하는 x는 Nin 길이를 가지는 1차원 열 벡터\n",
    "- 은칙 계층은 입력 계층의 신호인 x가 hidden()을 통과한 뒤 다시 활성화 함수인 relu() 단계를 통과하도록 구성\n",
    "  - 그 결과 h는 최종적으로 output으로 정의된 계층에 들어감\n",
    "- 출력은 활성화 함수 없이 바로 y로 나옵니다.\n",
    "- mse : mean square error"
   ]
  },
  {
   "cell_type": "markdown",
   "metadata": {},
   "source": [
    "#### 2.3.2 학습과 평가용 데이터 불러오기"
   ]
  },
  {
   "cell_type": "code",
   "execution_count": 68,
   "metadata": {},
   "outputs": [],
   "source": [
    "from keras import datasets"
   ]
  },
  {
   "cell_type": "code",
   "execution_count": 71,
   "metadata": {},
   "outputs": [],
   "source": [
    "def data_func():\n",
    "    (X_train, y_train), (X_test, y_test) = datasets.boston_housing.load_data()\n",
    "    \n",
    "    scaler = preprocessing.MinMaxScaler() # 0과 1로 정규화 해주는 MinMaxScaler()\n",
    "    X_train = scaler.fit_transform(X_train)\n",
    "    X_test = scaler.transform(X_test)\n",
    "    \n",
    "    return (X_train, y_train), (X_test, y_test)"
   ]
  },
  {
   "cell_type": "markdown",
   "metadata": {},
   "source": [
    "#### 2.3.3 회귀 ANN학습 결과 그래프 구현"
   ]
  },
  {
   "cell_type": "code",
   "execution_count": 72,
   "metadata": {},
   "outputs": [
    {
     "name": "stdout",
     "output_type": "stream",
     "text": [
      "Train on 323 samples, validate on 81 samples\n",
      "Epoch 1/100\n",
      " - 0s - loss: 549.2299 - val_loss: 544.1247\n",
      "Epoch 2/100\n",
      " - 0s - loss: 390.5700 - val_loss: 103.3929\n",
      "Epoch 3/100\n",
      " - 0s - loss: 98.1901 - val_loss: 85.2140\n",
      "Epoch 4/100\n",
      " - 0s - loss: 77.4438 - val_loss: 81.0683\n",
      "Epoch 5/100\n",
      " - 0s - loss: 66.6654 - val_loss: 61.9228\n",
      "Epoch 6/100\n",
      " - 0s - loss: 61.4270 - val_loss: 65.4058\n",
      "Epoch 7/100\n",
      " - 0s - loss: 71.9419 - val_loss: 58.9549\n",
      "Epoch 8/100\n",
      " - 0s - loss: 51.9858 - val_loss: 93.1045\n",
      "Epoch 9/100\n",
      " - 0s - loss: 62.5920 - val_loss: 62.6678\n",
      "Epoch 10/100\n",
      " - 0s - loss: 47.1879 - val_loss: 53.1253\n",
      "Epoch 11/100\n",
      " - 0s - loss: 42.8130 - val_loss: 49.0748\n",
      "Epoch 12/100\n",
      " - 0s - loss: 40.8272 - val_loss: 41.4224\n",
      "Epoch 13/100\n",
      " - 0s - loss: 38.3668 - val_loss: 54.4867\n",
      "Epoch 14/100\n",
      " - 0s - loss: 42.8159 - val_loss: 41.1169\n",
      "Epoch 15/100\n",
      " - 0s - loss: 40.6437 - val_loss: 44.5766\n",
      "Epoch 16/100\n",
      " - 0s - loss: 34.1632 - val_loss: 44.1284\n",
      "Epoch 17/100\n",
      " - 0s - loss: 32.6141 - val_loss: 35.6701\n",
      "Epoch 18/100\n",
      " - 0s - loss: 31.8371 - val_loss: 41.4578\n",
      "Epoch 19/100\n",
      " - 0s - loss: 31.4799 - val_loss: 33.7412\n",
      "Epoch 20/100\n",
      " - 0s - loss: 31.6695 - val_loss: 31.0509\n",
      "Epoch 21/100\n",
      " - 0s - loss: 30.1381 - val_loss: 29.6005\n",
      "Epoch 22/100\n",
      " - 0s - loss: 29.6422 - val_loss: 29.8011\n",
      "Epoch 23/100\n",
      " - 0s - loss: 27.3097 - val_loss: 32.7661\n",
      "Epoch 24/100\n",
      " - 0s - loss: 28.1749 - val_loss: 31.3858\n",
      "Epoch 25/100\n",
      " - 0s - loss: 29.1247 - val_loss: 37.3144\n",
      "Epoch 26/100\n",
      " - 0s - loss: 47.5036 - val_loss: 61.4624\n",
      "Epoch 27/100\n",
      " - 0s - loss: 43.6484 - val_loss: 35.6210\n",
      "Epoch 28/100\n",
      " - 0s - loss: 33.7182 - val_loss: 31.1215\n",
      "Epoch 29/100\n",
      " - 0s - loss: 32.7950 - val_loss: 91.2139\n",
      "Epoch 30/100\n",
      " - 0s - loss: 84.2717 - val_loss: 25.8957\n",
      "Epoch 31/100\n",
      " - 0s - loss: 25.5216 - val_loss: 36.2650\n",
      "Epoch 32/100\n",
      " - 0s - loss: 28.5257 - val_loss: 40.8993\n",
      "Epoch 33/100\n",
      " - 0s - loss: 72.1278 - val_loss: 43.6365\n",
      "Epoch 34/100\n",
      " - 0s - loss: 41.9865 - val_loss: 27.7356\n",
      "Epoch 35/100\n",
      " - 0s - loss: 26.8115 - val_loss: 33.6829\n",
      "Epoch 36/100\n",
      " - 0s - loss: 27.2886 - val_loss: 49.3238\n",
      "Epoch 37/100\n",
      " - 0s - loss: 63.5212 - val_loss: 25.4363\n",
      "Epoch 38/100\n",
      " - 0s - loss: 24.6916 - val_loss: 25.2577\n",
      "Epoch 39/100\n",
      " - 0s - loss: 25.0479 - val_loss: 24.3853\n",
      "Epoch 40/100\n",
      " - 0s - loss: 26.0277 - val_loss: 24.0724\n",
      "Epoch 41/100\n",
      " - 0s - loss: 24.5822 - val_loss: 26.5253\n",
      "Epoch 42/100\n",
      " - 0s - loss: 27.0171 - val_loss: 25.3956\n",
      "Epoch 43/100\n",
      " - 0s - loss: 24.5532 - val_loss: 26.1544\n",
      "Epoch 44/100\n",
      " - 0s - loss: 24.5788 - val_loss: 24.1822\n",
      "Epoch 45/100\n",
      " - 0s - loss: 27.3841 - val_loss: 36.1446\n",
      "Epoch 46/100\n",
      " - 0s - loss: 32.5138 - val_loss: 25.3375\n",
      "Epoch 47/100\n",
      " - 0s - loss: 25.1175 - val_loss: 49.5075\n",
      "Epoch 48/100\n",
      " - 0s - loss: 39.5791 - val_loss: 40.8372\n",
      "Epoch 49/100\n",
      " - 0s - loss: 27.3132 - val_loss: 25.7616\n",
      "Epoch 50/100\n",
      " - 0s - loss: 24.0742 - val_loss: 33.7171\n",
      "Epoch 51/100\n",
      " - 0s - loss: 39.2199 - val_loss: 23.2041\n",
      "Epoch 52/100\n",
      " - 0s - loss: 23.2444 - val_loss: 24.4851\n",
      "Epoch 53/100\n",
      " - 0s - loss: 27.8801 - val_loss: 46.7542\n",
      "Epoch 54/100\n",
      " - 0s - loss: 29.9209 - val_loss: 46.1203\n",
      "Epoch 55/100\n",
      " - 0s - loss: 37.3527 - val_loss: 77.2600\n",
      "Epoch 56/100\n",
      " - 0s - loss: 43.2760 - val_loss: 47.8863\n",
      "Epoch 57/100\n",
      " - 0s - loss: 33.8143 - val_loss: 24.2472\n",
      "Epoch 58/100\n",
      " - 0s - loss: 23.8081 - val_loss: 22.6879\n",
      "Epoch 59/100\n",
      " - 0s - loss: 23.1451 - val_loss: 27.6580\n",
      "Epoch 60/100\n",
      " - 0s - loss: 24.2453 - val_loss: 40.6752\n",
      "Epoch 61/100\n",
      " - 0s - loss: 28.9283 - val_loss: 25.5648\n",
      "Epoch 62/100\n",
      " - 0s - loss: 23.6439 - val_loss: 23.7677\n",
      "Epoch 63/100\n",
      " - 0s - loss: 30.2104 - val_loss: 22.3435\n",
      "Epoch 64/100\n",
      " - 0s - loss: 23.2911 - val_loss: 27.7983\n",
      "Epoch 65/100\n",
      " - 0s - loss: 34.9106 - val_loss: 34.5690\n",
      "Epoch 66/100\n",
      " - 0s - loss: 36.8702 - val_loss: 23.0353\n",
      "Epoch 67/100\n",
      " - 0s - loss: 27.9201 - val_loss: 24.5019\n",
      "Epoch 68/100\n",
      " - 0s - loss: 25.6354 - val_loss: 22.2898\n",
      "Epoch 69/100\n",
      " - 0s - loss: 24.0518 - val_loss: 22.5758\n",
      "Epoch 70/100\n",
      " - 0s - loss: 22.6869 - val_loss: 22.1801\n",
      "Epoch 71/100\n",
      " - 0s - loss: 24.7605 - val_loss: 21.6672\n",
      "Epoch 72/100\n",
      " - 0s - loss: 25.1309 - val_loss: 23.6435\n",
      "Epoch 73/100\n",
      " - 0s - loss: 22.6495 - val_loss: 24.3107\n",
      "Epoch 74/100\n",
      " - 0s - loss: 25.7740 - val_loss: 38.4270\n",
      "Epoch 75/100\n",
      " - 0s - loss: 31.0539 - val_loss: 25.8740\n",
      "Epoch 76/100\n",
      " - 0s - loss: 23.7850 - val_loss: 24.1559\n",
      "Epoch 77/100\n",
      " - 0s - loss: 29.6644 - val_loss: 24.6882\n",
      "Epoch 78/100\n",
      " - 0s - loss: 24.3368 - val_loss: 21.3049\n",
      "Epoch 79/100\n",
      " - 0s - loss: 22.8251 - val_loss: 21.4472\n",
      "Epoch 80/100\n",
      " - 0s - loss: 23.4458 - val_loss: 24.6260\n",
      "Epoch 81/100\n",
      " - 0s - loss: 29.0921 - val_loss: 34.8721\n",
      "Epoch 82/100\n",
      " - 0s - loss: 37.4682 - val_loss: 22.1323\n",
      "Epoch 83/100\n",
      " - 0s - loss: 22.7357 - val_loss: 21.7718\n",
      "Epoch 84/100\n",
      " - 0s - loss: 22.8009 - val_loss: 24.7953\n",
      "Epoch 85/100\n",
      " - 0s - loss: 26.4292 - val_loss: 21.6159\n",
      "Epoch 86/100\n",
      " - 0s - loss: 26.7697 - val_loss: 29.5337\n",
      "Epoch 87/100\n",
      " - 0s - loss: 34.8803 - val_loss: 38.1017\n",
      "Epoch 88/100\n",
      " - 0s - loss: 31.0725 - val_loss: 21.2199\n",
      "Epoch 89/100\n",
      " - 0s - loss: 22.3300 - val_loss: 22.7986\n",
      "Epoch 90/100\n",
      " - 0s - loss: 22.4448 - val_loss: 21.4731\n",
      "Epoch 91/100\n",
      " - 0s - loss: 24.7583 - val_loss: 25.1043\n",
      "Epoch 92/100\n",
      " - 0s - loss: 23.1121 - val_loss: 21.2430\n",
      "Epoch 93/100\n",
      " - 0s - loss: 22.2409 - val_loss: 24.0846\n",
      "Epoch 94/100\n",
      " - 0s - loss: 22.1329 - val_loss: 26.7777\n",
      "Epoch 95/100\n",
      " - 0s - loss: 21.9800 - val_loss: 20.7085\n",
      "Epoch 96/100\n",
      " - 0s - loss: 22.2884 - val_loss: 20.5597\n",
      "Epoch 97/100\n",
      " - 0s - loss: 23.3004 - val_loss: 22.8056\n",
      "Epoch 98/100\n",
      " - 0s - loss: 22.7679 - val_loss: 23.3036\n",
      "Epoch 99/100\n",
      " - 0s - loss: 22.2064 - val_loss: 26.6311\n",
      "Epoch 100/100\n",
      " - 0s - loss: 26.8160 - val_loss: 31.8512\n",
      "102/102 [==============================] - 0s 21us/step\n",
      "\n",
      "Test Loss -> 30.10\n"
     ]
    },
    {
     "data": {
      "image/png": "[encoded data removed]",
      "text/plain": [
       "<Figure size 432x288 with 1 Axes>"
      ]
     },
     "metadata": {
      "needs_background": "light"
     },
     "output_type": "display_data"
    }
   ],
   "source": [
    "def main():\n",
    "    Nin = 13\n",
    "    Nh = 5\n",
    "    Nout = 1 # 분류가 아니라 회귀이기 때문에 출력 노드수는 1개\n",
    "    \n",
    "    model = ANN(Nin, Nh, Nout)\n",
    "    \n",
    "    (X_train, y_train), (X_test, y_test) = data_func()\n",
    "    \n",
    "    history = model.fit(\n",
    "        X_train, \n",
    "        y_train, \n",
    "        epochs=100, \n",
    "        batch_size=100, \n",
    "        validation_split=0.2, \n",
    "        verbose=2\n",
    "    )\n",
    "    \n",
    "    performance_test = model.evaluate(X_test, y_test, batch_size=100)\n",
    "    print('\\nTest Loss -> {:.2f}'.format(performance_test))\n",
    "\n",
    "    plot_loss(history)\n",
    "    plt.show()\n",
    "    \n",
    "if __name__==\"__main__\":\n",
    "    main()"
   ]
  }
 ],
 "metadata": {
  "kernelspec": {
   "display_name": "Python 3",
   "language": "python",
   "name": "python3"
  },
  "language_info": {
   "codemirror_mode": {
    "name": "ipython",
    "version": 3
   },
   "file_extension": ".py",
   "mimetype": "text/x-python",
   "name": "python",
   "nbconvert_exporter": "python",
   "pygments_lexer": "ipython3",
   "version": "3.7.3"
  }
 },
 "nbformat": 4,
 "nbformat_minor": 2
}
