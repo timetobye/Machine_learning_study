{
 "cells": [
  {
   "cell_type": "markdown",
   "metadata": {},
   "source": [
    "Ch5. 컴퓨터 비전을 위한 딥러닝\n",
    "----------"
   ]
  },
  {
   "cell_type": "markdown",
   "metadata": {},
   "source": [
    "### 5.1 Introduction to convnets\n",
    "\n",
    "convnets(컨브넷) 이라고 불리는 convolution neural network(합성곱 신경망)에 대한 학습\n",
    "\n",
    "우선 예제를 살펴보자."
   ]
  },
  {
   "cell_type": "code",
   "execution_count": 1,
   "metadata": {},
   "outputs": [
    {
     "name": "stderr",
     "output_type": "stream",
     "text": [
      "Using TensorFlow backend.\n"
     ]
    }
   ],
   "source": [
    "import keras\n",
    "import numpy as np\n",
    "import pandas as pd\n",
    "import matplotlib.pyplot as plt\n",
    "import tensorflow as tf\n",
    "from keras import backend as K\n",
    "from keras import models, layers\n",
    "\n",
    "%matplotlib inline"
   ]
  },
  {
   "cell_type": "code",
   "execution_count": 2,
   "metadata": {},
   "outputs": [],
   "source": [
    "model = models.Sequential()\n",
    "\n",
    "model.add(layers.Conv2D(32, (3, 3), activation='relu', input_shape=(28, 28, 1)))\n",
    "model.add(layers.MaxPooling2D((2, 2)))\n",
    "\n",
    "model.add(layers.Conv2D(64, (3, 3), activation='relu'))\n",
    "model.add(layers.MaxPooling2D((2, 2)))\n",
    "\n",
    "model.add(layers.Conv2D(64, (3, 3), activation='relu'))"
   ]
  },
  {
   "cell_type": "code",
   "execution_count": 3,
   "metadata": {},
   "outputs": [
    {
     "name": "stdout",
     "output_type": "stream",
     "text": [
      "Model: \"sequential_1\"\n",
      "_________________________________________________________________\n",
      "Layer (type)                 Output Shape              Param #   \n",
      "=================================================================\n",
      "conv2d_1 (Conv2D)            (None, 26, 26, 32)        320       \n",
      "_________________________________________________________________\n",
      "max_pooling2d_1 (MaxPooling2 (None, 13, 13, 32)        0         \n",
      "_________________________________________________________________\n",
      "conv2d_2 (Conv2D)            (None, 11, 11, 64)        18496     \n",
      "_________________________________________________________________\n",
      "max_pooling2d_2 (MaxPooling2 (None, 5, 5, 64)          0         \n",
      "_________________________________________________________________\n",
      "conv2d_3 (Conv2D)            (None, 3, 3, 64)          36928     \n",
      "=================================================================\n",
      "Total params: 55,744\n",
      "Trainable params: 55,744\n",
      "Non-trainable params: 0\n",
      "_________________________________________________________________\n"
     ]
    }
   ],
   "source": [
    "model.summary()"
   ]
  },
  {
   "cell_type": "markdown",
   "metadata": {},
   "source": [
    "**convnets**이 (image_height, image_width, image_channels) 크기의 입력 텐서를 사용한다는 점이 중요\n",
    "- 예제에서는 MNIST 이미지 포맷인 (28, 28, 1) 크기의 입력을 처리하도록 컨브넷을 설정해야 함\n",
    "- 그래서 첫 layer의 parameter input_shape=(28, 28, 1)를 설정함\n",
    "\n",
    "Conv2D와 MaxPooling2D층의 출력은 (height, width, channels) 크기의 3D 텐서이다.\n",
    "- 높이와 넓이 차원은 네트워크가 깊어질수록 작아지는 경향이 있다.\n",
    "- 채널의 수는 Conv2D 층에 전달된 첫 번째 매개변수에 의해 조절됨(32개 또는 64개)\n",
    "\n",
    "다음 단계에서 마지막 층의 ((3, 3, 64) 크기) 추력 텐서를 fully connected network에 넣는다.\n",
    "- 분류기는 1D 벡터를 처리하는데 이전 출력이 3D 텐서\n",
    "- 그래서 3D 출력을 1D 텐서로 펼쳐야함\n",
    "- 그 다음 몇 개의 Dense 층을 추가함"
   ]
  },
  {
   "cell_type": "code",
   "execution_count": 4,
   "metadata": {},
   "outputs": [],
   "source": [
    "model.add(layers.Flatten())\n",
    "model.add(layers.Dense(64, activation='relu'))\n",
    "model.add(layers.Dense(10, activation='softmax'))"
   ]
  },
  {
   "cell_type": "code",
   "execution_count": 5,
   "metadata": {},
   "outputs": [
    {
     "name": "stdout",
     "output_type": "stream",
     "text": [
      "Model: \"sequential_1\"\n",
      "_________________________________________________________________\n",
      "Layer (type)                 Output Shape              Param #   \n",
      "=================================================================\n",
      "conv2d_1 (Conv2D)            (None, 26, 26, 32)        320       \n",
      "_________________________________________________________________\n",
      "max_pooling2d_1 (MaxPooling2 (None, 13, 13, 32)        0         \n",
      "_________________________________________________________________\n",
      "conv2d_2 (Conv2D)            (None, 11, 11, 64)        18496     \n",
      "_________________________________________________________________\n",
      "max_pooling2d_2 (MaxPooling2 (None, 5, 5, 64)          0         \n",
      "_________________________________________________________________\n",
      "conv2d_3 (Conv2D)            (None, 3, 3, 64)          36928     \n",
      "_________________________________________________________________\n",
      "flatten_1 (Flatten)          (None, 576)               0         \n",
      "_________________________________________________________________\n",
      "dense_1 (Dense)              (None, 64)                36928     \n",
      "_________________________________________________________________\n",
      "dense_2 (Dense)              (None, 10)                650       \n",
      "=================================================================\n",
      "Total params: 93,322\n",
      "Trainable params: 93,322\n",
      "Non-trainable params: 0\n",
      "_________________________________________________________________\n"
     ]
    }
   ],
   "source": [
    "model.summary()"
   ]
  },
  {
   "cell_type": "markdown",
   "metadata": {},
   "source": [
    "(3, 3, 64) -> (576,) 벡터로 펼쳐진 후 Dense로 넘어감"
   ]
  },
  {
   "cell_type": "code",
   "execution_count": 6,
   "metadata": {},
   "outputs": [],
   "source": [
    "from keras.datasets import mnist\n",
    "from keras.utils import to_categorical\n",
    "\n",
    "(train_images, train_labels), (test_images, test_labels) = mnist.load_data()"
   ]
  },
  {
   "cell_type": "code",
   "execution_count": 7,
   "metadata": {},
   "outputs": [],
   "source": [
    "train_images = train_images.reshape((60000, 28, 28, 1))\n",
    "train_images = train_images.astype('float32') / 255\n",
    "\n",
    "test_images = test_images.reshape((10000, 28, 28, 1))\n",
    "test_images = test_images.astype('float32') / 255\n",
    "\n",
    "train_labels = to_categorical(train_labels)\n",
    "test_labels = to_categorical(test_labels)"
   ]
  },
  {
   "cell_type": "code",
   "execution_count": 8,
   "metadata": {},
   "outputs": [
    {
     "name": "stdout",
     "output_type": "stream",
     "text": [
      "Epoch 1/5\n",
      "60000/60000 [==============================] - 19s 312us/step - loss: 0.1801 - accuracy: 0.9443\n",
      "Epoch 2/5\n",
      "60000/60000 [==============================] - 20s 327us/step - loss: 0.0466 - accuracy: 0.9855\n",
      "Epoch 3/5\n",
      "60000/60000 [==============================] - 20s 340us/step - loss: 0.0320 - accuracy: 0.9902\n",
      "Epoch 4/5\n",
      "60000/60000 [==============================] - 18s 301us/step - loss: 0.0245 - accuracy: 0.9923\n",
      "Epoch 5/5\n",
      "60000/60000 [==============================] - 19s 311us/step - loss: 0.0198 - accuracy: 0.9938\n"
     ]
    },
    {
     "data": {
      "text/plain": [
       "<keras.callbacks.callbacks.History at 0x7f2b197f7990>"
      ]
     },
     "execution_count": 8,
     "metadata": {},
     "output_type": "execute_result"
    }
   ],
   "source": [
    "model.compile(optimizer='rmsprop',\n",
    "              loss='categorical_crossentropy',\n",
    "              metrics=['accuracy'])\n",
    "\n",
    "model.fit(train_images, train_labels, epochs=5, batch_size=64)"
   ]
  },
  {
   "cell_type": "code",
   "execution_count": 9,
   "metadata": {},
   "outputs": [
    {
     "name": "stdout",
     "output_type": "stream",
     "text": [
      "10000/10000 [==============================] - 1s 116us/step\n"
     ]
    },
    {
     "data": {
      "text/plain": [
       "0.9919000267982483"
      ]
     },
     "execution_count": 9,
     "metadata": {},
     "output_type": "execute_result"
    }
   ],
   "source": [
    "test_loss, test_acc = model.evaluate(test_images, test_labels)\n",
    "test_acc"
   ]
  },
  {
   "cell_type": "markdown",
   "metadata": {},
   "source": [
    "**왜 컨브넷이 더 좋은 퍼포먼스를....?**"
   ]
  },
  {
   "cell_type": "markdown",
   "metadata": {},
   "source": [
    "#### 5.1.1 합성곱 연산\n",
    "\n",
    "근본적인 차이\n",
    "- Dense layer는 입력 특성 공간에 있는 전역 패턴(예를 들면 MNIST 숫자 이미지에서는 모든 픽셀에 걸친 패턴)을 학습하지만 합성곱 층은 지역 패턴을 학습\n",
    "- 이미지일 경우 작은 2D window로 입력에서 패턴을 찾음\n",
    "- 앞의 예에서는 3x3 크기였음\n",
    "\n",
    "핵심적인 특정인 두 가지 성질을 알려줌\n",
    "- **학습된 패턴은 평행 이동 불변성(translation invariant)를 가짐**\n",
    "  - 컨브넷이 이미지의 오른쪽 아래 모서리에서 어떤 패턴을 학습했다면 다른 곳에서도 이 패턴을 인식 할 수 있다.\n",
    "  - 완전 연결 네트워크는 새로운 위치에 나타난 것은 새로운 패턴으로 학습해야함(상대적으로 안 좋은 이유임)\n",
    "  - 이런 성질 때문에 컨브넷이 이미지를 효율적으로 처리하게 만들어 줌(근본적으로 우리가 보는 세상은 평행 이동으로 인해 다르게 인식 되지 않음..결국 사람이네)\n",
    "  - 적은 수의 훈련 샘플을 사용해서 일반화 능력을 가진 표현을 학습할 수 있다.\n",
    "\n",
    "\n",
    "- **컨브넷은 패턴의 공간적 계층 구조를 학습할 수 있다**\n",
    "  - 첫 번째 합성곱층이 에지 같은 작은 지역 패턴을 학습함\n",
    "  - 두 번째 합성곱층이 첫 번째 층의 특성으로 구성된 더 큰 패턴을 학습하는 식\n",
    "  - 이런 방식을 사용하여 컨브넷은 매우 복잡하고 추상적인 시각적 개념을 효과적으로 학습할 수 있다.\n",
    "    - 근본적으로 우리가 보는 세상은 공간적 계층 구조를 가짐\n",
    "    \n",
    "\n",
    "![alt text](https://www.researchgate.net/profile/Hassan_Hassan45/publication/337830197/figure/fig3/AS:834037371379712@1575861413309/Schematic-diagram-of-the-proposed-edge-detectors-using-simple-CNN-setting.jpg)"
   ]
  },
  {
   "cell_type": "markdown",
   "metadata": {},
   "source": [
    "합성곱 연산은 feature map(특성 맵)이라고 부르는 3D 텐서에 적용\n",
    "- 이 텐서는 2개의 공간 축(높이와 넓이)과 깊이 축(채널 축)으로 구성 됨\n",
    "- RGB이미지는 3개의 컬러 채널(빨, 녹, 파)을 가지므로 깊이 축의 차원이 3이 됨\n",
    "- MNIST 숫자처럼 흑백 이미지는 깊이 축의 차원이 1(회색 톤)이다.\n",
    "- 합성곱 연산은 입력 특성 맵에서 작은 patch를 추출하고 이런 모든 패치에 같은 변환을 적용하여 output feature map(출력 특성 맵)을 만듬\n",
    "\n",
    "**output feature map**도 높이와 넓이를 가진 3D 텐서\n",
    "- 출력 텐서의 깊이는 층의 매개변수로 결정되므로 상황에 따라 다름\n",
    "- 이렇게 되면 깊이 축의 채널은 더 이상 RGB 입력처럼 특정 컬러를 의미하지 않음\n",
    "- 그 대신 일종의 filter(필터)를 의미\n",
    "- MNIST 예제에서는 첫 번째 합성곱 층이 (28, 28, 1) 크기의 특성 맵을 입력으로 받아 (26, 26, 32)크기의 특성 맵을 출력, 이 값은 입력데 대한 필터의 response map(응답 맵) 이다. 입력의 각 위체엇 필터 패턴에 대한 응답을 나타냄\n",
    "  - 즉 입력에 대해 32개의 필터를 적용\n",
    "  - 필터 하나의 크기는 (patch_height, patch_width, input_depth)\n",
    "  - 첫 번째 합성곱은 (3, 3, 1) 크기의 필터를 32개 적용하고, 두 번쨰 합성곱은 (3, 3, 32) 크기의 필터를 64개 적용\n",
    "- 특성 맵이란 말이 의미하는 것은....\n",
    "  - 깊이 축에 있는 각 차원은 하나의 특성(또는 필터)이고, 2D 텐서 output[:, :, n]은 입력에 대한 이 필터 응답을 나타내는 2D 공간상의 맵\n",
    "  \n",
    "\n",
    "![alt text](https://i.ytimg.com/vi/HMcx-zY8JSg/maxresdefault.jpg)"
   ]
  },
  {
   "cell_type": "markdown",
   "metadata": {},
   "source": [
    "합성곱은 핵심적인 2개의 parameter로 정의\n",
    "- 입력으로부터 뽑아낼 패치의 크기 : 전형적으로 3X3 또는 5X5 크기를 사용, 이 예에서는 일반적으로 많이 사용하는 3X3 크기를 사용\n",
    "- 특성 맵의 출력 깊이 : 합성곱으로 계산할 필터의 수, 이 예에서는 깊이 32로 시작해서 깊이 64로 끝남\n",
    "\n",
    "\n",
    "- 3D 입력 특성 맵 위를 3 X 3 또는 5 X 5 window가 슬라이딩 하면서 모든 위치에서 3D 특성 패치((window_height, window_width, input_depth))를 추출하는 방식으로 합성곱이 작동\n",
    "- 위의 결과는 1D 벡터로 변환\n",
    "- 변환된 모든 벡터는 (height, width, output_depth) 크기의 3D 특성 맵으로 재구성\n",
    "  - 출력 높이, 넓이는 입력 높이, 넓이와 다를 수 있다.\n",
    "    - 경계 문제, 입력 특성 맵의 패딩을 추가하여 대응 할 수 있기 때문이다.\n",
    "    - stride 의 사용 여부에 따라 다르다.\n",
    "    \n",
    "    \n",
    "좋은 참고 자료\n",
    "- https://je-d.tistory.com/entry/%ED%95%A9%EC%84%B1%EA%B3%B1-%EC%8B%A0%EA%B2%BD%EB%A7%9DCNN\n",
    "- http://taewan.kim/post/cnn/"
   ]
  },
  {
   "cell_type": "markdown",
   "metadata": {},
   "source": [
    "**경계 문제와 패딩 이해하기**\n",
    "\n",
    "- 입력과 동일한 높이와 넓이를 가진 feature map을 얻고 싶다면 padding 을 사용할 수 있음\n",
    "  - paramter는 2개의 값이 가능\n",
    "  - valid 는 패딩을 사용하지 않는다는 뜻\n",
    "  - same 은 입력과 동일한 높이와 넓이를 가진 출력을 만들기 위해 패딩한다 라는 뜻\n",
    "  - 기본 매개변수는 valid 이다.\n",
    "\n",
    "![alt text](https://miro.medium.com/max/666/1*noYcUAa_P8nRilg3Lt_nuA.png)"
   ]
  },
  {
   "cell_type": "markdown",
   "metadata": {},
   "source": [
    "**합성곱 스트라이드 이해하기**\n",
    "\n",
    "출력 크기에 영향을 미치는 다른 요소는 스트라이드\n",
    "- 위에서의 설명들은 윈도우가 중앙 타일이 연속적으로 지나간다고 가정한 것\n",
    "- 두 번의 연속적인 윈도우 사이의 거리가 스트라이드라고 불리는 합성곱의 파라미터이다.\n",
    "- 기본 값은 1\n",
    "- 1보다 큰 스트라이드 합성곱도 가능"
   ]
  },
  {
   "cell_type": "markdown",
   "metadata": {},
   "source": [
    "#### 5.1.2 max pooling"
   ]
  },
  {
   "cell_type": "markdown",
   "metadata": {},
   "source": [
    "max pooling은 입력 특성 맵에서 윈도우에 맞는 패치를 추출하고 각 채널별로 최댓값을 출력하는 합성곱과 개념적으로 비슷하지만 추출한 패치에 학습된 선형 변환을 적용하는 대신에 하드코딩된 최댓값 추출 연산을 사용\n",
    "\n",
    "max pooling은 feature map의 크기를 다운샘플링한다는 것\n",
    "\n",
    "\n",
    "왜하냐?\n",
    "- 처리할 특성 맵의 가중치 개수를 줄이기 위해서이다.\n",
    "- 연산이 부담되니까\n",
    "- 연속적인 합성곱 층이 점점 커진 윈도우를 통해 바라보도록 만들어 필터의 공간적인 계층 구조를 구성\n",
    "\n",
    "물론 max pooling이 다운샘플링 할 수 있는 유일한 방법은 아니다. 스트라이드도 응용하면 할 수 있다.\n",
    "- max pooling 대신에 average pooling도 가능하다.\n",
    "- 하지만 max pooling이 더 잘 작동함\n",
    "  - 특성이 특성 맵의 각 타일에서 어떤 패턴이나 개념의 존재 여부를 인코딩하는 경향이 있기 때문(그래서 feature map이라고 함)\n",
    "  - 따라서 평균값보다 여러 특성 중 최댓값을 사용하는 것이 더 유용"
   ]
  },
  {
   "cell_type": "markdown",
   "metadata": {},
   "source": [
    "### 5.2 소규모 데이터셋에서 밑바닥부터 CNN 훈련하기\n",
    "\n",
    "전체적인 프로세스는 아래와 같다.\n",
    "- 처음부터 작은 모델을 훈련하기\n",
    "- 사전 훈련된 네트워크로 특성을 추출\n",
    "- 사전 훈련된 네트워크를 세밀하게 튜닝"
   ]
  },
  {
   "cell_type": "markdown",
   "metadata": {},
   "source": [
    "#### 5.2.1 작은 데이터셋 문제에서 딥러닝의 타당성\n",
    "데이터가 많아야 딥러닝이 잘 작동한다는 부분적으로 맞는 말\n",
    "- 딥러닝의 특징은 feature engineering 없이도 특성을 찾을 수 있는 점\n",
    "- 그래서 많아야 가능\n",
    "\n",
    "하지만 많은 샘플이 의미하는 것은 상대적\n",
    "- 우선 훈련하려는 네트워크의 크기와 깊이에 상대적\n",
    "- 복잡한 문제를 푸는 컨브넷을 수십 개의 샘플만 사용해서 훈련하는 것은 불가능\n",
    "- 하지만 모델이 작고 규제가 잘 되어 있으며 간단한 작업이라면 수백 개의 샘플로도 충분히 할 수 있다.\n",
    "- 컨브넷은 지역적이고 평행 이동으로 변하지 않는 특성을 학습하기 때문에 지각에 관한 문제에서 매우 효율적으로 데이터셋 사용"
   ]
  },
  {
   "cell_type": "markdown",
   "metadata": {},
   "source": [
    "#### 5.2.2 데이터 내려받기"
   ]
  },
  {
   "cell_type": "code",
   "execution_count": 10,
   "metadata": {},
   "outputs": [],
   "source": [
    "import os, shutil\n",
    "\n",
    "# The path to the directory where the original\n",
    "# dataset was uncompressed\n",
    "original_dataset_dir = 'train'\n",
    "\n",
    "# The directory where we will\n",
    "# store our smaller dataset\n",
    "base_dir = 'cats_and_dogs_small'\n",
    "os.mkdir(base_dir)"
   ]
  },
  {
   "cell_type": "code",
   "execution_count": 11,
   "metadata": {},
   "outputs": [],
   "source": [
    "# Directories for our training,\n",
    "# validation and test splits\n",
    "train_dir = os.path.join(base_dir, 'train')\n",
    "os.mkdir(train_dir)\n",
    "validation_dir = os.path.join(base_dir, 'validation')\n",
    "os.mkdir(validation_dir)\n",
    "test_dir = os.path.join(base_dir, 'test')\n",
    "os.mkdir(test_dir)"
   ]
  },
  {
   "cell_type": "code",
   "execution_count": 12,
   "metadata": {},
   "outputs": [],
   "source": [
    "# Directory with our training cat pictures\n",
    "train_cats_dir = os.path.join(train_dir, 'cats')\n",
    "os.mkdir(train_cats_dir)\n",
    "\n",
    "# Directory with our training dog pictures\n",
    "train_dogs_dir = os.path.join(train_dir, 'dogs')\n",
    "os.mkdir(train_dogs_dir)\n",
    "\n",
    "# Directory with our validation cat pictures\n",
    "validation_cats_dir = os.path.join(validation_dir, 'cats')\n",
    "os.mkdir(validation_cats_dir)\n",
    "\n",
    "# Directory with our validation dog pictures\n",
    "validation_dogs_dir = os.path.join(validation_dir, 'dogs')\n",
    "os.mkdir(validation_dogs_dir)\n",
    "\n",
    "# Directory with our validation cat pictures\n",
    "test_cats_dir = os.path.join(test_dir, 'cats')\n",
    "os.mkdir(test_cats_dir)\n",
    "\n",
    "# Directory with our validation dog pictures\n",
    "test_dogs_dir = os.path.join(test_dir, 'dogs')\n",
    "os.mkdir(test_dogs_dir)"
   ]
  },
  {
   "cell_type": "code",
   "execution_count": 13,
   "metadata": {},
   "outputs": [],
   "source": [
    "# Copy first 1000 cat images to train_cats_dir\n",
    "fnames = ['cat.{}.jpg'.format(i) for i in range(1000)]\n",
    "for fname in fnames:\n",
    "    src = os.path.join(original_dataset_dir, fname)\n",
    "    dst = os.path.join(train_cats_dir, fname)\n",
    "    shutil.copyfile(src, dst)"
   ]
  },
  {
   "cell_type": "code",
   "execution_count": 14,
   "metadata": {},
   "outputs": [],
   "source": [
    "# Copy next 500 cat images to validation_cats_dir\n",
    "fnames = ['cat.{}.jpg'.format(i) for i in range(1000, 1500)]\n",
    "for fname in fnames:\n",
    "    src = os.path.join(original_dataset_dir, fname)\n",
    "    dst = os.path.join(validation_cats_dir, fname)\n",
    "    shutil.copyfile(src, dst)\n",
    "    \n",
    "# Copy next 500 cat images to test_cats_dir\n",
    "fnames = ['cat.{}.jpg'.format(i) for i in range(1500, 2000)]\n",
    "for fname in fnames:\n",
    "    src = os.path.join(original_dataset_dir, fname)\n",
    "    dst = os.path.join(test_cats_dir, fname)\n",
    "    shutil.copyfile(src, dst)\n",
    "    \n",
    "# Copy first 1000 dog images to train_dogs_dir\n",
    "fnames = ['dog.{}.jpg'.format(i) for i in range(1000)]\n",
    "for fname in fnames:\n",
    "    src = os.path.join(original_dataset_dir, fname)\n",
    "    dst = os.path.join(train_dogs_dir, fname)\n",
    "    shutil.copyfile(src, dst)\n",
    "    \n",
    "# Copy next 500 dog images to validation_dogs_dir\n",
    "fnames = ['dog.{}.jpg'.format(i) for i in range(1000, 1500)]\n",
    "for fname in fnames:\n",
    "    src = os.path.join(original_dataset_dir, fname)\n",
    "    dst = os.path.join(validation_dogs_dir, fname)\n",
    "    shutil.copyfile(src, dst)\n",
    "    \n",
    "# Copy next 500 dog images to test_dogs_dir\n",
    "fnames = ['dog.{}.jpg'.format(i) for i in range(1500, 2000)]\n",
    "for fname in fnames:\n",
    "    src = os.path.join(original_dataset_dir, fname)\n",
    "    dst = os.path.join(test_dogs_dir, fname)\n",
    "    shutil.copyfile(src, dst)"
   ]
  },
  {
   "cell_type": "code",
   "execution_count": 15,
   "metadata": {},
   "outputs": [
    {
     "name": "stdout",
     "output_type": "stream",
     "text": [
      "total training cat images: 1000\n"
     ]
    }
   ],
   "source": [
    "print('total training cat images:', len(os.listdir(train_cats_dir)))"
   ]
  },
  {
   "cell_type": "code",
   "execution_count": 16,
   "metadata": {},
   "outputs": [
    {
     "name": "stdout",
     "output_type": "stream",
     "text": [
      "total training dog images: 1000\n"
     ]
    }
   ],
   "source": [
    "print('total training dog images:', len(os.listdir(train_dogs_dir)))"
   ]
  },
  {
   "cell_type": "code",
   "execution_count": 17,
   "metadata": {},
   "outputs": [
    {
     "name": "stdout",
     "output_type": "stream",
     "text": [
      "total validation cat images: 500\n"
     ]
    }
   ],
   "source": [
    "print('total validation cat images:', len(os.listdir(validation_cats_dir)))\n"
   ]
  },
  {
   "cell_type": "code",
   "execution_count": 18,
   "metadata": {},
   "outputs": [
    {
     "name": "stdout",
     "output_type": "stream",
     "text": [
      "total validation dog images: 500\n"
     ]
    }
   ],
   "source": [
    "print('total validation dog images:', len(os.listdir(validation_dogs_dir)))"
   ]
  },
  {
   "cell_type": "code",
   "execution_count": 19,
   "metadata": {},
   "outputs": [
    {
     "name": "stdout",
     "output_type": "stream",
     "text": [
      "total test cat images: 500\n"
     ]
    }
   ],
   "source": [
    "print('total test cat images:', len(os.listdir(test_cats_dir)))"
   ]
  },
  {
   "cell_type": "code",
   "execution_count": 20,
   "metadata": {},
   "outputs": [
    {
     "name": "stdout",
     "output_type": "stream",
     "text": [
      "total test dog images: 500\n"
     ]
    }
   ],
   "source": [
    "print('total test dog images:', len(os.listdir(test_dogs_dir)))"
   ]
  },
  {
   "cell_type": "markdown",
   "metadata": {},
   "source": [
    "#### 5.2.3 네트워크 구성하기(building our network)\n",
    "\n",
    "MNIST 할 때 사용한 구조에다가 Conv2D(relu) + MaxPooling2D 를 하나 더 넣어서 빌딩 할 예정\n",
    "- 150 X 150 크기의 입력(임의로 선택한 크기)으로 시작해서 flatten 층 이전에 7 x 7 크기의 특성 맵으로 줄어듬\n",
    "\n",
    "이진 분류 문제이므로 네트워크는 하나의 유닛(크기가 1인 Dense 층)과 sigmoid 활성화 함수로 끝난다.\n",
    "- 이 유닛은 한 클래스에 대한 확률을 인코딩 할 것이다."
   ]
  },
  {
   "cell_type": "code",
   "execution_count": 21,
   "metadata": {},
   "outputs": [],
   "source": [
    "from keras import layers\n",
    "from keras import models"
   ]
  },
  {
   "cell_type": "code",
   "execution_count": 25,
   "metadata": {},
   "outputs": [],
   "source": [
    "model = models.Sequential()\n",
    "\n",
    "model.add(layers.Conv2D(32, (3, 3), activation='relu', input_shape=(150, 150, 3)))\n",
    "model.add(layers.MaxPooling2D(2,2))\n",
    "\n",
    "model.add(layers.Conv2D(64, (3, 3), activation='relu'))\n",
    "model.add(layers.MaxPooling2D(2,2))\n",
    "\n",
    "model.add(layers.Conv2D(128, (3, 3), activation='relu'))\n",
    "model.add(layers.MaxPooling2D(2,2))\n",
    "\n",
    "model.add(layers.Conv2D(128, (3, 3), activation='relu'))\n",
    "model.add(layers.MaxPooling2D(2,2))\n",
    "\n",
    "model.add(layers.Flatten())\n",
    "model.add(layers.Dense(512, activation='relu'))\n",
    "\n",
    "model.add(layers.Dense(1, activation='sigmoid'))"
   ]
  },
  {
   "cell_type": "code",
   "execution_count": 26,
   "metadata": {},
   "outputs": [
    {
     "name": "stdout",
     "output_type": "stream",
     "text": [
      "Model: \"sequential_3\"\n",
      "_________________________________________________________________\n",
      "Layer (type)                 Output Shape              Param #   \n",
      "=================================================================\n",
      "conv2d_5 (Conv2D)            (None, 148, 148, 32)      896       \n",
      "_________________________________________________________________\n",
      "max_pooling2d_3 (MaxPooling2 (None, 74, 74, 32)        0         \n",
      "_________________________________________________________________\n",
      "conv2d_6 (Conv2D)            (None, 72, 72, 64)        18496     \n",
      "_________________________________________________________________\n",
      "max_pooling2d_4 (MaxPooling2 (None, 36, 36, 64)        0         \n",
      "_________________________________________________________________\n",
      "conv2d_7 (Conv2D)            (None, 34, 34, 128)       73856     \n",
      "_________________________________________________________________\n",
      "max_pooling2d_5 (MaxPooling2 (None, 17, 17, 128)       0         \n",
      "_________________________________________________________________\n",
      "conv2d_8 (Conv2D)            (None, 15, 15, 128)       147584    \n",
      "_________________________________________________________________\n",
      "max_pooling2d_6 (MaxPooling2 (None, 7, 7, 128)         0         \n",
      "_________________________________________________________________\n",
      "flatten_2 (Flatten)          (None, 6272)              0         \n",
      "_________________________________________________________________\n",
      "dense_3 (Dense)              (None, 512)               3211776   \n",
      "_________________________________________________________________\n",
      "dense_4 (Dense)              (None, 1)                 513       \n",
      "=================================================================\n",
      "Total params: 3,453,121\n",
      "Trainable params: 3,453,121\n",
      "Non-trainable params: 0\n",
      "_________________________________________________________________\n"
     ]
    }
   ],
   "source": [
    "model.summary()"
   ]
  },
  {
   "cell_type": "code",
   "execution_count": 27,
   "metadata": {},
   "outputs": [],
   "source": [
    "from keras import optimizers\n",
    "\n",
    "model.compile(loss='binary_crossentropy',\n",
    "              optimizer=optimizers.RMSprop(lr=1e-4),\n",
    "              metrics=['acc'])"
   ]
  },
  {
   "cell_type": "markdown",
   "metadata": {},
   "source": [
    "#### 5.2.4 데이터 전처리\n",
    "\n",
    "데이터는 네트워크에 들어가기 전에 부동 소수 타입의 텐서로 적절하게 전처리 되어야함\n",
    "\n",
    "1. 사진 파일을 읽는다.\n",
    "2. JPEG 콘텐츠를 RGB 픽셀 값으로 디코딩한다.\n",
    "3. 그다음 부동 소수 타입의 텐서로 변환한다.\n",
    "4. 픽셀 값(0에서 255사이)의 스케일을 [0, 1] 사이로 조정한다.(신경망은 작은 입력 값을 선호한다.)\n",
    "\n",
    "\n",
    "It may seem a bit daunting, but thankfully Keras has utilities to take care of these steps automatically. Keras has a module with image processing helper tools, located at `keras.preprocessing.image`. In particular, it contains the class `ImageDataGenerator` which allows to quickly set up Python generators that can automatically turn image files on disk into batches of pre-processed tensors. This is what we will use here.\n",
    "\n",
    "> `keras.preprocessing.image` : 이미지 처리를 위한 헬퍼 도구들, `ImageDataGenerator` : 디스크에 있는 이미지 파일을 전처리된 배치 텐서로 자동으로 바꾸어 주는 파이썬 제너레이터를 만들어 줌"
   ]
  },
  {
   "cell_type": "code",
   "execution_count": 28,
   "metadata": {},
   "outputs": [],
   "source": [
    "from keras_preprocessing.image import ImageDataGenerator\n",
    "\n",
    "# 모든 이미지를 1/255로 스케일을 조정\n",
    "\n",
    "train_datagen = ImageDataGenerator(rescale=1./255)\n",
    "test_datagen = ImageDataGenerator(rescale=1./255)"
   ]
  },
  {
   "cell_type": "code",
   "execution_count": 29,
   "metadata": {},
   "outputs": [
    {
     "name": "stdout",
     "output_type": "stream",
     "text": [
      "Found 2000 images belonging to 2 classes.\n",
      "Found 1000 images belonging to 2 classes.\n"
     ]
    }
   ],
   "source": [
    "train_generator = train_datagen.flow_from_directory(\n",
    "    train_dir,\n",
    "    target_size=(150, 150),\n",
    "    batch_size=20,\n",
    "    class_mode='binary')\n",
    "\n",
    "validation_generator = test_datagen.flow_from_directory(\n",
    "        validation_dir,\n",
    "        target_size=(150, 150),\n",
    "        batch_size=20,\n",
    "        class_mode='binary')"
   ]
  },
  {
   "cell_type": "markdown",
   "metadata": {},
   "source": [
    "- 출력은 150 x 150 RGB 이미지의 배치 ((20, 150, 150, 3), 크기)와 이진 레이블의 배치((20,), 크기)입니다.\n",
    "- 각 배치에는 20개의 샘플(배치 크기)이 있다. 제너레이터는 이 배치를 무한정 만들어 낸다. 그래서 break가 필요"
   ]
  },
  {
   "cell_type": "code",
   "execution_count": 31,
   "metadata": {},
   "outputs": [
    {
     "name": "stdout",
     "output_type": "stream",
     "text": [
      "data batch shape: (20, 150, 150, 3)\n",
      "labels batch shape: (20,)\n"
     ]
    }
   ],
   "source": [
    "for data_batch, labels_batch in train_generator:\n",
    "    print('data batch shape:', data_batch.shape)\n",
    "    print('labels batch shape:', labels_batch.shape)\n",
    "    break"
   ]
  },
  {
   "cell_type": "markdown",
   "metadata": {},
   "source": [
    "- fit_generator는 fit 메서드와 동일하되, 제너레이터를 사용할 수 있는 기능\n",
    "- 데이터가 끝없이 생성되기 때문에 케라스 모델에 하나의 에포크를 정의하기 위해 제너레이터로부터 얼마나 많은 샘플을 뽑을것인지 알려줘야 함\n",
    "  - steps_per_epoch가 역할을 함\n",
    "- validation_data도 마찬가지로 넣을 수 있다.\n",
    "  - validation_steps이 역할을 함"
   ]
  },
  {
   "cell_type": "code",
   "execution_count": 32,
   "metadata": {},
   "outputs": [
    {
     "name": "stdout",
     "output_type": "stream",
     "text": [
      "Epoch 1/30\n",
      "100/100 [==============================] - 40s 398ms/step - loss: 0.6886 - acc: 0.5350 - val_loss: 0.6947 - val_acc: 0.6030\n",
      "Epoch 2/30\n",
      "100/100 [==============================] - 39s 388ms/step - loss: 0.6548 - acc: 0.6080 - val_loss: 0.6950 - val_acc: 0.6350\n",
      "Epoch 3/30\n",
      "100/100 [==============================] - 38s 385ms/step - loss: 0.6164 - acc: 0.6655 - val_loss: 0.6179 - val_acc: 0.6630\n",
      "Epoch 4/30\n",
      "100/100 [==============================] - 38s 378ms/step - loss: 0.5726 - acc: 0.7010 - val_loss: 0.6325 - val_acc: 0.6660\n",
      "Epoch 5/30\n",
      "100/100 [==============================] - 38s 382ms/step - loss: 0.5382 - acc: 0.7335 - val_loss: 0.6863 - val_acc: 0.6800\n",
      "Epoch 6/30\n",
      "100/100 [==============================] - 38s 379ms/step - loss: 0.5199 - acc: 0.7380 - val_loss: 0.5872 - val_acc: 0.7000\n",
      "Epoch 7/30\n",
      "100/100 [==============================] - 38s 382ms/step - loss: 0.4987 - acc: 0.7580 - val_loss: 0.7094 - val_acc: 0.6940\n",
      "Epoch 8/30\n",
      "100/100 [==============================] - 38s 381ms/step - loss: 0.4629 - acc: 0.7750 - val_loss: 0.5573 - val_acc: 0.6950\n",
      "Epoch 9/30\n",
      "100/100 [==============================] - 39s 393ms/step - loss: 0.4439 - acc: 0.7920 - val_loss: 0.2552 - val_acc: 0.7020\n",
      "Epoch 10/30\n",
      "100/100 [==============================] - 38s 378ms/step - loss: 0.4207 - acc: 0.8010 - val_loss: 0.5440 - val_acc: 0.7000\n",
      "Epoch 11/30\n",
      "100/100 [==============================] - 38s 383ms/step - loss: 0.3928 - acc: 0.8245 - val_loss: 0.6681 - val_acc: 0.7310\n",
      "Epoch 12/30\n",
      "100/100 [==============================] - 38s 383ms/step - loss: 0.3684 - acc: 0.8415 - val_loss: 0.4975 - val_acc: 0.7240\n",
      "Epoch 13/30\n",
      "100/100 [==============================] - 38s 385ms/step - loss: 0.3459 - acc: 0.8440 - val_loss: 0.4496 - val_acc: 0.6900\n",
      "Epoch 14/30\n",
      "100/100 [==============================] - 38s 382ms/step - loss: 0.3258 - acc: 0.8630 - val_loss: 0.5733 - val_acc: 0.7290\n",
      "Epoch 15/30\n",
      "100/100 [==============================] - 38s 380ms/step - loss: 0.3045 - acc: 0.8755 - val_loss: 0.4620 - val_acc: 0.7250\n",
      "Epoch 16/30\n",
      "100/100 [==============================] - 38s 382ms/step - loss: 0.2828 - acc: 0.8915 - val_loss: 0.4096 - val_acc: 0.7240\n",
      "Epoch 17/30\n",
      "100/100 [==============================] - 38s 383ms/step - loss: 0.2559 - acc: 0.9000 - val_loss: 0.8640 - val_acc: 0.7100\n",
      "Epoch 18/30\n",
      "100/100 [==============================] - 38s 383ms/step - loss: 0.2443 - acc: 0.9035 - val_loss: 0.8662 - val_acc: 0.7360\n",
      "Epoch 19/30\n",
      "100/100 [==============================] - 38s 382ms/step - loss: 0.2170 - acc: 0.9185 - val_loss: 0.8966 - val_acc: 0.7420\n",
      "Epoch 20/30\n",
      "100/100 [==============================] - 38s 381ms/step - loss: 0.2034 - acc: 0.9275 - val_loss: 1.2460 - val_acc: 0.7310\n",
      "Epoch 21/30\n",
      "100/100 [==============================] - 39s 387ms/step - loss: 0.1825 - acc: 0.9340 - val_loss: 0.8249 - val_acc: 0.7430\n",
      "Epoch 22/30\n",
      "100/100 [==============================] - 40s 395ms/step - loss: 0.1697 - acc: 0.9390 - val_loss: 0.7616 - val_acc: 0.7150\n",
      "Epoch 23/30\n",
      "100/100 [==============================] - 38s 384ms/step - loss: 0.1430 - acc: 0.9520 - val_loss: 0.3376 - val_acc: 0.7220\n",
      "Epoch 24/30\n",
      "100/100 [==============================] - 43s 429ms/step - loss: 0.1284 - acc: 0.9610 - val_loss: 0.1801 - val_acc: 0.7290\n",
      "Epoch 25/30\n",
      "100/100 [==============================] - 43s 432ms/step - loss: 0.1127 - acc: 0.9675 - val_loss: 0.3997 - val_acc: 0.7420\n",
      "Epoch 26/30\n",
      "100/100 [==============================] - 43s 429ms/step - loss: 0.1070 - acc: 0.9640 - val_loss: 1.2025 - val_acc: 0.7360\n",
      "Epoch 27/30\n",
      "100/100 [==============================] - 43s 428ms/step - loss: 0.0830 - acc: 0.9760 - val_loss: 0.8803 - val_acc: 0.7080\n",
      "Epoch 28/30\n",
      "100/100 [==============================] - 43s 428ms/step - loss: 0.0846 - acc: 0.9735 - val_loss: 0.7947 - val_acc: 0.7300\n",
      "Epoch 29/30\n",
      "100/100 [==============================] - 43s 432ms/step - loss: 0.0630 - acc: 0.9810 - val_loss: 0.6267 - val_acc: 0.7360\n",
      "Epoch 30/30\n",
      "100/100 [==============================] - 43s 433ms/step - loss: 0.0618 - acc: 0.9830 - val_loss: 1.3064 - val_acc: 0.7310\n"
     ]
    }
   ],
   "source": [
    "history = model.fit_generator(\n",
    "      train_generator,\n",
    "      steps_per_epoch=100,\n",
    "      epochs=30,\n",
    "      validation_data=validation_generator,\n",
    "      validation_steps=50)"
   ]
  },
  {
   "cell_type": "code",
   "execution_count": 33,
   "metadata": {},
   "outputs": [],
   "source": [
    "model.save('cats_and_dogs_small_1.h5')"
   ]
  },
  {
   "cell_type": "code",
   "execution_count": 34,
   "metadata": {},
   "outputs": [
    {
     "data": {
      "image/png": "[encoded data removed]",
      "text/plain": [
       "<Figure size 432x288 with 1 Axes>"
      ]
     },
     "metadata": {
      "needs_background": "light"
     },
     "output_type": "display_data"
    },
    {
     "data": {
      "image/png": "[encoded data removed]",
      "text/plain": [
       "<Figure size 432x288 with 1 Axes>"
      ]
     },
     "metadata": {
      "needs_background": "light"
     },
     "output_type": "display_data"
    }
   ],
   "source": [
    "import matplotlib.pyplot as plt\n",
    "\n",
    "acc = history.history['acc']\n",
    "val_acc = history.history['val_acc']\n",
    "loss = history.history['loss']\n",
    "val_loss = history.history['val_loss']\n",
    "\n",
    "epochs = range(len(acc))\n",
    "\n",
    "plt.plot(epochs, acc, 'bo', label='Training acc')\n",
    "plt.plot(epochs, val_acc, 'b', label='Validation acc')\n",
    "plt.title('Training and validation accuracy')\n",
    "plt.legend()\n",
    "\n",
    "plt.figure()\n",
    "\n",
    "plt.plot(epochs, loss, 'bo', label='Training loss')\n",
    "plt.plot(epochs, val_loss, 'b', label='Validation loss')\n",
    "plt.title('Training and validation loss')\n",
    "plt.legend()\n",
    "\n",
    "plt.show()"
   ]
  },
  {
   "cell_type": "markdown",
   "metadata": {},
   "source": [
    "- 대략적으로 70 ~ 72% 검증 정확도를 보여줌\n",
    "- 검증 손실은 다섯번의 에포크만에 최솟값에 다다른 후 진전이 없음\n",
    "- 과대적합으로 판단\n",
    "- 드롭아웃이나 가중치 감소처럼 과대적합 방법 사용 가능\n",
    "- 비전 쪽에 사용하는 방법은 데이터 증식 방법이 있음"
   ]
  },
  {
   "cell_type": "code",
   "execution_count": null,
   "metadata": {},
   "outputs": [],
   "source": []
  }
 ],
 "metadata": {
  "kernelspec": {
   "display_name": "Python 3",
   "language": "python",
   "name": "python3"
  },
  "language_info": {
   "codemirror_mode": {
    "name": "ipython",
    "version": 3
   },
   "file_extension": ".py",
   "mimetype": "text/x-python",
   "name": "python",
   "nbconvert_exporter": "python",
   "pygments_lexer": "ipython3",
   "version": "3.7.6"
  }
 },
 "nbformat": 4,
 "nbformat_minor": 4
}
