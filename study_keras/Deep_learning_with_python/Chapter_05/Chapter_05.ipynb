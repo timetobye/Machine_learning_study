{
  "nbformat": 4,
  "nbformat_minor": 0,
  "metadata": {
    "kernelspec": {
      "display_name": "Python 3",
      "language": "python",
      "name": "python3"
    },
    "language_info": {
      "codemirror_mode": {
        "name": "ipython",
        "version": 3
      },
      "file_extension": ".py",
      "mimetype": "text/x-python",
      "name": "python",
      "nbconvert_exporter": "python",
      "pygments_lexer": "ipython3",
      "version": "3.7.3"
    },
    "colab": {
      "name": "Chapter_05.ipynb",
      "provenance": []
    },
    "accelerator": "GPU"
  },
  "cells": [
    {
      "cell_type": "markdown",
      "metadata": {
        "id": "zCt0CGBWgIgC",
        "colab_type": "text"
      },
      "source": [
        "Ch5. 컴퓨터 비전을 위한 딥러닝\n",
        "----------"
      ]
    },
    {
      "cell_type": "markdown",
      "metadata": {
        "id": "1bp1kuhdgIgE",
        "colab_type": "text"
      },
      "source": [
        "### 5.1 Introduction to convnets\n",
        "\n",
        "convnets(컨브넷) 이라고 불리는 convolution neural network(합성곱 신경망)에 대한 학습\n",
        "\n",
        "우선 예제를 살펴보자."
      ]
    },
    {
      "cell_type": "code",
      "metadata": {
        "id": "808ejG96gIgE",
        "colab_type": "code",
        "colab": {}
      },
      "source": [
        "import keras\n",
        "import numpy as np\n",
        "import pandas as pd\n",
        "import matplotlib.pyplot as plt\n",
        "import tensorflow as tf\n",
        "from keras import backend as K\n",
        "from keras import models, layers\n",
        "\n",
        "%matplotlib inline"
      ],
      "execution_count": 0,
      "outputs": []
    },
    {
      "cell_type": "code",
      "metadata": {
        "id": "mpQLX8hIgIgH",
        "colab_type": "code",
        "colab": {}
      },
      "source": [
        "model = models.Sequential()\n",
        "\n",
        "model.add(layers.Conv2D(32, (3, 3), activation='relu', input_shape=(28, 28, 1)))\n",
        "model.add(layers.MaxPooling2D((2, 2)))\n",
        "\n",
        "model.add(layers.Conv2D(64, (3, 3), activation='relu'))\n",
        "model.add(layers.MaxPooling2D((2, 2)))\n",
        "\n",
        "model.add(layers.Conv2D(64, (3, 3), activation='relu'))"
      ],
      "execution_count": 0,
      "outputs": []
    },
    {
      "cell_type": "code",
      "metadata": {
        "id": "F3WZneuzgIgK",
        "colab_type": "code",
        "colab": {
          "base_uri": "https://localhost:8080/",
          "height": 341
        },
        "outputId": "8ff99eed-6950-4468-a050-d20a84030505"
      },
      "source": [
        "model.summary()"
      ],
      "execution_count": 19,
      "outputs": [
        {
          "output_type": "stream",
          "text": [
            "Model: \"sequential_2\"\n",
            "_________________________________________________________________\n",
            "Layer (type)                 Output Shape              Param #   \n",
            "=================================================================\n",
            "conv2d_4 (Conv2D)            (None, 26, 26, 32)        320       \n",
            "_________________________________________________________________\n",
            "max_pooling2d_3 (MaxPooling2 (None, 13, 13, 32)        0         \n",
            "_________________________________________________________________\n",
            "conv2d_5 (Conv2D)            (None, 11, 11, 64)        18496     \n",
            "_________________________________________________________________\n",
            "max_pooling2d_4 (MaxPooling2 (None, 5, 5, 64)          0         \n",
            "_________________________________________________________________\n",
            "conv2d_6 (Conv2D)            (None, 3, 3, 64)          36928     \n",
            "=================================================================\n",
            "Total params: 55,744\n",
            "Trainable params: 55,744\n",
            "Non-trainable params: 0\n",
            "_________________________________________________________________\n"
          ],
          "name": "stdout"
        }
      ]
    },
    {
      "cell_type": "markdown",
      "metadata": {
        "id": "rIshA_YkgIgN",
        "colab_type": "text"
      },
      "source": [
        "**convnets**이 (image_height, image_width, image_channels) 크기의 입력 텐서를 사용한다는 점이 중요\n",
        "- 예제에서는 MNIST 이미지 포맷인 (28, 28, 1) 크기의 입력을 처리하도록 컨브넷을 설정해야 함\n",
        "- 그래서 첫 layer의 parameter input_shape=(28, 28, 1)를 설정함\n",
        "\n",
        "Conv2D와 MaxPooling2D층의 출력은 (height, width, channels) 크기의 3D 텐서이다.\n",
        "- 높이와 넓이 차원은 네트워크가 깊어질수록 작아지는 경향이 있다.\n",
        "- 채널의 수는 Conv2D 층에 전달된 첫 번째 매개변수에 의해 조절됨(32개 또는 64개)\n",
        "\n",
        "다음 단계에서 마지막 층의 ((3, 3, 64) 크기) 추력 텐서를 fully connected network에 넣는다.\n",
        "- 분류기는 1D 벡터를 처리하는데 이전 출력이 3D 텐서\n",
        "- 그래서 3D 출력을 1D 텐서로 펼쳐야함\n",
        "- 그 다음 몇 개의 Dense 층을 추가함"
      ]
    },
    {
      "cell_type": "code",
      "metadata": {
        "id": "Kw1R-4gNgIgN",
        "colab_type": "code",
        "colab": {}
      },
      "source": [
        "model.add(layers.Flatten())\n",
        "model.add(layers.Dense(64, activation='relu'))\n",
        "model.add(layers.Dense(10, activation='softmax'))"
      ],
      "execution_count": 0,
      "outputs": []
    },
    {
      "cell_type": "code",
      "metadata": {
        "id": "ssteB4MXgIgP",
        "colab_type": "code",
        "colab": {
          "base_uri": "https://localhost:8080/",
          "height": 449
        },
        "outputId": "982555f4-a555-4b5f-800f-1fa0b1277a76"
      },
      "source": [
        "model.summary()"
      ],
      "execution_count": 21,
      "outputs": [
        {
          "output_type": "stream",
          "text": [
            "Model: \"sequential_2\"\n",
            "_________________________________________________________________\n",
            "Layer (type)                 Output Shape              Param #   \n",
            "=================================================================\n",
            "conv2d_4 (Conv2D)            (None, 26, 26, 32)        320       \n",
            "_________________________________________________________________\n",
            "max_pooling2d_3 (MaxPooling2 (None, 13, 13, 32)        0         \n",
            "_________________________________________________________________\n",
            "conv2d_5 (Conv2D)            (None, 11, 11, 64)        18496     \n",
            "_________________________________________________________________\n",
            "max_pooling2d_4 (MaxPooling2 (None, 5, 5, 64)          0         \n",
            "_________________________________________________________________\n",
            "conv2d_6 (Conv2D)            (None, 3, 3, 64)          36928     \n",
            "_________________________________________________________________\n",
            "flatten_2 (Flatten)          (None, 576)               0         \n",
            "_________________________________________________________________\n",
            "dense_3 (Dense)              (None, 64)                36928     \n",
            "_________________________________________________________________\n",
            "dense_4 (Dense)              (None, 10)                650       \n",
            "=================================================================\n",
            "Total params: 93,322\n",
            "Trainable params: 93,322\n",
            "Non-trainable params: 0\n",
            "_________________________________________________________________\n"
          ],
          "name": "stdout"
        }
      ]
    },
    {
      "cell_type": "markdown",
      "metadata": {
        "id": "Dhe710OLgIgS",
        "colab_type": "text"
      },
      "source": [
        "(3, 3, 64) -> (576,) 벡터로 펼쳐진 후 Dense로 넘어감"
      ]
    },
    {
      "cell_type": "code",
      "metadata": {
        "id": "vstA2m1ogIgT",
        "colab_type": "code",
        "colab": {}
      },
      "source": [
        "from keras.datasets import mnist\n",
        "from keras.utils import to_categorical\n",
        "\n",
        "(train_images, train_labels), (test_images, test_labels) = mnist.load_data()"
      ],
      "execution_count": 0,
      "outputs": []
    },
    {
      "cell_type": "code",
      "metadata": {
        "id": "f94bUMFVgIgW",
        "colab_type": "code",
        "colab": {}
      },
      "source": [
        "train_images = train_images.reshape((60000, 28, 28, 1))\n",
        "train_images = train_images.astype('float32') / 255\n",
        "\n",
        "test_images = test_images.reshape((10000, 28, 28, 1))\n",
        "test_images = test_images.astype('float32') / 255\n",
        "\n",
        "train_labels = to_categorical(train_labels)\n",
        "test_labels = to_categorical(test_labels)"
      ],
      "execution_count": 0,
      "outputs": []
    },
    {
      "cell_type": "code",
      "metadata": {
        "id": "sshCesOagIgY",
        "colab_type": "code",
        "colab": {
          "base_uri": "https://localhost:8080/",
          "height": 215
        },
        "outputId": "9fe4e609-c102-4bd5-c171-d1d9096743e6"
      },
      "source": [
        "model.compile(optimizer='rmsprop',\n",
        "              loss='categorical_crossentropy',\n",
        "              metrics=['accuracy'])\n",
        "\n",
        "model.fit(train_images, train_labels, epochs=5, batch_size=64)"
      ],
      "execution_count": 24,
      "outputs": [
        {
          "output_type": "stream",
          "text": [
            "Epoch 1/5\n",
            "60000/60000 [==============================] - 6s 106us/step - loss: 0.1739 - accuracy: 0.9459\n",
            "Epoch 2/5\n",
            "60000/60000 [==============================] - 6s 106us/step - loss: 0.0480 - accuracy: 0.9846\n",
            "Epoch 3/5\n",
            "60000/60000 [==============================] - 6s 106us/step - loss: 0.0334 - accuracy: 0.9897\n",
            "Epoch 4/5\n",
            "60000/60000 [==============================] - 6s 102us/step - loss: 0.0247 - accuracy: 0.9922\n",
            "Epoch 5/5\n",
            "60000/60000 [==============================] - 6s 103us/step - loss: 0.0204 - accuracy: 0.9938\n"
          ],
          "name": "stdout"
        },
        {
          "output_type": "execute_result",
          "data": {
            "text/plain": [
              "<keras.callbacks.callbacks.History at 0x7fbf6c368ef0>"
            ]
          },
          "metadata": {
            "tags": []
          },
          "execution_count": 24
        }
      ]
    },
    {
      "cell_type": "code",
      "metadata": {
        "id": "Bnwx80TfgIgc",
        "colab_type": "code",
        "colab": {
          "base_uri": "https://localhost:8080/",
          "height": 53
        },
        "outputId": "de7b9568-cb60-4804-b1e0-b55f612482d8"
      },
      "source": [
        "test_loss, test_acc = model.evaluate(test_images, test_labels)\n",
        "test_acc"
      ],
      "execution_count": 25,
      "outputs": [
        {
          "output_type": "stream",
          "text": [
            "10000/10000 [==============================] - 1s 109us/step\n"
          ],
          "name": "stdout"
        },
        {
          "output_type": "execute_result",
          "data": {
            "text/plain": [
              "0.9799000024795532"
            ]
          },
          "metadata": {
            "tags": []
          },
          "execution_count": 25
        }
      ]
    },
    {
      "cell_type": "markdown",
      "metadata": {
        "id": "jcCH7c8BgIge",
        "colab_type": "text"
      },
      "source": [
        "**왜 컨브넷이 더 좋은 퍼포먼스를....?**"
      ]
    },
    {
      "cell_type": "markdown",
      "metadata": {
        "id": "6aGqheJdgIge",
        "colab_type": "text"
      },
      "source": [
        "#### 5.1.1 합성곱 연산\n",
        "\n",
        "근본적인 차이\n",
        "- Dense layer는 입력 특성 공간에 있는 전역 패턴(예를 들면 MNIST 숫자 이미지에서는 모든 픽셀에 걸친 패턴)을 학습하지만 합성곱 층은 지역 패턴을 학습\n",
        "- 이미지일 경우 작은 2D window로 입력에서 패턴을 찾음\n",
        "- 앞의 예에서는 3x3 크기였음\n",
        "\n",
        "핵심적인 특정인 두 가지 성질을 알려줌\n",
        "- **학습된 패턴은 평행 이동 불변성(translation invariant)를 가짐**\n",
        "  - 컨브넷이 이미지의 오른쪽 아래 모서리에서 어떤 패턴을 학습했다면 다른 곳에서도 이 패턴을 인식 할 수 있다.\n",
        "  - 완전 연결 네트워크는 새로운 위치에 나타난 것은 새로운 패턴으로 학습해야함(상대적으로 안 좋은 이유임)\n",
        "  - 이런 성질 때문에 컨브넷이 이미지를 효율적으로 처리하게 만들어 줌(근본적으로 우리가 보는 세상은 평행 이동으로 인해 다르게 인식 되지 않음..결국 사람이네)\n",
        "  - 적은 수의 훈련 샘플을 사용해서 일반화 능력을 가진 표현을 학습할 수 있다.\n",
        "\n",
        "\n",
        "- **컨브넷은 패턴의 공간적 계층 구조를 학습할 수 있다**\n",
        "  - 첫 번째 합성곱층이 에지 같은 작은 지역 패턴을 학습함\n",
        "  - 두 번째 합성곱층이 첫 번째 층의 특성으로 구성된 더 큰 패턴을 학습하는 식\n",
        "  - 이런 방식을 사용하여 컨브넷은 매우 복잡하고 추상적인 시각적 개념을 효과적으로 학습할 수 있다.\n",
        "    - 근본적으로 우리가 보는 세상은 공간적 계층 구조를 가짐\n",
        "    \n",
        "\n",
        "![alt text](https://www.researchgate.net/profile/Hassan_Hassan45/publication/337830197/figure/fig3/AS:834037371379712@1575861413309/Schematic-diagram-of-the-proposed-edge-detectors-using-simple-CNN-setting.jpg)"
      ]
    },
    {
      "cell_type": "markdown",
      "metadata": {
        "id": "nfq1gg4UgIge",
        "colab_type": "text"
      },
      "source": [
        "합성곱 연산은 feature map(특성 맵)이라고 부르는 3D 텐서에 적용\n",
        "- 이 텐서는 2개의 공간 축(높이와 넓이)과 깊이 축(채널 축)으로 구성 됨\n",
        "- RGB이미지는 3개의 컬러 채널(빨, 녹, 파)을 가지므로 깊이 축의 차원이 3이 됨\n",
        "- MNIST 숫자처럼 흑백 이미지는 깊이 축의 차원이 1(회색 톤)이다.\n",
        "- 합성곱 연산은 입력 특성 맵에서 작은 patch를 추출하고 이런 모든 패치에 같은 변환을 적용하여 output feature map(출력 특성 맵)을 만듬\n",
        "\n",
        "**output feature map**도 높이와 넓이를 가진 3D 텐서\n",
        "- 출력 텐서의 깊이는 층의 매개변수로 결정되므로 상황에 따라 다름\n",
        "- 이렇게 되면 깊이 축의 채널은 더 이상 RGB 입력처럼 특정 컬러를 의미하지 않음\n",
        "- 그 대신 일종의 filter(필터)를 의미\n",
        "- MNIST 예제에서는 첫 번째 합성곱 층이 (28, 28, 1) 크기의 특성 맵을 입력으로 받아 (26, 26, 32)크기의 특성 맵을 출력, 이 값은 입력데 대한 필터의 response map(응답 맵) 이다. 입력의 각 위체엇 필터 패턴에 대한 응답을 나타냄\n",
        "  - 즉 입력에 대해 32개의 필터를 적용\n",
        "  - 필터 하나의 크기는 (patch_height, patch_width, input_depth)\n",
        "  - 첫 번째 합성곱은 (3, 3, 1) 크기의 필터를 32개 적용하고, 두 번쨰 합성곱은 (3, 3, 32) 크기의 필터를 64개 적용\n",
        "- 특성 맵이란 말이 의미하는 것은....\n",
        "  - 깊이 축에 있는 각 차원은 하나의 특성(또는 필터)이고, 2D 텐서 output[:, :, n]은 입력에 대한 이 필터 응답을 나타내는 2D 공간상의 맵\n",
        "  \n",
        "\n",
        "![alt text](https://i.ytimg.com/vi/HMcx-zY8JSg/maxresdefault.jpg)"
      ]
    },
    {
      "cell_type": "markdown",
      "metadata": {
        "id": "cthOV43JgIgf",
        "colab_type": "text"
      },
      "source": [
        "합성곱은 핵심적인 2개의 parameter로 정의\n",
        "- 입력으로부터 뽑아낼 패치의 크기 : 전형적으로 3X3 또는 5X5 크기를 사용, 이 예에서는 일반적으로 많이 사용하는 3X3 크기를 사용\n",
        "- 특성 맵의 출력 깊이 : 합성곱으로 계산할 필터의 수, 이 예에서는 깊이 32로 시작해서 깊이 64로 끝남\n",
        "\n",
        "\n",
        "- 3D 입력 특성 맵 위를 3 X 3 또는 5 X 5 window가 슬라이딩 하면서 모든 위치에서 3D 특성 패치((window_height, window_width, input_depth))를 추출하는 방식으로 합성곱이 작동\n",
        "- 위의 결과는 1D 벡터로 변환\n",
        "- 변환된 모든 벡터는 (height, width, output_depth) 크기의 3D 특성 맵으로 재구성\n",
        "  - 출력 높이, 넓이는 입력 높이, 넓이와 다를 수 있다.\n",
        "    - 경계 문제, 입력 특성 맵의 패딩을 추가하여 대응 할 수 있기 때문이다.\n",
        "    - stride 의 사용 여부에 따라 다르다.\n",
        "    \n",
        "    \n",
        "좋은 참고 자료\n",
        "- https://je-d.tistory.com/entry/%ED%95%A9%EC%84%B1%EA%B3%B1-%EC%8B%A0%EA%B2%BD%EB%A7%9DCNN\n",
        "- http://taewan.kim/post/cnn/"
      ]
    },
    {
      "cell_type": "markdown",
      "metadata": {
        "id": "l8B9wpQ0gIgf",
        "colab_type": "text"
      },
      "source": [
        "**경계 문제와 패딩 이해하기**\n",
        "\n",
        "- 입력과 동일한 높이와 넓이를 가진 feature map을 얻고 싶다면 padding 을 사용할 수 있음\n",
        "  - paramter는 2개의 값이 가능\n",
        "  - valid 는 패딩을 사용하지 않는다는 뜻\n",
        "  - same 은 입력과 동일한 높이와 넓이를 가진 출력을 만들기 위해 패딩한다 라는 뜻\n",
        "  - 기본 매개변수는 valid 이다.\n",
        "\n",
        "![alt text](https://miro.medium.com/max/666/1*noYcUAa_P8nRilg3Lt_nuA.png)"
      ]
    },
    {
      "cell_type": "markdown",
      "metadata": {
        "id": "niD79TN-gIgg",
        "colab_type": "text"
      },
      "source": [
        "**합성곱 스트라이드 이해하기**\n",
        "\n",
        "출력 크기에 영향을 미치는 다른 요소는 스트라이드\n",
        "- 위에서의 설명들은 윈도우가 중앙 타일이 연속적으로 지나간다고 가정한 것\n",
        "- 두 번의 연속적인 윈도우 사이의 거리가 스트라이드라고 불리는 합성곱의 파라미터이다.\n",
        "- 기본 값은 1\n",
        "- 1보다 큰 스트라이드 합성곱도 가능"
      ]
    },
    {
      "cell_type": "markdown",
      "metadata": {
        "id": "lZg0eKPsgIgg",
        "colab_type": "text"
      },
      "source": [
        "#### 5.1.2 max pooling"
      ]
    },
    {
      "cell_type": "markdown",
      "metadata": {
        "id": "qePEMA4wgIgg",
        "colab_type": "text"
      },
      "source": [
        "max pooling은 입력 특성 맵에서 윈도우에 맞는 패치를 추출하고 각 채널별로 최댓값을 출력하는 합성곱과 개념적으로 비슷하지만 추출한 패치에 학습된 선형 변환을 적용하는 대신에 하드코딩된 최댓값 추출 연산을 사용\n",
        "\n",
        "max pooling은 feature map의 크기를 다운샘플링한다는 것\n",
        "\n",
        "\n",
        "왜하냐?\n",
        "- 처리할 특성 맵의 가중치 개수를 줄이기 위해서이다.\n",
        "- 연산이 부담되니까\n",
        "- 연속적인 합성곱 층이 점점 커진 윈도우를 통해 바라보도록 만들어 필터의 공간적인 계층 구조를 구성\n",
        "\n",
        "물론 max pooling이 다운샘플링 할 수 있는 유일한 방법은 아니다. 스트라이드도 응용하면 할 수 있다.\n",
        "- max pooling 대신에 average pooling도 가능하다.\n",
        "- 하지만 max pooling이 더 잘 작동함\n",
        "  - 특성이 특성 맵의 각 타일에서 어떤 패턴이나 개념의 존재 여부를 인코딩하는 경향이 있기 때문(그래서 feature map이라고 함)\n",
        "  - 따라서 평균값보다 여러 특성 중 최댓값을 사용하는 것이 더 유용"
      ]
    },
    {
      "cell_type": "markdown",
      "metadata": {
        "id": "_3xqCR8wgIgh",
        "colab_type": "text"
      },
      "source": [
        "### 5.2 소규모 데이터셋에서 밑바닥부터 CNN 훈련하기\n",
        "\n",
        "전체적인 프로세스는 아래와 같다.\n",
        "- 처음부터 작은 모델을 훈련하기\n",
        "- 사전 훈련된 네트워크로 특성을 추출\n",
        "- 사전 훈련된 네트워크를 세밀하게 튜닝"
      ]
    },
    {
      "cell_type": "markdown",
      "metadata": {
        "id": "taJKCcoWgIgh",
        "colab_type": "text"
      },
      "source": [
        "#### 5.2.1 작은 데이터셋 문제에서 딥러닝의 타당성\n",
        "데이터가 많아야 딥러닝이 잘 작동한다는 부분적으로 맞는 말\n",
        "- 딥러닝의 특징은 feature engineering 없이도 특성을 찾을 수 있는 점\n",
        "- 그래서 많아야 가능\n",
        "\n",
        "하지만 많은 샘플이 의미하는 것은 상대적\n",
        "- 우선 훈련하려는 네트워크의 크기와 깊이에 상대적\n",
        "- 복잡한 문제를 푸는 컨브넷을 수십 개의 샘플만 사용해서 훈련하는 것은 불가능\n",
        "- 하지만 모델이 작고 규제가 잘 되어 있으며 간단한 작업이라면 수백 개의 샘플로도 충분히 할 수 있다.\n",
        "- 컨브넷은 지역적이고 평행 이동으로 변하지 않는 특성을 학습하기 때문에 지각에 관한 문제에서 매우 효율적으로 데이터셋 사용"
      ]
    },
    {
      "cell_type": "markdown",
      "metadata": {
        "id": "xuTDKRE-gIgi",
        "colab_type": "text"
      },
      "source": [
        "#### 5.2.2 데이터 내려받기"
      ]
    },
    {
      "cell_type": "code",
      "metadata": {
        "id": "8erOiK-PooNj",
        "colab_type": "code",
        "colab": {}
      },
      "source": [
        "import os, shutil"
      ],
      "execution_count": 0,
      "outputs": []
    },
    {
      "cell_type": "code",
      "metadata": {
        "id": "8aDIdw1uoxw7",
        "colab_type": "code",
        "colab": {}
      },
      "source": [
        "original_dataset_dir = 'train'\n",
        "base_dir = 'cats_and_dogs_small'\n",
        "train_dir = os.path.join(base_dir, 'train')\n",
        "validation_dir = os.path.join(base_dir, 'validation')\n",
        "test_dir = os.path.join(base_dir, 'test')\n",
        "train_cats_dir = os.path.join(train_dir, 'cats')\n",
        "train_dogs_dir = os.path.join(train_dir, 'dogs')\n",
        "validation_cats_dir = os.path.join(validation_dir, 'cats')\n",
        "validation_dogs_dir = os.path.join(validation_dir, 'dogs')\n",
        "test_cats_dir = os.path.join(test_dir, 'cats')\n",
        "test_dogs_dir = os.path.join(test_dir, 'dogs')"
      ],
      "execution_count": 0,
      "outputs": []
    },
    {
      "cell_type": "code",
      "metadata": {
        "id": "dOJiasEagIgi",
        "colab_type": "code",
        "colab": {}
      },
      "source": [
        "import os, shutil\n",
        "\n",
        "# The path to the directory where the original\n",
        "# dataset was uncompressed\n",
        "original_dataset_dir = 'train'\n",
        "\n",
        "# The directory where we will\n",
        "# store our smaller dataset\n",
        "base_dir = 'cats_and_dogs_small'\n",
        "os.mkdir(base_dir)"
      ],
      "execution_count": 0,
      "outputs": []
    },
    {
      "cell_type": "code",
      "metadata": {
        "id": "yoJXRfz5gIgk",
        "colab_type": "code",
        "colab": {}
      },
      "source": [
        "# Directories for our training,\n",
        "# validation and test splits\n",
        "train_dir = os.path.join(base_dir, 'train')\n",
        "os.mkdir(train_dir)\n",
        "validation_dir = os.path.join(base_dir, 'validation')\n",
        "os.mkdir(validation_dir)\n",
        "test_dir = os.path.join(base_dir, 'test')\n",
        "os.mkdir(test_dir)"
      ],
      "execution_count": 0,
      "outputs": []
    },
    {
      "cell_type": "code",
      "metadata": {
        "id": "piB6P7yqgIgm",
        "colab_type": "code",
        "colab": {
          "base_uri": "https://localhost:8080/",
          "height": 244
        },
        "outputId": "90f490fd-006f-4902-86c7-c53b599f1523"
      },
      "source": [
        "# Directory with our training cat pictures\n",
        "train_cats_dir = os.path.join(train_dir, 'cats')\n",
        "os.mkdir(train_cats_dir)\n",
        "\n",
        "# Directory with our training dog pictures\n",
        "train_dogs_dir = os.path.join(train_dir, 'dogs')\n",
        "os.mkdir(train_dogs_dir)\n",
        "\n",
        "# Directory with our validation cat pictures\n",
        "validation_cats_dir = os.path.join(validation_dir, 'cats')\n",
        "os.mkdir(validation_cats_dir)\n",
        "\n",
        "# Directory with our validation dog pictures\n",
        "validation_dogs_dir = os.path.join(validation_dir, 'dogs')\n",
        "os.mkdir(validation_dogs_dir)\n",
        "\n",
        "# Directory with our validation cat pictures\n",
        "test_cats_dir = os.path.join(test_dir, 'cats')\n",
        "os.mkdir(test_cats_dir)\n",
        "\n",
        "# Directory with our validation dog pictures\n",
        "test_dogs_dir = os.path.join(test_dir, 'dogs')\n",
        "os.mkdir(test_dogs_dir)"
      ],
      "execution_count": 16,
      "outputs": [
        {
          "output_type": "error",
          "ename": "FileExistsError",
          "evalue": "ignored",
          "traceback": [
            "\u001b[0;31m---------------------------------------------------------------------------\u001b[0m",
            "\u001b[0;31mFileExistsError\u001b[0m                           Traceback (most recent call last)",
            "\u001b[0;32m<ipython-input-16-e620de511be5>\u001b[0m in \u001b[0;36m<module>\u001b[0;34m()\u001b[0m\n\u001b[1;32m      1\u001b[0m \u001b[0;31m# Directory with our training cat pictures\u001b[0m\u001b[0;34m\u001b[0m\u001b[0;34m\u001b[0m\u001b[0;34m\u001b[0m\u001b[0m\n\u001b[1;32m      2\u001b[0m \u001b[0mtrain_cats_dir\u001b[0m \u001b[0;34m=\u001b[0m \u001b[0mos\u001b[0m\u001b[0;34m.\u001b[0m\u001b[0mpath\u001b[0m\u001b[0;34m.\u001b[0m\u001b[0mjoin\u001b[0m\u001b[0;34m(\u001b[0m\u001b[0mtrain_dir\u001b[0m\u001b[0;34m,\u001b[0m \u001b[0;34m'cats'\u001b[0m\u001b[0;34m)\u001b[0m\u001b[0;34m\u001b[0m\u001b[0;34m\u001b[0m\u001b[0m\n\u001b[0;32m----> 3\u001b[0;31m \u001b[0mos\u001b[0m\u001b[0;34m.\u001b[0m\u001b[0mmkdir\u001b[0m\u001b[0;34m(\u001b[0m\u001b[0mtrain_cats_dir\u001b[0m\u001b[0;34m)\u001b[0m\u001b[0;34m\u001b[0m\u001b[0;34m\u001b[0m\u001b[0m\n\u001b[0m\u001b[1;32m      4\u001b[0m \u001b[0;34m\u001b[0m\u001b[0m\n\u001b[1;32m      5\u001b[0m \u001b[0;31m# Directory with our training dog pictures\u001b[0m\u001b[0;34m\u001b[0m\u001b[0;34m\u001b[0m\u001b[0;34m\u001b[0m\u001b[0m\n",
            "\u001b[0;31mFileExistsError\u001b[0m: [Errno 17] File exists: 'cats_and_dogs_small/train/cats'"
          ]
        }
      ]
    },
    {
      "cell_type": "code",
      "metadata": {
        "id": "C3r4npb3gIgo",
        "colab_type": "code",
        "colab": {
          "base_uri": "https://localhost:8080/",
          "height": 334
        },
        "outputId": "ad79ce15-2c90-4377-8f44-60642df7a38f"
      },
      "source": [
        "# Copy first 1000 cat images to train_cats_dir\n",
        "fnames = ['cat.{}.jpg'.format(i) for i in range(1000)]\n",
        "for fname in fnames:\n",
        "    src = os.path.join(original_dataset_dir, fname)\n",
        "    dst = os.path.join(train_cats_dir, fname)\n",
        "    shutil.copyfile(src, dst)"
      ],
      "execution_count": 14,
      "outputs": [
        {
          "output_type": "error",
          "ename": "FileNotFoundError",
          "evalue": "ignored",
          "traceback": [
            "\u001b[0;31m---------------------------------------------------------------------------\u001b[0m",
            "\u001b[0;31mFileNotFoundError\u001b[0m                         Traceback (most recent call last)",
            "\u001b[0;32m<ipython-input-14-13a649e1adb6>\u001b[0m in \u001b[0;36m<module>\u001b[0;34m()\u001b[0m\n\u001b[1;32m      4\u001b[0m     \u001b[0msrc\u001b[0m \u001b[0;34m=\u001b[0m \u001b[0mos\u001b[0m\u001b[0;34m.\u001b[0m\u001b[0mpath\u001b[0m\u001b[0;34m.\u001b[0m\u001b[0mjoin\u001b[0m\u001b[0;34m(\u001b[0m\u001b[0moriginal_dataset_dir\u001b[0m\u001b[0;34m,\u001b[0m \u001b[0mfname\u001b[0m\u001b[0;34m)\u001b[0m\u001b[0;34m\u001b[0m\u001b[0;34m\u001b[0m\u001b[0m\n\u001b[1;32m      5\u001b[0m     \u001b[0mdst\u001b[0m \u001b[0;34m=\u001b[0m \u001b[0mos\u001b[0m\u001b[0;34m.\u001b[0m\u001b[0mpath\u001b[0m\u001b[0;34m.\u001b[0m\u001b[0mjoin\u001b[0m\u001b[0;34m(\u001b[0m\u001b[0mtrain_cats_dir\u001b[0m\u001b[0;34m,\u001b[0m \u001b[0mfname\u001b[0m\u001b[0;34m)\u001b[0m\u001b[0;34m\u001b[0m\u001b[0;34m\u001b[0m\u001b[0m\n\u001b[0;32m----> 6\u001b[0;31m     \u001b[0mshutil\u001b[0m\u001b[0;34m.\u001b[0m\u001b[0mcopyfile\u001b[0m\u001b[0;34m(\u001b[0m\u001b[0msrc\u001b[0m\u001b[0;34m,\u001b[0m \u001b[0mdst\u001b[0m\u001b[0;34m)\u001b[0m\u001b[0;34m\u001b[0m\u001b[0;34m\u001b[0m\u001b[0m\n\u001b[0m",
            "\u001b[0;32m/usr/lib/python3.6/shutil.py\u001b[0m in \u001b[0;36mcopyfile\u001b[0;34m(src, dst, follow_symlinks)\u001b[0m\n\u001b[1;32m    118\u001b[0m         \u001b[0mos\u001b[0m\u001b[0;34m.\u001b[0m\u001b[0msymlink\u001b[0m\u001b[0;34m(\u001b[0m\u001b[0mos\u001b[0m\u001b[0;34m.\u001b[0m\u001b[0mreadlink\u001b[0m\u001b[0;34m(\u001b[0m\u001b[0msrc\u001b[0m\u001b[0;34m)\u001b[0m\u001b[0;34m,\u001b[0m \u001b[0mdst\u001b[0m\u001b[0;34m)\u001b[0m\u001b[0;34m\u001b[0m\u001b[0;34m\u001b[0m\u001b[0m\n\u001b[1;32m    119\u001b[0m     \u001b[0;32melse\u001b[0m\u001b[0;34m:\u001b[0m\u001b[0;34m\u001b[0m\u001b[0;34m\u001b[0m\u001b[0m\n\u001b[0;32m--> 120\u001b[0;31m         \u001b[0;32mwith\u001b[0m \u001b[0mopen\u001b[0m\u001b[0;34m(\u001b[0m\u001b[0msrc\u001b[0m\u001b[0;34m,\u001b[0m \u001b[0;34m'rb'\u001b[0m\u001b[0;34m)\u001b[0m \u001b[0;32mas\u001b[0m \u001b[0mfsrc\u001b[0m\u001b[0;34m:\u001b[0m\u001b[0;34m\u001b[0m\u001b[0;34m\u001b[0m\u001b[0m\n\u001b[0m\u001b[1;32m    121\u001b[0m             \u001b[0;32mwith\u001b[0m \u001b[0mopen\u001b[0m\u001b[0;34m(\u001b[0m\u001b[0mdst\u001b[0m\u001b[0;34m,\u001b[0m \u001b[0;34m'wb'\u001b[0m\u001b[0;34m)\u001b[0m \u001b[0;32mas\u001b[0m \u001b[0mfdst\u001b[0m\u001b[0;34m:\u001b[0m\u001b[0;34m\u001b[0m\u001b[0;34m\u001b[0m\u001b[0m\n\u001b[1;32m    122\u001b[0m                 \u001b[0mcopyfileobj\u001b[0m\u001b[0;34m(\u001b[0m\u001b[0mfsrc\u001b[0m\u001b[0;34m,\u001b[0m \u001b[0mfdst\u001b[0m\u001b[0;34m)\u001b[0m\u001b[0;34m\u001b[0m\u001b[0;34m\u001b[0m\u001b[0m\n",
            "\u001b[0;31mFileNotFoundError\u001b[0m: [Errno 2] No such file or directory: 'train/cat.0.jpg'"
          ]
        }
      ]
    },
    {
      "cell_type": "code",
      "metadata": {
        "id": "j8GoT361gIgq",
        "colab_type": "code",
        "colab": {}
      },
      "source": [
        "# Copy next 500 cat images to validation_cats_dir\n",
        "fnames = ['cat.{}.jpg'.format(i) for i in range(1000, 1500)]\n",
        "for fname in fnames:\n",
        "    src = os.path.join(original_dataset_dir, fname)\n",
        "    dst = os.path.join(validation_cats_dir, fname)\n",
        "    shutil.copyfile(src, dst)\n",
        "    \n",
        "# Copy next 500 cat images to test_cats_dir\n",
        "fnames = ['cat.{}.jpg'.format(i) for i in range(1500, 2000)]\n",
        "for fname in fnames:\n",
        "    src = os.path.join(original_dataset_dir, fname)\n",
        "    dst = os.path.join(test_cats_dir, fname)\n",
        "    shutil.copyfile(src, dst)\n",
        "    \n",
        "# Copy first 1000 dog images to train_dogs_dir\n",
        "fnames = ['dog.{}.jpg'.format(i) for i in range(1000)]\n",
        "for fname in fnames:\n",
        "    src = os.path.join(original_dataset_dir, fname)\n",
        "    dst = os.path.join(train_dogs_dir, fname)\n",
        "    shutil.copyfile(src, dst)\n",
        "    \n",
        "# Copy next 500 dog images to validation_dogs_dir\n",
        "fnames = ['dog.{}.jpg'.format(i) for i in range(1000, 1500)]\n",
        "for fname in fnames:\n",
        "    src = os.path.join(original_dataset_dir, fname)\n",
        "    dst = os.path.join(validation_dogs_dir, fname)\n",
        "    shutil.copyfile(src, dst)\n",
        "    \n",
        "# Copy next 500 dog images to test_dogs_dir\n",
        "fnames = ['dog.{}.jpg'.format(i) for i in range(1500, 2000)]\n",
        "for fname in fnames:\n",
        "    src = os.path.join(original_dataset_dir, fname)\n",
        "    dst = os.path.join(test_dogs_dir, fname)\n",
        "    shutil.copyfile(src, dst)"
      ],
      "execution_count": 0,
      "outputs": []
    },
    {
      "cell_type": "code",
      "metadata": {
        "id": "1kiZHt70gIgt",
        "colab_type": "code",
        "colab": {
          "base_uri": "https://localhost:8080/",
          "height": 35
        },
        "outputId": "c78de9af-a7e5-458e-abec-dd19ed8a6bef"
      },
      "source": [
        "print('total training cat images:', len(os.listdir(train_cats_dir)))"
      ],
      "execution_count": 28,
      "outputs": [
        {
          "output_type": "stream",
          "text": [
            "total training cat images: 1000\n"
          ],
          "name": "stdout"
        }
      ]
    },
    {
      "cell_type": "code",
      "metadata": {
        "id": "OkSF0L_1gIgv",
        "colab_type": "code",
        "colab": {
          "base_uri": "https://localhost:8080/",
          "height": 35
        },
        "outputId": "42da3b97-b3aa-4d6f-d231-0f43420306b3"
      },
      "source": [
        "print('total training dog images:', len(os.listdir(train_dogs_dir)))"
      ],
      "execution_count": 29,
      "outputs": [
        {
          "output_type": "stream",
          "text": [
            "total training dog images: 1000\n"
          ],
          "name": "stdout"
        }
      ]
    },
    {
      "cell_type": "code",
      "metadata": {
        "id": "n3QyhoJsgIgx",
        "colab_type": "code",
        "colab": {
          "base_uri": "https://localhost:8080/",
          "height": 35
        },
        "outputId": "80566d3b-950f-4684-bacc-50b1a82e1950"
      },
      "source": [
        "print('total validation cat images:', len(os.listdir(validation_cats_dir)))\n"
      ],
      "execution_count": 30,
      "outputs": [
        {
          "output_type": "stream",
          "text": [
            "total validation cat images: 500\n"
          ],
          "name": "stdout"
        }
      ]
    },
    {
      "cell_type": "code",
      "metadata": {
        "id": "YD-DTVgdgIgz",
        "colab_type": "code",
        "colab": {
          "base_uri": "https://localhost:8080/",
          "height": 35
        },
        "outputId": "5498ef0b-b693-4a81-8cc0-2c49de5a8293"
      },
      "source": [
        "print('total validation dog images:', len(os.listdir(validation_dogs_dir)))"
      ],
      "execution_count": 31,
      "outputs": [
        {
          "output_type": "stream",
          "text": [
            "total validation dog images: 500\n"
          ],
          "name": "stdout"
        }
      ]
    },
    {
      "cell_type": "code",
      "metadata": {
        "id": "XIMX1ekRgIg1",
        "colab_type": "code",
        "colab": {
          "base_uri": "https://localhost:8080/",
          "height": 35
        },
        "outputId": "0a83d9c4-06aa-43e5-8a8d-7d0ae38ecbb8"
      },
      "source": [
        "print('total test cat images:', len(os.listdir(test_cats_dir)))"
      ],
      "execution_count": 32,
      "outputs": [
        {
          "output_type": "stream",
          "text": [
            "total test cat images: 501\n"
          ],
          "name": "stdout"
        }
      ]
    },
    {
      "cell_type": "code",
      "metadata": {
        "id": "2coNpwS7gIg4",
        "colab_type": "code",
        "colab": {
          "base_uri": "https://localhost:8080/",
          "height": 35
        },
        "outputId": "82353f7f-f5c0-4b07-fdef-7af4e0cabfa5"
      },
      "source": [
        "print('total test dog images:', len(os.listdir(test_dogs_dir)))"
      ],
      "execution_count": 33,
      "outputs": [
        {
          "output_type": "stream",
          "text": [
            "total test dog images: 500\n"
          ],
          "name": "stdout"
        }
      ]
    },
    {
      "cell_type": "markdown",
      "metadata": {
        "id": "TSkWzXcWgIg6",
        "colab_type": "text"
      },
      "source": [
        "#### 5.2.3 네트워크 구성하기(building our network)\n",
        "\n",
        "MNIST 할 때 사용한 구조에다가 Conv2D(relu) + MaxPooling2D 를 하나 더 넣어서 빌딩 할 예정\n",
        "- 150 X 150 크기의 입력(임의로 선택한 크기)으로 시작해서 flatten 층 이전에 7 x 7 크기의 특성 맵으로 줄어듬\n",
        "\n",
        "이진 분류 문제이므로 네트워크는 하나의 유닛(크기가 1인 Dense 층)과 sigmoid 활성화 함수로 끝난다.\n",
        "- 이 유닛은 한 클래스에 대한 확률을 인코딩 할 것이다."
      ]
    },
    {
      "cell_type": "code",
      "metadata": {
        "id": "a2-NoOVXgIg6",
        "colab_type": "code",
        "colab": {}
      },
      "source": [
        "from keras import layers\n",
        "from keras import models"
      ],
      "execution_count": 0,
      "outputs": []
    },
    {
      "cell_type": "code",
      "metadata": {
        "id": "1EqoTyqhgIg8",
        "colab_type": "code",
        "colab": {}
      },
      "source": [
        "model = models.Sequential()\n",
        "\n",
        "model.add(layers.Conv2D(32, (3, 3), activation='relu', input_shape=(150, 150, 3)))\n",
        "model.add(layers.MaxPooling2D(2,2))\n",
        "\n",
        "model.add(layers.Conv2D(64, (3, 3), activation='relu'))\n",
        "model.add(layers.MaxPooling2D(2,2))\n",
        "\n",
        "model.add(layers.Conv2D(128, (3, 3), activation='relu'))\n",
        "model.add(layers.MaxPooling2D(2,2))\n",
        "\n",
        "model.add(layers.Conv2D(128, (3, 3), activation='relu'))\n",
        "model.add(layers.MaxPooling2D(2,2))\n",
        "\n",
        "model.add(layers.Flatten())\n",
        "model.add(layers.Dense(512, activation='relu'))\n",
        "\n",
        "model.add(layers.Dense(1, activation='sigmoid'))"
      ],
      "execution_count": 0,
      "outputs": []
    },
    {
      "cell_type": "code",
      "metadata": {
        "id": "-LJz1esrgIg_",
        "colab_type": "code",
        "colab": {
          "base_uri": "https://localhost:8080/",
          "height": 557
        },
        "outputId": "e465891a-ff03-40a7-b7ed-75f4cee5b935"
      },
      "source": [
        "model.summary()"
      ],
      "execution_count": 36,
      "outputs": [
        {
          "output_type": "stream",
          "text": [
            "Model: \"sequential_3\"\n",
            "_________________________________________________________________\n",
            "Layer (type)                 Output Shape              Param #   \n",
            "=================================================================\n",
            "conv2d_7 (Conv2D)            (None, 148, 148, 32)      896       \n",
            "_________________________________________________________________\n",
            "max_pooling2d_5 (MaxPooling2 (None, 74, 74, 32)        0         \n",
            "_________________________________________________________________\n",
            "conv2d_8 (Conv2D)            (None, 72, 72, 64)        18496     \n",
            "_________________________________________________________________\n",
            "max_pooling2d_6 (MaxPooling2 (None, 36, 36, 64)        0         \n",
            "_________________________________________________________________\n",
            "conv2d_9 (Conv2D)            (None, 34, 34, 128)       73856     \n",
            "_________________________________________________________________\n",
            "max_pooling2d_7 (MaxPooling2 (None, 17, 17, 128)       0         \n",
            "_________________________________________________________________\n",
            "conv2d_10 (Conv2D)           (None, 15, 15, 128)       147584    \n",
            "_________________________________________________________________\n",
            "max_pooling2d_8 (MaxPooling2 (None, 7, 7, 128)         0         \n",
            "_________________________________________________________________\n",
            "flatten_3 (Flatten)          (None, 6272)              0         \n",
            "_________________________________________________________________\n",
            "dense_5 (Dense)              (None, 512)               3211776   \n",
            "_________________________________________________________________\n",
            "dense_6 (Dense)              (None, 1)                 513       \n",
            "=================================================================\n",
            "Total params: 3,453,121\n",
            "Trainable params: 3,453,121\n",
            "Non-trainable params: 0\n",
            "_________________________________________________________________\n"
          ],
          "name": "stdout"
        }
      ]
    },
    {
      "cell_type": "code",
      "metadata": {
        "id": "HO91MOYfgIhB",
        "colab_type": "code",
        "colab": {}
      },
      "source": [
        "from keras import optimizers\n",
        "\n",
        "model.compile(loss='binary_crossentropy',\n",
        "              optimizer=optimizers.RMSprop(lr=1e-4),\n",
        "              metrics=['acc'])"
      ],
      "execution_count": 0,
      "outputs": []
    },
    {
      "cell_type": "markdown",
      "metadata": {
        "id": "CfmU0aopgIhC",
        "colab_type": "text"
      },
      "source": [
        "#### 5.2.4 데이터 전처리\n",
        "\n",
        "데이터는 네트워크에 들어가기 전에 부동 소수 타입의 텐서로 적절하게 전처리 되어야함\n",
        "\n",
        "1. 사진 파일을 읽는다.\n",
        "2. JPEG 콘텐츠를 RGB 픽셀 값으로 디코딩한다.\n",
        "3. 그다음 부동 소수 타입의 텐서로 변환한다.\n",
        "4. 픽셀 값(0에서 255사이)의 스케일을 [0, 1] 사이로 조정한다.(신경망은 작은 입력 값을 선호한다.)\n",
        "\n",
        "\n",
        "It may seem a bit daunting, but thankfully Keras has utilities to take care of these steps automatically. Keras has a module with image processing helper tools, located at `keras.preprocessing.image`. In particular, it contains the class `ImageDataGenerator` which allows to quickly set up Python generators that can automatically turn image files on disk into batches of pre-processed tensors. This is what we will use here.\n",
        "\n",
        "> `keras.preprocessing.image` : 이미지 처리를 위한 헬퍼 도구들, `ImageDataGenerator` : 디스크에 있는 이미지 파일을 전처리된 배치 텐서로 자동으로 바꾸어 주는 파이썬 제너레이터를 만들어 줌"
      ]
    },
    {
      "cell_type": "code",
      "metadata": {
        "id": "A-gx2FN1gIhD",
        "colab_type": "code",
        "colab": {}
      },
      "source": [
        "from keras_preprocessing.image import ImageDataGenerator\n",
        "\n",
        "# 모든 이미지를 1/255로 스케일을 조정\n",
        "\n",
        "train_datagen = ImageDataGenerator(rescale=1./255)\n",
        "test_datagen = ImageDataGenerator(rescale=1./255)"
      ],
      "execution_count": 0,
      "outputs": []
    },
    {
      "cell_type": "code",
      "metadata": {
        "id": "s_TC_1DlgIhE",
        "colab_type": "code",
        "colab": {
          "base_uri": "https://localhost:8080/",
          "height": 53
        },
        "outputId": "1ee9f489-fe86-44c7-a223-60a53e6a5d29"
      },
      "source": [
        "train_generator = train_datagen.flow_from_directory(\n",
        "    train_dir,\n",
        "    target_size=(150, 150),\n",
        "    batch_size=20,\n",
        "    class_mode='binary')\n",
        "\n",
        "validation_generator = test_datagen.flow_from_directory(\n",
        "        validation_dir,\n",
        "        target_size=(150, 150),\n",
        "        batch_size=20,\n",
        "        class_mode='binary')"
      ],
      "execution_count": 39,
      "outputs": [
        {
          "output_type": "stream",
          "text": [
            "Found 2000 images belonging to 2 classes.\n",
            "Found 1000 images belonging to 2 classes.\n"
          ],
          "name": "stdout"
        }
      ]
    },
    {
      "cell_type": "markdown",
      "metadata": {
        "id": "ptL0CHGZgIhG",
        "colab_type": "text"
      },
      "source": [
        "- 출력은 150 x 150 RGB 이미지의 배치 ((20, 150, 150, 3), 크기)와 이진 레이블의 배치((20,), 크기)입니다.\n",
        "- 각 배치에는 20개의 샘플(배치 크기)이 있다. 제너레이터는 이 배치를 무한정 만들어 낸다. 그래서 break가 필요"
      ]
    },
    {
      "cell_type": "code",
      "metadata": {
        "id": "lX7uUiPngIhH",
        "colab_type": "code",
        "colab": {
          "base_uri": "https://localhost:8080/",
          "height": 53
        },
        "outputId": "99252c35-6b42-4b4b-ab2f-2cd436a2fe64"
      },
      "source": [
        "for data_batch, labels_batch in train_generator:\n",
        "    print('data batch shape:', data_batch.shape)\n",
        "    print('labels batch shape:', labels_batch.shape)\n",
        "    break"
      ],
      "execution_count": 40,
      "outputs": [
        {
          "output_type": "stream",
          "text": [
            "data batch shape: (20, 150, 150, 3)\n",
            "labels batch shape: (20,)\n"
          ],
          "name": "stdout"
        }
      ]
    },
    {
      "cell_type": "markdown",
      "metadata": {
        "id": "Mp0o_hS4gIhJ",
        "colab_type": "text"
      },
      "source": [
        "- fit_generator는 fit 메서드와 동일하되, 제너레이터를 사용할 수 있는 기능\n",
        "- 데이터가 끝없이 생성되기 때문에 케라스 모델에 하나의 에포크를 정의하기 위해 제너레이터로부터 얼마나 많은 샘플을 뽑을것인지 알려줘야 함\n",
        "  - steps_per_epoch가 역할을 함\n",
        "- validation_data도 마찬가지로 넣을 수 있다.\n",
        "  - validation_steps이 역할을 함"
      ]
    },
    {
      "cell_type": "code",
      "metadata": {
        "id": "7_4JfeGggIhJ",
        "colab_type": "code",
        "colab": {
          "base_uri": "https://localhost:8080/",
          "height": 1000
        },
        "outputId": "65653ac0-801d-40dc-996c-2a569b928f8c"
      },
      "source": [
        "history = model.fit_generator(\n",
        "      train_generator,\n",
        "      steps_per_epoch=100,\n",
        "      epochs=30,\n",
        "      validation_data=validation_generator,\n",
        "      validation_steps=50)"
      ],
      "execution_count": 42,
      "outputs": [
        {
          "output_type": "stream",
          "text": [
            "Epoch 1/30\n",
            "100/100 [==============================] - 11s 110ms/step - loss: 0.6590 - acc: 0.6125 - val_loss: 0.5957 - val_acc: 0.5350\n",
            "Epoch 2/30\n",
            "100/100 [==============================] - 10s 102ms/step - loss: 0.6093 - acc: 0.6655 - val_loss: 0.6305 - val_acc: 0.6480\n",
            "Epoch 3/30\n",
            "100/100 [==============================] - 10s 104ms/step - loss: 0.5671 - acc: 0.7050 - val_loss: 0.6100 - val_acc: 0.6590\n",
            "Epoch 4/30\n",
            "100/100 [==============================] - 10s 102ms/step - loss: 0.5391 - acc: 0.7305 - val_loss: 0.4978 - val_acc: 0.6490\n",
            "Epoch 5/30\n",
            "100/100 [==============================] - 10s 101ms/step - loss: 0.5161 - acc: 0.7285 - val_loss: 0.6138 - val_acc: 0.7020\n",
            "Epoch 6/30\n",
            "100/100 [==============================] - 10s 102ms/step - loss: 0.4910 - acc: 0.7575 - val_loss: 0.4668 - val_acc: 0.6810\n",
            "Epoch 7/30\n",
            "100/100 [==============================] - 10s 103ms/step - loss: 0.4602 - acc: 0.7835 - val_loss: 0.8909 - val_acc: 0.7080\n",
            "Epoch 8/30\n",
            "100/100 [==============================] - 10s 102ms/step - loss: 0.4320 - acc: 0.7975 - val_loss: 0.4591 - val_acc: 0.6920\n",
            "Epoch 9/30\n",
            "100/100 [==============================] - 10s 102ms/step - loss: 0.4072 - acc: 0.8160 - val_loss: 0.5045 - val_acc: 0.6990\n",
            "Epoch 10/30\n",
            "100/100 [==============================] - 10s 102ms/step - loss: 0.3784 - acc: 0.8355 - val_loss: 0.5916 - val_acc: 0.7170\n",
            "Epoch 11/30\n",
            "100/100 [==============================] - 10s 103ms/step - loss: 0.3606 - acc: 0.8480 - val_loss: 0.3467 - val_acc: 0.7090\n",
            "Epoch 12/30\n",
            "100/100 [==============================] - 10s 102ms/step - loss: 0.3273 - acc: 0.8530 - val_loss: 0.5978 - val_acc: 0.7120\n",
            "Epoch 13/30\n",
            "100/100 [==============================] - 10s 103ms/step - loss: 0.3088 - acc: 0.8780 - val_loss: 0.4649 - val_acc: 0.7190\n",
            "Epoch 14/30\n",
            "100/100 [==============================] - 10s 102ms/step - loss: 0.2817 - acc: 0.8790 - val_loss: 0.8467 - val_acc: 0.7430\n",
            "Epoch 15/30\n",
            "100/100 [==============================] - 10s 103ms/step - loss: 0.2650 - acc: 0.8875 - val_loss: 0.4631 - val_acc: 0.7370\n",
            "Epoch 16/30\n",
            "100/100 [==============================] - 10s 102ms/step - loss: 0.2416 - acc: 0.9085 - val_loss: 0.7291 - val_acc: 0.7160\n",
            "Epoch 17/30\n",
            "100/100 [==============================] - 10s 101ms/step - loss: 0.2212 - acc: 0.9195 - val_loss: 0.4326 - val_acc: 0.7130\n",
            "Epoch 18/30\n",
            "100/100 [==============================] - 10s 102ms/step - loss: 0.2033 - acc: 0.9240 - val_loss: 0.4925 - val_acc: 0.7170\n",
            "Epoch 19/30\n",
            "100/100 [==============================] - 10s 103ms/step - loss: 0.1691 - acc: 0.9435 - val_loss: 0.6348 - val_acc: 0.7300\n",
            "Epoch 20/30\n",
            "100/100 [==============================] - 10s 102ms/step - loss: 0.1539 - acc: 0.9465 - val_loss: 0.5591 - val_acc: 0.7270\n",
            "Epoch 21/30\n",
            "100/100 [==============================] - 10s 102ms/step - loss: 0.1385 - acc: 0.9535 - val_loss: 0.6386 - val_acc: 0.7250\n",
            "Epoch 22/30\n",
            "100/100 [==============================] - 10s 102ms/step - loss: 0.1202 - acc: 0.9615 - val_loss: 1.1020 - val_acc: 0.7340\n",
            "Epoch 23/30\n",
            "100/100 [==============================] - 10s 103ms/step - loss: 0.1057 - acc: 0.9670 - val_loss: 0.6606 - val_acc: 0.7400\n",
            "Epoch 24/30\n",
            "100/100 [==============================] - 10s 102ms/step - loss: 0.0935 - acc: 0.9690 - val_loss: 0.2697 - val_acc: 0.7290\n",
            "Epoch 25/30\n",
            "100/100 [==============================] - 10s 102ms/step - loss: 0.0797 - acc: 0.9750 - val_loss: 0.7595 - val_acc: 0.7110\n",
            "Epoch 26/30\n",
            "100/100 [==============================] - 10s 102ms/step - loss: 0.0672 - acc: 0.9825 - val_loss: 0.8288 - val_acc: 0.7260\n",
            "Epoch 27/30\n",
            "100/100 [==============================] - 10s 103ms/step - loss: 0.0568 - acc: 0.9860 - val_loss: 0.4507 - val_acc: 0.7230\n",
            "Epoch 28/30\n",
            "100/100 [==============================] - 10s 102ms/step - loss: 0.0435 - acc: 0.9915 - val_loss: 1.1021 - val_acc: 0.7350\n",
            "Epoch 29/30\n",
            "100/100 [==============================] - 10s 102ms/step - loss: 0.0441 - acc: 0.9895 - val_loss: 1.0791 - val_acc: 0.7310\n",
            "Epoch 30/30\n",
            "100/100 [==============================] - 10s 102ms/step - loss: 0.0366 - acc: 0.9895 - val_loss: 0.7432 - val_acc: 0.7160\n"
          ],
          "name": "stdout"
        }
      ]
    },
    {
      "cell_type": "code",
      "metadata": {
        "id": "pUne1AzIgIhL",
        "colab_type": "code",
        "colab": {}
      },
      "source": [
        "model.save('cats_and_dogs_small_1.h5')"
      ],
      "execution_count": 0,
      "outputs": []
    },
    {
      "cell_type": "code",
      "metadata": {
        "id": "yDE4BsIjgIhN",
        "colab_type": "code",
        "colab": {
          "base_uri": "https://localhost:8080/",
          "height": 545
        },
        "outputId": "4418d100-1df9-45ae-ce27-d0bb6695d83d"
      },
      "source": [
        "import matplotlib.pyplot as plt\n",
        "\n",
        "acc = history.history['acc']\n",
        "val_acc = history.history['val_acc']\n",
        "loss = history.history['loss']\n",
        "val_loss = history.history['val_loss']\n",
        "\n",
        "epochs = range(len(acc))\n",
        "\n",
        "plt.plot(epochs, acc, 'bo', label='Training acc')\n",
        "plt.plot(epochs, val_acc, 'b', label='Validation acc')\n",
        "plt.title('Training and validation accuracy')\n",
        "plt.legend()\n",
        "\n",
        "plt.figure()\n",
        "\n",
        "plt.plot(epochs, loss, 'bo', label='Training loss')\n",
        "plt.plot(epochs, val_loss, 'b', label='Validation loss')\n",
        "plt.title('Training and validation loss')\n",
        "plt.legend()\n",
        "\n",
        "plt.show()"
      ],
      "execution_count": 44,
      "outputs": [
        {
          "output_type": "display_data",
          "data": {
            "image/png": "[encoded data removed]",
            "text/plain": [
              "<Figure size 432x288 with 1 Axes>"
            ]
          },
          "metadata": {
            "tags": [],
            "needs_background": "light"
          }
        },
        {
          "output_type": "display_data",
          "data": {
            "image/png": "[encoded data removed]",
            "text/plain": [
              "<Figure size 432x288 with 1 Axes>"
            ]
          },
          "metadata": {
            "tags": [],
            "needs_background": "light"
          }
        }
      ]
    },
    {
      "cell_type": "markdown",
      "metadata": {
        "id": "gofqkl0GgIhP",
        "colab_type": "text"
      },
      "source": [
        "- 대략적으로 70 ~ 72% 검증 정확도를 보여줌\n",
        "- 검증 손실은 다섯번의 에포크만에 최솟값에 다다른 후 진전이 없음\n",
        "- 과대적합으로 판단\n",
        "- 드롭아웃이나 가중치 감소처럼 과대적합 방법 사용 가능\n",
        "- 비전 쪽에 사용하는 방법은 데이터 증식 방법이 있음"
      ]
    },
    {
      "cell_type": "markdown",
      "metadata": {
        "id": "vCGJW0xVgIhP",
        "colab_type": "text"
      },
      "source": [
        "#### 5.2.5 데이터 증식 사용하기(Using data augmentation)\n",
        "\n",
        "- 과대적합은 학습할 샘플이 너무 적어 새로운 데이터에 일반화할 수 있는 모델을 후련시킬 수 없기 떄문에 발생\n",
        "\n",
        "\n",
        "**데이터 증식**\n",
        "- 기존 훈련 샘플로부터 더 많은 훈련 데이터를 생성하는 방법\n",
        "- 그럴듯한 이미지를 생성하도록 여러 가지 랜덤한 변환을 적용하여 샘플을 늘림\n",
        "- 훈련할 때 모델일 정확히 같은 데이터를 두 번 만나지 않도록 하는 것이 목표\n",
        "- 모델이 데이터의 여러 측면을 학습하면 일반화에 도움이 된다.\n",
        "\n",
        "`ImageDataGenerator` 를 이용하여 랜덤 변환 할 수 있다."
      ]
    },
    {
      "cell_type": "code",
      "metadata": {
        "id": "24bockIlgIhP",
        "colab_type": "code",
        "colab": {}
      },
      "source": [
        "datagen = ImageDataGenerator(\n",
        "      rotation_range=40,\n",
        "      width_shift_range=0.2,\n",
        "      height_shift_range=0.2,\n",
        "      shear_range=0.2,\n",
        "      zoom_range=0.2,\n",
        "      horizontal_flip=True,\n",
        "      fill_mode='nearest')"
      ],
      "execution_count": 0,
      "outputs": []
    },
    {
      "cell_type": "markdown",
      "metadata": {
        "id": "WfVzR1mQgIhS",
        "colab_type": "text"
      },
      "source": [
        "- rotation_range : 랜덤하게 사진을 회전시킬 각도 범위\n",
        "- width_shift_range, height_shift_range : 사진을 수평과 수직으로 랜덤하게 평행 이동 시킬 범위(전체 넓이와 높이에 대한 비율)\n",
        "- shear_range : 랜덤하게 전단 변환(shearing transformation)을 적용할 각도 범위\n",
        "- zoom_range : 랜덤하게 사진을 확대할 범위\n",
        "- horizontal_flip : 랜덤하게 이미지를 수평으로 뒤집기. 수평 대칭을 가정할 수 있을 때 사용(예를 들면 풍경/인물 사진)\n",
        "- fill_mode : 회전이나 가로/세로 이동으로 인해 새롭게 생성해야 할 픽셀을 채울 전략"
      ]
    },
    {
      "cell_type": "code",
      "metadata": {
        "id": "9dRjYsKggIhS",
        "colab_type": "code",
        "colab": {}
      },
      "source": [
        "# This is module with image preprocessing utilities\n",
        "from keras.preprocessing import image\n",
        "\n",
        "fnames = [os.path.join(train_cats_dir, fname) for fname in os.listdir(train_cats_dir)]"
      ],
      "execution_count": 0,
      "outputs": []
    },
    {
      "cell_type": "code",
      "metadata": {
        "id": "4Z3NknxQgIhU",
        "colab_type": "code",
        "colab": {}
      },
      "source": [
        "# We pick one image to \"augment\"\n",
        "img_path = fnames[3]"
      ],
      "execution_count": 0,
      "outputs": []
    },
    {
      "cell_type": "code",
      "metadata": {
        "id": "DOwMIu_ZgIhW",
        "colab_type": "code",
        "colab": {}
      },
      "source": [
        "# Read the image and resize it\n",
        "img = image.load_img(img_path, target_size=(150, 150))\n",
        "\n",
        "# Convert it to a Numpy array with shape (150, 150, 3)\n",
        "x = image.img_to_array(img)\n",
        "\n",
        "# Reshape it to (1, 150, 150, 3)\n",
        "x = x.reshape((1,) + x.shape)"
      ],
      "execution_count": 0,
      "outputs": []
    },
    {
      "cell_type": "code",
      "metadata": {
        "id": "Fi40QoKjgIhX",
        "colab_type": "code",
        "colab": {
          "base_uri": "https://localhost:8080/",
          "height": 1000
        },
        "outputId": "00171adb-b2bd-498f-bc64-3f6da5d8fde8"
      },
      "source": [
        "# The .flow() command below generates batches of randomly transformed images.\n",
        "# It will loop indefinitely, so we need to `break` the loop at some point!\n",
        "i = 0\n",
        "for batch in datagen.flow(x, batch_size=1):\n",
        "    plt.figure(i)\n",
        "    imgplot = plt.imshow(image.array_to_img(batch[0]))\n",
        "    i += 1\n",
        "    if i % 4 == 0:\n",
        "        break\n",
        "\n",
        "plt.show()"
      ],
      "execution_count": 49,
      "outputs": [
        {
          "output_type": "display_data",
          "data": {
            "image/png": "[encoded data removed]",
            "text/plain": [
              "<Figure size 432x288 with 1 Axes>"
            ]
          },
          "metadata": {
            "tags": [],
            "needs_background": "light"
          }
        },
        {
          "output_type": "display_data",
          "data": {
            "image/png": "[encoded data removed]",
            "text/plain": [
              "<Figure size 432x288 with 1 Axes>"
            ]
          },
          "metadata": {
            "tags": [],
            "needs_background": "light"
          }
        },
        {
          "output_type": "display_data",
          "data": {
            "image/png": "[encoded data removed]",
            "text/plain": [
              "<Figure size 432x288 with 1 Axes>"
            ]
          },
          "metadata": {
            "tags": [],
            "needs_background": "light"
          }
        },
        {
          "output_type": "display_data",
          "data": {
            "image/png": "[encoded data removed]",
            "text/plain": [
              "<Figure size 432x288 with 1 Axes>"
            ]
          },
          "metadata": {
            "tags": [],
            "needs_background": "light"
          }
        }
      ]
    },
    {
      "cell_type": "markdown",
      "metadata": {
        "id": "sTyb9-E_gIhZ",
        "colab_type": "text"
      },
      "source": [
        "- 새로운 정보를 만들어 낼 수 없고 단지 기존 정보의 재조합만 가능하기 때문에 완전하게 과대적합을 막을 수는 없다.\n",
        "- 그래서 dropout층을 추가"
      ]
    },
    {
      "cell_type": "code",
      "metadata": {
        "id": "utrSgdUGgIhZ",
        "colab_type": "code",
        "colab": {}
      },
      "source": [
        "model = models.Sequential()\n",
        "\n",
        "model.add(layers.Conv2D(32, (3, 3), activation='relu', input_shape=(150, 150, 3)))\n",
        "model.add(layers.MaxPooling2D(2,2))\n",
        "\n",
        "model.add(layers.Conv2D(64, (3, 3), activation='relu'))\n",
        "model.add(layers.MaxPooling2D(2,2))\n",
        "\n",
        "model.add(layers.Conv2D(128, (3, 3), activation='relu'))\n",
        "model.add(layers.MaxPooling2D(2,2))\n",
        "\n",
        "model.add(layers.Conv2D(128, (3, 3), activation='relu'))\n",
        "model.add(layers.MaxPooling2D(2,2))\n",
        "\n",
        "model.add(layers.Flatten())\n",
        "model.add(layers.Dropout(0.5))\n",
        "model.add(layers.Dense(512, activation='relu'))\n",
        "\n",
        "model.add(layers.Dense(1, activation='sigmoid'))\n",
        "\n",
        "model.compile(loss='binary_crossentropy',\n",
        "              optimizer=optimizers.RMSprop(lr=1e-4),\n",
        "              metrics=['acc'])"
      ],
      "execution_count": 0,
      "outputs": []
    },
    {
      "cell_type": "code",
      "metadata": {
        "id": "TQ80gA-IgIhb",
        "colab_type": "code",
        "colab": {
          "base_uri": "https://localhost:8080/",
          "height": 53
        },
        "outputId": "10ac82a5-b95d-4b0a-970f-fe52ba890761"
      },
      "source": [
        "train_datagen = ImageDataGenerator(\n",
        "    rescale=1./255,\n",
        "    rotation_range=40,\n",
        "    width_shift_range=0.2,\n",
        "    height_shift_range=0.2,\n",
        "    shear_range=0.2,\n",
        "    zoom_range=0.2,\n",
        "    horizontal_flip=True,)\n",
        "\n",
        "# Note that the validation data should not be augmented!\n",
        "test_datagen = ImageDataGenerator(rescale=1./255)\n",
        "\n",
        "train_generator = train_datagen.flow_from_directory(\n",
        "        # This is the target directory\n",
        "        train_dir,\n",
        "        # All images will be resized to 150x150\n",
        "        target_size=(150, 150),\n",
        "        batch_size=32,\n",
        "        # Since we use binary_crossentropy loss, we need binary labels\n",
        "        class_mode='binary')\n",
        "\n",
        "validation_generator = test_datagen.flow_from_directory(\n",
        "        validation_dir,\n",
        "        target_size=(150, 150),\n",
        "        batch_size=32,\n",
        "        class_mode='binary')"
      ],
      "execution_count": 51,
      "outputs": [
        {
          "output_type": "stream",
          "text": [
            "Found 2000 images belonging to 2 classes.\n",
            "Found 1000 images belonging to 2 classes.\n"
          ],
          "name": "stdout"
        }
      ]
    },
    {
      "cell_type": "code",
      "metadata": {
        "id": "7iV0MUywgIhd",
        "colab_type": "code",
        "colab": {
          "base_uri": "https://localhost:8080/",
          "height": 1000
        },
        "outputId": "1cbba88a-00e7-490a-9d39-f6f870665636"
      },
      "source": [
        "history = model.fit_generator(\n",
        "      train_generator,\n",
        "      steps_per_epoch=100,\n",
        "      epochs=100, # epochs 100 to 10....not enough time...\n",
        "      validation_data=validation_generator,\n",
        "      validation_steps=50)"
      ],
      "execution_count": 52,
      "outputs": [
        {
          "output_type": "stream",
          "text": [
            "Epoch 1/100\n",
            "100/100 [==============================] - 35s 350ms/step - loss: 0.6942 - acc: 0.5163 - val_loss: 0.6921 - val_acc: 0.5032\n",
            "Epoch 2/100\n",
            "100/100 [==============================] - 32s 317ms/step - loss: 0.6842 - acc: 0.5489 - val_loss: 0.6357 - val_acc: 0.6263\n",
            "Epoch 3/100\n",
            "100/100 [==============================] - 32s 316ms/step - loss: 0.6758 - acc: 0.5735 - val_loss: 0.6480 - val_acc: 0.6136\n",
            "Epoch 4/100\n",
            "100/100 [==============================] - 32s 316ms/step - loss: 0.6674 - acc: 0.5933 - val_loss: 0.6586 - val_acc: 0.6405\n",
            "Epoch 5/100\n",
            "100/100 [==============================] - 31s 305ms/step - loss: 0.6523 - acc: 0.6162 - val_loss: 0.5650 - val_acc: 0.6605\n",
            "Epoch 6/100\n",
            "100/100 [==============================] - 34s 337ms/step - loss: 0.6404 - acc: 0.6351 - val_loss: 0.6663 - val_acc: 0.5831\n",
            "Epoch 7/100\n",
            "100/100 [==============================] - 32s 316ms/step - loss: 0.6304 - acc: 0.6514 - val_loss: 0.9102 - val_acc: 0.6104\n",
            "Epoch 8/100\n",
            "100/100 [==============================] - 32s 318ms/step - loss: 0.6251 - acc: 0.6452 - val_loss: 0.6037 - val_acc: 0.6585\n",
            "Epoch 9/100\n",
            "100/100 [==============================] - 32s 317ms/step - loss: 0.6174 - acc: 0.6680 - val_loss: 0.6365 - val_acc: 0.6817\n",
            "Epoch 10/100\n",
            "100/100 [==============================] - 31s 314ms/step - loss: 0.5965 - acc: 0.6884 - val_loss: 0.4751 - val_acc: 0.6631\n",
            "Epoch 11/100\n",
            "100/100 [==============================] - 33s 327ms/step - loss: 0.5982 - acc: 0.6847 - val_loss: 0.5934 - val_acc: 0.7075\n",
            "Epoch 12/100\n",
            "100/100 [==============================] - 32s 317ms/step - loss: 0.5818 - acc: 0.7023 - val_loss: 0.5189 - val_acc: 0.7214\n",
            "Epoch 13/100\n",
            "100/100 [==============================] - 32s 317ms/step - loss: 0.5742 - acc: 0.7020 - val_loss: 0.5927 - val_acc: 0.7255\n",
            "Epoch 14/100\n",
            "100/100 [==============================] - 32s 318ms/step - loss: 0.5681 - acc: 0.7060 - val_loss: 0.5371 - val_acc: 0.7069\n",
            "Epoch 15/100\n",
            "100/100 [==============================] - 32s 317ms/step - loss: 0.5738 - acc: 0.6944 - val_loss: 0.4939 - val_acc: 0.7352\n",
            "Epoch 16/100\n",
            "100/100 [==============================] - 32s 315ms/step - loss: 0.5535 - acc: 0.7128 - val_loss: 0.5144 - val_acc: 0.7371\n",
            "Epoch 17/100\n",
            "100/100 [==============================] - 30s 300ms/step - loss: 0.5487 - acc: 0.7155 - val_loss: 0.6190 - val_acc: 0.7284\n",
            "Epoch 18/100\n",
            "100/100 [==============================] - 34s 342ms/step - loss: 0.5436 - acc: 0.7165 - val_loss: 0.5251 - val_acc: 0.7191\n",
            "Epoch 19/100\n",
            "100/100 [==============================] - 32s 320ms/step - loss: 0.5401 - acc: 0.7211 - val_loss: 0.6737 - val_acc: 0.7037\n",
            "Epoch 20/100\n",
            "100/100 [==============================] - 32s 317ms/step - loss: 0.5387 - acc: 0.7286 - val_loss: 0.5318 - val_acc: 0.7558\n",
            "Epoch 21/100\n",
            "100/100 [==============================] - 32s 317ms/step - loss: 0.5371 - acc: 0.7243 - val_loss: 0.5008 - val_acc: 0.7284\n",
            "Epoch 22/100\n",
            "100/100 [==============================] - 31s 307ms/step - loss: 0.5324 - acc: 0.7264 - val_loss: 0.4653 - val_acc: 0.7403\n",
            "Epoch 23/100\n",
            "100/100 [==============================] - 33s 333ms/step - loss: 0.5109 - acc: 0.7431 - val_loss: 0.6825 - val_acc: 0.7341\n",
            "Epoch 24/100\n",
            "100/100 [==============================] - 32s 317ms/step - loss: 0.5236 - acc: 0.7361 - val_loss: 0.4819 - val_acc: 0.7326\n",
            "Epoch 25/100\n",
            "100/100 [==============================] - 32s 317ms/step - loss: 0.5196 - acc: 0.7359 - val_loss: 0.5819 - val_acc: 0.7564\n",
            "Epoch 26/100\n",
            "100/100 [==============================] - 32s 315ms/step - loss: 0.5064 - acc: 0.7478 - val_loss: 0.5873 - val_acc: 0.7126\n",
            "Epoch 27/100\n",
            "100/100 [==============================] - 31s 314ms/step - loss: 0.5132 - acc: 0.7478 - val_loss: 0.3251 - val_acc: 0.7474\n",
            "Epoch 28/100\n",
            "100/100 [==============================] - 33s 326ms/step - loss: 0.5024 - acc: 0.7582 - val_loss: 0.4587 - val_acc: 0.7684\n",
            "Epoch 29/100\n",
            "100/100 [==============================] - 32s 318ms/step - loss: 0.5062 - acc: 0.7500 - val_loss: 0.4602 - val_acc: 0.7648\n",
            "Epoch 30/100\n",
            "100/100 [==============================] - 31s 315ms/step - loss: 0.5026 - acc: 0.7462 - val_loss: 0.4716 - val_acc: 0.7481\n",
            "Epoch 31/100\n",
            "100/100 [==============================] - 32s 319ms/step - loss: 0.5044 - acc: 0.7450 - val_loss: 0.5017 - val_acc: 0.7358\n",
            "Epoch 32/100\n",
            "100/100 [==============================] - 31s 312ms/step - loss: 0.4877 - acc: 0.7623 - val_loss: 0.4403 - val_acc: 0.7841\n",
            "Epoch 33/100\n",
            "100/100 [==============================] - 31s 313ms/step - loss: 0.4998 - acc: 0.7585 - val_loss: 0.6311 - val_acc: 0.7475\n",
            "Epoch 34/100\n",
            "100/100 [==============================] - 30s 297ms/step - loss: 0.4930 - acc: 0.7629 - val_loss: 0.3777 - val_acc: 0.7597\n",
            "Epoch 35/100\n",
            "100/100 [==============================] - 34s 338ms/step - loss: 0.4853 - acc: 0.7699 - val_loss: 0.4474 - val_acc: 0.7690\n",
            "Epoch 36/100\n",
            "100/100 [==============================] - 32s 317ms/step - loss: 0.4892 - acc: 0.7535 - val_loss: 0.3834 - val_acc: 0.7713\n",
            "Epoch 37/100\n",
            "100/100 [==============================] - 32s 316ms/step - loss: 0.4785 - acc: 0.7696 - val_loss: 0.4780 - val_acc: 0.7792\n",
            "Epoch 38/100\n",
            "100/100 [==============================] - 32s 319ms/step - loss: 0.4673 - acc: 0.7808 - val_loss: 0.6234 - val_acc: 0.7713\n",
            "Epoch 39/100\n",
            "100/100 [==============================] - 31s 307ms/step - loss: 0.4749 - acc: 0.7639 - val_loss: 0.5204 - val_acc: 0.7310\n",
            "Epoch 40/100\n",
            "100/100 [==============================] - 33s 332ms/step - loss: 0.4653 - acc: 0.7787 - val_loss: 0.5379 - val_acc: 0.7809\n",
            "Epoch 41/100\n",
            "100/100 [==============================] - 31s 315ms/step - loss: 0.4796 - acc: 0.7711 - val_loss: 0.8355 - val_acc: 0.6643\n",
            "Epoch 42/100\n",
            "100/100 [==============================] - 32s 315ms/step - loss: 0.4469 - acc: 0.7817 - val_loss: 0.3177 - val_acc: 0.7970\n",
            "Epoch 43/100\n",
            "100/100 [==============================] - 32s 316ms/step - loss: 0.4710 - acc: 0.7776 - val_loss: 0.4185 - val_acc: 0.7751\n",
            "Epoch 44/100\n",
            "100/100 [==============================] - 31s 309ms/step - loss: 0.4736 - acc: 0.7696 - val_loss: 0.5853 - val_acc: 0.7582\n",
            "Epoch 45/100\n",
            "100/100 [==============================] - 32s 316ms/step - loss: 0.4510 - acc: 0.7902 - val_loss: 0.5890 - val_acc: 0.7738\n",
            "Epoch 46/100\n",
            "100/100 [==============================] - 31s 312ms/step - loss: 0.4550 - acc: 0.7857 - val_loss: 0.4071 - val_acc: 0.7938\n",
            "Epoch 47/100\n",
            "100/100 [==============================] - 31s 314ms/step - loss: 0.4385 - acc: 0.7911 - val_loss: 0.5395 - val_acc: 0.7700\n",
            "Epoch 48/100\n",
            "100/100 [==============================] - 32s 315ms/step - loss: 0.4659 - acc: 0.7816 - val_loss: 0.5970 - val_acc: 0.7867\n",
            "Epoch 49/100\n",
            "100/100 [==============================] - 31s 313ms/step - loss: 0.4431 - acc: 0.7914 - val_loss: 0.4016 - val_acc: 0.7735\n",
            "Epoch 50/100\n",
            "100/100 [==============================] - 31s 311ms/step - loss: 0.4381 - acc: 0.7926 - val_loss: 0.4300 - val_acc: 0.7848\n",
            "Epoch 51/100\n",
            "100/100 [==============================] - 30s 300ms/step - loss: 0.4471 - acc: 0.7883 - val_loss: 0.5569 - val_acc: 0.7722\n",
            "Epoch 52/100\n",
            "100/100 [==============================] - 33s 333ms/step - loss: 0.4348 - acc: 0.7961 - val_loss: 0.4690 - val_acc: 0.8009\n",
            "Epoch 53/100\n",
            "100/100 [==============================] - 31s 314ms/step - loss: 0.4319 - acc: 0.7877 - val_loss: 0.5044 - val_acc: 0.7919\n",
            "Epoch 54/100\n",
            "100/100 [==============================] - 31s 311ms/step - loss: 0.4286 - acc: 0.8122 - val_loss: 0.3446 - val_acc: 0.7719\n",
            "Epoch 55/100\n",
            "100/100 [==============================] - 31s 314ms/step - loss: 0.4244 - acc: 0.8005 - val_loss: 0.5534 - val_acc: 0.7538\n",
            "Epoch 56/100\n",
            "100/100 [==============================] - 31s 309ms/step - loss: 0.4285 - acc: 0.8094 - val_loss: 0.7563 - val_acc: 0.7945\n",
            "Epoch 57/100\n",
            "100/100 [==============================] - 32s 322ms/step - loss: 0.4203 - acc: 0.8097 - val_loss: 0.3043 - val_acc: 0.7854\n",
            "Epoch 58/100\n",
            "100/100 [==============================] - 32s 316ms/step - loss: 0.4262 - acc: 0.8008 - val_loss: 0.4026 - val_acc: 0.7868\n",
            "Epoch 59/100\n",
            "100/100 [==============================] - 31s 312ms/step - loss: 0.4198 - acc: 0.8144 - val_loss: 0.5941 - val_acc: 0.8022\n",
            "Epoch 60/100\n",
            "100/100 [==============================] - 31s 313ms/step - loss: 0.4270 - acc: 0.8106 - val_loss: 0.4186 - val_acc: 0.8141\n",
            "Epoch 61/100\n",
            "100/100 [==============================] - 32s 315ms/step - loss: 0.4199 - acc: 0.7992 - val_loss: 0.3911 - val_acc: 0.7848\n",
            "Epoch 62/100\n",
            "100/100 [==============================] - 32s 316ms/step - loss: 0.4183 - acc: 0.7996 - val_loss: 0.5450 - val_acc: 0.7900\n",
            "Epoch 63/100\n",
            "100/100 [==============================] - 32s 316ms/step - loss: 0.4125 - acc: 0.8071 - val_loss: 0.3691 - val_acc: 0.7893\n",
            "Epoch 64/100\n",
            "100/100 [==============================] - 31s 315ms/step - loss: 0.4052 - acc: 0.8194 - val_loss: 0.6333 - val_acc: 0.8080\n",
            "Epoch 65/100\n",
            "100/100 [==============================] - 32s 315ms/step - loss: 0.4126 - acc: 0.8043 - val_loss: 0.4834 - val_acc: 0.8198\n",
            "Epoch 66/100\n",
            "100/100 [==============================] - 32s 315ms/step - loss: 0.4074 - acc: 0.8062 - val_loss: 0.4841 - val_acc: 0.7713\n",
            "Epoch 67/100\n",
            "100/100 [==============================] - 31s 315ms/step - loss: 0.4071 - acc: 0.8157 - val_loss: 0.3280 - val_acc: 0.7982\n",
            "Epoch 68/100\n",
            "100/100 [==============================] - 31s 308ms/step - loss: 0.3949 - acc: 0.8160 - val_loss: 0.4357 - val_acc: 0.8189\n",
            "Epoch 69/100\n",
            "100/100 [==============================] - 33s 333ms/step - loss: 0.3992 - acc: 0.8157 - val_loss: 0.2998 - val_acc: 0.8039\n",
            "Epoch 70/100\n",
            "100/100 [==============================] - 32s 317ms/step - loss: 0.3997 - acc: 0.8169 - val_loss: 0.4101 - val_acc: 0.7893\n",
            "Epoch 71/100\n",
            "100/100 [==============================] - 31s 313ms/step - loss: 0.3918 - acc: 0.8169 - val_loss: 0.8001 - val_acc: 0.8128\n",
            "Epoch 72/100\n",
            "100/100 [==============================] - 32s 317ms/step - loss: 0.4053 - acc: 0.8119 - val_loss: 0.4015 - val_acc: 0.7796\n",
            "Epoch 73/100\n",
            "100/100 [==============================] - 31s 306ms/step - loss: 0.3850 - acc: 0.8286 - val_loss: 0.5762 - val_acc: 0.7912\n",
            "Epoch 74/100\n",
            "100/100 [==============================] - 32s 319ms/step - loss: 0.3795 - acc: 0.8310 - val_loss: 0.5616 - val_acc: 0.7862\n",
            "Epoch 75/100\n",
            "100/100 [==============================] - 31s 314ms/step - loss: 0.3905 - acc: 0.8138 - val_loss: 0.4626 - val_acc: 0.7957\n",
            "Epoch 76/100\n",
            "100/100 [==============================] - 32s 316ms/step - loss: 0.3712 - acc: 0.8343 - val_loss: 0.4067 - val_acc: 0.7868\n",
            "Epoch 77/100\n",
            "100/100 [==============================] - 32s 317ms/step - loss: 0.3893 - acc: 0.8172 - val_loss: 0.3024 - val_acc: 0.8106\n",
            "Epoch 78/100\n",
            "100/100 [==============================] - 32s 316ms/step - loss: 0.3878 - acc: 0.8305 - val_loss: 0.2375 - val_acc: 0.8033\n",
            "Epoch 79/100\n",
            "100/100 [==============================] - 32s 315ms/step - loss: 0.3700 - acc: 0.8342 - val_loss: 0.4168 - val_acc: 0.8022\n",
            "Epoch 80/100\n",
            "100/100 [==============================] - 29s 295ms/step - loss: 0.3845 - acc: 0.8223 - val_loss: 0.5485 - val_acc: 0.8048\n",
            "Epoch 81/100\n",
            "100/100 [==============================] - 33s 335ms/step - loss: 0.3710 - acc: 0.8381 - val_loss: 0.3851 - val_acc: 0.8071\n",
            "Epoch 82/100\n",
            "100/100 [==============================] - 31s 306ms/step - loss: 0.3699 - acc: 0.8335 - val_loss: 0.4567 - val_acc: 0.7983\n",
            "Epoch 83/100\n",
            "100/100 [==============================] - 31s 309ms/step - loss: 0.3683 - acc: 0.8371 - val_loss: 0.4461 - val_acc: 0.8147\n",
            "Epoch 84/100\n",
            "100/100 [==============================] - 32s 317ms/step - loss: 0.3632 - acc: 0.8362 - val_loss: 0.4658 - val_acc: 0.8112\n",
            "Epoch 85/100\n",
            "100/100 [==============================] - 31s 305ms/step - loss: 0.3670 - acc: 0.8348 - val_loss: 0.4222 - val_acc: 0.8223\n",
            "Epoch 86/100\n",
            "100/100 [==============================] - 33s 332ms/step - loss: 0.3528 - acc: 0.8433 - val_loss: 0.6887 - val_acc: 0.7874\n",
            "Epoch 87/100\n",
            "100/100 [==============================] - 32s 316ms/step - loss: 0.3694 - acc: 0.8333 - val_loss: 0.3815 - val_acc: 0.8173\n",
            "Epoch 88/100\n",
            "100/100 [==============================] - 31s 313ms/step - loss: 0.3532 - acc: 0.8485 - val_loss: 0.4265 - val_acc: 0.8209\n",
            "Epoch 89/100\n",
            "100/100 [==============================] - 31s 315ms/step - loss: 0.3558 - acc: 0.8370 - val_loss: 0.3758 - val_acc: 0.8131\n",
            "Epoch 90/100\n",
            "100/100 [==============================] - 31s 310ms/step - loss: 0.3683 - acc: 0.8305 - val_loss: 0.5476 - val_acc: 0.8046\n",
            "Epoch 91/100\n",
            "100/100 [==============================] - 32s 319ms/step - loss: 0.3476 - acc: 0.8472 - val_loss: 0.3809 - val_acc: 0.8228\n",
            "Epoch 92/100\n",
            "100/100 [==============================] - 32s 316ms/step - loss: 0.3425 - acc: 0.8442 - val_loss: 0.4657 - val_acc: 0.8268\n",
            "Epoch 93/100\n",
            "100/100 [==============================] - 32s 316ms/step - loss: 0.3458 - acc: 0.8466 - val_loss: 0.3105 - val_acc: 0.8022\n",
            "Epoch 94/100\n",
            "100/100 [==============================] - 32s 316ms/step - loss: 0.3515 - acc: 0.8401 - val_loss: 0.3309 - val_acc: 0.8261\n",
            "Epoch 95/100\n",
            "100/100 [==============================] - 32s 316ms/step - loss: 0.3442 - acc: 0.8516 - val_loss: 0.2321 - val_acc: 0.8131\n",
            "Epoch 96/100\n",
            "100/100 [==============================] - 31s 313ms/step - loss: 0.3470 - acc: 0.8415 - val_loss: 0.1934 - val_acc: 0.8138\n",
            "Epoch 97/100\n",
            "100/100 [==============================] - 30s 304ms/step - loss: 0.3477 - acc: 0.8448 - val_loss: 0.4638 - val_acc: 0.8204\n",
            "Epoch 98/100\n",
            "100/100 [==============================] - 34s 338ms/step - loss: 0.3257 - acc: 0.8573 - val_loss: 0.3672 - val_acc: 0.8086\n",
            "Epoch 99/100\n",
            "100/100 [==============================] - 32s 318ms/step - loss: 0.3295 - acc: 0.8602 - val_loss: 0.3016 - val_acc: 0.8236\n",
            "Epoch 100/100\n",
            "100/100 [==============================] - 32s 317ms/step - loss: 0.3288 - acc: 0.8555 - val_loss: 0.4295 - val_acc: 0.7996\n"
          ],
          "name": "stdout"
        }
      ]
    },
    {
      "cell_type": "code",
      "metadata": {
        "id": "MxAqHA7FgIhf",
        "colab_type": "code",
        "colab": {}
      },
      "source": [
        "model.save('cats_and_dogs_small_2.h5')"
      ],
      "execution_count": 0,
      "outputs": []
    },
    {
      "cell_type": "code",
      "metadata": {
        "id": "8a_t2n0GgIhh",
        "colab_type": "code",
        "colab": {
          "base_uri": "https://localhost:8080/",
          "height": 545
        },
        "outputId": "741e1a8a-b444-4b03-e88d-bb7dd77dfac1"
      },
      "source": [
        "\n",
        "acc = history.history['acc']\n",
        "val_acc = history.history['val_acc']\n",
        "loss = history.history['loss']\n",
        "val_loss = history.history['val_loss']\n",
        "\n",
        "epochs = range(len(acc))\n",
        "\n",
        "plt.plot(epochs, acc, 'bo', label='Training acc')\n",
        "plt.plot(epochs, val_acc, 'b', label='Validation acc')\n",
        "plt.title('Training and validation accuracy')\n",
        "plt.legend()\n",
        "\n",
        "plt.figure()\n",
        "\n",
        "plt.plot(epochs, loss, 'bo', label='Training loss')\n",
        "plt.plot(epochs, val_loss, 'b', label='Validation loss')\n",
        "plt.title('Training and validation loss')\n",
        "plt.legend()\n",
        "\n",
        "plt.show()"
      ],
      "execution_count": 54,
      "outputs": [
        {
          "output_type": "display_data",
          "data": {
            "image/png": "[encoded data removed]",
            "text/plain": [
              "<Figure size 432x288 with 1 Axes>"
            ]
          },
          "metadata": {
            "tags": [],
            "needs_background": "light"
          }
        },
        {
          "output_type": "display_data",
          "data": {
            "image/png": "[encoded data removed]",
            "text/plain": [
              "<Figure size 432x288 with 1 Axes>"
            ]
          },
          "metadata": {
            "tags": [],
            "needs_background": "light"
          }
        }
      ]
    },
    {
      "cell_type": "markdown",
      "metadata": {
        "id": "Kvshz2wUgIhj",
        "colab_type": "text"
      },
      "source": [
        "- epoch 10이라 그래프가 이렇게 나온듯\n",
        "- colab으로 다시 돌려보도록 하자."
      ]
    },
    {
      "cell_type": "markdown",
      "metadata": {
        "id": "-qcjYSjNgIhk",
        "colab_type": "text"
      },
      "source": [
        "### 5.3 사전 훈련된 컨브넷 사용하기"
      ]
    },
    {
      "cell_type": "markdown",
      "metadata": {
        "id": "zjfQNLG6gIhk",
        "colab_type": "text"
      },
      "source": [
        "작은 이미지 데이터셋에 딥러닝을 적용하는 일반적이고 매우 효과적인 방법은 사전 훈련된 네트워크를 이용하는 것\n",
        "- pretrained network\n",
        "- 일반적으로 대규모 이미지 분류 문제를 위해 대량의 데이터셋에서 미리 훈련되어 저장된 네트워크이다.\n",
        "- 원본 데이터셋이 충분히 크고 일반적이라면 사전 훈련된 네트워크에 의해 학습된 특성의 계층 구조는 실제 세상에 대한 일반적인 모델로 효율적인 역할을 할 수 있다.\n",
        "- 동물이나 생활용품을 데이터로 사용하여 사전 훈련된 것을 다른 이미지를 분류하는데 사용할 수도 있다.\n",
        "- 유연하다!\n",
        "- VCG16 구조를 사용할 예정\n",
        "\n",
        "\n",
        "사전 훈련된 네트워크를 사용하는 두 가지 방법\n",
        "- feature extraction(특성 추출)\n",
        "- fine tuning(미세 조정)"
      ]
    },
    {
      "cell_type": "markdown",
      "metadata": {
        "id": "4bwHVLsIgIhk",
        "colab_type": "text"
      },
      "source": [
        "#### 5.3.1 feature extraction(특성 추출)\n",
        "\n",
        "사전에 학습된 네트워크의 표현을 사용하여 새로운 샘플에서 흥미로운 특성을 뽑아내는 것\n",
        "- 이런 특성을 사용하여 새로운 분류기를 처음부터 훈련\n",
        "\n",
        "컨브넷 구조\n",
        "- 연속된 합성곱 + 풀링\n",
        "- 완전 연결 분류기\n",
        "\n",
        "첫 번째 부분을 모델의 합성곱 기반(convolutional base)라고 명명\n",
        "- 컨브넷의 경우 특성 추출은 사전에 훈련된 네트워크의 합성곱 기반층을 선택하여 새로운 데이터를 통과시키고, 그 출력으로 새로운 분류기를 훈련함\n",
        "\n",
        "![alt text](https://s3.amazonaws.com/book.keras.io/img/ch5/swapping_fc_classifier.png)"
      ]
    },
    {
      "cell_type": "markdown",
      "metadata": {
        "id": "tNzyvxiNgIhl",
        "colab_type": "text"
      },
      "source": [
        "왜 합성곱 층만 재사용할까?\n",
        "- 합성곱 층에 의해 학습된 표현이 더 일반적이어서 재사용이 가능하기 때문이다.\n",
        "- 컨브넷의 특성 맵은 사진에 대한 일반적인 콘셉트의 존재 여부를 기록한 맵\n",
        "- 주어진 컴퓨터 비전 문제에 상관없이 유용하게 사용 가능\n",
        "- 하지만 분류기에서 학습한 표현은 모델이 훈련된 클래스 집합에 특화되어 있다. 분류기는 전체 사진에 어떤 클래스가 존재할 확률에 대한 정보만 담고 있다. 더군다나 완전 연결 층에서 찾은 표현은 더 이상 입력 이미지에 있는 객체의 위치 정보를 가지고 있지 않음\n",
        "\n",
        "\n",
        "특성 합성곱 층에서 추출한 표현의 일반성(그리고 재사용성) 수준은 모델에 있는 층의 깊이에 달려 있다.\n",
        "- 모델의 하위 층은 지역적이고 매우 일반적인 특성 맵을 추출\n",
        "- 상위 층은 좀 더 추상적인 개념을 추출\n",
        "- 새로운 데이터셋이 원본 모델이 훈련한 데이터셋과 많이 다르면 전체 합성곱 기반 층을 사용하는 것보다는 모델의 하위 층 몇 개만 특성 추출에 사용하는 것이 좋다."
      ]
    },
    {
      "cell_type": "markdown",
      "metadata": {
        "id": "1rnSXTGYgIhl",
        "colab_type": "text"
      },
      "source": [
        "VGG16 모델은 케라스에 패키지로 포함되어 있다.\n",
        "- 그 외에도 Xception, Inception V3, ResNet50, VGC19, MobileNet 등이 있다.\n",
        "- Using Pre-Trained Models"
      ]
    },
    {
      "cell_type": "code",
      "metadata": {
        "id": "bH7Rpo4KgIhl",
        "colab_type": "code",
        "colab": {
          "base_uri": "https://localhost:8080/",
          "height": 53
        },
        "outputId": "71b72f45-b593-4689-caed-7c6c2eb03f18"
      },
      "source": [
        "from keras.applications import VGG16\n",
        "\n",
        "conv_base = VGG16(weights='imagenet',\n",
        "                  include_top=False,\n",
        "                  input_shape=(150, 150, 3))"
      ],
      "execution_count": 55,
      "outputs": [
        {
          "output_type": "stream",
          "text": [
            "Downloading data from https://github.com/fchollet/deep-learning-models/releases/download/v0.1/vgg16_weights_tf_dim_ordering_tf_kernels_notop.h5\n",
            "58892288/58889256 [==============================] - 1s 0us/step\n"
          ],
          "name": "stdout"
        }
      ]
    },
    {
      "cell_type": "markdown",
      "metadata": {
        "id": "h6mj_zuegIhn",
        "colab_type": "text"
      },
      "source": [
        "VGG16 함수에 3개의 매개변수를 전달\n",
        "- weights는 모델을 초기화할 가중치 체크포인트를 지정\n",
        "- include_top은 네트워크의 최상위 완전 연결 분류기를 포함할지 안 할지 지정\n",
        "  - 기본값은 ImageNet의 클래스 1000개에 대응되는 완전 연결 분류기를 포함\n",
        "- input_shape은 네트워크에 주입할 이미지 텐서의 크기\n",
        "  - 이 매개변수는 선택 사항\n",
        "  - 이 값을 지정하지 않으면 네트워크가 어떤 크기의 입력도 처리할 수 있다."
      ]
    },
    {
      "cell_type": "code",
      "metadata": {
        "id": "1I3kvRc8gIho",
        "colab_type": "code",
        "colab": {
          "base_uri": "https://localhost:8080/",
          "height": 845
        },
        "outputId": "29a2bd3a-2943-4b2a-e3ff-4389aa4403ad"
      },
      "source": [
        "conv_base.summary()"
      ],
      "execution_count": 56,
      "outputs": [
        {
          "output_type": "stream",
          "text": [
            "Model: \"vgg16\"\n",
            "_________________________________________________________________\n",
            "Layer (type)                 Output Shape              Param #   \n",
            "=================================================================\n",
            "input_1 (InputLayer)         (None, 150, 150, 3)       0         \n",
            "_________________________________________________________________\n",
            "block1_conv1 (Conv2D)        (None, 150, 150, 64)      1792      \n",
            "_________________________________________________________________\n",
            "block1_conv2 (Conv2D)        (None, 150, 150, 64)      36928     \n",
            "_________________________________________________________________\n",
            "block1_pool (MaxPooling2D)   (None, 75, 75, 64)        0         \n",
            "_________________________________________________________________\n",
            "block2_conv1 (Conv2D)        (None, 75, 75, 128)       73856     \n",
            "_________________________________________________________________\n",
            "block2_conv2 (Conv2D)        (None, 75, 75, 128)       147584    \n",
            "_________________________________________________________________\n",
            "block2_pool (MaxPooling2D)   (None, 37, 37, 128)       0         \n",
            "_________________________________________________________________\n",
            "block3_conv1 (Conv2D)        (None, 37, 37, 256)       295168    \n",
            "_________________________________________________________________\n",
            "block3_conv2 (Conv2D)        (None, 37, 37, 256)       590080    \n",
            "_________________________________________________________________\n",
            "block3_conv3 (Conv2D)        (None, 37, 37, 256)       590080    \n",
            "_________________________________________________________________\n",
            "block3_pool (MaxPooling2D)   (None, 18, 18, 256)       0         \n",
            "_________________________________________________________________\n",
            "block4_conv1 (Conv2D)        (None, 18, 18, 512)       1180160   \n",
            "_________________________________________________________________\n",
            "block4_conv2 (Conv2D)        (None, 18, 18, 512)       2359808   \n",
            "_________________________________________________________________\n",
            "block4_conv3 (Conv2D)        (None, 18, 18, 512)       2359808   \n",
            "_________________________________________________________________\n",
            "block4_pool (MaxPooling2D)   (None, 9, 9, 512)         0         \n",
            "_________________________________________________________________\n",
            "block5_conv1 (Conv2D)        (None, 9, 9, 512)         2359808   \n",
            "_________________________________________________________________\n",
            "block5_conv2 (Conv2D)        (None, 9, 9, 512)         2359808   \n",
            "_________________________________________________________________\n",
            "block5_conv3 (Conv2D)        (None, 9, 9, 512)         2359808   \n",
            "_________________________________________________________________\n",
            "block5_pool (MaxPooling2D)   (None, 4, 4, 512)         0         \n",
            "=================================================================\n",
            "Total params: 14,714,688\n",
            "Trainable params: 14,714,688\n",
            "Non-trainable params: 0\n",
            "_________________________________________________________________\n"
          ],
          "name": "stdout"
        }
      ]
    },
    {
      "cell_type": "markdown",
      "metadata": {
        "id": "vwzitRxIgIhr",
        "colab_type": "text"
      },
      "source": [
        "이 지점에서 두 가지 방식이 가능\n",
        "\n",
        "방법 1.\n",
        "- 새로운 데이터셋에서 합성곱 기반 층을 실행하고 출력을 넘파이 배열로 디스크에 저장\n",
        "- 그 다음 이 데이터를 독립된 분류기에 입력으로 사용\n",
        "- 모든 입력 이미지에 대해 합성곱 기반 층을 한 번만 실행하면 되기 때문에 빠르고 비용이 적게 듬\n",
        "- 그러나 데이터 증식을 사용할 수 없음\n",
        "\n",
        "방법 2.\n",
        "- 준비된 모델(conv_base) 위에 Dense 층을 쌓아 확장\n",
        "- 그 다음 입력 데이터에서 엔드 투 엔드로 전체 모델을 실행\n",
        "- 모델에 노출된 모든 입력 이미지가 매번 합성곱 기반층을 통과하기 때문에 데이터 증식 사용할 수 있다.\n",
        "- 하지만 이런 이유로 이 방식은 연산 비용이 많이 듬"
      ]
    },
    {
      "cell_type": "markdown",
      "metadata": {
        "id": "XhLRPUvHgIhr",
        "colab_type": "text"
      },
      "source": [
        "#### 데이터 증식을 사용하지 않는 빠른 특성 추출\n",
        "\n",
        "ImageDataGenerator를 사용하여 이미지와 레이블을 넘파이 배열로 추출하는 작업\n",
        "- conv_base 모델의 predict 메서드를 호출하여 이미지에서 특성 추출"
      ]
    },
    {
      "cell_type": "code",
      "metadata": {
        "id": "njcYZGGFgIhr",
        "colab_type": "code",
        "colab": {
          "base_uri": "https://localhost:8080/",
          "height": 71
        },
        "outputId": "975a5f1b-7a9b-418a-c403-ef082c0b68ca"
      },
      "source": [
        "import numpy as np\n",
        "from keras.preprocessing.image import ImageDataGenerator\n",
        "\n",
        "base_dir = 'cats_and_dogs_small'\n",
        "\n",
        "train_dir = os.path.join(base_dir, 'train')\n",
        "validation_dir = os.path.join(base_dir, 'validation')\n",
        "test_dir = os.path.join(base_dir, 'test')\n",
        "\n",
        "datagen = ImageDataGenerator(rescale=1./255)\n",
        "batch_size = 20\n",
        "\n",
        "def extract_features(directory, sample_count):\n",
        "    features = np.zeros(shape=(sample_count, 4, 4, 512))\n",
        "    labels = np.zeros(shape=(sample_count))\n",
        "    generator = datagen.flow_from_directory(\n",
        "        directory,\n",
        "        target_size=(150, 150),\n",
        "        batch_size=batch_size,\n",
        "        class_mode='binary')\n",
        "    i = 0\n",
        "    for inputs_batch, labels_batch in generator:\n",
        "        features_batch = conv_base.predict(inputs_batch)\n",
        "        features[i * batch_size : (i + 1) * batch_size] = features_batch\n",
        "        labels[i * batch_size : (i + 1) * batch_size] = labels_batch\n",
        "        i += 1\n",
        "        if i * batch_size >= sample_count:\n",
        "            # Note that since generators yield data indefinitely in a loop,\n",
        "            # we must `break` after every image has been seen once.\n",
        "            break\n",
        "    return features, labels\n",
        "\n",
        "train_features, train_labels = extract_features(train_dir, 2000)\n",
        "validation_features, validation_labels = extract_features(validation_dir, 1000)\n",
        "test_features, test_labels = extract_features(test_dir, 1000)"
      ],
      "execution_count": 57,
      "outputs": [
        {
          "output_type": "stream",
          "text": [
            "Found 2000 images belonging to 2 classes.\n",
            "Found 1000 images belonging to 2 classes.\n",
            "Found 1000 images belonging to 2 classes.\n"
          ],
          "name": "stdout"
        }
      ]
    },
    {
      "cell_type": "markdown",
      "metadata": {
        "id": "s8KnsM75gIht",
        "colab_type": "text"
      },
      "source": [
        "추츨된 특성의 크기는 (sample, 4, 4, 512)\n",
        "- 완전 연결 분류기에 주입하기 위해서 먼저 (samples, 8192) 크기로 펼침"
      ]
    },
    {
      "cell_type": "code",
      "metadata": {
        "id": "gcsebmT9gIht",
        "colab_type": "code",
        "colab": {}
      },
      "source": [
        "train_features = np.reshape(train_features, (2000, 4 * 4 * 512))\n",
        "validation_features = np.reshape(validation_features, (1000, 4 * 4 * 512))\n",
        "test_features = np.reshape(test_features, (1000, 4 * 4 * 512))"
      ],
      "execution_count": 0,
      "outputs": []
    },
    {
      "cell_type": "markdown",
      "metadata": {
        "id": "N0V02PMbgIhv",
        "colab_type": "text"
      },
      "source": [
        "완전 연결 분류기를 정의하고(regularization을 위해 dropout) 저장된 데이터와 레이블을 사용하여 훈련"
      ]
    },
    {
      "cell_type": "code",
      "metadata": {
        "id": "Lpby0ISBgIhw",
        "colab_type": "code",
        "colab": {
          "base_uri": "https://localhost:8080/",
          "height": 1000
        },
        "outputId": "8b7496c0-4d60-4cfe-91f0-98add88203b7"
      },
      "source": [
        "from keras import models\n",
        "from keras import layers\n",
        "from keras import optimizers\n",
        "\n",
        "model = models.Sequential()\n",
        "model.add(layers.Dense(256, activation='relu', input_dim=4 * 4 * 512))\n",
        "model.add(layers.Dropout(0.5))\n",
        "model.add(layers.Dense(1, activation='sigmoid'))\n",
        "\n",
        "model.compile(optimizer=optimizers.RMSprop(lr=2e-5),\n",
        "              loss='binary_crossentropy',\n",
        "              metrics=['acc'])\n",
        "\n",
        "history = model.fit(train_features, train_labels,\n",
        "                    epochs=30,\n",
        "                    batch_size=20,\n",
        "                    validation_data=(validation_features, validation_labels))"
      ],
      "execution_count": 59,
      "outputs": [
        {
          "output_type": "stream",
          "text": [
            "Train on 2000 samples, validate on 1000 samples\n",
            "Epoch 1/30\n",
            "2000/2000 [==============================] - 1s 426us/step - loss: 0.6015 - acc: 0.6670 - val_loss: 0.4352 - val_acc: 0.8310\n",
            "Epoch 2/30\n",
            "2000/2000 [==============================] - 1s 382us/step - loss: 0.4343 - acc: 0.8045 - val_loss: 0.3591 - val_acc: 0.8750\n",
            "Epoch 3/30\n",
            "2000/2000 [==============================] - 1s 379us/step - loss: 0.3645 - acc: 0.8465 - val_loss: 0.3229 - val_acc: 0.8710\n",
            "Epoch 4/30\n",
            "2000/2000 [==============================] - 1s 374us/step - loss: 0.3212 - acc: 0.8690 - val_loss: 0.3009 - val_acc: 0.8880\n",
            "Epoch 5/30\n",
            "2000/2000 [==============================] - 1s 391us/step - loss: 0.2930 - acc: 0.8755 - val_loss: 0.2818 - val_acc: 0.8930\n",
            "Epoch 6/30\n",
            "2000/2000 [==============================] - 1s 386us/step - loss: 0.2734 - acc: 0.8985 - val_loss: 0.2765 - val_acc: 0.8820\n",
            "Epoch 7/30\n",
            "2000/2000 [==============================] - 1s 370us/step - loss: 0.2593 - acc: 0.8985 - val_loss: 0.2643 - val_acc: 0.8890\n",
            "Epoch 8/30\n",
            "2000/2000 [==============================] - 1s 375us/step - loss: 0.2357 - acc: 0.9070 - val_loss: 0.2588 - val_acc: 0.8910\n",
            "Epoch 9/30\n",
            "2000/2000 [==============================] - 1s 378us/step - loss: 0.2301 - acc: 0.9120 - val_loss: 0.2512 - val_acc: 0.8910\n",
            "Epoch 10/30\n",
            "2000/2000 [==============================] - 1s 351us/step - loss: 0.2082 - acc: 0.9230 - val_loss: 0.2463 - val_acc: 0.8990\n",
            "Epoch 11/30\n",
            "2000/2000 [==============================] - 1s 364us/step - loss: 0.2014 - acc: 0.9255 - val_loss: 0.2436 - val_acc: 0.8990\n",
            "Epoch 12/30\n",
            "2000/2000 [==============================] - 1s 363us/step - loss: 0.1939 - acc: 0.9295 - val_loss: 0.2403 - val_acc: 0.9030\n",
            "Epoch 13/30\n",
            "2000/2000 [==============================] - 1s 380us/step - loss: 0.1831 - acc: 0.9350 - val_loss: 0.2394 - val_acc: 0.9000\n",
            "Epoch 14/30\n",
            "2000/2000 [==============================] - 1s 358us/step - loss: 0.1706 - acc: 0.9390 - val_loss: 0.2377 - val_acc: 0.9000\n",
            "Epoch 15/30\n",
            "2000/2000 [==============================] - 1s 364us/step - loss: 0.1610 - acc: 0.9425 - val_loss: 0.2360 - val_acc: 0.9020\n",
            "Epoch 16/30\n",
            "2000/2000 [==============================] - 1s 369us/step - loss: 0.1601 - acc: 0.9445 - val_loss: 0.2361 - val_acc: 0.9000\n",
            "Epoch 17/30\n",
            "2000/2000 [==============================] - 1s 362us/step - loss: 0.1580 - acc: 0.9395 - val_loss: 0.2351 - val_acc: 0.9020\n",
            "Epoch 18/30\n",
            "2000/2000 [==============================] - 1s 375us/step - loss: 0.1492 - acc: 0.9455 - val_loss: 0.2368 - val_acc: 0.9020\n",
            "Epoch 19/30\n",
            "2000/2000 [==============================] - 1s 358us/step - loss: 0.1393 - acc: 0.9525 - val_loss: 0.2314 - val_acc: 0.9000\n",
            "Epoch 20/30\n",
            "2000/2000 [==============================] - 1s 364us/step - loss: 0.1315 - acc: 0.9575 - val_loss: 0.2318 - val_acc: 0.8980\n",
            "Epoch 21/30\n",
            "2000/2000 [==============================] - 1s 348us/step - loss: 0.1336 - acc: 0.9555 - val_loss: 0.2429 - val_acc: 0.9010\n",
            "Epoch 22/30\n",
            "2000/2000 [==============================] - 1s 350us/step - loss: 0.1263 - acc: 0.9580 - val_loss: 0.2520 - val_acc: 0.8970\n",
            "Epoch 23/30\n",
            "2000/2000 [==============================] - 1s 362us/step - loss: 0.1192 - acc: 0.9630 - val_loss: 0.2330 - val_acc: 0.9000\n",
            "Epoch 24/30\n",
            "2000/2000 [==============================] - 1s 369us/step - loss: 0.1200 - acc: 0.9580 - val_loss: 0.2369 - val_acc: 0.9010\n",
            "Epoch 25/30\n",
            "2000/2000 [==============================] - 1s 362us/step - loss: 0.1118 - acc: 0.9660 - val_loss: 0.2326 - val_acc: 0.8990\n",
            "Epoch 26/30\n",
            "2000/2000 [==============================] - 1s 368us/step - loss: 0.1047 - acc: 0.9650 - val_loss: 0.2323 - val_acc: 0.8970\n",
            "Epoch 27/30\n",
            "2000/2000 [==============================] - 1s 370us/step - loss: 0.1056 - acc: 0.9630 - val_loss: 0.2330 - val_acc: 0.9010\n",
            "Epoch 28/30\n",
            "2000/2000 [==============================] - 1s 373us/step - loss: 0.1006 - acc: 0.9700 - val_loss: 0.2340 - val_acc: 0.9020\n",
            "Epoch 29/30\n",
            "2000/2000 [==============================] - 1s 362us/step - loss: 0.0952 - acc: 0.9685 - val_loss: 0.2378 - val_acc: 0.9000\n",
            "Epoch 30/30\n",
            "2000/2000 [==============================] - 1s 375us/step - loss: 0.0888 - acc: 0.9775 - val_loss: 0.2445 - val_acc: 0.9020\n"
          ],
          "name": "stdout"
        }
      ]
    },
    {
      "cell_type": "code",
      "metadata": {
        "id": "wkZZw-GEgIhx",
        "colab_type": "code",
        "colab": {
          "base_uri": "https://localhost:8080/",
          "height": 545
        },
        "outputId": "4dbb2dbb-0328-45b7-eee7-3f8017190cf1"
      },
      "source": [
        "import matplotlib.pyplot as plt\n",
        "\n",
        "acc = history.history['acc']\n",
        "val_acc = history.history['val_acc']\n",
        "loss = history.history['loss']\n",
        "val_loss = history.history['val_loss']\n",
        "\n",
        "epochs = range(len(acc))\n",
        "\n",
        "plt.plot(epochs, acc, 'bo', label='Training acc')\n",
        "plt.plot(epochs, val_acc, 'b', label='Validation acc')\n",
        "plt.title('Training and validation accuracy')\n",
        "plt.legend()\n",
        "\n",
        "plt.figure()\n",
        "\n",
        "plt.plot(epochs, loss, 'bo', label='Training loss')\n",
        "plt.plot(epochs, val_loss, 'b', label='Validation loss')\n",
        "plt.title('Training and validation loss')\n",
        "plt.legend()\n",
        "\n",
        "plt.show()"
      ],
      "execution_count": 60,
      "outputs": [
        {
          "output_type": "display_data",
          "data": {
            "image/png": "[encoded data removed]",
            "text/plain": [
              "<Figure size 432x288 with 1 Axes>"
            ]
          },
          "metadata": {
            "tags": [],
            "needs_background": "light"
          }
        },
        {
          "output_type": "display_data",
          "data": {
            "image/png": "[encoded data removed]",
            "text/plain": [
              "<Figure size 432x288 with 1 Axes>"
            ]
          },
          "metadata": {
            "tags": [],
            "needs_background": "light"
          }
        }
      ]
    },
    {
      "cell_type": "markdown",
      "metadata": {
        "id": "8NMN4qEvgIhz",
        "colab_type": "text"
      },
      "source": [
        "#### 데이터 증식을 사용한 특성 추출\n",
        "- 이 방법은 GPU를 이용해야 하므로 colab에서 별도로 진행한다."
      ]
    },
    {
      "cell_type": "code",
      "metadata": {
        "id": "-3fIxtyRgIh0",
        "colab_type": "code",
        "colab": {}
      },
      "source": [
        "from keras import models\n",
        "from keras import layers\n",
        "\n",
        "model = models.Sequential()\n",
        "model.add(conv_base)\n",
        "model.add(layers.Flatten())\n",
        "model.add(layers.Dense(256, activation='relu'))\n",
        "model.add(layers.Dense(1, activation='sigmoid'))"
      ],
      "execution_count": 0,
      "outputs": []
    },
    {
      "cell_type": "markdown",
      "metadata": {
        "id": "vkFqszE9sA-B",
        "colab_type": "text"
      },
      "source": [
        "모델은 층과 동일하게 작동하므로 층을 추가하듯이 Sequential 모델에 (conv_base 같은) 다른 모델을 추가 할 수 있다."
      ]
    },
    {
      "cell_type": "code",
      "metadata": {
        "id": "P8VQMNhIgIh1",
        "colab_type": "code",
        "colab": {
          "base_uri": "https://localhost:8080/",
          "height": 305
        },
        "outputId": "d7d414bc-0ca5-4526-b6cc-996f3859f44f"
      },
      "source": [
        "model.summary()"
      ],
      "execution_count": 62,
      "outputs": [
        {
          "output_type": "stream",
          "text": [
            "Model: \"sequential_6\"\n",
            "_________________________________________________________________\n",
            "Layer (type)                 Output Shape              Param #   \n",
            "=================================================================\n",
            "vgg16 (Model)                (None, 4, 4, 512)         14714688  \n",
            "_________________________________________________________________\n",
            "flatten_5 (Flatten)          (None, 8192)              0         \n",
            "_________________________________________________________________\n",
            "dense_11 (Dense)             (None, 256)               2097408   \n",
            "_________________________________________________________________\n",
            "dense_12 (Dense)             (None, 1)                 257       \n",
            "=================================================================\n",
            "Total params: 16,812,353\n",
            "Trainable params: 16,812,353\n",
            "Non-trainable params: 0\n",
            "_________________________________________________________________\n"
          ],
          "name": "stdout"
        }
      ]
    },
    {
      "cell_type": "code",
      "metadata": {
        "id": "ZxqSrTyErfnM",
        "colab_type": "code",
        "colab": {
          "base_uri": "https://localhost:8080/",
          "height": 35
        },
        "outputId": "3dd61f61-a325-4fb5-a1ad-5582c05127ed"
      },
      "source": [
        "print('conv_base를 동결하기 전 훈련되는 가중치의 수:', \n",
        "      len(model.trainable_weights))"
      ],
      "execution_count": 63,
      "outputs": [
        {
          "output_type": "stream",
          "text": [
            "conv_base를 동결하기 전 훈련되는 가중치의 수: 30\n"
          ],
          "name": "stdout"
        }
      ]
    },
    {
      "cell_type": "code",
      "metadata": {
        "id": "FYeAwHT-rfqT",
        "colab_type": "code",
        "colab": {}
      },
      "source": [
        "conv_base.trainable = False\n"
      ],
      "execution_count": 0,
      "outputs": []
    },
    {
      "cell_type": "code",
      "metadata": {
        "id": "ATq5-WxFrfyE",
        "colab_type": "code",
        "colab": {
          "base_uri": "https://localhost:8080/",
          "height": 35
        },
        "outputId": "78a1832b-97d0-4a66-fb59-2eebe08ab324"
      },
      "source": [
        "print('conv_base를 동결한 후 훈련되는 가중치의 수:', \n",
        "      len(model.trainable_weights))"
      ],
      "execution_count": 65,
      "outputs": [
        {
          "output_type": "stream",
          "text": [
            "conv_base를 동결한 후 훈련되는 가중치의 수: 4\n"
          ],
          "name": "stdout"
        }
      ]
    },
    {
      "cell_type": "code",
      "metadata": {
        "id": "lkJaS1GarpnH",
        "colab_type": "code",
        "colab": {
          "base_uri": "https://localhost:8080/",
          "height": 1000
        },
        "outputId": "9f273a08-a8f9-42c8-e639-35355d8fedb0"
      },
      "source": [
        "from keras.preprocessing.image import ImageDataGenerator\n",
        "\n",
        "train_datagen = ImageDataGenerator(\n",
        "      rescale=1./255,\n",
        "      rotation_range=20,\n",
        "      width_shift_range=0.1,\n",
        "      height_shift_range=0.1,\n",
        "      shear_range=0.1,\n",
        "      zoom_range=0.1,\n",
        "      horizontal_flip=True,\n",
        "      fill_mode='nearest')\n",
        "\n",
        "# 검증 데이터는 증식되어서는 안 됩니다!\n",
        "test_datagen = ImageDataGenerator(rescale=1./255)\n",
        "\n",
        "train_generator = train_datagen.flow_from_directory(\n",
        "        # 타깃 디렉터리\n",
        "        train_dir,\n",
        "        # 모든 이미지의 크기를 150 × 150로 변경합니다\n",
        "        target_size=(150, 150),\n",
        "        batch_size=20,\n",
        "        # binary_crossentropy 손실을 사용하므로 이진 레이블이 필요합니다\n",
        "        class_mode='binary')\n",
        "\n",
        "validation_generator = test_datagen.flow_from_directory(\n",
        "        validation_dir,\n",
        "        target_size=(150, 150),\n",
        "        batch_size=20,\n",
        "        class_mode='binary')\n",
        "\n",
        "model.compile(loss='binary_crossentropy',\n",
        "              optimizer=optimizers.RMSprop(lr=2e-5),\n",
        "              metrics=['acc'])\n",
        "\n",
        "history = model.fit_generator(\n",
        "      train_generator,\n",
        "      steps_per_epoch=100,\n",
        "      epochs=30,\n",
        "      validation_data=validation_generator,\n",
        "      validation_steps=50,\n",
        "      verbose=2)"
      ],
      "execution_count": 66,
      "outputs": [
        {
          "output_type": "stream",
          "text": [
            "Found 2000 images belonging to 2 classes.\n",
            "Found 1000 images belonging to 2 classes.\n",
            "Epoch 1/30\n",
            " - 22s - loss: 0.5397 - acc: 0.7495 - val_loss: 0.3522 - val_acc: 0.8380\n",
            "Epoch 2/30\n",
            " - 20s - loss: 0.4108 - acc: 0.8400 - val_loss: 0.2909 - val_acc: 0.8630\n",
            "Epoch 3/30\n",
            " - 20s - loss: 0.3502 - acc: 0.8610 - val_loss: 0.3579 - val_acc: 0.8910\n",
            "Epoch 4/30\n",
            " - 20s - loss: 0.3319 - acc: 0.8630 - val_loss: 0.3841 - val_acc: 0.8850\n",
            "Epoch 5/30\n",
            " - 20s - loss: 0.3111 - acc: 0.8750 - val_loss: 0.1754 - val_acc: 0.8910\n",
            "Epoch 6/30\n",
            " - 20s - loss: 0.2990 - acc: 0.8730 - val_loss: 0.3669 - val_acc: 0.8960\n",
            "Epoch 7/30\n",
            " - 20s - loss: 0.2802 - acc: 0.8845 - val_loss: 0.2223 - val_acc: 0.8980\n",
            "Epoch 8/30\n",
            " - 20s - loss: 0.2731 - acc: 0.8855 - val_loss: 0.1630 - val_acc: 0.8910\n",
            "Epoch 9/30\n",
            " - 20s - loss: 0.2584 - acc: 0.8950 - val_loss: 0.2829 - val_acc: 0.9000\n",
            "Epoch 10/30\n",
            " - 20s - loss: 0.2558 - acc: 0.8980 - val_loss: 0.0607 - val_acc: 0.8990\n",
            "Epoch 11/30\n",
            " - 20s - loss: 0.2497 - acc: 0.9055 - val_loss: 0.1867 - val_acc: 0.8960\n",
            "Epoch 12/30\n",
            " - 20s - loss: 0.2483 - acc: 0.8975 - val_loss: 0.4721 - val_acc: 0.8980\n",
            "Epoch 13/30\n",
            " - 20s - loss: 0.2476 - acc: 0.8980 - val_loss: 0.4523 - val_acc: 0.9030\n",
            "Epoch 14/30\n",
            " - 20s - loss: 0.2313 - acc: 0.9060 - val_loss: 0.1868 - val_acc: 0.9000\n",
            "Epoch 15/30\n",
            " - 20s - loss: 0.2242 - acc: 0.9135 - val_loss: 0.3235 - val_acc: 0.9010\n",
            "Epoch 16/30\n",
            " - 20s - loss: 0.2302 - acc: 0.9035 - val_loss: 0.6460 - val_acc: 0.8970\n",
            "Epoch 17/30\n",
            " - 20s - loss: 0.2160 - acc: 0.9180 - val_loss: 0.1517 - val_acc: 0.9020\n",
            "Epoch 18/30\n",
            " - 20s - loss: 0.2141 - acc: 0.9180 - val_loss: 0.4788 - val_acc: 0.9030\n",
            "Epoch 19/30\n",
            " - 20s - loss: 0.2048 - acc: 0.9225 - val_loss: 0.0738 - val_acc: 0.8900\n",
            "Epoch 20/30\n",
            " - 20s - loss: 0.2108 - acc: 0.9135 - val_loss: 0.1225 - val_acc: 0.9070\n",
            "Epoch 21/30\n",
            " - 20s - loss: 0.2069 - acc: 0.9210 - val_loss: 0.1540 - val_acc: 0.8990\n",
            "Epoch 22/30\n",
            " - 20s - loss: 0.2169 - acc: 0.9105 - val_loss: 0.2960 - val_acc: 0.9070\n",
            "Epoch 23/30\n",
            " - 20s - loss: 0.2069 - acc: 0.9180 - val_loss: 0.1713 - val_acc: 0.9020\n",
            "Epoch 24/30\n",
            " - 20s - loss: 0.2066 - acc: 0.9220 - val_loss: 0.0546 - val_acc: 0.9010\n",
            "Epoch 25/30\n",
            " - 20s - loss: 0.1923 - acc: 0.9270 - val_loss: 0.2110 - val_acc: 0.9010\n",
            "Epoch 26/30\n",
            " - 20s - loss: 0.1916 - acc: 0.9240 - val_loss: 0.1164 - val_acc: 0.9060\n",
            "Epoch 27/30\n",
            " - 20s - loss: 0.1976 - acc: 0.9180 - val_loss: 0.1811 - val_acc: 0.9050\n",
            "Epoch 28/30\n",
            " - 20s - loss: 0.1907 - acc: 0.9270 - val_loss: 0.3663 - val_acc: 0.9050\n",
            "Epoch 29/30\n",
            " - 20s - loss: 0.1934 - acc: 0.9205 - val_loss: 0.1439 - val_acc: 0.9050\n",
            "Epoch 30/30\n",
            " - 20s - loss: 0.1808 - acc: 0.9350 - val_loss: 0.1346 - val_acc: 0.9070\n"
          ],
          "name": "stdout"
        }
      ]
    },
    {
      "cell_type": "markdown",
      "metadata": {
        "id": "T7wwky2BgIh5",
        "colab_type": "text"
      },
      "source": [
        "#### 5.3.2 미세 조정(Fine-Tuning)"
      ]
    },
    {
      "cell_type": "markdown",
      "metadata": {
        "id": "pXzgxeAogIh6",
        "colab_type": "text"
      },
      "source": [
        "특성 추출에 사용했던 동결 모델의 상위 층 몇 개를 동결에서 해제하고 모델에 새로 추가한 층과 함께 훈련하는 것\n",
        "- 주어진 문제에 조금 더 밀접하게 재사용 모델의 표현을 일부 조정하기 때문에 미세조정이라고 부름\n",
        "\n",
        "![alt text](https://s3.amazonaws.com/book.keras.io/img/ch5/vgg16_fine_tuning.png)"
      ]
    },
    {
      "cell_type": "markdown",
      "metadata": {
        "id": "bkn-my2RgIh6",
        "colab_type": "text"
      },
      "source": [
        "미세 조정 순서\n",
        "\n",
        "1. 사전에 훈련된 기반 네트워크 위에 새로운 네트워크를 추가\n",
        "2. 기반 네트워크를 동결\n",
        "3. 새로 추가한 네트워크를 훈련\n",
        "4. 기반 네트워크에서 일부 층의 동결을 해제\n",
        "5. 동결을 해제한 층과 새로 추가한 층을 함께 훈련\n",
        "\n",
        "\n",
        "```\n",
        "1) Add your custom network on top of an already trained base network.\n",
        "2) Freeze the base network.\n",
        "3) Train the part you added.\n",
        "4) Unfreeze some layers in the base network.\n",
        "5) Jointly train both these layers and the part you added.\n",
        "```"
      ]
    }
  ]
}