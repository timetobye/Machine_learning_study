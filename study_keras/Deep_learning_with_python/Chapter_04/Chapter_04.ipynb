{
 "cells": [
  {
   "cell_type": "markdown",
   "metadata": {},
   "source": [
    "Ch4. 머신 러닝의 기본 요소\n",
    "----------"
   ]
  },
  {
   "cell_type": "markdown",
   "metadata": {},
   "source": [
    "- 아는 부분은 빠르게 스킵"
   ]
  },
  {
   "cell_type": "code",
   "execution_count": 1,
   "metadata": {},
   "outputs": [
    {
     "name": "stderr",
     "output_type": "stream",
     "text": [
      "Using TensorFlow backend.\n"
     ]
    }
   ],
   "source": [
    "import keras\n",
    "import numpy as np\n",
    "import pandas as pd\n",
    "import matplotlib.pyplot as plt\n",
    "import tensorflow as tf\n",
    "from keras import backend as K\n",
    "from keras import models, layers\n",
    "\n",
    "%matplotlib inline"
   ]
  },
  {
   "cell_type": "markdown",
   "metadata": {},
   "source": [
    "### 4.1 머신 러닝의 네 가지 분류\n",
    "\n",
    "#### 4.1.1 지도 학습\n",
    "\n",
    "- classification, regression\n",
    "- sequence generation\n",
    "- syntax tree\n",
    "- object detection\n",
    "- image segementation\n",
    "\n",
    "\n",
    "#### 4.1.2 비지도 학습\n",
    "- dimensionality reduction\n",
    "- clustering\n",
    "\n",
    "\n",
    "#### 4.1.3 자기 지도 학습(self-supervised learning)\n",
    "\n",
    "지도 학습의 특별한 경우이지만 별도의 범주로 할 만큼 충분히 다른 케이스\n",
    "- 자기 지도 학습은 지도 학습이지만 사람이 만든 레이블을 사용하지 않음\n",
    "- 학습 과정에 사람이 개입하지 않는 지도 학습\n",
    "- 학습이 무언가에 지도되어야 하므로 레이블이 여전히 필요하지만 보통 경험적인 알고리즘(heuristic algorithm)을 사용하여 입력 데이터로부터 생성\n",
    "\n",
    "대표적인 예로 Autoencoder(오토인코더)가 있다.\n",
    "- 생성된 타깃은 수정하지 않은 원본 입력\n",
    "- 같은 방식으로 지난 프레임이 주어졌을 때 비디오의 다음 프레임을 예측하는 것이나, 이전 단어가 주어졌을 때 다음 단어를 예측하는 것이 자기 지도 학습의 예\n",
    "- 미래의 입력 데이터로부터 지도되기 때문에 시간에 따른 지도 학습\n",
    "  - temporally supervised learning\n",
    "- 지도 학습, 자기 지도 학습, 비지도 학습 구분은 가끔 모호함...\n",
    "\n",
    "\n",
    "#### 4.1.4 강화 학습\n",
    "\n",
    "reinforcement learning\n",
    "- 강화 학습에서 agent는 환경에 대한 정보를 받아 보상을 최대화하는 행동을 선택하도록 학습"
   ]
  },
  {
   "cell_type": "markdown",
   "metadata": {},
   "source": [
    "**기타 tips**\n",
    "\n",
    "미니 배치 또는 배치\n",
    "- 모델에 의해 동시에 처리되는 소량의 샘플 묶음\n",
    "- 일반적으로 8개에서 128개 사이\n",
    "- 샘플 개수는 GPU의 메모리 할당이 용이하도록 2의 거듭제곱으로 하는 경우가 많음\n",
    "- 훈련할 때 미니 배치마다 한 번씩 모델의 가중치에 적용할 경사 하강법 업데이트 값을 계산"
   ]
  },
  {
   "cell_type": "markdown",
   "metadata": {},
   "source": [
    "### 4.2 머신 러닝 모델 평가\n",
    "\n",
    "머신 러닝 Goal - 일반화된 모델을 얻는 것"
   ]
  },
  {
   "cell_type": "markdown",
   "metadata": {},
   "source": [
    "#### 4.2.1 train, validation, test set\n",
    "\n",
    "기본적인 내용은 책 잠조\n",
    "- 왜 우리가 튜닝을 해야 하는가\n",
    "- overfitting을 방지하는 것이 어떤 의미를 지니는가\n",
    "- 하나의 검증 세트로만 계속 튜닝을 하면 어떤 문제가 발생하는가"
   ]
  },
  {
   "cell_type": "markdown",
   "metadata": {},
   "source": [
    "**hold-out validation**\n",
    "- 단순 홀드아웃 검증\n",
    "- 단점\n",
    "  - 데이터가 적을 때는 검증 세트와 테스트 세트의 샘플이 너무 적어 주어진 전체 데이터를 통계적으로 대표하지 못할 수 있다.\n",
    "  - 그래서 다른 방법 쓰는 게 낫다.\n",
    "\n",
    "![alt text](https://datavedas.com/wp-content/uploads/2018/04/image001.jpg)"
   ]
  },
  {
   "cell_type": "markdown",
   "metadata": {},
   "source": [
    "**K-Fold cross validiont**\n",
    "\n",
    "- 동일한 크기를 가진 K개를 분할로 나눔\n",
    "- 각 분할 i에 대해 남은 K - 1 개의 분할로 모델을 훈련하고 분할 i에서 모델을 평가\n",
    "- 최종 점수는 이렇게 얻은 K개의 점수를 평균함\n",
    "- 모델 튜닝에 별개의 검증 세트를 사용\n",
    "\n",
    "![alt text](https://scikit-learn.org/stable/_images/grid_search_cross_validation.png)"
   ]
  },
  {
   "cell_type": "markdown",
   "metadata": {},
   "source": [
    "**iterated K-Fold cross validation with suffling**\n",
    "\n",
    "비교적 가용 데이터가 적고 가능한 정확하게 모델을 평가하고자 할 때 사용\n",
    "- k-fold를 적용하기 전 매번 무작위로 데이터를 섞음\n",
    "- 최종 점수는 모든 K-fold 교차 검증을 실행해서 얻은 점수의 평균이 됨\n",
    "\n",
    "참고\n",
    "- https://scikit-learn.org/stable/modules/generated/sklearn.model_selection.train_test_split.html"
   ]
  },
  {
   "cell_type": "markdown",
   "metadata": {},
   "source": [
    "#### 4.2.2 기억해야 할 것\n",
    "\n",
    "**대표성 이는 데이터**\n",
    "- 훈련 세트와 테스트 세트가 주어진 데이터에 대한 대표성이 있어야 함\n",
    "- 예를 들면 숫자 이미지를 분류하는 문제에서 샘플 배열이 클래스 순서대로 나열되어 있다고 가정해보면...\n",
    "  - 80% 20%로 나누면 앞에는 0~7만 뒤에는 8~9 숫자만 담기게 된다\n",
    "  - 그래서 잘 섞고 준비해야함 -0-\n",
    "\n",
    "**시간의 방향**\n",
    "- 과거로부터 미래를 예측하려고 한다면... 데이터를 분할하기 전에 무작위로 섞어서는 절대 안 됨\n",
    "- 이렇게 하면 미래의 정보가 누설되기 떄문\n",
    "- 즉, 모델이 사실상 미래 데이터에서 훈련 될 거임...\n",
    "- 테스트 세트의 모든 데이터가 미래의 것이어야 함\n",
    "\n",
    "**데이터 중복**\n",
    "- 중복하지 말자"
   ]
  },
  {
   "cell_type": "markdown",
   "metadata": {},
   "source": [
    "### 4.3 데이터 전처리, feature engineering\n",
    "\n",
    "데이터 전처리\n",
    "- 후...\n",
    "\n",
    "Feature engineering\n",
    "- 특정 도메인에 종속적\n",
    "- 예를 들어 텍스트 데이터나 이미지 데이터에 특화 됨\n",
    "\n",
    "#### 4.3.1 NN을 위한 데이터 전처리\n",
    "\n",
    "데이터 전처리의 목적은 주어진 원본 데이터를 신경망에 적용하기 쉽도록 만드는 것\n",
    "\n",
    "**Vectorization**(벡터화)\n",
    "- NN에서 모든 입력과 타깃은 부동 소수 데이터로 이루어진 텐서여야 함(또는 특정 경우에 정수로 이루어진 텐서)\n",
    "- 뭐든 텐서로 변환 필요\n",
    "\n",
    "**Normalization**(정규화)\n",
    "- 작은 값을 취하도록 한다. 대부분 값이 0~1사이이면 좋다.\n",
    "- 균일하면 좋다. 즉 모든 특성이 대체로 비슷한 범위를 가져야 한다.\n",
    "- 꼭...필수적이지는 않지만..\n",
    "  - 각 특성별로 평균이 0이 되도록 정규화 하면 좋다.\n",
    "  - 각 특성별로 표준 평차가 1이 되도록...정규화\n",
    "\n",
    "**null handling**\n",
    "- 배운대로!\n",
    "\n",
    "**feature extraction**"
   ]
  },
  {
   "cell_type": "markdown",
   "metadata": {},
   "source": [
    "#### 4.3.2 feature engineering\n",
    "- feature engineering\n",
    "- https://en.wikipedia.org/wiki/Feature_engineering\n",
    "- 특성을 더 간단한 방식으로 표현하여 문제를 쉽게 만듬\n",
    "  - 해당 문제에 대한 이해는 필수\n",
    "- 딥러닝 이전에는 중요...\n",
    "  - 그러나 딥러닝 시대에는 필요하지 않음\n",
    "  - NN이 자동으로 원본 데이터에서 유용한 특성을 추출할 수 있기 때문이다.\n",
    "- 그럼 안 써도 돼냐? 꼭 그런건 아니다.\n",
    "  - 좋은 특성은 적은 자원을 사용하여 문제를 더 멋지게 풀어낼 수 있다.\n",
    "  - 좋은 feature는 더 적은 데이터로 문제를 풀 수 있다. 딥러닝 모델이 스스로 특성을 학습하는 능력은 가용한 훈련 데이터가 많을 때 발휘됨. 샘플의 개수가 적다는 특성에 있는 정보가 매우 중요해짐\n",
    "  - 결론은 상황에 맞게"
   ]
  },
  {
   "cell_type": "markdown",
   "metadata": {},
   "source": [
    "### 4.4 Overfitting and Underfitting\n",
    "\n",
    "좋은 자료\n",
    "- https://opentutorials.org/module/3653/22071\n",
    "\n",
    "**How to handle overfitting problems?**\n",
    "- 데이터를 더 많이 모은다.\n",
    "- 모델이 수용할 수 있는 정보의 양을 조절하거나 저장할 수 있는 정보에 제약을 가함\n",
    "- regularization을 잘 써먹자"
   ]
  },
  {
   "cell_type": "markdown",
   "metadata": {},
   "source": [
    "#### 4.4.1 Reducing the network's size\n",
    "\n",
    "모델의 크기를 조정\n",
    "- 학습 파라미터의 수를 조정하는 것\n",
    "- layer 수와 각 layer의 unit수에 따라 결정됨\n",
    "- 딥러닝에서는 모델에 있는 학습 파라미터의 수를 종종 모델의 capacity라고 함\n",
    "- 우리가 해야할 건 최적화를 뛰어넘는 일반화\n",
    "\n",
    "capacity에 제약이 있다면...?\n",
    "- 압축된 표현을 학습하게 해야 함\n",
    "\n",
    "마법같은 방법은 없다. -0-\n",
    "\n",
    "적은 수로 접근하면서 점차 늘려나가는 방식을 취한다"
   ]
  },
  {
   "cell_type": "code",
   "execution_count": 8,
   "metadata": {},
   "outputs": [],
   "source": [
    "from keras.datasets import imdb\n",
    "\n",
    "(train_data, train_labels), (test_data, test_labels) = imdb.load_data(num_words=10000)\n",
    "\n",
    "def vectorize_sequences(sequences, dimension=10000):\n",
    "    # Create an all-zero matrix of shape (len(sequences), dimension)\n",
    "    \n",
    "    results = np.zeros((len(sequences), dimension))\n",
    "\n",
    "    for i, sequence in enumerate(sequences):\n",
    "        results[i, sequence] = 1.  # set specific indices of results[i] to 1s\n",
    "    return results\n",
    "\n",
    "# Our vectorized training data\n",
    "x_train = vectorize_sequences(train_data)\n",
    "\n",
    "# Our vectorized test data\n",
    "x_test = vectorize_sequences(test_data)\n",
    "\n",
    "y_train = np.asarray(train_labels).astype('float32')\n",
    "y_test = np.asarray(test_labels).astype('float32')"
   ]
  },
  {
   "cell_type": "code",
   "execution_count": 9,
   "metadata": {},
   "outputs": [],
   "source": [
    "x_val = x_train[:10000]\n",
    "partial_x_train = x_train[10000:]\n",
    "\n",
    "y_val = y_train[:10000]\n",
    "partial_y_train = y_train[10000:]"
   ]
  },
  {
   "cell_type": "code",
   "execution_count": 14,
   "metadata": {},
   "outputs": [],
   "source": [
    "original_model = models.Sequential()\n",
    "original_model.add(layers.Dense(16, activation='relu', input_shape=(10000,)))\n",
    "original_model.add(layers.Dense(16, activation='relu'))\n",
    "original_model.add(layers.Dense(1, activation='sigmoid'))\n",
    "\n",
    "original_model.compile(optimizer='rmsprop',\n",
    "                       loss='binary_crossentropy',\n",
    "                       metrics=['acc'])"
   ]
  },
  {
   "cell_type": "code",
   "execution_count": 15,
   "metadata": {},
   "outputs": [],
   "source": [
    "smaller_model = models.Sequential()\n",
    "smaller_model.add(layers.Dense(4, activation='relu', input_shape=(10000,)))\n",
    "smaller_model.add(layers.Dense(4, activation='relu'))\n",
    "smaller_model.add(layers.Dense(1, activation='sigmoid'))\n",
    "\n",
    "smaller_model.compile(optimizer='rmsprop',\n",
    "                      loss='binary_crossentropy',\n",
    "                      metrics=['acc'])"
   ]
  },
  {
   "cell_type": "code",
   "execution_count": 16,
   "metadata": {},
   "outputs": [
    {
     "name": "stdout",
     "output_type": "stream",
     "text": [
      "Train on 25000 samples, validate on 25000 samples\n",
      "Epoch 1/20\n",
      "25000/25000 [==============================] - 5s 195us/step - loss: 0.4666 - acc: 0.8183 - val_loss: 0.3483 - val_acc: 0.8735\n",
      "Epoch 2/20\n",
      "25000/25000 [==============================] - 3s 120us/step - loss: 0.2626 - acc: 0.9090 - val_loss: 0.2848 - val_acc: 0.8907\n",
      "Epoch 3/20\n",
      "25000/25000 [==============================] - 2s 78us/step - loss: 0.2018 - acc: 0.9279 - val_loss: 0.2804 - val_acc: 0.8871\n",
      "Epoch 4/20\n",
      "25000/25000 [==============================] - 2s 70us/step - loss: 0.1665 - acc: 0.9425 - val_loss: 0.2941 - val_acc: 0.8836\n",
      "Epoch 5/20\n",
      "25000/25000 [==============================] - 2s 76us/step - loss: 0.1478 - acc: 0.9482 - val_loss: 0.3104 - val_acc: 0.8802\n",
      "Epoch 6/20\n",
      "25000/25000 [==============================] - 2s 65us/step - loss: 0.1267 - acc: 0.9566 - val_loss: 0.3366 - val_acc: 0.8752\n",
      "Epoch 7/20\n",
      "25000/25000 [==============================] - 2s 76us/step - loss: 0.1159 - acc: 0.9600 - val_loss: 0.3651 - val_acc: 0.8705\n",
      "Epoch 8/20\n",
      "25000/25000 [==============================] - 2s 64us/step - loss: 0.1004 - acc: 0.9668 - val_loss: 0.4010 - val_acc: 0.8634\n",
      "Epoch 9/20\n",
      "25000/25000 [==============================] - 2s 77us/step - loss: 0.0909 - acc: 0.9700 - val_loss: 0.4373 - val_acc: 0.8588\n",
      "Epoch 10/20\n",
      "25000/25000 [==============================] - 2s 78us/step - loss: 0.0821 - acc: 0.9738 - val_loss: 0.4392 - val_acc: 0.8634\n",
      "Epoch 11/20\n",
      "25000/25000 [==============================] - 2s 85us/step - loss: 0.0734 - acc: 0.9768 - val_loss: 0.4746 - val_acc: 0.8620\n",
      "Epoch 12/20\n",
      "25000/25000 [==============================] - 2s 66us/step - loss: 0.0655 - acc: 0.9795 - val_loss: 0.5533 - val_acc: 0.8483\n",
      "Epoch 13/20\n",
      "25000/25000 [==============================] - 2s 76us/step - loss: 0.0589 - acc: 0.9814 - val_loss: 0.5283 - val_acc: 0.8584\n",
      "Epoch 14/20\n",
      "25000/25000 [==============================] - 2s 65us/step - loss: 0.0517 - acc: 0.9846 - val_loss: 0.5686 - val_acc: 0.8556\n",
      "Epoch 15/20\n",
      "25000/25000 [==============================] - 2s 75us/step - loss: 0.0467 - acc: 0.9864 - val_loss: 0.6076 - val_acc: 0.8544\n",
      "Epoch 16/20\n",
      "25000/25000 [==============================] - 1s 60us/step - loss: 0.0393 - acc: 0.9884 - val_loss: 0.6322 - val_acc: 0.8526\n",
      "Epoch 17/20\n",
      "25000/25000 [==============================] - 2s 72us/step - loss: 0.0361 - acc: 0.9892 - val_loss: 0.6626 - val_acc: 0.8522\n",
      "Epoch 18/20\n",
      "25000/25000 [==============================] - 2s 62us/step - loss: 0.0290 - acc: 0.9923 - val_loss: 0.7337 - val_acc: 0.8483\n",
      "Epoch 19/20\n",
      "25000/25000 [==============================] - 2s 70us/step - loss: 0.0251 - acc: 0.9932 - val_loss: 0.8067 - val_acc: 0.8436\n",
      "Epoch 20/20\n",
      "25000/25000 [==============================] - 2s 63us/step - loss: 0.0236 - acc: 0.9932 - val_loss: 0.7825 - val_acc: 0.8488\n"
     ]
    }
   ],
   "source": [
    "original_hist = original_model.fit(x_train, y_train,\n",
    "                                   epochs=20,\n",
    "                                   batch_size=512,\n",
    "                                   validation_data=(x_test, y_test))"
   ]
  },
  {
   "cell_type": "code",
   "execution_count": 17,
   "metadata": {},
   "outputs": [
    {
     "name": "stdout",
     "output_type": "stream",
     "text": [
      "Train on 25000 samples, validate on 25000 samples\n",
      "Epoch 1/20\n",
      "25000/25000 [==============================] - 2s 81us/step - loss: 0.5915 - acc: 0.7400 - val_loss: 0.5376 - val_acc: 0.7880\n",
      "Epoch 2/20\n",
      "25000/25000 [==============================] - 2s 61us/step - loss: 0.4839 - acc: 0.8586 - val_loss: 0.4695 - val_acc: 0.8548\n",
      "Epoch 3/20\n",
      "25000/25000 [==============================] - 2s 70us/step - loss: 0.4086 - acc: 0.9013 - val_loss: 0.4107 - val_acc: 0.8813\n",
      "Epoch 4/20\n",
      "25000/25000 [==============================] - 2s 61us/step - loss: 0.3350 - acc: 0.9230 - val_loss: 0.3576 - val_acc: 0.8804\n",
      "Epoch 5/20\n",
      "25000/25000 [==============================] - 2s 69us/step - loss: 0.2692 - acc: 0.9349 - val_loss: 0.3156 - val_acc: 0.8879\n",
      "Epoch 6/20\n",
      "25000/25000 [==============================] - 2s 61us/step - loss: 0.2216 - acc: 0.9409 - val_loss: 0.2954 - val_acc: 0.8871\n",
      "Epoch 7/20\n",
      "25000/25000 [==============================] - 2s 71us/step - loss: 0.1910 - acc: 0.9449 - val_loss: 0.2867 - val_acc: 0.8872\n",
      "Epoch 8/20\n",
      "25000/25000 [==============================] - 2s 60us/step - loss: 0.1702 - acc: 0.9495 - val_loss: 0.2944 - val_acc: 0.8830\n",
      "Epoch 9/20\n",
      "25000/25000 [==============================] - 2s 70us/step - loss: 0.1548 - acc: 0.9530 - val_loss: 0.2910 - val_acc: 0.8842\n",
      "Epoch 10/20\n",
      "25000/25000 [==============================] - 2s 78us/step - loss: 0.1422 - acc: 0.9574 - val_loss: 0.3008 - val_acc: 0.8812\n",
      "Epoch 11/20\n",
      "25000/25000 [==============================] - 2s 84us/step - loss: 0.1316 - acc: 0.9608 - val_loss: 0.3065 - val_acc: 0.8802\n",
      "Epoch 12/20\n",
      "25000/25000 [==============================] - 3s 112us/step - loss: 0.1221 - acc: 0.9642 - val_loss: 0.3209 - val_acc: 0.8769\n",
      "Epoch 13/20\n",
      "25000/25000 [==============================] - 2s 71us/step - loss: 0.1133 - acc: 0.9677 - val_loss: 0.3311 - val_acc: 0.8748\n",
      "Epoch 14/20\n",
      "25000/25000 [==============================] - 2s 72us/step - loss: 0.1060 - acc: 0.9704 - val_loss: 0.3401 - val_acc: 0.8728\n",
      "Epoch 15/20\n",
      "25000/25000 [==============================] - 2s 80us/step - loss: 0.0987 - acc: 0.9727 - val_loss: 0.3473 - val_acc: 0.8729\n",
      "Epoch 16/20\n",
      "25000/25000 [==============================] - 2s 74us/step - loss: 0.0919 - acc: 0.9753 - val_loss: 0.3692 - val_acc: 0.8688\n",
      "Epoch 17/20\n",
      "25000/25000 [==============================] - 2s 75us/step - loss: 0.0856 - acc: 0.9776 - val_loss: 0.3824 - val_acc: 0.8672\n",
      "Epoch 18/20\n",
      "25000/25000 [==============================] - 2s 60us/step - loss: 0.0797 - acc: 0.9795 - val_loss: 0.3846 - val_acc: 0.8679\n",
      "Epoch 19/20\n",
      "25000/25000 [==============================] - 2s 74us/step - loss: 0.0737 - acc: 0.9822 - val_loss: 0.3987 - val_acc: 0.8680\n",
      "Epoch 20/20\n",
      "25000/25000 [==============================] - 2s 63us/step - loss: 0.0691 - acc: 0.9828 - val_loss: 0.4161 - val_acc: 0.8640\n"
     ]
    }
   ],
   "source": [
    "smaller_model_hist = smaller_model.fit(x_train, y_train,\n",
    "                                       epochs=20,\n",
    "                                       batch_size=512,\n",
    "                                       validation_data=(x_test, y_test))"
   ]
  },
  {
   "cell_type": "code",
   "execution_count": 18,
   "metadata": {},
   "outputs": [],
   "source": [
    "epochs = range(1, 21)\n",
    "original_val_loss = original_hist.history['val_loss']\n",
    "smaller_model_val_loss = smaller_model_hist.history['val_loss']\n"
   ]
  },
  {
   "cell_type": "code",
   "execution_count": 19,
   "metadata": {},
   "outputs": [
    {
     "data": {
      "image/png": "[encoded data removed]",
      "text/plain": [
       "<Figure size 432x288 with 1 Axes>"
      ]
     },
     "metadata": {
      "needs_background": "light"
     },
     "output_type": "display_data"
    }
   ],
   "source": [
    "# b+ is for \"blue cross\"\n",
    "plt.plot(epochs, original_val_loss, 'b+', label='Original model')\n",
    "# \"bo\" is for \"blue dot\"\n",
    "plt.plot(epochs, smaller_model_val_loss, 'bo', label='Smaller model')\n",
    "plt.xlabel('Epochs')\n",
    "plt.ylabel('Validation loss')\n",
    "plt.legend()\n",
    "\n",
    "plt.show()"
   ]
  },
  {
   "cell_type": "code",
   "execution_count": 20,
   "metadata": {},
   "outputs": [],
   "source": [
    "bigger_model = models.Sequential()\n",
    "bigger_model.add(layers.Dense(512, activation='relu', input_shape=(10000,)))\n",
    "bigger_model.add(layers.Dense(512, activation='relu'))\n",
    "bigger_model.add(layers.Dense(1, activation='sigmoid'))\n",
    "\n",
    "bigger_model.compile(optimizer='rmsprop',\n",
    "                     loss='binary_crossentropy',\n",
    "                     metrics=['acc'])"
   ]
  },
  {
   "cell_type": "code",
   "execution_count": 21,
   "metadata": {},
   "outputs": [
    {
     "name": "stdout",
     "output_type": "stream",
     "text": [
      "Train on 25000 samples, validate on 25000 samples\n",
      "Epoch 1/20\n",
      "25000/25000 [==============================] - 10s 401us/step - loss: 0.4603 - acc: 0.7966 - val_loss: 0.3426 - val_acc: 0.8572\n",
      "Epoch 2/20\n",
      "25000/25000 [==============================] - 11s 426us/step - loss: 0.2209 - acc: 0.9138 - val_loss: 0.2781 - val_acc: 0.8865\n",
      "Epoch 3/20\n",
      "25000/25000 [==============================] - 9s 348us/step - loss: 0.1280 - acc: 0.9514 - val_loss: 0.3334 - val_acc: 0.8864\n",
      "Epoch 4/20\n",
      "25000/25000 [==============================] - 7s 300us/step - loss: 0.0546 - acc: 0.9815 - val_loss: 0.4133 - val_acc: 0.8834\n",
      "Epoch 5/20\n",
      "25000/25000 [==============================] - 10s 410us/step - loss: 0.0631 - acc: 0.9875 - val_loss: 0.4697 - val_acc: 0.8807\n",
      "Epoch 6/20\n",
      "25000/25000 [==============================] - 8s 309us/step - loss: 0.0024 - acc: 0.9997 - val_loss: 0.7376 - val_acc: 0.8735\n",
      "Epoch 7/20\n",
      "25000/25000 [==============================] - 7s 296us/step - loss: 0.1098 - acc: 0.9877 - val_loss: 0.6583 - val_acc: 0.8662\n",
      "Epoch 8/20\n",
      "25000/25000 [==============================] - 8s 311us/step - loss: 9.3880e-04 - acc: 0.9999 - val_loss: 0.7762 - val_acc: 0.8805\n",
      "Epoch 9/20\n",
      "25000/25000 [==============================] - 8s 333us/step - loss: 1.3819e-04 - acc: 1.0000 - val_loss: 0.9206 - val_acc: 0.8811\n",
      "Epoch 10/20\n",
      "25000/25000 [==============================] - 7s 282us/step - loss: 2.2427e-05 - acc: 1.0000 - val_loss: 2.7390 - val_acc: 0.7722\n",
      "Epoch 11/20\n",
      "25000/25000 [==============================] - 9s 353us/step - loss: 0.1373 - acc: 0.9895 - val_loss: 0.8250 - val_acc: 0.8801\n",
      "Epoch 12/20\n",
      "25000/25000 [==============================] - 7s 263us/step - loss: 2.2862e-05 - acc: 1.0000 - val_loss: 0.9126 - val_acc: 0.8801\n",
      "Epoch 13/20\n",
      "25000/25000 [==============================] - 6s 257us/step - loss: 7.5418e-06 - acc: 1.0000 - val_loss: 1.0665 - val_acc: 0.8798\n",
      "Epoch 14/20\n",
      "25000/25000 [==============================] - 6s 241us/step - loss: 1.3677e-06 - acc: 1.0000 - val_loss: 1.2178 - val_acc: 0.8802\n",
      "Epoch 15/20\n",
      "25000/25000 [==============================] - 7s 264us/step - loss: 2.3714e-07 - acc: 1.0000 - val_loss: 1.3634 - val_acc: 0.8804\n",
      "Epoch 16/20\n",
      "25000/25000 [==============================] - 7s 268us/step - loss: 5.5442e-08 - acc: 1.0000 - val_loss: 1.4676 - val_acc: 0.8804\n",
      "Epoch 17/20\n",
      "25000/25000 [==============================] - 7s 289us/step - loss: 2.2329e-08 - acc: 1.0000 - val_loss: 1.5253 - val_acc: 0.8803\n",
      "Epoch 18/20\n",
      "25000/25000 [==============================] - 7s 265us/step - loss: 1.3561e-08 - acc: 1.0000 - val_loss: 1.5599 - val_acc: 0.8800\n",
      "Epoch 19/20\n",
      "25000/25000 [==============================] - 6s 256us/step - loss: 9.7794e-09 - acc: 1.0000 - val_loss: 1.5847 - val_acc: 0.8799\n",
      "Epoch 20/20\n",
      "25000/25000 [==============================] - 6s 255us/step - loss: 7.6639e-09 - acc: 1.0000 - val_loss: 1.6023 - val_acc: 0.8800\n"
     ]
    }
   ],
   "source": [
    "bigger_model_hist = bigger_model.fit(x_train, y_train,\n",
    "                                     epochs=20,\n",
    "                                     batch_size=512,\n",
    "                                     validation_data=(x_test, y_test))"
   ]
  },
  {
   "cell_type": "code",
   "execution_count": 23,
   "metadata": {},
   "outputs": [],
   "source": [
    "bigger_model_val_loss = bigger_model_hist.history['val_loss']"
   ]
  },
  {
   "cell_type": "code",
   "execution_count": 24,
   "metadata": {},
   "outputs": [
    {
     "data": {
      "image/png": "[encoded data removed]",
      "text/plain": [
       "<Figure size 432x288 with 1 Axes>"
      ]
     },
     "metadata": {
      "needs_background": "light"
     },
     "output_type": "display_data"
    }
   ],
   "source": [
    "# b+ is for \"blue cross\"\n",
    "plt.plot(epochs, original_val_loss, 'b+', label='Original model')\n",
    "# \"bo\" is for \"blue dot\"\n",
    "plt.plot(epochs, bigger_model_val_loss, 'bo', label='bigger model')\n",
    "plt.xlabel('Epochs')\n",
    "plt.ylabel('Validation loss')\n",
    "plt.legend()\n",
    "\n",
    "plt.show()"
   ]
  },
  {
   "cell_type": "code",
   "execution_count": 25,
   "metadata": {},
   "outputs": [
    {
     "data": {
      "text/plain": [
       "dict_keys(['val_loss', 'val_acc', 'loss', 'acc'])"
      ]
     },
     "execution_count": 25,
     "metadata": {},
     "output_type": "execute_result"
    }
   ],
   "source": [
    "bigger_model_hist.history.keys()"
   ]
  },
  {
   "cell_type": "code",
   "execution_count": 27,
   "metadata": {},
   "outputs": [
    {
     "data": {
      "text/plain": [
       "[0.4603186081600189,\n",
       " 0.22091380422115325,\n",
       " 0.12801656466960906,\n",
       " 0.054635426207780835,\n",
       " 0.06311132643371821,\n",
       " 0.0023895707294344904,\n",
       " 0.10982005628913641,\n",
       " 0.0009388009798154235,\n",
       " 0.00013818907369859517,\n",
       " 2.2427114052698015e-05,\n",
       " 0.13730216193530476,\n",
       " 2.2861702803638762e-05,\n",
       " 7.541847641696222e-06,\n",
       " 1.3676619261423185e-06,\n",
       " 2.3714087797088724e-07,\n",
       " 5.544201306236118e-08,\n",
       " 2.2329216132845885e-08,\n",
       " 1.3560828498953014e-08,\n",
       " 9.779402352592115e-09,\n",
       " 7.663890588673894e-09]"
      ]
     },
     "execution_count": 27,
     "metadata": {},
     "output_type": "execute_result"
    }
   ],
   "source": [
    "bigger_model_hist.history['loss']"
   ]
  },
  {
   "cell_type": "code",
   "execution_count": 30,
   "metadata": {},
   "outputs": [
    {
     "data": {
      "image/png": "[encoded data removed]",
      "text/plain": [
       "<Figure size 432x288 with 1 Axes>"
      ]
     },
     "metadata": {
      "needs_background": "light"
     },
     "output_type": "display_data"
    }
   ],
   "source": [
    "# b+ is for \"blue cross\"\n",
    "plt.plot(epochs, original_hist.history['loss'], 'b+', label='Original model')\n",
    "# \"bo\" is for \"blue dot\"\n",
    "plt.plot(epochs, bigger_model_hist.history['loss'], 'bo', label='bigger model')\n",
    "plt.xlabel('Epochs')\n",
    "plt.ylabel('Validation loss')\n",
    "plt.legend()\n",
    "\n",
    "plt.show()"
   ]
  },
  {
   "cell_type": "markdown",
   "metadata": {},
   "source": [
    "#### 4.4.2 Adding weight regularization\n",
    "\n",
    "어떤 train 데이터와 네트워크 구조가 주어졌을 때 데이터를 설명할 수 있는 가중치 값의 집합은 여러 개의 모델\n",
    "- 간단한 모델이 복잡한 모델보다 덜 overfitting 될 가능성이 높다.\n",
    "\n",
    "간단한 모델은...\n",
    "- parameter 값 분포의 엔트로피가 작은 모델\n",
    "- overfitting을 완화하기 위해서 일반적인 방법은 네트워크의 복잡도에 제한을 두어 가중치가 작은 값을 가지도록 강제하는 것\n",
    "- weight regularization\n",
    "  - L1 regularization : 가중치 절댓값에 비례하는 cost 추가, L1 norm\n",
    "  - L2 regularization : 가중치 제곱에 비례하는 cost 추가, L2 norm, L2는 NN에서 weight decay(가중치 감쇠)라고도 불림"
   ]
  },
  {
   "cell_type": "code",
   "execution_count": 37,
   "metadata": {},
   "outputs": [],
   "source": [
    "from keras import regularizers\n",
    "\n",
    "l2_model = models.Sequential()\n",
    "l2_model.add(layers.Dense(\n",
    "    units=16, \n",
    "    kernel_regularizer=regularizers.l2(l=0.001),\n",
    "    activation='relu',\n",
    "    input_shape=(10000,)))\n",
    "\n",
    "l2_model.add(layers.Dense(\n",
    "    units=16, \n",
    "    kernel_regularizer=regularizers.l2(l=0.001),\n",
    "    activation='relu'))\n",
    "\n",
    "l2_model.add(layers.Dense(\n",
    "    units=1, activation='sigmoid'))\n",
    "\n",
    "l2_model.compile(optimizer='rmsprop',\n",
    "                 loss='binary_crossentropy',\n",
    "                 metrics=['acc'])"
   ]
  },
  {
   "cell_type": "markdown",
   "metadata": {},
   "source": [
    "l2(l=0.001)?\n",
    "- 가중치 행렬의 모든 우너소를 제곱하고 0.001을 곱하여 네트워크의 전체 loss에 더해진다는 의미\n",
    "- 이 penalty 항은 traing 할 때만 추가됨"
   ]
  },
  {
   "cell_type": "code",
   "execution_count": 38,
   "metadata": {},
   "outputs": [
    {
     "name": "stdout",
     "output_type": "stream",
     "text": [
      "Train on 25000 samples, validate on 25000 samples\n",
      "Epoch 1/20\n",
      "25000/25000 [==============================] - 5s 193us/step - loss: 0.4880 - acc: 0.8234 - val_loss: 0.3763 - val_acc: 0.8829\n",
      "Epoch 2/20\n",
      "25000/25000 [==============================] - 4s 149us/step - loss: 0.3159 - acc: 0.9034 - val_loss: 0.3362 - val_acc: 0.8889\n",
      "Epoch 3/20\n",
      "25000/25000 [==============================] - 2s 76us/step - loss: 0.2742 - acc: 0.9210 - val_loss: 0.3397 - val_acc: 0.8843\n",
      "Epoch 4/20\n",
      "25000/25000 [==============================] - 2s 66us/step - loss: 0.2533 - acc: 0.9279 - val_loss: 0.3452 - val_acc: 0.8810\n",
      "Epoch 5/20\n",
      "25000/25000 [==============================] - 2s 73us/step - loss: 0.2450 - acc: 0.9308 - val_loss: 0.3418 - val_acc: 0.8838\n",
      "Epoch 6/20\n",
      "25000/25000 [==============================] - 2s 76us/step - loss: 0.2335 - acc: 0.9350 - val_loss: 0.3591 - val_acc: 0.8787\n",
      "Epoch 7/20\n",
      "25000/25000 [==============================] - 2s 93us/step - loss: 0.2281 - acc: 0.9387 - val_loss: 0.3840 - val_acc: 0.8705\n",
      "Epoch 8/20\n",
      "25000/25000 [==============================] - 2s 65us/step - loss: 0.2242 - acc: 0.9394 - val_loss: 0.4154 - val_acc: 0.8598\n",
      "Epoch 9/20\n",
      "25000/25000 [==============================] - 2s 78us/step - loss: 0.2186 - acc: 0.9402 - val_loss: 0.4127 - val_acc: 0.8641\n",
      "Epoch 10/20\n",
      "25000/25000 [==============================] - 2s 65us/step - loss: 0.2131 - acc: 0.9433 - val_loss: 0.3893 - val_acc: 0.8715\n",
      "Epoch 11/20\n",
      "25000/25000 [==============================] - 2s 75us/step - loss: 0.2166 - acc: 0.9419 - val_loss: 0.3846 - val_acc: 0.8742\n",
      "Epoch 12/20\n",
      "25000/25000 [==============================] - 2s 67us/step - loss: 0.2108 - acc: 0.9440 - val_loss: 0.3833 - val_acc: 0.8754\n",
      "Epoch 13/20\n",
      "25000/25000 [==============================] - 2s 99us/step - loss: 0.2038 - acc: 0.9470 - val_loss: 0.3975 - val_acc: 0.8713\n",
      "Epoch 14/20\n",
      "25000/25000 [==============================] - 2s 71us/step - loss: 0.2065 - acc: 0.9456 - val_loss: 0.4005 - val_acc: 0.8714\n",
      "Epoch 15/20\n",
      "25000/25000 [==============================] - 2s 74us/step - loss: 0.2022 - acc: 0.9456 - val_loss: 0.4539 - val_acc: 0.8558\n",
      "Epoch 16/20\n",
      "25000/25000 [==============================] - 2s 68us/step - loss: 0.1964 - acc: 0.9503 - val_loss: 0.4112 - val_acc: 0.8715\n",
      "Epoch 17/20\n",
      "25000/25000 [==============================] - 2s 76us/step - loss: 0.2018 - acc: 0.9455 - val_loss: 0.4102 - val_acc: 0.8695\n",
      "Epoch 18/20\n",
      "25000/25000 [==============================] - 3s 103us/step - loss: 0.1971 - acc: 0.9481 - val_loss: 0.4914 - val_acc: 0.8499\n",
      "Epoch 19/20\n",
      "25000/25000 [==============================] - 2s 92us/step - loss: 0.1955 - acc: 0.9501 - val_loss: 0.4209 - val_acc: 0.8689\n",
      "Epoch 20/20\n",
      "25000/25000 [==============================] - 2s 68us/step - loss: 0.1935 - acc: 0.9498 - val_loss: 0.4340 - val_acc: 0.8667\n"
     ]
    }
   ],
   "source": [
    "l2_model_hist = l2_model.fit(x_train, y_train,\n",
    "                                  epochs=20,\n",
    "                                  batch_size=512,\n",
    "                                  validation_data=(x_test, y_test))"
   ]
  },
  {
   "cell_type": "code",
   "execution_count": 39,
   "metadata": {},
   "outputs": [
    {
     "data": {
      "image/png": "[encoded data removed]",
      "text/plain": [
       "<Figure size 432x288 with 1 Axes>"
      ]
     },
     "metadata": {
      "needs_background": "light"
     },
     "output_type": "display_data"
    }
   ],
   "source": [
    "l2_model_val_loss = l2_model_hist.history['val_loss']\n",
    "\n",
    "plt.plot(epochs, original_val_loss, 'b+', label='Original model')\n",
    "plt.plot(epochs, l2_model_val_loss, 'bo', label='L2-regularized model')\n",
    "plt.xlabel('Epochs')\n",
    "plt.ylabel('Validation loss')\n",
    "plt.legend()\n",
    "\n",
    "plt.show()\n"
   ]
  },
  {
   "cell_type": "markdown",
   "metadata": {},
   "source": [
    "**regularization in keras**\n",
    "```python\n",
    "\n",
    "# L1 regularization\n",
    "regularizers.l1(0.001)\n",
    "\n",
    "# L1 and L2 regularization at the same time\n",
    "regularizers.l1_l2(l1=0.001, l2=0.001)  <- ElasticNet\n",
    "```"
   ]
  },
  {
   "cell_type": "markdown",
   "metadata": {},
   "source": [
    "#### 4.4.3 Dropout\n",
    "\n",
    "NN을 훈련하는 동안 무작위로 층의 일부 출력 특성을 제외\n",
    "- In Keras you can introduce dropout in a network via the Dropout layer, which gets applied to the output of layer right before it, e.g.:\n",
    "\n",
    "**example**\n",
    "- [0.2, 0.5, 1.3, 0.8, 1.1] -> [0, 0.5, 1.3, 0, 1.1]\n",
    "- 보통 0.2 에서 0.5로 지정함\n",
    "\n",
    "![alt text](https://encrypted-tbn0.gstatic.com/images?q=tbn%3AANd9GcRwoH6V6kxLJsjNXHWwVh-I2whGkGF1O6YNISG9G6zaR244O25Q)"
   ]
  },
  {
   "cell_type": "code",
   "execution_count": 40,
   "metadata": {},
   "outputs": [],
   "source": [
    "dpt_model = models.Sequential()\n",
    "\n",
    "dpt_model.add(layers.Dense(16, activation='relu', input_shape=(10000,)))\n",
    "dpt_model.add(layers.Dropout(0.5))\n",
    "\n",
    "dpt_model.add(layers.Dense(16, activation='relu'))\n",
    "dpt_model.add(layers.Dropout(0.5))\n",
    "\n",
    "dpt_model.add(layers.Dense(1, activation='sigmoid'))\n",
    "\n",
    "dpt_model.compile(optimizer='rmsprop',\n",
    "                  loss='binary_crossentropy',\n",
    "                  metrics=['acc'])"
   ]
  },
  {
   "cell_type": "code",
   "execution_count": 41,
   "metadata": {},
   "outputs": [
    {
     "name": "stdout",
     "output_type": "stream",
     "text": [
      "Train on 25000 samples, validate on 25000 samples\n",
      "Epoch 1/20\n",
      "25000/25000 [==============================] - 3s 135us/step - loss: 0.6104 - acc: 0.6540 - val_loss: 0.4848 - val_acc: 0.8610\n",
      "Epoch 2/20\n",
      "25000/25000 [==============================] - 2s 62us/step - loss: 0.4760 - acc: 0.7892 - val_loss: 0.3657 - val_acc: 0.8812\n",
      "Epoch 3/20\n",
      "25000/25000 [==============================] - 2s 66us/step - loss: 0.3889 - acc: 0.8491 - val_loss: 0.3057 - val_acc: 0.8862\n",
      "Epoch 4/20\n",
      "25000/25000 [==============================] - 2s 62us/step - loss: 0.3240 - acc: 0.8797 - val_loss: 0.2865 - val_acc: 0.8872\n",
      "Epoch 5/20\n",
      "25000/25000 [==============================] - 2s 72us/step - loss: 0.2835 - acc: 0.9010 - val_loss: 0.2798 - val_acc: 0.8866\n",
      "Epoch 6/20\n",
      "25000/25000 [==============================] - 2s 70us/step - loss: 0.2474 - acc: 0.9158 - val_loss: 0.2809 - val_acc: 0.8894\n",
      "Epoch 7/20\n",
      "25000/25000 [==============================] - 2s 73us/step - loss: 0.2237 - acc: 0.9268 - val_loss: 0.2957 - val_acc: 0.8880\n",
      "Epoch 8/20\n",
      "25000/25000 [==============================] - 2s 64us/step - loss: 0.2016 - acc: 0.9342 - val_loss: 0.3144 - val_acc: 0.8865\n",
      "Epoch 9/20\n",
      "25000/25000 [==============================] - 2s 71us/step - loss: 0.1879 - acc: 0.9386 - val_loss: 0.3308 - val_acc: 0.8847\n",
      "Epoch 10/20\n",
      "25000/25000 [==============================] - 2s 62us/step - loss: 0.1708 - acc: 0.9475 - val_loss: 0.3443 - val_acc: 0.8826\n",
      "Epoch 11/20\n",
      "25000/25000 [==============================] - 2s 68us/step - loss: 0.1624 - acc: 0.9491 - val_loss: 0.3895 - val_acc: 0.8798\n",
      "Epoch 12/20\n",
      "25000/25000 [==============================] - 2s 61us/step - loss: 0.1532 - acc: 0.9523 - val_loss: 0.3879 - val_acc: 0.8787\n",
      "Epoch 13/20\n",
      "25000/25000 [==============================] - 2s 66us/step - loss: 0.1428 - acc: 0.9560 - val_loss: 0.4350 - val_acc: 0.8728\n",
      "Epoch 14/20\n",
      "25000/25000 [==============================] - 1s 59us/step - loss: 0.1371 - acc: 0.9578 - val_loss: 0.4461 - val_acc: 0.8764\n",
      "Epoch 15/20\n",
      "25000/25000 [==============================] - 2s 67us/step - loss: 0.1286 - acc: 0.9617 - val_loss: 0.4792 - val_acc: 0.8750\n",
      "Epoch 16/20\n",
      "25000/25000 [==============================] - 1s 60us/step - loss: 0.1246 - acc: 0.9618 - val_loss: 0.4829 - val_acc: 0.8746\n",
      "Epoch 17/20\n",
      "25000/25000 [==============================] - 2s 65us/step - loss: 0.1214 - acc: 0.9624 - val_loss: 0.5123 - val_acc: 0.8741\n",
      "Epoch 18/20\n",
      "25000/25000 [==============================] - 2s 61us/step - loss: 0.1153 - acc: 0.9652 - val_loss: 0.5441 - val_acc: 0.8756\n",
      "Epoch 19/20\n",
      "25000/25000 [==============================] - 2s 65us/step - loss: 0.1137 - acc: 0.9648 - val_loss: 0.5351 - val_acc: 0.8738\n",
      "Epoch 20/20\n",
      "25000/25000 [==============================] - 1s 59us/step - loss: 0.1080 - acc: 0.9675 - val_loss: 0.5798 - val_acc: 0.8726\n"
     ]
    }
   ],
   "source": [
    "dpt_model_hist = dpt_model.fit(x_train, y_train,\n",
    "                               epochs=20,\n",
    "                               batch_size=512,\n",
    "                               validation_data=(x_test, y_test))"
   ]
  },
  {
   "cell_type": "code",
   "execution_count": 42,
   "metadata": {},
   "outputs": [
    {
     "data": {
      "image/png": "[encoded data removed]",
      "text/plain": [
       "<Figure size 432x288 with 1 Axes>"
      ]
     },
     "metadata": {
      "needs_background": "light"
     },
     "output_type": "display_data"
    }
   ],
   "source": [
    "dpt_model_val_loss = dpt_model_hist.history['val_loss']\n",
    "\n",
    "plt.plot(epochs, original_val_loss, 'b+', label='Original model')\n",
    "plt.plot(epochs, dpt_model_val_loss, 'bo', label='Dropout-regularized model')\n",
    "plt.xlabel('Epochs')\n",
    "plt.ylabel('Validation loss')\n",
    "plt.legend()\n",
    "\n",
    "plt.show()"
   ]
  },
  {
   "cell_type": "markdown",
   "metadata": {},
   "source": [
    "NN에서 overfitting을 방지하기 위해 널리 사용하는 방법은....\n",
    "- 데이터를 더 모으기\n",
    "- network capacity 감소\n",
    "- adding weight regularization - L1, L2, L1_L2\n",
    "- adding dropout"
   ]
  }
 ],
 "metadata": {
  "kernelspec": {
   "display_name": "Python 3",
   "language": "python",
   "name": "python3"
  },
  "language_info": {
   "codemirror_mode": {
    "name": "ipython",
    "version": 3
   },
   "file_extension": ".py",
   "mimetype": "text/x-python",
   "name": "python",
   "nbconvert_exporter": "python",
   "pygments_lexer": "ipython3",
   "version": "3.7.6"
  }
 },
 "nbformat": 4,
 "nbformat_minor": 4
}
