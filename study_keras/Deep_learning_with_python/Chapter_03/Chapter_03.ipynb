{
 "cells": [
  {
   "cell_type": "markdown",
   "metadata": {},
   "source": [
    "Ch3. 신경망 시작하기\n",
    "----"
   ]
  },
  {
   "cell_type": "code",
   "execution_count": 1,
   "metadata": {},
   "outputs": [
    {
     "name": "stderr",
     "output_type": "stream",
     "text": [
      "Using TensorFlow backend.\n"
     ]
    }
   ],
   "source": [
    "import keras\n",
    "import numpy as np\n",
    "import pandas as pd\n",
    "import matplotlib.pyplot as plt\n",
    "import tensorflow as tf\n",
    "from keras import backend as K\n",
    "from keras import models, layers\n",
    "\n",
    "%matplotlib inline"
   ]
  },
  {
   "cell_type": "markdown",
   "metadata": {},
   "source": [
    "### 3.1 신경망의 구조\n",
    "\n",
    "- 네트워크(또는 모델)를 구성하는 층\n",
    "- 입력 데이터와 그에 상응하는 타깃\n",
    "- 학습에 사용할 피드백 신호를 정의하는 loss function\n",
    "- 학습 진행 방식을 결정하는 optimizer"
   ]
  },
  {
   "cell_type": "markdown",
   "metadata": {},
   "source": [
    "### 그림 들어갈 부분 - 그려 넣기"
   ]
  },
  {
   "cell_type": "markdown",
   "metadata": {},
   "source": [
    "#### 3.1.1 layer(층) : 딥러닝의 구성 단위\n",
    "\n",
    "layer은 하나 이상의 텐서를 입력으로 받아 하나 이상의 텐서를 출력하는 데이터 처리 모듈\n",
    "- 대부분 가중치라는 층의 상태를 가짐\n",
    "- 가중치는 SGD에 의해 학습되는 하나 이상의 텐서\n",
    "\n",
    "\n",
    "layer는 처리 방식\n",
    "- Fully connected layer, recurrent layer, convolution layer 등등\n",
    "- 케라스에서는 호환 가능한 층들을 엮어 데이터 변환 pipeline을 구성함으로써 딥러닝 모델을 만듬\n",
    "- layer compatibility는 각 층이 특정 크기의 입력 텐서만 받고 특정 크기의 출력 텐서를 반환 한다는 사실을 말함"
   ]
  },
  {
   "cell_type": "markdown",
   "metadata": {},
   "source": [
    "keras에서는 자동으로 다음 층이 모델의 상위 층의 크기에 맞추어 준다. 우왕....\n",
    "\n",
    "```python\n",
    "model = models.Sequential()\n",
    "model.add(layers.Dense(32, input_shape(784, )))\n",
    "model.add(layers.Dense(10))\n",
    "```"
   ]
  },
  {
   "cell_type": "markdown",
   "metadata": {},
   "source": [
    "#### 3.1.2 model :  network of layer\n",
    "\n",
    "딥러닝 모델은 층으로 만든 Directed Acyclic Graph, DAG(비순환 유향 그래프) 이다.\n",
    "- 네트워크 구조는 hypothesis space(가설 공간)을 정의하고 텐서 연산에 포함된 가중치 텐서를 찾는 것\n",
    "- 딱 맞는 거 찾기 어려움....힝...-0-"
   ]
  },
  {
   "cell_type": "markdown",
   "metadata": {},
   "source": [
    "#### 3.1.3 loss function & Optimizer : 학습 과정을 조절하는 열쇠\n",
    "\n",
    "**loss function(손실 함수)** : 훈련하는 동안 최소화 될 값, 주어진 문제에 대한 성공 지표가 됨\n",
    "- 이진 분류 문제 : binary crossentropy\n",
    "- multi classification : categorical_crossentropy\n",
    "- regression : mse\n",
    "- sequence : CTC(connection temporal classification)\n",
    "- 이외에도 많음...\n",
    "\n",
    "**optimizer** : loss function을 기반으로 network가 어떻게 업데이트될지 결정, 특정 종류의 SGD을 구현...등등등"
   ]
  },
  {
   "cell_type": "markdown",
   "metadata": {},
   "source": [
    "### 3.2 케라스 소개\n",
    "- 케라스 짱!\n",
    "- ~~하지만 텐서플로가 나타나면 어떻게 될까?!~~\n",
    "\n",
    "#### 3.2.2 케라스 사용한 개발\n",
    "\n",
    "두 가지 방식으로 구현 가능\n",
    "- Sequential 클래스 이용 : 7장 까지는 이거 쓸 거임\n",
    "- 함수형 API(완전히 임의의 구조를 만들 수 있는 DAG 만듬)\n",
    "\n",
    "모델 구조 정의된 다음에는 뭘 썼는지는 중요하지 않음"
   ]
  },
  {
   "cell_type": "markdown",
   "metadata": {},
   "source": [
    "### 3.3 생략\n"
   ]
  },
  {
   "cell_type": "markdown",
   "metadata": {},
   "source": [
    "### 3.4 영화 리뷰 분류 : 이진 분류 예제"
   ]
  },
  {
   "cell_type": "markdown",
   "metadata": {},
   "source": [
    "#### 3.4.1 IMDB 데이터셋"
   ]
  },
  {
   "cell_type": "code",
   "execution_count": 2,
   "metadata": {},
   "outputs": [],
   "source": [
    "from keras.datasets import imdb\n",
    "\n",
    "(train_data, train_labels), (test_data, test_labels) = imdb.load_data(num_words=10000)"
   ]
  },
  {
   "cell_type": "markdown",
   "metadata": {},
   "source": [
    "- num_words = 10000?\n",
    "  - 가장 자주 나타나는 단어 1만 개만 사용\n",
    "  - 드물게 나타나는 단어 무시\n",
    "- 긍정 1, 부정 0"
   ]
  },
  {
   "cell_type": "code",
   "execution_count": 3,
   "metadata": {},
   "outputs": [],
   "source": [
    "word_index = imdb.get_word_index()\n",
    "reverse_word_index = dict(\n",
    "    [(value, key) for (key, value) in word_index.items()]\n",
    ")\n",
    "decoded_review = ' '.join([reverse_word_index.get(i - 3, '?') for i in train_data[0]])"
   ]
  },
  {
   "cell_type": "code",
   "execution_count": 4,
   "metadata": {},
   "outputs": [
    {
     "name": "stdout",
     "output_type": "stream",
     "text": [
      "? this film was just brilliant casting location scenery story direction everyone's really suited the part they played and you could just imagine being there robert ? is an amazing actor and now the same being director ? father came from the same scottish island as myself so i loved the fact there was a real connection with this film the witty remarks throughout the film were great it was just brilliant so much that i bought the film as soon as it was released for ? and would recommend it to everyone to watch and the fly fishing was amazing really cried at the end it was so sad and you know what they say if you cry at a film it must have been good and this definitely was also ? to the two little boy's that played the ? of norman and paul they were just brilliant children are often left out of the ? list i think because the stars that play them all grown up are such a big profile for the whole film but these children are amazing and should be praised for what they have done don't you think the whole story was so lovely because it was true and was someone's life after all that was shared with us all\n"
     ]
    }
   ],
   "source": [
    "print(decoded_review)"
   ]
  },
  {
   "cell_type": "markdown",
   "metadata": {},
   "source": [
    "#### 3.4.2 데이터 준비\n",
    "\n",
    "**list to tensor**\n",
    "\n",
    "방법 1.\n",
    "- 같은 길이가 되도록 리스트에 padding(패딩)을 추가하고 (samples, sequence_length) 크기의 정수 텐서로 변환\n",
    "- 그다음 이 정수 텐서를 다룰 수 있는 층을 신경망의 첫 번째 층으로 사용(embedding 층을 말하며, 나중에 설명 예정)\n",
    "- padding?\n",
    "  - https://docs.scipy.org/doc/numpy/reference/generated/numpy.pad.html\n",
    "  - https://m.blog.naver.com/wideeyed/221665256911\n",
    "\n",
    "방법 2.\n",
    "- 리스트를 one-hot encoding하여 0과 1의 벡터로 변환"
   ]
  },
  {
   "cell_type": "code",
   "execution_count": 5,
   "metadata": {},
   "outputs": [
    {
     "data": {
      "text/plain": [
       "array([4, 4, 1, 2, 3, 4, 5, 6, 6, 6])"
      ]
     },
     "execution_count": 5,
     "metadata": {},
     "output_type": "execute_result"
    }
   ],
   "source": [
    "# understanding padding\n",
    "# 자세한 건 공식 문서 참고\n",
    "\n",
    "a = [1, 2, 3, 4, 5]\n",
    "np.pad(a, (2, 3), 'constant', constant_values=(4, 6))"
   ]
  },
  {
   "cell_type": "code",
   "execution_count": 6,
   "metadata": {},
   "outputs": [],
   "source": [
    "import numpy as np\n",
    "\n",
    "def vectorize_sequences(sequences, dimension=10000):\n",
    "    # Create an all-zero matrix of shape (len(sequences), dimension)\n",
    "    \n",
    "    results = np.zeros((len(sequences), dimension))\n",
    "\n",
    "    for i, sequence in enumerate(sequences):\n",
    "        results[i, sequence] = 1.  # set specific indices of results[i] to 1s\n",
    "    return results\n",
    "\n",
    "# Our vectorized training data\n",
    "x_train = vectorize_sequences(train_data)\n",
    "\n",
    "# Our vectorized test data\n",
    "x_test = vectorize_sequences(test_data)"
   ]
  },
  {
   "cell_type": "code",
   "execution_count": 7,
   "metadata": {},
   "outputs": [
    {
     "data": {
      "text/plain": [
       "array([0., 1., 1., ..., 0., 0., 0.])"
      ]
     },
     "execution_count": 7,
     "metadata": {},
     "output_type": "execute_result"
    }
   ],
   "source": [
    "x_train[0]"
   ]
  },
  {
   "cell_type": "code",
   "execution_count": 8,
   "metadata": {},
   "outputs": [],
   "source": [
    "# Our vectorized labels\n",
    "\n",
    "y_train = np.asarray(train_labels).astype('float32')\n",
    "y_test = np.asarray(test_labels).astype('float32')"
   ]
  },
  {
   "cell_type": "markdown",
   "metadata": {},
   "source": [
    "#### 3.4.3 신경망 모델 만들기\n",
    "\n",
    "- 층 쌓기\n",
    "- Dense layer에 전달한 parameter 16은 hidden unit의 개수이다.\n",
    "  - 하나의 hidden unit은 층이 나타내는 표현 공간에서 하나의 차원이 됨\n",
    "  - 16개의 은닉이 있다는 것은 가중치 행렬 W의 크기가 (input_dimension, 16)이라는 뜻\n",
    "  - 입력 데이터와 W를 점곱하면 입력 데이터가 16차원으로 표현된 공간으로 투영\n",
    "  - 표현 공간의 차원은 '신경망이 내재된 표현을 학습할 때 가질 수 있는 자유도'라고 표현 가능\n",
    "  - 차원이 크면 더욱 복잡한 표현을 할 수 있지만 계산 비용이 커지고 원하지 않는 패턴을 학습할 수도 있다."
   ]
  },
  {
   "cell_type": "markdown",
   "metadata": {},
   "source": []
  },
  {
   "cell_type": "code",
   "execution_count": null,
   "metadata": {},
   "outputs": [],
   "source": []
  },
  {
   "cell_type": "code",
   "execution_count": 9,
   "metadata": {},
   "outputs": [],
   "source": [
    "from keras import models\n",
    "from keras import layers\n",
    "\n",
    "model = models.Sequential()\n",
    "model.add(layers.Dense(16, activation='relu', input_shape=(10000,)))\n",
    "model.add(layers.Dense(16, activation='relu'))\n",
    "model.add(layers.Dense(1, activation='sigmoid'))"
   ]
  },
  {
   "cell_type": "code",
   "execution_count": null,
   "metadata": {},
   "outputs": [],
   "source": []
  },
  {
   "cell_type": "code",
   "execution_count": 10,
   "metadata": {},
   "outputs": [],
   "source": [
    "model.compile(optimizer='rmsprop',\n",
    "              loss='binary_crossentropy',\n",
    "              metrics=['accuracy'])"
   ]
  },
  {
   "cell_type": "code",
   "execution_count": null,
   "metadata": {},
   "outputs": [],
   "source": []
  },
  {
   "cell_type": "code",
   "execution_count": 11,
   "metadata": {},
   "outputs": [],
   "source": [
    "from keras import optimizers\n",
    "\n",
    "model.compile(optimizer=optimizers.RMSprop(lr=0.001),\n",
    "              loss='binary_crossentropy',\n",
    "              metrics=['accuracy'])"
   ]
  },
  {
   "cell_type": "code",
   "execution_count": null,
   "metadata": {},
   "outputs": [],
   "source": []
  },
  {
   "cell_type": "code",
   "execution_count": 12,
   "metadata": {},
   "outputs": [],
   "source": [
    "from keras import losses\n",
    "from keras import metrics\n",
    "\n",
    "model.compile(optimizer=optimizers.RMSprop(lr=0.001),\n",
    "              loss=losses.binary_crossentropy,\n",
    "              metrics=[metrics.binary_accuracy])"
   ]
  },
  {
   "cell_type": "code",
   "execution_count": null,
   "metadata": {},
   "outputs": [],
   "source": []
  },
  {
   "cell_type": "code",
   "execution_count": 13,
   "metadata": {},
   "outputs": [],
   "source": [
    "x_val = x_train[:10000]\n",
    "partial_x_train = x_train[10000:]\n",
    "\n",
    "y_val = y_train[:10000]\n",
    "partial_y_train = y_train[10000:]"
   ]
  },
  {
   "cell_type": "code",
   "execution_count": null,
   "metadata": {},
   "outputs": [],
   "source": []
  },
  {
   "cell_type": "code",
   "execution_count": null,
   "metadata": {},
   "outputs": [],
   "source": []
  },
  {
   "cell_type": "code",
   "execution_count": 14,
   "metadata": {},
   "outputs": [
    {
     "name": "stdout",
     "output_type": "stream",
     "text": [
      "Train on 15000 samples, validate on 10000 samples\n",
      "Epoch 1/20\n",
      "15000/15000 [==============================] - 2s 109us/step - loss: 0.5570 - binary_accuracy: 0.7508 - val_loss: 0.4438 - val_binary_accuracy: 0.8375\n",
      "Epoch 2/20\n",
      "15000/15000 [==============================] - 1s 64us/step - loss: 0.3471 - binary_accuracy: 0.8996 - val_loss: 0.3269 - val_binary_accuracy: 0.8885\n",
      "Epoch 3/20\n",
      "15000/15000 [==============================] - 1s 63us/step - loss: 0.2466 - binary_accuracy: 0.9227 - val_loss: 0.2854 - val_binary_accuracy: 0.8923\n",
      "Epoch 4/20\n",
      "15000/15000 [==============================] - 1s 67us/step - loss: 0.1893 - binary_accuracy: 0.9419 - val_loss: 0.2763 - val_binary_accuracy: 0.8906\n",
      "Epoch 5/20\n",
      "15000/15000 [==============================] - 1s 58us/step - loss: 0.1547 - binary_accuracy: 0.9517 - val_loss: 0.2842 - val_binary_accuracy: 0.8857\n",
      "Epoch 6/20\n",
      "15000/15000 [==============================] - 1s 55us/step - loss: 0.1275 - binary_accuracy: 0.9614 - val_loss: 0.3252 - val_binary_accuracy: 0.8765\n",
      "Epoch 7/20\n",
      "15000/15000 [==============================] - 1s 53us/step - loss: 0.1032 - binary_accuracy: 0.9707 - val_loss: 0.3234 - val_binary_accuracy: 0.8764\n",
      "Epoch 8/20\n",
      "15000/15000 [==============================] - 1s 56us/step - loss: 0.0901 - binary_accuracy: 0.9741 - val_loss: 0.3379 - val_binary_accuracy: 0.8766\n",
      "Epoch 9/20\n",
      "15000/15000 [==============================] - 1s 55us/step - loss: 0.0698 - binary_accuracy: 0.9821 - val_loss: 0.3914 - val_binary_accuracy: 0.8704\n",
      "Epoch 10/20\n",
      "15000/15000 [==============================] - 1s 53us/step - loss: 0.0591 - binary_accuracy: 0.9856 - val_loss: 0.3677 - val_binary_accuracy: 0.8776\n",
      "Epoch 11/20\n",
      "15000/15000 [==============================] - 1s 54us/step - loss: 0.0475 - binary_accuracy: 0.9891 - val_loss: 0.4095 - val_binary_accuracy: 0.8714\n",
      "Epoch 12/20\n",
      "15000/15000 [==============================] - 1s 56us/step - loss: 0.0386 - binary_accuracy: 0.9916 - val_loss: 0.4257 - val_binary_accuracy: 0.8751\n",
      "Epoch 13/20\n",
      "15000/15000 [==============================] - 1s 61us/step - loss: 0.0298 - binary_accuracy: 0.9940 - val_loss: 0.4792 - val_binary_accuracy: 0.8702\n",
      "Epoch 14/20\n",
      "15000/15000 [==============================] - 1s 59us/step - loss: 0.0251 - binary_accuracy: 0.9949 - val_loss: 0.4943 - val_binary_accuracy: 0.8711\n",
      "Epoch 15/20\n",
      "15000/15000 [==============================] - 1s 56us/step - loss: 0.0199 - binary_accuracy: 0.9969 - val_loss: 0.5233 - val_binary_accuracy: 0.8707\n",
      "Epoch 16/20\n",
      "15000/15000 [==============================] - 1s 57us/step - loss: 0.0174 - binary_accuracy: 0.9966 - val_loss: 0.5567 - val_binary_accuracy: 0.8693\n",
      "Epoch 17/20\n",
      "15000/15000 [==============================] - 1s 53us/step - loss: 0.0118 - binary_accuracy: 0.9989 - val_loss: 0.5861 - val_binary_accuracy: 0.8707\n",
      "Epoch 18/20\n",
      "15000/15000 [==============================] - 1s 55us/step - loss: 0.0109 - binary_accuracy: 0.9983 - val_loss: 0.6256 - val_binary_accuracy: 0.8681\n",
      "Epoch 19/20\n",
      "15000/15000 [==============================] - 1s 62us/step - loss: 0.0058 - binary_accuracy: 0.9998 - val_loss: 0.7063 - val_binary_accuracy: 0.8581\n",
      "Epoch 20/20\n",
      "15000/15000 [==============================] - 1s 58us/step - loss: 0.0076 - binary_accuracy: 0.9989 - val_loss: 0.7037 - val_binary_accuracy: 0.8668\n"
     ]
    }
   ],
   "source": [
    "history = model.fit(partial_x_train,\n",
    "                    partial_y_train,\n",
    "                    epochs=20,\n",
    "                    batch_size=512,\n",
    "                    validation_data=(x_val, y_val))"
   ]
  },
  {
   "cell_type": "code",
   "execution_count": null,
   "metadata": {},
   "outputs": [],
   "source": []
  },
  {
   "cell_type": "code",
   "execution_count": 15,
   "metadata": {},
   "outputs": [
    {
     "data": {
      "text/plain": [
       "dict_keys(['val_loss', 'val_binary_accuracy', 'loss', 'binary_accuracy'])"
      ]
     },
     "execution_count": 15,
     "metadata": {},
     "output_type": "execute_result"
    }
   ],
   "source": [
    "history_dict = history.history\n",
    "history_dict.keys()"
   ]
  },
  {
   "cell_type": "code",
   "execution_count": null,
   "metadata": {},
   "outputs": [],
   "source": []
  },
  {
   "cell_type": "code",
   "execution_count": 18,
   "metadata": {},
   "outputs": [
    {
     "data": {
      "image/png": "[encoded data removed]",
      "text/plain": [
       "<Figure size 432x288 with 1 Axes>"
      ]
     },
     "metadata": {
      "needs_background": "light"
     },
     "output_type": "display_data"
    }
   ],
   "source": [
    "import matplotlib.pyplot as plt\n",
    "\n",
    "acc = history.history['binary_accuracy']\n",
    "val_acc = history.history['val_binary_accuracy']\n",
    "loss = history.history['loss']\n",
    "val_loss = history.history['val_loss']\n",
    "\n",
    "epochs = range(1, len(acc) + 1)\n",
    "\n",
    "# \"bo\" is for \"blue dot\"\n",
    "plt.plot(epochs, loss, 'bo', label='Training loss')\n",
    "# b is for \"solid blue line\"\n",
    "plt.plot(epochs, val_loss, 'b', label='Validation loss')\n",
    "plt.title('Training and validation loss')\n",
    "plt.xlabel('Epochs')\n",
    "plt.ylabel('Loss')\n",
    "plt.legend()\n",
    "\n",
    "plt.show()\n"
   ]
  },
  {
   "cell_type": "code",
   "execution_count": null,
   "metadata": {},
   "outputs": [],
   "source": []
  },
  {
   "cell_type": "code",
   "execution_count": 19,
   "metadata": {},
   "outputs": [
    {
     "data": {
      "image/png": "[encoded data removed]",
      "text/plain": [
       "<Figure size 432x288 with 1 Axes>"
      ]
     },
     "metadata": {
      "needs_background": "light"
     },
     "output_type": "display_data"
    }
   ],
   "source": [
    "plt.clf()   # clear figure\n",
    "acc_values = history_dict['binary_accuracy']\n",
    "val_acc_values = history_dict['val_binary_accuracy']\n",
    "\n",
    "plt.plot(epochs, acc, 'bo', label='Training acc')\n",
    "plt.plot(epochs, val_acc, 'b', label='Validation acc')\n",
    "plt.title('Training and validation accuracy')\n",
    "plt.xlabel('Epochs')\n",
    "plt.ylabel('Loss')\n",
    "plt.legend()\n",
    "\n",
    "plt.show()"
   ]
  },
  {
   "cell_type": "code",
   "execution_count": null,
   "metadata": {},
   "outputs": [],
   "source": []
  },
  {
   "cell_type": "code",
   "execution_count": 20,
   "metadata": {},
   "outputs": [
    {
     "name": "stdout",
     "output_type": "stream",
     "text": [
      "Epoch 1/4\n",
      "25000/25000 [==============================] - 1s 41us/step - loss: 0.4775 - accuracy: 0.8141\n",
      "Epoch 2/4\n",
      "25000/25000 [==============================] - 1s 38us/step - loss: 0.2681 - accuracy: 0.9051\n",
      "Epoch 3/4\n",
      "25000/25000 [==============================] - 1s 39us/step - loss: 0.2054 - accuracy: 0.9272\n",
      "Epoch 4/4\n",
      "25000/25000 [==============================] - 1s 38us/step - loss: 0.1705 - accuracy: 0.9389\n",
      "25000/25000 [==============================] - 1s 41us/step\n"
     ]
    }
   ],
   "source": [
    "model = models.Sequential()\n",
    "model.add(layers.Dense(16, activation='relu', input_shape=(10000,)))\n",
    "model.add(layers.Dense(16, activation='relu'))\n",
    "model.add(layers.Dense(1, activation='sigmoid'))\n",
    "\n",
    "model.compile(optimizer='rmsprop',\n",
    "              loss='binary_crossentropy',\n",
    "              metrics=['accuracy'])\n",
    "\n",
    "model.fit(x_train, y_train, epochs=4, batch_size=512)\n",
    "results = model.evaluate(x_test, y_test)"
   ]
  },
  {
   "cell_type": "code",
   "execution_count": null,
   "metadata": {},
   "outputs": [],
   "source": []
  },
  {
   "cell_type": "code",
   "execution_count": 21,
   "metadata": {},
   "outputs": [
    {
     "data": {
      "text/plain": [
       "[0.2925593851852417, 0.8859999775886536]"
      ]
     },
     "execution_count": 21,
     "metadata": {},
     "output_type": "execute_result"
    }
   ],
   "source": [
    "results"
   ]
  },
  {
   "cell_type": "code",
   "execution_count": null,
   "metadata": {},
   "outputs": [],
   "source": []
  },
  {
   "cell_type": "code",
   "execution_count": 22,
   "metadata": {},
   "outputs": [
    {
     "data": {
      "text/plain": [
       "array([[0.18841723],\n",
       "       [0.99994624],\n",
       "       [0.8766917 ],\n",
       "       ...,\n",
       "       [0.10799121],\n",
       "       [0.06754788],\n",
       "       [0.5782201 ]], dtype=float32)"
      ]
     },
     "execution_count": 22,
     "metadata": {},
     "output_type": "execute_result"
    }
   ],
   "source": [
    "model.predict(x_test)"
   ]
  },
  {
   "cell_type": "code",
   "execution_count": null,
   "metadata": {},
   "outputs": [],
   "source": []
  }
 ],
 "metadata": {
  "kernelspec": {
   "display_name": "Python 3",
   "language": "python",
   "name": "python3"
  },
  "language_info": {
   "codemirror_mode": {
    "name": "ipython",
    "version": 3
   },
   "file_extension": ".py",
   "mimetype": "text/x-python",
   "name": "python",
   "nbconvert_exporter": "python",
   "pygments_lexer": "ipython3",
   "version": "3.7.3"
  }
 },
 "nbformat": 4,
 "nbformat_minor": 2
}
