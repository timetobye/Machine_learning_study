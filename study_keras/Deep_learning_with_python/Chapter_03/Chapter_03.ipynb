{
 "cells": [
  {
   "cell_type": "markdown",
   "metadata": {},
   "source": [
    "Ch3. 신경망 시작하기\n",
    "----"
   ]
  },
  {
   "cell_type": "code",
   "execution_count": 1,
   "metadata": {},
   "outputs": [
    {
     "name": "stderr",
     "output_type": "stream",
     "text": [
      "Using TensorFlow backend.\n"
     ]
    }
   ],
   "source": [
    "import keras\n",
    "import numpy as np\n",
    "import pandas as pd\n",
    "import matplotlib.pyplot as plt\n",
    "import tensorflow as tf\n",
    "from keras import backend as K\n",
    "from keras import models, layers\n",
    "\n",
    "%matplotlib inline"
   ]
  },
  {
   "cell_type": "markdown",
   "metadata": {},
   "source": [
    "### 3.1 신경망의 구조\n",
    "\n",
    "- 네트워크(또는 모델)를 구성하는 층\n",
    "- 입력 데이터와 그에 상응하는 타깃\n",
    "- 학습에 사용할 피드백 신호를 정의하는 loss function\n",
    "- 학습 진행 방식을 결정하는 optimizer"
   ]
  },
  {
   "cell_type": "markdown",
   "metadata": {},
   "source": [
    "### 그림 들어갈 부분 - 그려 넣기"
   ]
  },
  {
   "cell_type": "markdown",
   "metadata": {},
   "source": [
    "#### 3.1.1 layer(층) : 딥러닝의 구성 단위\n",
    "\n",
    "layer은 하나 이상의 텐서를 입력으로 받아 하나 이상의 텐서를 출력하는 데이터 처리 모듈\n",
    "- 대부분 가중치라는 층의 상태를 가짐\n",
    "- 가중치는 SGD에 의해 학습되는 하나 이상의 텐서\n",
    "\n",
    "\n",
    "layer는 처리 방식\n",
    "- Fully connected layer, recurrent layer, convolution layer 등등\n",
    "- 케라스에서는 호환 가능한 층들을 엮어 데이터 변환 pipeline을 구성함으로써 딥러닝 모델을 만듬\n",
    "- layer compatibility는 각 층이 특정 크기의 입력 텐서만 받고 특정 크기의 출력 텐서를 반환 한다는 사실을 말함"
   ]
  },
  {
   "cell_type": "markdown",
   "metadata": {},
   "source": [
    "keras에서는 자동으로 다음 층이 모델의 상위 층의 크기에 맞추어 준다. 우왕....\n",
    "\n",
    "```python\n",
    "model = models.Sequential()\n",
    "model.add(layers.Dense(32, input_shape(784, )))\n",
    "model.add(layers.Dense(10))\n",
    "```"
   ]
  },
  {
   "cell_type": "markdown",
   "metadata": {},
   "source": [
    "#### 3.1.2 model :  network of layer\n",
    "\n",
    "딥러닝 모델은 층으로 만든 Directed Acyclic Graph, DAG(비순환 유향 그래프) 이다.\n",
    "- 네트워크 구조는 hypothesis space(가설 공간)을 정의하고 텐서 연산에 포함된 가중치 텐서를 찾는 것\n",
    "- 딱 맞는 거 찾기 어려움....힝...-0-"
   ]
  },
  {
   "cell_type": "markdown",
   "metadata": {},
   "source": [
    "#### 3.1.3 loss function & Optimizer : 학습 과정을 조절하는 열쇠\n",
    "\n",
    "**loss function(손실 함수)** : 훈련하는 동안 최소화 될 값, 주어진 문제에 대한 성공 지표가 됨\n",
    "- 이진 분류 문제 : binary crossentropy\n",
    "- multi classification : categorical_crossentropy\n",
    "- regression : mse\n",
    "- sequence : CTC(connection temporal classification)\n",
    "- 이외에도 많음...\n",
    "\n",
    "**optimizer** : loss function을 기반으로 network가 어떻게 업데이트될지 결정, 특정 종류의 SGD을 구현...등등등"
   ]
  },
  {
   "cell_type": "markdown",
   "metadata": {},
   "source": [
    "### 3.2 케라스 소개\n",
    "- 케라스 짱!\n",
    "- ~~하지만 텐서플로가 나타나면 어떻게 될까?!~~\n",
    "\n",
    "#### 3.2.2 케라스 사용한 개발\n",
    "\n",
    "두 가지 방식으로 구현 가능\n",
    "- Sequential 클래스 이용 : 7장 까지는 이거 쓸 거임\n",
    "- 함수형 API(완전히 임의의 구조를 만들 수 있는 DAG 만듬)\n",
    "\n",
    "모델 구조 정의된 다음에는 뭘 썼는지는 중요하지 않음"
   ]
  },
  {
   "cell_type": "markdown",
   "metadata": {},
   "source": [
    "### 3.3 생략\n"
   ]
  },
  {
   "cell_type": "markdown",
   "metadata": {},
   "source": [
    "### 3.4 영화 리뷰 분류 : 이진 분류 예제"
   ]
  },
  {
   "cell_type": "code",
   "execution_count": null,
   "metadata": {},
   "outputs": [],
   "source": []
  },
  {
   "cell_type": "code",
   "execution_count": null,
   "metadata": {},
   "outputs": [],
   "source": []
  },
  {
   "cell_type": "code",
   "execution_count": null,
   "metadata": {},
   "outputs": [],
   "source": []
  },
  {
   "cell_type": "code",
   "execution_count": null,
   "metadata": {},
   "outputs": [],
   "source": []
  },
  {
   "cell_type": "code",
   "execution_count": null,
   "metadata": {},
   "outputs": [],
   "source": []
  },
  {
   "cell_type": "code",
   "execution_count": null,
   "metadata": {},
   "outputs": [],
   "source": []
  },
  {
   "cell_type": "code",
   "execution_count": null,
   "metadata": {},
   "outputs": [],
   "source": []
  },
  {
   "cell_type": "code",
   "execution_count": null,
   "metadata": {},
   "outputs": [],
   "source": []
  },
  {
   "cell_type": "code",
   "execution_count": null,
   "metadata": {},
   "outputs": [],
   "source": []
  },
  {
   "cell_type": "code",
   "execution_count": null,
   "metadata": {},
   "outputs": [],
   "source": []
  },
  {
   "cell_type": "code",
   "execution_count": null,
   "metadata": {},
   "outputs": [],
   "source": []
  },
  {
   "cell_type": "code",
   "execution_count": null,
   "metadata": {},
   "outputs": [],
   "source": []
  },
  {
   "cell_type": "code",
   "execution_count": null,
   "metadata": {},
   "outputs": [],
   "source": []
  },
  {
   "cell_type": "code",
   "execution_count": null,
   "metadata": {},
   "outputs": [],
   "source": []
  },
  {
   "cell_type": "code",
   "execution_count": null,
   "metadata": {},
   "outputs": [],
   "source": []
  },
  {
   "cell_type": "code",
   "execution_count": null,
   "metadata": {},
   "outputs": [],
   "source": []
  },
  {
   "cell_type": "code",
   "execution_count": null,
   "metadata": {},
   "outputs": [],
   "source": []
  },
  {
   "cell_type": "code",
   "execution_count": null,
   "metadata": {},
   "outputs": [],
   "source": []
  },
  {
   "cell_type": "code",
   "execution_count": null,
   "metadata": {},
   "outputs": [],
   "source": []
  },
  {
   "cell_type": "code",
   "execution_count": null,
   "metadata": {},
   "outputs": [],
   "source": []
  },
  {
   "cell_type": "code",
   "execution_count": null,
   "metadata": {},
   "outputs": [],
   "source": []
  },
  {
   "cell_type": "code",
   "execution_count": null,
   "metadata": {},
   "outputs": [],
   "source": []
  },
  {
   "cell_type": "code",
   "execution_count": null,
   "metadata": {},
   "outputs": [],
   "source": []
  },
  {
   "cell_type": "code",
   "execution_count": null,
   "metadata": {},
   "outputs": [],
   "source": []
  }
 ],
 "metadata": {
  "kernelspec": {
   "display_name": "Python 3",
   "language": "python",
   "name": "python3"
  },
  "language_info": {
   "codemirror_mode": {
    "name": "ipython",
    "version": 3
   },
   "file_extension": ".py",
   "mimetype": "text/x-python",
   "name": "python",
   "nbconvert_exporter": "python",
   "pygments_lexer": "ipython3",
   "version": "3.7.3"
  }
 },
 "nbformat": 4,
 "nbformat_minor": 2
}
