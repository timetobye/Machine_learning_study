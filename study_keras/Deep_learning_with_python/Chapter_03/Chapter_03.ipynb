{
 "cells": [
  {
   "cell_type": "markdown",
   "metadata": {},
   "source": [
    "Ch3. 신경망 시작하기\n",
    "----"
   ]
  },
  {
   "cell_type": "code",
   "execution_count": 1,
   "metadata": {},
   "outputs": [
    {
     "name": "stderr",
     "output_type": "stream",
     "text": [
      "Using TensorFlow backend.\n"
     ]
    }
   ],
   "source": [
    "import keras\n",
    "import numpy as np\n",
    "import pandas as pd\n",
    "import matplotlib.pyplot as plt\n",
    "import tensorflow as tf\n",
    "from keras import backend as K\n",
    "from keras import models, layers\n",
    "\n",
    "%matplotlib inline"
   ]
  },
  {
   "cell_type": "markdown",
   "metadata": {},
   "source": [
    "### 3.1 신경망의 구조\n",
    "\n",
    "- 네트워크(또는 모델)를 구성하는 층\n",
    "- 입력 데이터와 그에 상응하는 타깃\n",
    "- 학습에 사용할 피드백 신호를 정의하는 loss function\n",
    "- 학습 진행 방식을 결정하는 optimizer"
   ]
  },
  {
   "cell_type": "markdown",
   "metadata": {},
   "source": [
    "### 그림 들어갈 부분 - 그려 넣기"
   ]
  },
  {
   "cell_type": "markdown",
   "metadata": {},
   "source": [
    "#### 3.1.1 layer(층) : 딥러닝의 구성 단위\n",
    "\n",
    "layer은 하나 이상의 텐서를 입력으로 받아 하나 이상의 텐서를 출력하는 데이터 처리 모듈\n",
    "- 대부분 가중치라는 층의 상태를 가짐\n",
    "- 가중치는 SGD에 의해 학습되는 하나 이상의 텐서\n",
    "\n",
    "\n",
    "layer는 처리 방식\n",
    "- Fully connected layer, recurrent layer, convolution layer 등등\n",
    "- 케라스에서는 호환 가능한 층들을 엮어 데이터 변환 pipeline을 구성함으로써 딥러닝 모델을 만듬\n",
    "- layer compatibility는 각 층이 특정 크기의 입력 텐서만 받고 특정 크기의 출력 텐서를 반환 한다는 사실을 말함"
   ]
  },
  {
   "cell_type": "markdown",
   "metadata": {},
   "source": [
    "keras에서는 자동으로 다음 층이 모델의 상위 층의 크기에 맞추어 준다. 우왕....\n",
    "\n",
    "```python\n",
    "model = models.Sequential()\n",
    "model.add(layers.Dense(32, input_shape(784, )))\n",
    "model.add(layers.Dense(10))\n",
    "```"
   ]
  },
  {
   "cell_type": "markdown",
   "metadata": {},
   "source": [
    "#### 3.1.2 model :  network of layer\n",
    "\n",
    "딥러닝 모델은 층으로 만든 Directed Acyclic Graph, DAG(비순환 유향 그래프) 이다.\n",
    "- 네트워크 구조는 hypothesis space(가설 공간)을 정의하고 텐서 연산에 포함된 가중치 텐서를 찾는 것\n",
    "- 딱 맞는 거 찾기 어려움....힝...-0-"
   ]
  },
  {
   "cell_type": "markdown",
   "metadata": {},
   "source": [
    "#### 3.1.3 loss function & Optimizer : 학습 과정을 조절하는 열쇠\n",
    "\n",
    "**loss function(손실 함수)** : 훈련하는 동안 최소화 될 값, 주어진 문제에 대한 성공 지표가 됨\n",
    "- 이진 분류 문제 : binary crossentropy\n",
    "- multi classification : categorical_crossentropy\n",
    "- regression : mse\n",
    "- sequence : CTC(connection temporal classification)\n",
    "- 이외에도 많음...\n",
    "\n",
    "**optimizer** : loss function을 기반으로 network가 어떻게 업데이트될지 결정, 특정 종류의 SGD을 구현...등등등"
   ]
  },
  {
   "cell_type": "markdown",
   "metadata": {},
   "source": [
    "### 3.2 케라스 소개\n",
    "- 케라스 짱!\n",
    "- ~~하지만 텐서플로가 나타나면 어떻게 될까?!~~\n",
    "\n",
    "#### 3.2.2 케라스 사용한 개발\n",
    "\n",
    "두 가지 방식으로 구현 가능\n",
    "- Sequential 클래스 이용 : 7장 까지는 이거 쓸 거임\n",
    "- 함수형 API(완전히 임의의 구조를 만들 수 있는 DAG 만듬)\n",
    "\n",
    "모델 구조 정의된 다음에는 뭘 썼는지는 중요하지 않음"
   ]
  },
  {
   "cell_type": "markdown",
   "metadata": {},
   "source": [
    "### 3.3 생략\n"
   ]
  },
  {
   "cell_type": "markdown",
   "metadata": {},
   "source": [
    "### 3.4 영화 리뷰 분류 : 이진 분류 예제"
   ]
  },
  {
   "cell_type": "markdown",
   "metadata": {},
   "source": [
    "#### 3.4.1 IMDB 데이터셋"
   ]
  },
  {
   "cell_type": "code",
   "execution_count": 2,
   "metadata": {},
   "outputs": [],
   "source": [
    "from keras.datasets import imdb\n",
    "\n",
    "(train_data, train_labels), (test_data, test_labels) = imdb.load_data(num_words=10000)"
   ]
  },
  {
   "cell_type": "markdown",
   "metadata": {},
   "source": [
    "- num_words = 10000?\n",
    "  - 가장 자주 나타나는 단어 1만 개만 사용\n",
    "  - 드물게 나타나는 단어 무시\n",
    "- 긍정 1, 부정 0"
   ]
  },
  {
   "cell_type": "code",
   "execution_count": 3,
   "metadata": {},
   "outputs": [],
   "source": [
    "word_index = imdb.get_word_index()\n",
    "reverse_word_index = dict(\n",
    "    [(value, key) for (key, value) in word_index.items()]\n",
    ")\n",
    "decoded_review = ' '.join([reverse_word_index.get(i - 3, '?') for i in train_data[0]])"
   ]
  },
  {
   "cell_type": "code",
   "execution_count": 4,
   "metadata": {},
   "outputs": [
    {
     "name": "stdout",
     "output_type": "stream",
     "text": [
      "? this film was just brilliant casting location scenery story direction everyone's really suited the part they played and you could just imagine being there robert ? is an amazing actor and now the same being director ? father came from the same scottish island as myself so i loved the fact there was a real connection with this film the witty remarks throughout the film were great it was just brilliant so much that i bought the film as soon as it was released for ? and would recommend it to everyone to watch and the fly fishing was amazing really cried at the end it was so sad and you know what they say if you cry at a film it must have been good and this definitely was also ? to the two little boy's that played the ? of norman and paul they were just brilliant children are often left out of the ? list i think because the stars that play them all grown up are such a big profile for the whole film but these children are amazing and should be praised for what they have done don't you think the whole story was so lovely because it was true and was someone's life after all that was shared with us all\n"
     ]
    }
   ],
   "source": [
    "print(decoded_review)"
   ]
  },
  {
   "cell_type": "markdown",
   "metadata": {},
   "source": [
    "#### 3.4.2 데이터 준비\n",
    "\n",
    "**list to tensor**\n",
    "\n",
    "방법 1.\n",
    "- 같은 길이가 되도록 리스트에 padding(패딩)을 추가하고 (samples, sequence_length) 크기의 정수 텐서로 변환\n",
    "- 그다음 이 정수 텐서를 다룰 수 있는 층을 신경망의 첫 번째 층으로 사용(embedding 층을 말하며, 나중에 설명 예정)\n",
    "- padding?\n",
    "  - https://docs.scipy.org/doc/numpy/reference/generated/numpy.pad.html\n",
    "  - https://m.blog.naver.com/wideeyed/221665256911\n",
    "\n",
    "방법 2.\n",
    "- 리스트를 one-hot encoding하여 0과 1의 벡터로 변환"
   ]
  },
  {
   "cell_type": "code",
   "execution_count": 5,
   "metadata": {},
   "outputs": [
    {
     "data": {
      "text/plain": [
       "array([4, 4, 1, 2, 3, 4, 5, 6, 6, 6])"
      ]
     },
     "execution_count": 5,
     "metadata": {},
     "output_type": "execute_result"
    }
   ],
   "source": [
    "# understanding padding\n",
    "# 자세한 건 공식 문서 참고\n",
    "\n",
    "a = [1, 2, 3, 4, 5]\n",
    "np.pad(a, (2, 3), 'constant', constant_values=(4, 6))"
   ]
  },
  {
   "cell_type": "code",
   "execution_count": 6,
   "metadata": {},
   "outputs": [],
   "source": [
    "import numpy as np\n",
    "\n",
    "def vectorize_sequences(sequences, dimension=10000):\n",
    "    # Create an all-zero matrix of shape (len(sequences), dimension)\n",
    "    \n",
    "    results = np.zeros((len(sequences), dimension))\n",
    "\n",
    "    for i, sequence in enumerate(sequences):\n",
    "        results[i, sequence] = 1.  # set specific indices of results[i] to 1s\n",
    "    return results\n",
    "\n",
    "# Our vectorized training data\n",
    "x_train = vectorize_sequences(train_data)\n",
    "\n",
    "# Our vectorized test data\n",
    "x_test = vectorize_sequences(test_data)"
   ]
  },
  {
   "cell_type": "code",
   "execution_count": 7,
   "metadata": {},
   "outputs": [
    {
     "data": {
      "text/plain": [
       "array([0., 1., 1., ..., 0., 0., 0.])"
      ]
     },
     "execution_count": 7,
     "metadata": {},
     "output_type": "execute_result"
    }
   ],
   "source": [
    "x_train[0]"
   ]
  },
  {
   "cell_type": "code",
   "execution_count": 8,
   "metadata": {},
   "outputs": [],
   "source": [
    "# Our vectorized labels\n",
    "\n",
    "y_train = np.asarray(train_labels).astype('float32')\n",
    "y_test = np.asarray(test_labels).astype('float32')"
   ]
  },
  {
   "cell_type": "markdown",
   "metadata": {},
   "source": [
    "#### 3.4.3 신경망 모델 만들기\n",
    "\n",
    "- 층 쌓기\n",
    "- Dense layer에 전달한 parameter 16은 hidden unit의 개수이다.\n",
    "  - 하나의 hidden unit은 층이 나타내는 표현 공간에서 하나의 차원이 됨\n",
    "  - 16개의 은닉이 있다는 것은 가중치 행렬 W의 크기가 (input_dimension, 16)이라는 뜻\n",
    "  - 입력 데이터와 W를 점곱하면 입력 데이터가 16차원으로 표현된 공간으로 투영\n",
    "  - 표현 공간의 차원은 '신경망이 내재된 표현을 학습할 때 가질 수 있는 자유도'라고 표현 가능\n",
    "  - 차원이 크면 더욱 복잡한 표현을 할 수 있지만 계산 비용이 커지고 원하지 않는 패턴을 학습할 수도 있다."
   ]
  },
  {
   "cell_type": "markdown",
   "metadata": {},
   "source": [
    "Dense layer를 쌓을 때 두 가지 중요한 구조상이 결정이 필요\n",
    "- 얼마나 많은 층을 사용할 것인가?\n",
    "- 각 층에 얼마나 많은 hidden unit을 둘 것인가?\n",
    "- 4장까지는 일단 하라는대로 하자"
   ]
  },
  {
   "cell_type": "markdown",
   "metadata": {},
   "source": [
    "![alt text](https://s3.amazonaws.com/book.keras.io/img/ch3/3_layer_network.png)"
   ]
  },
  {
   "cell_type": "code",
   "execution_count": 9,
   "metadata": {},
   "outputs": [],
   "source": [
    "from keras import models\n",
    "from keras import layers\n",
    "\n",
    "model = models.Sequential()\n",
    "model.add(layers.Dense(16, activation='relu', input_shape=(10000,)))\n",
    "model.add(layers.Dense(16, activation='relu'))\n",
    "model.add(layers.Dense(1, activation='sigmoid'))"
   ]
  },
  {
   "cell_type": "markdown",
   "metadata": {},
   "source": [
    "#### 활성화 함수(activation function)? 왜 필요한가?\n",
    "\n",
    "- relu와 같은 활성화 함수(또는 비선형(non-linear))가 없다면 Dense layer는 선형적인 연산인 점곱과 덧셈 2개로 구성됨\n",
    "- output = dot(W, input) + b\n",
    "- 그러므로 이 층은 입력에 대한 선형 변환만을 학습할 수 있다. 그러나 선형 층을 깊게 쌓아도 여전히 하나의 선형 연산이기 때무에 층을 여러개로 구성하는 장점이 없음, 즉 층을 여러개로 쌓아도 가설 공간이 확장되지 않음\n",
    "- 가설 공간을 풍부하게 만들어 층을 깊게 만드는 장점을 살리기 위해서는 비선형성 또는 활성화 함수를 추가해야 함\n",
    "- relu 짱!"
   ]
  },
  {
   "cell_type": "code",
   "execution_count": 12,
   "metadata": {},
   "outputs": [],
   "source": [
    "model.compile(optimizer='rmsprop',\n",
    "              loss='binary_crossentropy',\n",
    "              metrics=['accuracy'])"
   ]
  },
  {
   "cell_type": "code",
   "execution_count": 13,
   "metadata": {},
   "outputs": [],
   "source": [
    "from keras import optimizers\n",
    "\n",
    "model.compile(optimizer=optimizers.RMSprop(lr=0.001),\n",
    "              loss='binary_crossentropy',\n",
    "              metrics=['accuracy'])"
   ]
  },
  {
   "cell_type": "code",
   "execution_count": 14,
   "metadata": {},
   "outputs": [],
   "source": [
    "# 아래와 같이 직접 만들어서 전달 가능\n",
    "\n",
    "from keras import losses\n",
    "from keras import metrics\n",
    "\n",
    "model.compile(optimizer=optimizers.RMSprop(lr=0.001),\n",
    "              loss=losses.binary_crossentropy,\n",
    "              metrics=[metrics.binary_accuracy])"
   ]
  },
  {
   "cell_type": "markdown",
   "metadata": {},
   "source": [
    "#### 3.4.4 훈련 검증\n",
    "\n",
    "훈련하는 동안 처음 본 데이터에 대한 모델의 정확도를 측정하기 위해서는 원본 훈련 데이터에서 10000개의 샘플 추출하여 검증 세트 만들어야 함"
   ]
  },
  {
   "cell_type": "code",
   "execution_count": 15,
   "metadata": {},
   "outputs": [],
   "source": [
    "x_val = x_train[:10000]\n",
    "partial_x_train = x_train[10000:]\n",
    "\n",
    "y_val = y_train[:10000]\n",
    "partial_y_train = y_train[10000:]"
   ]
  },
  {
   "cell_type": "code",
   "execution_count": 16,
   "metadata": {},
   "outputs": [
    {
     "name": "stdout",
     "output_type": "stream",
     "text": [
      "Train on 15000 samples, validate on 10000 samples\n",
      "Epoch 1/20\n",
      "15000/15000 [==============================] - 4s 280us/step - loss: 0.5202 - binary_accuracy: 0.7980 - val_loss: 0.4066 - val_binary_accuracy: 0.8539\n",
      "Epoch 2/20\n",
      "15000/15000 [==============================] - 2s 109us/step - loss: 0.3171 - binary_accuracy: 0.9010 - val_loss: 0.3150 - val_binary_accuracy: 0.8815\n",
      "Epoch 3/20\n",
      "15000/15000 [==============================] - 1s 68us/step - loss: 0.2332 - binary_accuracy: 0.9243 - val_loss: 0.2833 - val_binary_accuracy: 0.8899\n",
      "Epoch 4/20\n",
      "15000/15000 [==============================] - 1s 69us/step - loss: 0.1855 - binary_accuracy: 0.9403 - val_loss: 0.2755 - val_binary_accuracy: 0.8905\n",
      "Epoch 5/20\n",
      "15000/15000 [==============================] - 1s 66us/step - loss: 0.1503 - binary_accuracy: 0.9520 - val_loss: 0.2886 - val_binary_accuracy: 0.8840\n",
      "Epoch 6/20\n",
      "15000/15000 [==============================] - 1s 66us/step - loss: 0.1261 - binary_accuracy: 0.9614 - val_loss: 0.2903 - val_binary_accuracy: 0.8862\n",
      "Epoch 7/20\n",
      "15000/15000 [==============================] - 1s 65us/step - loss: 0.1036 - binary_accuracy: 0.9700 - val_loss: 0.3242 - val_binary_accuracy: 0.8796\n",
      "Epoch 8/20\n",
      "15000/15000 [==============================] - 1s 66us/step - loss: 0.0869 - binary_accuracy: 0.9765 - val_loss: 0.3200 - val_binary_accuracy: 0.8847\n",
      "Epoch 9/20\n",
      "15000/15000 [==============================] - 1s 66us/step - loss: 0.0715 - binary_accuracy: 0.9822 - val_loss: 0.3433 - val_binary_accuracy: 0.8827\n",
      "Epoch 10/20\n",
      "15000/15000 [==============================] - 1s 66us/step - loss: 0.0586 - binary_accuracy: 0.9859 - val_loss: 0.3658 - val_binary_accuracy: 0.8803\n",
      "Epoch 11/20\n",
      "15000/15000 [==============================] - 1s 65us/step - loss: 0.0485 - binary_accuracy: 0.9887 - val_loss: 0.3859 - val_binary_accuracy: 0.8770\n",
      "Epoch 12/20\n",
      "15000/15000 [==============================] - 1s 68us/step - loss: 0.0370 - binary_accuracy: 0.9925 - val_loss: 0.4242 - val_binary_accuracy: 0.8770\n",
      "Epoch 13/20\n",
      "15000/15000 [==============================] - 1s 66us/step - loss: 0.0320 - binary_accuracy: 0.9927 - val_loss: 0.4512 - val_binary_accuracy: 0.8755\n",
      "Epoch 14/20\n",
      "15000/15000 [==============================] - 1s 65us/step - loss: 0.0226 - binary_accuracy: 0.9964 - val_loss: 0.4756 - val_binary_accuracy: 0.8706\n",
      "Epoch 15/20\n",
      "15000/15000 [==============================] - 1s 65us/step - loss: 0.0177 - binary_accuracy: 0.9972 - val_loss: 0.5055 - val_binary_accuracy: 0.8704\n",
      "Epoch 16/20\n",
      "15000/15000 [==============================] - 1s 66us/step - loss: 0.0139 - binary_accuracy: 0.9983 - val_loss: 0.5517 - val_binary_accuracy: 0.8721\n",
      "Epoch 17/20\n",
      "15000/15000 [==============================] - 1s 72us/step - loss: 0.0109 - binary_accuracy: 0.9989 - val_loss: 0.5786 - val_binary_accuracy: 0.8696\n",
      "Epoch 18/20\n",
      "15000/15000 [==============================] - 1s 78us/step - loss: 0.0069 - binary_accuracy: 0.9995 - val_loss: 0.6452 - val_binary_accuracy: 0.8689\n",
      "Epoch 19/20\n",
      "15000/15000 [==============================] - 1s 87us/step - loss: 0.0072 - binary_accuracy: 0.9991 - val_loss: 0.6476 - val_binary_accuracy: 0.8702\n",
      "Epoch 20/20\n",
      "15000/15000 [==============================] - 1s 68us/step - loss: 0.0034 - binary_accuracy: 0.9999 - val_loss: 0.6986 - val_binary_accuracy: 0.8676\n"
     ]
    }
   ],
   "source": [
    "history = model.fit(partial_x_train,\n",
    "                    partial_y_train,\n",
    "                    epochs=20,\n",
    "                    batch_size=512,\n",
    "                    validation_data=(x_val, y_val))"
   ]
  },
  {
   "cell_type": "code",
   "execution_count": 17,
   "metadata": {},
   "outputs": [
    {
     "data": {
      "text/plain": [
       "dict_keys(['val_loss', 'val_binary_accuracy', 'loss', 'binary_accuracy'])"
      ]
     },
     "execution_count": 17,
     "metadata": {},
     "output_type": "execute_result"
    }
   ],
   "source": [
    "history_dict = history.history\n",
    "history_dict.keys()"
   ]
  },
  {
   "cell_type": "code",
   "execution_count": 18,
   "metadata": {},
   "outputs": [
    {
     "data": {
      "image/png": "[encoded data removed]",
      "text/plain": [
       "<Figure size 432x288 with 1 Axes>"
      ]
     },
     "metadata": {
      "needs_background": "light"
     },
     "output_type": "display_data"
    }
   ],
   "source": [
    "import matplotlib.pyplot as plt\n",
    "\n",
    "acc = history.history['binary_accuracy']\n",
    "val_acc = history.history['val_binary_accuracy']\n",
    "loss = history.history['loss']\n",
    "val_loss = history.history['val_loss']\n",
    "\n",
    "epochs = range(1, len(acc) + 1)\n",
    "\n",
    "# \"bo\" is for \"blue dot\"\n",
    "plt.plot(epochs, loss, 'bo', label='Training loss')\n",
    "# b is for \"solid blue line\"\n",
    "plt.plot(epochs, val_loss, 'b', label='Validation loss')\n",
    "plt.title('Training and validation loss')\n",
    "plt.xlabel('Epochs')\n",
    "plt.ylabel('Loss')\n",
    "plt.legend()\n",
    "\n",
    "plt.show()\n"
   ]
  },
  {
   "cell_type": "code",
   "execution_count": 19,
   "metadata": {},
   "outputs": [
    {
     "data": {
      "image/png": "[encoded data removed]",
      "text/plain": [
       "<Figure size 432x288 with 1 Axes>"
      ]
     },
     "metadata": {
      "needs_background": "light"
     },
     "output_type": "display_data"
    }
   ],
   "source": [
    "plt.clf()   # clear figure\n",
    "acc_values = history_dict['binary_accuracy']\n",
    "val_acc_values = history_dict['val_binary_accuracy']\n",
    "\n",
    "plt.plot(epochs, acc, 'bo', label='Training acc')\n",
    "plt.plot(epochs, val_acc, 'b', label='Validation acc')\n",
    "plt.title('Training and validation accuracy')\n",
    "plt.xlabel('Epochs')\n",
    "plt.ylabel('Loss')\n",
    "plt.legend()\n",
    "\n",
    "plt.show()"
   ]
  },
  {
   "cell_type": "code",
   "execution_count": 20,
   "metadata": {},
   "outputs": [
    {
     "name": "stdout",
     "output_type": "stream",
     "text": [
      "Epoch 1/4\n",
      "25000/25000 [==============================] - 1s 55us/step - loss: 0.4577 - accuracy: 0.8207\n",
      "Epoch 2/4\n",
      "25000/25000 [==============================] - 1s 41us/step - loss: 0.2641 - accuracy: 0.9085\n",
      "Epoch 3/4\n",
      "25000/25000 [==============================] - 1s 42us/step - loss: 0.2035 - accuracy: 0.9278\n",
      "Epoch 4/4\n",
      "25000/25000 [==============================] - 1s 43us/step - loss: 0.1692 - accuracy: 0.9405\n",
      "25000/25000 [==============================] - 4s 146us/step\n"
     ]
    }
   ],
   "source": [
    "model = models.Sequential()\n",
    "model.add(layers.Dense(16, activation='relu', input_shape=(10000,)))\n",
    "model.add(layers.Dense(16, activation='relu'))\n",
    "model.add(layers.Dense(1, activation='sigmoid'))\n",
    "\n",
    "model.compile(optimizer='rmsprop',\n",
    "              loss='binary_crossentropy',\n",
    "              metrics=['accuracy'])\n",
    "\n",
    "model.fit(x_train, y_train, epochs=4, batch_size=512)\n",
    "results = model.evaluate(x_test, y_test)"
   ]
  },
  {
   "cell_type": "code",
   "execution_count": 21,
   "metadata": {},
   "outputs": [
    {
     "data": {
      "text/plain": [
       "[0.2937098868560791, 0.8842800259590149]"
      ]
     },
     "execution_count": 21,
     "metadata": {},
     "output_type": "execute_result"
    }
   ],
   "source": [
    "results"
   ]
  },
  {
   "cell_type": "code",
   "execution_count": 22,
   "metadata": {},
   "outputs": [
    {
     "data": {
      "text/plain": [
       "array([[0.2487448 ],\n",
       "       [0.9991991 ],\n",
       "       [0.9304348 ],\n",
       "       ...,\n",
       "       [0.17773016],\n",
       "       [0.10950935],\n",
       "       [0.6337426 ]], dtype=float32)"
      ]
     },
     "execution_count": 22,
     "metadata": {},
     "output_type": "execute_result"
    }
   ],
   "source": [
    "model.predict(x_test)"
   ]
  },
  {
   "cell_type": "markdown",
   "metadata": {},
   "source": [
    "#### 3.4.7 정리\n",
    "\n",
    "- 원본 데이터를 신경망에 텐서로 주입하기 위해서는 꽤 많은 전처리가 필요\n",
    "  - 단어 시퀀스는 이진 벡터로 인코딩 될 수 있고, 다른 인코딩 방식도 존재\n",
    "- relu 활성화 함수와 함꼐 Dense layer를 쌓은 네트워크는 여러 종유의 문제에 적용 가능\n",
    "- 이진 분류 문제에서 네트워크는 하나의 유닛과 sigmoid 활성화 함수를 가진 dense layer로 끝나야 함\n",
    "  - 신경망의 출력은 확률을 나타내는 0과 1 사이의 스칼라 값\n",
    "- 이진 분류 문제에서 이런 스칼라 시그모이드 출력에 대해 사용할 loss function은 binary_crossentropy\n",
    "- rmsprop optimizer는 문제에 상관없이 일반적으로 충분히 좋은 선택(잘 쓰자... : )\n",
    "- 모델 평가는 중요하다. 중요하다. 중요하다."
   ]
  },
  {
   "cell_type": "markdown",
   "metadata": {},
   "source": [
    "### 3.5 뉴스 기사 분류 : 다중 분류 문제\n",
    "\n",
    "- 다중 분류 : multiclass classification\n",
    "- 각 데이터 포인트가 여러 개의 범주에 속하는 경우"
   ]
  },
  {
   "cell_type": "markdown",
   "metadata": {},
   "source": [
    "#### 3.5.1 로이터 데이터셋\n",
    "\n",
    "- 케라스에 있음"
   ]
  },
  {
   "cell_type": "code",
   "execution_count": 23,
   "metadata": {},
   "outputs": [
    {
     "name": "stdout",
     "output_type": "stream",
     "text": [
      "Downloading data from https://s3.amazonaws.com/text-datasets/reuters.npz\n",
      "2113536/2110848 [==============================] - 7s 3us/step\n"
     ]
    }
   ],
   "source": [
    "from keras.datasets import reuters\n",
    "\n",
    "(train_data, train_labels), (test_data, test_labels) = reuters.load_data(num_words=10000)"
   ]
  },
  {
   "cell_type": "markdown",
   "metadata": {},
   "source": [
    "- IMDB 하는 것처럼 진행"
   ]
  },
  {
   "cell_type": "code",
   "execution_count": 24,
   "metadata": {},
   "outputs": [
    {
     "name": "stdout",
     "output_type": "stream",
     "text": [
      "Downloading data from https://s3.amazonaws.com/text-datasets/reuters_word_index.json\n",
      "557056/550378 [==============================] - 2s 4us/step\n"
     ]
    }
   ],
   "source": [
    "word_index = reuters.get_word_index()\n",
    "reverse_word_index = dict([(value, key) for (key, value) in word_index.items()])\n",
    "\n",
    "# Note that our indices were offset by 3\n",
    "# because 0, 1 and 2 are reserved indices for \"padding\", \"start of sequence\", and \"unknown\".\n",
    "\n",
    "decoded_newswire = ' '.join([reverse_word_index.get(i - 3, '?') for i in train_data[0]])"
   ]
  },
  {
   "cell_type": "code",
   "execution_count": 32,
   "metadata": {},
   "outputs": [
    {
     "name": "stdout",
     "output_type": "stream",
     "text": [
      "? ? ? said as a result of its december acquisition of space co it expects earnings per share in 1987 of 1 15 to 1 30 dlrs per share up from 70 cts in 1986 the company said pretax net should rise to nine to 10 mln dlrs from six mln dlrs in 1986 and rental operation revenues to 19 to 22 mln dlrs from 12 5 mln dlrs it said cash flow per share this year should be 2 50 to three dlrs reuter 3\n"
     ]
    }
   ],
   "source": [
    "print(decoded_newswire)"
   ]
  },
  {
   "cell_type": "code",
   "execution_count": 25,
   "metadata": {},
   "outputs": [],
   "source": [
    "import numpy as np\n",
    "\n",
    "def vectorize_sequences(sequences, dimension=10000):\n",
    "    results = np.zeros((len(sequences), dimension))\n",
    "    for i, sequence in enumerate(sequences):\n",
    "        results[i, sequence] = 1.\n",
    "    return results\n",
    "\n",
    "# Our vectorized training data\n",
    "x_train = vectorize_sequences(train_data)\n",
    "# Our vectorized test data\n",
    "x_test = vectorize_sequences(test_data)"
   ]
  },
  {
   "cell_type": "code",
   "execution_count": 26,
   "metadata": {},
   "outputs": [],
   "source": [
    "# one-hot encoding\n",
    "\n",
    "def to_one_hot(labels, dimension=46):\n",
    "    results = np.zeros((len(labels), dimension))\n",
    "    for i, label in enumerate(labels):\n",
    "        results[i, label] = 1.\n",
    "    return results\n",
    "\n",
    "# Our vectorized training labels\n",
    "one_hot_train_labels = to_one_hot(train_labels)\n",
    "# Our vectorized test labels\n",
    "one_hot_test_labels = to_one_hot(test_labels)"
   ]
  },
  {
   "cell_type": "code",
   "execution_count": 27,
   "metadata": {},
   "outputs": [],
   "source": [
    "# keras utils for one-hot encoding\n",
    "\n",
    "from keras.utils.np_utils import to_categorical\n",
    "\n",
    "one_hot_train_labels = to_categorical(train_labels)\n",
    "one_hot_test_labels = to_categorical(test_labels)"
   ]
  },
  {
   "cell_type": "markdown",
   "metadata": {},
   "source": [
    "- 이진 분류와 다르게 차원을 늘려서 접근 할 거임\n",
    "- 이진 분류 할 떄 16차원으로 했는데 현재 46개의 정보를 가지고 있으므로 차원을 더 늘려서 접근"
   ]
  },
  {
   "cell_type": "code",
   "execution_count": 28,
   "metadata": {},
   "outputs": [],
   "source": [
    "from keras import models\n",
    "from keras import layers\n",
    "\n",
    "model = models.Sequential()\n",
    "model.add(layers.Dense(64, activation='relu', input_shape=(10000,)))\n",
    "model.add(layers.Dense(64, activation='relu'))\n",
    "model.add(layers.Dense(46, activation='softmax'))"
   ]
  },
  {
   "cell_type": "markdown",
   "metadata": {},
   "source": [
    "- 마지막 Dense layer의 크기가 46이다.\n",
    "- 각 입력 샘플에 대하여 46차원의 벡터를 출력한다는 뜻\n",
    "- 마지막 층에는 softmax 활성화 함수가 사용되었음\n",
    "  - 예를 들면, 46개의 차원에 대한 확률 분포를 출력\n",
    "  - 전체 확률 합을 구하면 1이다.\n",
    "\n",
    "이런 문제에서 사용한 최선의 loss function은 categorical_crossentropy이다.\n",
    "  - 두 확률 분포 사이의 거리를 측정하는 방식\n",
    "  - 여기에서는 네트워크가 출력한 확률 분포와 진짜 레이블의 분포 사이의 거리\n",
    "  - 거리를 최소화하면 진짜 레이블에 가능한 가까운 출력을 내도록 모델 훈련"
   ]
  },
  {
   "cell_type": "code",
   "execution_count": 29,
   "metadata": {},
   "outputs": [],
   "source": [
    "model.compile(optimizer='rmsprop',\n",
    "              loss='categorical_crossentropy',\n",
    "              metrics=['accuracy'])"
   ]
  },
  {
   "cell_type": "markdown",
   "metadata": {},
   "source": [
    "#### 3.5.4 훈련 검증"
   ]
  },
  {
   "cell_type": "code",
   "execution_count": 30,
   "metadata": {},
   "outputs": [],
   "source": [
    "x_val = x_train[:1000]\n",
    "partial_x_train = x_train[1000:]\n",
    "\n",
    "y_val = one_hot_train_labels[:1000]\n",
    "partial_y_train = one_hot_train_labels[1000:]"
   ]
  },
  {
   "cell_type": "code",
   "execution_count": null,
   "metadata": {},
   "outputs": [],
   "source": []
  },
  {
   "cell_type": "code",
   "execution_count": 31,
   "metadata": {},
   "outputs": [
    {
     "name": "stdout",
     "output_type": "stream",
     "text": [
      "Train on 7982 samples, validate on 1000 samples\n",
      "Epoch 1/20\n",
      "7982/7982 [==============================] - 1s 138us/step - loss: 2.7622 - accuracy: 0.4825 - val_loss: 1.8210 - val_accuracy: 0.6410\n",
      "Epoch 2/20\n",
      "7982/7982 [==============================] - 0s 50us/step - loss: 1.4701 - accuracy: 0.6907 - val_loss: 1.3274 - val_accuracy: 0.7090\n",
      "Epoch 3/20\n",
      "7982/7982 [==============================] - 0s 50us/step - loss: 1.0734 - accuracy: 0.7705 - val_loss: 1.1701 - val_accuracy: 0.7430\n",
      "Epoch 4/20\n",
      "7982/7982 [==============================] - 0s 53us/step - loss: 0.8433 - accuracy: 0.8254 - val_loss: 1.0324 - val_accuracy: 0.7860\n",
      "Epoch 5/20\n",
      "7982/7982 [==============================] - 0s 52us/step - loss: 0.6652 - accuracy: 0.8608 - val_loss: 0.9780 - val_accuracy: 0.8030\n",
      "Epoch 6/20\n",
      "7982/7982 [==============================] - 0s 50us/step - loss: 0.5342 - accuracy: 0.8909 - val_loss: 0.9253 - val_accuracy: 0.8060\n",
      "Epoch 7/20\n",
      "7982/7982 [==============================] - 0s 53us/step - loss: 0.4267 - accuracy: 0.9119 - val_loss: 0.9196 - val_accuracy: 0.8060\n",
      "Epoch 8/20\n",
      "7982/7982 [==============================] - 0s 54us/step - loss: 0.3504 - accuracy: 0.9245 - val_loss: 0.8924 - val_accuracy: 0.8020\n",
      "Epoch 9/20\n",
      "7982/7982 [==============================] - 0s 51us/step - loss: 0.2871 - accuracy: 0.9369 - val_loss: 0.9226 - val_accuracy: 0.8060\n",
      "Epoch 10/20\n",
      "7982/7982 [==============================] - 0s 53us/step - loss: 0.2422 - accuracy: 0.9449 - val_loss: 0.9818 - val_accuracy: 0.8070\n",
      "Epoch 11/20\n",
      "7982/7982 [==============================] - 0s 48us/step - loss: 0.2103 - accuracy: 0.9483 - val_loss: 0.9515 - val_accuracy: 0.8080\n",
      "Epoch 12/20\n",
      "7982/7982 [==============================] - 0s 48us/step - loss: 0.1873 - accuracy: 0.9491 - val_loss: 0.9264 - val_accuracy: 0.8180\n",
      "Epoch 13/20\n",
      "7982/7982 [==============================] - 0s 49us/step - loss: 0.1667 - accuracy: 0.9523 - val_loss: 0.9866 - val_accuracy: 0.8100\n",
      "Epoch 14/20\n",
      "7982/7982 [==============================] - 1s 71us/step - loss: 0.1538 - accuracy: 0.9548 - val_loss: 1.0169 - val_accuracy: 0.8090\n",
      "Epoch 15/20\n",
      "7982/7982 [==============================] - 1s 179us/step - loss: 0.1459 - accuracy: 0.9553 - val_loss: 1.0167 - val_accuracy: 0.8080\n",
      "Epoch 16/20\n",
      "7982/7982 [==============================] - 0s 47us/step - loss: 0.1322 - accuracy: 0.9570 - val_loss: 1.0792 - val_accuracy: 0.8020\n",
      "Epoch 17/20\n",
      "7982/7982 [==============================] - 0s 50us/step - loss: 0.1280 - accuracy: 0.9553 - val_loss: 1.0300 - val_accuracy: 0.8110\n",
      "Epoch 18/20\n",
      "7982/7982 [==============================] - 0s 46us/step - loss: 0.1244 - accuracy: 0.9573 - val_loss: 1.0691 - val_accuracy: 0.8060\n",
      "Epoch 19/20\n",
      "7982/7982 [==============================] - 0s 46us/step - loss: 0.1172 - accuracy: 0.9573 - val_loss: 1.0962 - val_accuracy: 0.8040\n",
      "Epoch 20/20\n",
      "7982/7982 [==============================] - 0s 46us/step - loss: 0.1146 - accuracy: 0.9562 - val_loss: 1.0882 - val_accuracy: 0.8090\n"
     ]
    }
   ],
   "source": [
    "history = model.fit(partial_x_train,\n",
    "                    partial_y_train,\n",
    "                    epochs=20,\n",
    "                    batch_size=512,\n",
    "                    validation_data=(x_val, y_val))"
   ]
  },
  {
   "cell_type": "markdown",
   "metadata": {},
   "source": [
    "#### 3.5.5 새로운 데이터에 대해 예측하기\n",
    "\n",
    "46개의 토픽에 대한 확률 분포를 반환"
   ]
  },
  {
   "cell_type": "code",
   "execution_count": 33,
   "metadata": {},
   "outputs": [],
   "source": [
    "predictions = model.predict(x_test)"
   ]
  },
  {
   "cell_type": "code",
   "execution_count": 34,
   "metadata": {},
   "outputs": [
    {
     "data": {
      "text/plain": [
       "array([2.6922977e-05, 4.0885934e-06, 9.0506255e-08, 9.9292129e-01,\n",
       "       4.6137469e-03, 1.4887469e-06, 9.9708200e-11, 1.3415823e-06,\n",
       "       3.1713961e-04, 1.4717997e-06, 1.6283828e-05, 9.8764570e-04,\n",
       "       3.9449333e-07, 1.4796563e-05, 8.7394184e-08, 6.7486025e-07,\n",
       "       2.8775288e-05, 2.4288042e-07, 8.2137257e-07, 2.3360245e-04,\n",
       "       6.9229567e-04, 1.7364346e-06, 9.6043937e-07, 3.7382448e-05,\n",
       "       2.9346467e-07, 4.9522253e-08, 4.8981517e-09, 7.4139962e-07,\n",
       "       1.7663995e-05, 6.3677589e-06, 7.0644759e-08, 1.0515985e-07,\n",
       "       1.6017233e-07, 6.7123594e-08, 1.0514160e-07, 3.0029876e-09,\n",
       "       5.2601747e-05, 1.3446763e-07, 1.8484876e-07, 1.5643927e-05,\n",
       "       1.9508956e-07, 2.1211263e-06, 7.7000301e-08, 1.3349349e-07,\n",
       "       5.7464766e-09, 5.2904605e-09], dtype=float32)"
      ]
     },
     "execution_count": 34,
     "metadata": {},
     "output_type": "execute_result"
    }
   ],
   "source": [
    "predictions[0]"
   ]
  },
  {
   "cell_type": "code",
   "execution_count": 35,
   "metadata": {},
   "outputs": [
    {
     "data": {
      "text/plain": [
       "(46,)"
      ]
     },
     "execution_count": 35,
     "metadata": {},
     "output_type": "execute_result"
    }
   ],
   "source": [
    "predictions[0].shape"
   ]
  },
  {
   "cell_type": "code",
   "execution_count": 36,
   "metadata": {},
   "outputs": [
    {
     "data": {
      "text/plain": [
       "0.99999994"
      ]
     },
     "execution_count": 36,
     "metadata": {},
     "output_type": "execute_result"
    }
   ],
   "source": [
    "np.sum(predictions[0])"
   ]
  },
  {
   "cell_type": "code",
   "execution_count": 37,
   "metadata": {},
   "outputs": [
    {
     "data": {
      "text/plain": [
       "3"
      ]
     },
     "execution_count": 37,
     "metadata": {},
     "output_type": "execute_result"
    }
   ],
   "source": [
    "# 가장 큰 값이 예측 클래스가 된다.\n",
    "\n",
    "np.argmax(predictions[0])"
   ]
  },
  {
   "cell_type": "markdown",
   "metadata": {},
   "source": [
    "#### 3.5.6 레이블과 손실을 다루는 다른 방법\n",
    "\n",
    "레이블을 인코딩하는 다른 방법은 정수 텐서로 변환하는 것"
   ]
  },
  {
   "cell_type": "code",
   "execution_count": 38,
   "metadata": {},
   "outputs": [],
   "source": [
    "y_train = np.array(train_labels)\n",
    "y_test = np.array(test_labels)"
   ]
  },
  {
   "cell_type": "markdown",
   "metadata": {},
   "source": [
    "이 방식을 사용하려면 loss function 하나만 바꾸면 됨\n",
    "- categorical_crossentropy는 레이블이 범주형 인코딩 되어 있을 것으로 판단\n",
    "- 정수 레이블을 사용할 때는 sparse_categorical_crossentropy를 사용해야 함"
   ]
  },
  {
   "cell_type": "code",
   "execution_count": 40,
   "metadata": {},
   "outputs": [],
   "source": [
    "model.compile(\n",
    "    optimizer='rmsprop',\n",
    "    loss='sparse_categorical_crossentropy',\n",
    "    metrics=['acc'])"
   ]
  },
  {
   "cell_type": "markdown",
   "metadata": {},
   "source": [
    "#### 3.5.7 충분히 큰 중간층을 두어야 하는 이유"
   ]
  },
  {
   "cell_type": "code",
   "execution_count": 42,
   "metadata": {},
   "outputs": [
    {
     "name": "stdout",
     "output_type": "stream",
     "text": [
      "Train on 7982 samples, validate on 1000 samples\n",
      "Epoch 1/20\n",
      "7982/7982 [==============================] - 1s 103us/step - loss: 2.5613 - accuracy: 0.3339 - val_loss: 1.9329 - val_accuracy: 0.5350\n",
      "Epoch 2/20\n",
      "7982/7982 [==============================] - 1s 75us/step - loss: 1.7158 - accuracy: 0.5492 - val_loss: 1.6212 - val_accuracy: 0.5810\n",
      "Epoch 3/20\n",
      "7982/7982 [==============================] - 1s 77us/step - loss: 1.3766 - accuracy: 0.6502 - val_loss: 1.4243 - val_accuracy: 0.6520\n",
      "Epoch 4/20\n",
      "7982/7982 [==============================] - 1s 85us/step - loss: 1.1767 - accuracy: 0.6736 - val_loss: 1.3417 - val_accuracy: 0.6760\n",
      "Epoch 5/20\n",
      "7982/7982 [==============================] - 1s 78us/step - loss: 1.0403 - accuracy: 0.7091 - val_loss: 1.3028 - val_accuracy: 0.6970\n",
      "Epoch 6/20\n",
      "7982/7982 [==============================] - 1s 77us/step - loss: 0.9301 - accuracy: 0.7466 - val_loss: 1.2683 - val_accuracy: 0.7080\n",
      "Epoch 7/20\n",
      "7982/7982 [==============================] - 1s 76us/step - loss: 0.8429 - accuracy: 0.7643 - val_loss: 1.2827 - val_accuracy: 0.7150\n",
      "Epoch 8/20\n",
      "7982/7982 [==============================] - 1s 76us/step - loss: 0.7721 - accuracy: 0.7806 - val_loss: 1.2814 - val_accuracy: 0.7280\n",
      "Epoch 9/20\n",
      "7982/7982 [==============================] - 1s 78us/step - loss: 0.7158 - accuracy: 0.7988 - val_loss: 1.3509 - val_accuracy: 0.7180\n",
      "Epoch 10/20\n",
      "7982/7982 [==============================] - 1s 79us/step - loss: 0.6674 - accuracy: 0.8076 - val_loss: 1.3306 - val_accuracy: 0.7260\n",
      "Epoch 11/20\n",
      "7982/7982 [==============================] - 1s 82us/step - loss: 0.6274 - accuracy: 0.8131 - val_loss: 1.3757 - val_accuracy: 0.7110\n",
      "Epoch 12/20\n",
      "7982/7982 [==============================] - 1s 96us/step - loss: 0.5945 - accuracy: 0.8217 - val_loss: 1.4104 - val_accuracy: 0.7170\n",
      "Epoch 13/20\n",
      "7982/7982 [==============================] - 1s 95us/step - loss: 0.5630 - accuracy: 0.8327 - val_loss: 1.4443 - val_accuracy: 0.7080\n",
      "Epoch 14/20\n",
      "7982/7982 [==============================] - 1s 81us/step - loss: 0.5368 - accuracy: 0.8420 - val_loss: 1.4937 - val_accuracy: 0.7100\n",
      "Epoch 15/20\n",
      "7982/7982 [==============================] - 1s 89us/step - loss: 0.5107 - accuracy: 0.8460 - val_loss: 1.5320 - val_accuracy: 0.7140\n",
      "Epoch 16/20\n",
      "7982/7982 [==============================] - 1s 78us/step - loss: 0.4909 - accuracy: 0.8483 - val_loss: 1.6448 - val_accuracy: 0.7130\n",
      "Epoch 17/20\n",
      "7982/7982 [==============================] - 1s 112us/step - loss: 0.4681 - accuracy: 0.8550 - val_loss: 1.6251 - val_accuracy: 0.7080\n",
      "Epoch 18/20\n",
      "7982/7982 [==============================] - 1s 88us/step - loss: 0.4519 - accuracy: 0.8604 - val_loss: 1.7341 - val_accuracy: 0.7100\n",
      "Epoch 19/20\n",
      "7982/7982 [==============================] - 1s 81us/step - loss: 0.4329 - accuracy: 0.8692 - val_loss: 1.7272 - val_accuracy: 0.7090\n",
      "Epoch 20/20\n",
      "7982/7982 [==============================] - 1s 73us/step - loss: 0.4155 - accuracy: 0.8743 - val_loss: 1.8822 - val_accuracy: 0.7040\n"
     ]
    },
    {
     "data": {
      "text/plain": [
       "<keras.callbacks.callbacks.History at 0x7fda0bbbaf28>"
      ]
     },
     "execution_count": 42,
     "metadata": {},
     "output_type": "execute_result"
    }
   ],
   "source": [
    "model = models.Sequential()\n",
    "model.add(layers.Dense(64, activation='relu', input_shape=(10000,)))\n",
    "model.add(layers.Dense(4, activation='relu'))\n",
    "model.add(layers.Dense(46, activation='softmax'))\n",
    "\n",
    "model.compile(optimizer='rmsprop',\n",
    "              loss='categorical_crossentropy',\n",
    "              metrics=['accuracy'])\n",
    "\n",
    "model.fit(partial_x_train,\n",
    "          partial_y_train,\n",
    "          epochs=20,\n",
    "          batch_size=128,\n",
    "          validation_data=(x_val, y_val))"
   ]
  },
  {
   "cell_type": "markdown",
   "metadata": {},
   "source": [
    "왜 val_accuracy는 감소 되었나?\n",
    "- 원인 대부분은 정보를 중간층의 표현 공간으로 넣으려고 해서\n",
    "- 필요한 정보를 4차원안에 다 넣을 수 없어서 정확도가 감소한 거다."
   ]
  },
  {
   "cell_type": "markdown",
   "metadata": {},
   "source": [
    "#### 3.5.9 정리\n",
    "\n",
    "- N개의 클래스로 데이터 포인트를 분류하려면 네트워크의 마지막 Dense layer의 크기는 N이 되어야 한다.\n",
    "- 단일 레이블, 다중 분류 문제에서는 N개의 클래스에 대한 확률 분포를 출력하기 위해서는 softmax activation function을 사용해야 한다.\n",
    "- 다중 분류에서는 categorical_crossentropy를 사용해야 한다.\n",
    "  - 이 함수는 모델이 출력한 확률 분포와 타깃 분포 사이의 거리를 최소화 한다.\n",
    "- 다중 분류에서 레이블을 다루는 두 가지 방법\n",
    "  - 레이블을 범주형 인코딩(또는 one-hot 인코딩)으로 인코딩 하고 categorical_crossentropy를 loss function으로 사용\n",
    "  - 레이블을 정수로 인코딩하고 sparse_categorical_crossentropy를 loss function으로 사용\n",
    "- 많은 수의 범주를 분류할 때 중간의 layer 크기가 너무 작아 네트워크에 정보의 병목이 생기지 않도록 해야 한다."
   ]
  }
 ],
 "metadata": {
  "kernelspec": {
   "display_name": "Python 3",
   "language": "python",
   "name": "python3"
  },
  "language_info": {
   "codemirror_mode": {
    "name": "ipython",
    "version": 3
   },
   "file_extension": ".py",
   "mimetype": "text/x-python",
   "name": "python",
   "nbconvert_exporter": "python",
   "pygments_lexer": "ipython3",
   "version": "3.7.3"
  }
 },
 "nbformat": 4,
 "nbformat_minor": 4
}
