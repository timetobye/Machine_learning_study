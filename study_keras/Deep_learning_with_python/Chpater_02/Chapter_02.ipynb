{
 "cells": [
  {
   "cell_type": "markdown",
   "metadata": {},
   "source": [
    "Ch2. 신경망의 수학적 구성 요소\n",
    "--------"
   ]
  },
  {
   "cell_type": "markdown",
   "metadata": {},
   "source": [
    "### 2.1 신경망과의 첫 만남"
   ]
  },
  {
   "cell_type": "code",
   "execution_count": 1,
   "metadata": {},
   "outputs": [
    {
     "name": "stderr",
     "output_type": "stream",
     "text": [
      "Using TensorFlow backend.\n"
     ]
    }
   ],
   "source": [
    "import keras\n",
    "import numpy as np\n",
    "import pandas as pd\n",
    "import matplotlib.pyplot as plt\n",
    "import tensorflow as tf\n",
    "from keras import backend as K\n",
    "\n",
    "%matplotlib inline"
   ]
  },
  {
   "cell_type": "code",
   "execution_count": 2,
   "metadata": {},
   "outputs": [],
   "source": [
    "# load mnist data from keras\n",
    "\n",
    "from keras.datasets import mnist\n",
    "\n",
    "(train_images, train_labels), (test_images, test_labels) = mnist.load_data()"
   ]
  },
  {
   "cell_type": "code",
   "execution_count": 3,
   "metadata": {},
   "outputs": [
    {
     "data": {
      "text/plain": [
       "((60000, 28, 28), (60000,))"
      ]
     },
     "execution_count": 3,
     "metadata": {},
     "output_type": "execute_result"
    }
   ],
   "source": [
    "train_images.shape, train_labels.shape"
   ]
  },
  {
   "cell_type": "code",
   "execution_count": 4,
   "metadata": {},
   "outputs": [
    {
     "data": {
      "text/plain": [
       "array([5, 0, 4, ..., 5, 6, 8], dtype=uint8)"
      ]
     },
     "execution_count": 4,
     "metadata": {},
     "output_type": "execute_result"
    }
   ],
   "source": [
    "train_labels"
   ]
  },
  {
   "cell_type": "code",
   "execution_count": 5,
   "metadata": {},
   "outputs": [
    {
     "data": {
      "image/png": "[encoded data removed]",
      "text/plain": [
       "<Figure size 432x288 with 1 Axes>"
      ]
     },
     "metadata": {
      "needs_background": "light"
     },
     "output_type": "display_data"
    }
   ],
   "source": [
    "digit = train_images[4]\n",
    "\n",
    "plt.imshow(digit, cmap=plt.cm.binary)\n",
    "plt.show()"
   ]
  },
  {
   "cell_type": "markdown",
   "metadata": {},
   "source": [
    "**activation 설정시**\n",
    "- activation 값을 설정 할 때 마지막 layer에서 softmax로 했더니 에러가 남\n",
    "- 해결책\n",
    "  - https://keras.io/activations/\n",
    "  - https://github.com/keras-team/keras/issues/9621#issuecomment-394664543\n",
    "- 또는 tensorflow에서 바로 가져와도 된다.\n",
    "\n",
    "```python\n",
    "from keras import backend as K\n",
    "model.add(Dense(64, activation=K.tanh))\n",
    "\n",
    "from keras import backend as K\n",
    "model.add(Lambda(lambda x: K.tf.nn.softmax(x)))\n",
    "```"
   ]
  },
  {
   "cell_type": "code",
   "execution_count": 6,
   "metadata": {},
   "outputs": [],
   "source": [
    "from keras import models, layers\n",
    "\n",
    "network = models.Sequential()\n",
    "network.add(layers.Dense(512, activation='relu', input_shape=(28 * 28,)))\n",
    "network.add(layers.Dense(10, activation=tf.nn.softmax))"
   ]
  },
  {
   "cell_type": "markdown",
   "metadata": {},
   "source": [
    "신경망의 핵심 구성 요소는 일종의 데이터 처리 필터라고 할 수 있는 layer(층)이다.\n",
    "- 어떤 데이터가 들어가면 더 유용한 형태로 출력됨\n",
    "- 그 다음 더 의미가 있는 representation을 입력된 데이터로부터 출력함\n",
    "\n",
    "\n",
    "위의 예제에서는 fully connected된(완전 연결) 신경망 층인 Dense 층 2개가 속함\n",
    "- 마지막 층은 10개의 확률 점수가 들어 있는 배열(모두 더하면 1입니다)을 반환하는 소프트맥스 층입니다. 각 점수는 현재 숫자 이미지가 10개의 숫자 클래스 중 하나에 속할 확률입니다."
   ]
  },
  {
   "cell_type": "code",
   "execution_count": 7,
   "metadata": {},
   "outputs": [],
   "source": [
    "network.compile(optimizer='rmsprop',\n",
    "                loss='categorical_crossentropy',\n",
    "                metrics=['accuracy'])"
   ]
  },
  {
   "cell_type": "markdown",
   "metadata": {},
   "source": [
    "신경망이 훈련 준비를 마치기 위해서 컴파일 단계에 포함될 세 가지가 더 필요합니다:\n",
    "\n",
    "- loss function(손실 함수) : 훈련 데이터에서 신경망의 성능을 측정하는 방법으로 네트워크가 옳은 방향으로 학습될 수 있도록 도와 줍니다.\n",
    "- optimizer(옵티마이저): 입력된 데이터와 손실 함수를 기반으로 네트워크를 업데이트하는 메커니즘입니다.\n",
    "- metrics(훈련과 테스트 과정을 모니터링할 지표) : 여기에서는 정확도(정확히 분류된 이미지의 비율)만 고려하겠습니다."
   ]
  },
  {
   "cell_type": "code",
   "execution_count": 8,
   "metadata": {},
   "outputs": [],
   "source": [
    "train_images = train_images.reshape((60000, 28 * 28))\n",
    "train_images = train_images.astype('float32') / 255\n",
    "\n",
    "test_images = test_images.reshape((10000, 28 * 28))\n",
    "test_images = test_images.astype('float32') / 255"
   ]
  },
  {
   "cell_type": "markdown",
   "metadata": {},
   "source": [
    "훈련을 시작하기 전에 데이터를 네트워크에 맞는 크기로 바꾸고 모든 값을 0과 1 사이로 스케일을 조정합니다. \n",
    "- 예를 들어, 앞서 우리의 훈련 이미지는 [0, 255] 사이의 값인 uint8 타입의 (60000, 28, 28) 크기를 가진 배열로 저장되어 있습니다.\n",
    "- 이 데이터를 0과 1 사이의 값을 가지는 float32 타입의 (60000, 28 * 28) 크기의 배열로 바꿉니다."
   ]
  },
  {
   "cell_type": "code",
   "execution_count": 9,
   "metadata": {},
   "outputs": [],
   "source": [
    "# 레이블을 범주형으로 인코딩\n",
    "\n",
    "from keras.utils import to_categorical\n",
    "\n",
    "train_labels = to_categorical(train_labels)\n",
    "test_labels = to_categorical(test_labels)"
   ]
  },
  {
   "cell_type": "code",
   "execution_count": 10,
   "metadata": {},
   "outputs": [
    {
     "name": "stdout",
     "output_type": "stream",
     "text": [
      "Epoch 1/5\n",
      "60000/60000 [==============================] - 3s 57us/step - loss: 0.2559 - acc: 0.9264\n",
      "Epoch 2/5\n",
      "60000/60000 [==============================] - 3s 58us/step - loss: 0.1021 - acc: 0.9702\n",
      "Epoch 3/5\n",
      "60000/60000 [==============================] - 4s 63us/step - loss: 0.0678 - acc: 0.9798\n",
      "Epoch 4/5\n",
      "60000/60000 [==============================] - 4s 59us/step - loss: 0.0495 - acc: 0.9853\n",
      "Epoch 5/5\n",
      "60000/60000 [==============================] - 3s 57us/step - loss: 0.0372 - acc: 0.9891\n"
     ]
    },
    {
     "data": {
      "text/plain": [
       "<keras.callbacks.History at 0x120ce5cf8>"
      ]
     },
     "execution_count": 10,
     "metadata": {},
     "output_type": "execute_result"
    }
   ],
   "source": [
    "network.fit(train_images, train_labels, epochs=5, batch_size=128)"
   ]
  },
  {
   "cell_type": "code",
   "execution_count": 11,
   "metadata": {},
   "outputs": [
    {
     "name": "stdout",
     "output_type": "stream",
     "text": [
      "10000/10000 [==============================] - 0s 45us/step\n",
      "test_acc: 0.97\n"
     ]
    }
   ],
   "source": [
    "test_loss, test_acc = network.evaluate(test_images, test_labels)\n",
    "print('test_acc:', test_acc)"
   ]
  },
  {
   "cell_type": "markdown",
   "metadata": {},
   "source": [
    "### 2.2 신경망을 위한 데이터 표현\n",
    "\n",
    "모든 머신 러닝 시스템은 일반적으로 텐서를 기본 데이터 구조로 사용\n",
    "\n",
    "**텐서는 무엇일까?**\n",
    "- 데이터를 위한 컨테이너 개념\n",
    "- 거의 항상 수치형 데이터를 다룸\n",
    "- 텐서는 임의의 차원 개수를 가지는 행렬의 일반화된 모습\n",
    "- 텐서에서는 dimension을 종종 축(axis)라고 부르기도 함\n",
    "\n",
    "텐서에 대한 아주 좋은 설명\n",
    "- https://www.youtube.com/watch?v=m0qwxNA7IzI\n",
    "- 허민석 님 짱!"
   ]
  },
  {
   "cell_type": "markdown",
   "metadata": {},
   "source": [
    "#### 2.2.1 스칼라(0D 텐서)\n",
    "\n",
    "하나의 숫자만 담고 있는 텐서를 스칼라(scalar)라고 부름\n",
    "- numpy에서는 float32, float64 타입의 숫자가 스칼라 텐서임\n",
    "- ndim 속성을 사용하면 넘파이 배열의 축 개수를 확인 할 수 있음\n",
    "- 스칼라 텐서의 축 개수는 0이다(ndim==0).\n"
   ]
  },
  {
   "cell_type": "code",
   "execution_count": 12,
   "metadata": {},
   "outputs": [
    {
     "name": "stdout",
     "output_type": "stream",
     "text": [
      "12\n",
      "0\n"
     ]
    }
   ],
   "source": [
    "x = np.array(12)\n",
    "print(x)\n",
    "print(x.ndim)"
   ]
  },
  {
   "cell_type": "markdown",
   "metadata": {},
   "source": [
    "#### 2.2.2 벡터(1D 텐서)\n",
    "\n",
    "숫자의 배열을 벡터(vector) 또는 1D 텐서라고 부름\n",
    "- 딱 하나의 축을 가짐"
   ]
  },
  {
   "cell_type": "code",
   "execution_count": 14,
   "metadata": {},
   "outputs": [
    {
     "name": "stdout",
     "output_type": "stream",
     "text": [
      "[12  3  6 14  7]\n",
      "1\n"
     ]
    }
   ],
   "source": [
    "x = np.array([12, 3, 6, 14, 7])\n",
    "print(x)\n",
    "print(x.ndim)"
   ]
  },
  {
   "cell_type": "markdown",
   "metadata": {},
   "source": [
    "- 이 벡터는 5개의 원소를 가지고 있으므로 5차원 벡터라고 부름\n",
    "- 5D 벡터와 5D 텐서를 혼동하면 안 됨\n",
    "- 5D **벡터**는 하나의 축을 따라 5개의 차원을 가진 것\n",
    "- 5D **텐서**는 5개의 축을 가진 것\n",
    "  - 텐서의 각 축을 따라 여러 개의 차원을 가진 벡터가 놓일 수 있다.\n",
    "\n",
    "- 차원수는(dimensionality)는 특정 축을 따라 놓인 원소의 개수(5d-vector)이거나 텐서의 축 개수(5d-tensor)를 의미하므로 혼동하기 쉬움"
   ]
  },
  {
   "cell_type": "code",
   "execution_count": 15,
   "metadata": {},
   "outputs": [
    {
     "name": "stdout",
     "output_type": "stream",
     "text": [
      "[[ 5 78  2 34  0]\n",
      " [ 6 79  3 35  1]\n",
      " [ 7 80  4 37  2]]\n",
      "2\n"
     ]
    }
   ],
   "source": [
    "x = np.array([[5, 78, 2, 34, 0],\n",
    "              [6, 79, 3, 35, 1],\n",
    "              [7, 80, 4, 37, 2]])\n",
    "\n",
    "print(x)\n",
    "print(x.ndim)"
   ]
  },
  {
   "cell_type": "markdown",
   "metadata": {},
   "source": [
    "- 첫 번째 축에 놓여 있는 원소를 행이라 부른다.\n",
    "- 두 번째 축에 놓여 있는 원소를 열이라 부른다.\n",
    "- x의 첫 번째 행은 [5, 78, 2, 34, 0], 첫 번째 열은 [5,6,7] 이다"
   ]
  },
  {
   "cell_type": "markdown",
   "metadata": {},
   "source": [
    "#### 2.2.4 3D 텐서와 고차원 텐서"
   ]
  },
  {
   "cell_type": "code",
   "execution_count": 16,
   "metadata": {},
   "outputs": [],
   "source": [
    "x = np.array([[[5, 78, 2, 34, 0],\n",
    "              [6, 79, 3, 35, 1],\n",
    "              [7, 80, 4, 37, 2]],\n",
    "             [[5, 78, 2, 34, 0],\n",
    "              [6, 79, 3, 35, 1],\n",
    "              [7, 80, 4, 37, 2]],\n",
    "              [[5, 78, 2, 34, 0],\n",
    "              [6, 79, 3, 35, 1],\n",
    "              [7, 80, 4, 37, 2]]\n",
    "             ])"
   ]
  },
  {
   "cell_type": "code",
   "execution_count": 18,
   "metadata": {},
   "outputs": [
    {
     "name": "stdout",
     "output_type": "stream",
     "text": [
      "[[[ 5 78  2 34  0]\n",
      "  [ 6 79  3 35  1]\n",
      "  [ 7 80  4 37  2]]\n",
      "\n",
      " [[ 5 78  2 34  0]\n",
      "  [ 6 79  3 35  1]\n",
      "  [ 7 80  4 37  2]]\n",
      "\n",
      " [[ 5 78  2 34  0]\n",
      "  [ 6 79  3 35  1]\n",
      "  [ 7 80  4 37  2]]]\n",
      "3\n"
     ]
    }
   ],
   "source": [
    "print(x)\n",
    "print(x.ndim)"
   ]
  },
  {
   "cell_type": "markdown",
   "metadata": {},
   "source": [
    "#### 2.2.5 핵심 속성\n",
    "텐서는 3개의 핵심 속성으로 정의한다.\n",
    "\n",
    "- **축의 개수(랭크)**\n",
    "  - 예를 들어 3D 텐서에는 3개의 축이 있고, 행렬에는 2개의 축이 있다.\n",
    "  - numpy의 ndim으로 확인 가능\n",
    "- **크기(shape)**\n",
    "  - 텐서의 각 축을 따라 얼마나 많은 차원이 있는지를 나타낸 파이썬의 tuple\n",
    "  - 예를 들어 앞에 나온 행렬의 크기는 (3,5)이고 3D 텐서의 크기는 (3,3,5)이다.\n",
    "  - 벡터의 크기는 (5,) 처럼 1개의 원소로 이루어진 튜플\n",
    "  - 배열 스칼라는 ()처럼 크기가 없다.\n",
    "- **데이터 타입**\n",
    "  - 텐서에 포함된 데이터의 타입\n",
    "  - 예를 들면 텐서의 타입은 float32, float64, uint8 등이 될 수 있다.\n",
    "  - 텐서는 사전에 할당되어 연속된 메모리에 저장되어야 하므로 numpy 배열은 가변 문자열을 지원하지 않음"
   ]
  },
  {
   "cell_type": "code",
   "execution_count": 20,
   "metadata": {},
   "outputs": [],
   "source": [
    "from keras.datasets import mnist\n",
    "\n",
    "(train_images, train_labels), (test_images, test_labels) = mnist.load_data()"
   ]
  },
  {
   "cell_type": "code",
   "execution_count": 21,
   "metadata": {},
   "outputs": [
    {
     "name": "stdout",
     "output_type": "stream",
     "text": [
      "3\n"
     ]
    }
   ],
   "source": [
    "print(train_images.ndim)"
   ]
  },
  {
   "cell_type": "code",
   "execution_count": 22,
   "metadata": {},
   "outputs": [
    {
     "name": "stdout",
     "output_type": "stream",
     "text": [
      "(60000, 28, 28)\n"
     ]
    }
   ],
   "source": [
    "print(train_images.shape)"
   ]
  },
  {
   "cell_type": "code",
   "execution_count": 23,
   "metadata": {},
   "outputs": [
    {
     "name": "stdout",
     "output_type": "stream",
     "text": [
      "uint8\n"
     ]
    }
   ],
   "source": [
    "# 8비트 정수형 3D 텐서\n",
    "# 좀 더 정확하게는 28 * 28 크기의 정수 행렬 6만 개가 있는 배열\n",
    "# 각 행렬은 하나의 흑백 이미지, 각 원소는 0에서 255 사이의 값을 가짐\n",
    "\n",
    "print(train_images.dtype)"
   ]
  },
  {
   "cell_type": "code",
   "execution_count": 25,
   "metadata": {},
   "outputs": [],
   "source": [
    "# train_images.dtype?"
   ]
  },
  {
   "cell_type": "code",
   "execution_count": 26,
   "metadata": {},
   "outputs": [
    {
     "data": {
      "image/png": "[encoded data removed]",
      "text/plain": [
       "<Figure size 432x288 with 1 Axes>"
      ]
     },
     "metadata": {
      "needs_background": "light"
     },
     "output_type": "display_data"
    }
   ],
   "source": [
    "digit = train_images[4]\n",
    "\n",
    "plt.imshow(digit, cmap=plt.cm.binary)\n",
    "plt.show()"
   ]
  },
  {
   "cell_type": "markdown",
   "metadata": {},
   "source": [
    "#### 2.2.6 numpy로 텐서 조작하기"
   ]
  },
  {
   "cell_type": "code",
   "execution_count": 28,
   "metadata": {},
   "outputs": [
    {
     "name": "stdout",
     "output_type": "stream",
     "text": [
      "(90, 28, 28)\n"
     ]
    }
   ],
   "source": [
    "my_slice = train_images[10:100]\n",
    "print(my_slice.shape)"
   ]
  },
  {
   "cell_type": "code",
   "execution_count": 29,
   "metadata": {},
   "outputs": [
    {
     "data": {
      "text/plain": [
       "(90, 28, 28)"
      ]
     },
     "execution_count": 29,
     "metadata": {},
     "output_type": "execute_result"
    }
   ],
   "source": [
    "train_images[10:100, :, :].shape"
   ]
  },
  {
   "cell_type": "code",
   "execution_count": 30,
   "metadata": {},
   "outputs": [
    {
     "data": {
      "text/plain": [
       "(90, 28, 28)"
      ]
     },
     "execution_count": 30,
     "metadata": {},
     "output_type": "execute_result"
    }
   ],
   "source": [
    "train_images[10:100, 0:28, 0:28].shape"
   ]
  },
  {
   "cell_type": "markdown",
   "metadata": {},
   "source": [
    "#### 2.2.7 배치 데이터\n",
    "\n",
    "일반적으로 딥러닝에서 사용하는 모든 데이터 텐서의 첫 번째 축은 샘플 축(sample axis)이다.\n",
    "- 딥러닝 모델은 한 번에 전체 데이터셋을 처리 하지 않음\n",
    "- 그 대신 데이터를 작은 배치(batch)로 나눔\n",
    "- 구체적으로 MNIST 숫자 데이터에서 크기가 128인 배치 하나는 다음과 같다."
   ]
  },
  {
   "cell_type": "code",
   "execution_count": 33,
   "metadata": {},
   "outputs": [],
   "source": [
    "batch_one = train_images[:128]"
   ]
  },
  {
   "cell_type": "code",
   "execution_count": 34,
   "metadata": {},
   "outputs": [
    {
     "data": {
      "text/plain": [
       "(128, 28, 28)"
      ]
     },
     "execution_count": 34,
     "metadata": {},
     "output_type": "execute_result"
    }
   ],
   "source": [
    "batch_one.shape"
   ]
  },
  {
   "cell_type": "code",
   "execution_count": 35,
   "metadata": {},
   "outputs": [],
   "source": [
    "batch_two = train_images[128:256]"
   ]
  },
  {
   "cell_type": "markdown",
   "metadata": {},
   "source": [
    "batch_n = train_images[128 * n : 128(n * 1)]"
   ]
  },
  {
   "cell_type": "markdown",
   "metadata": {},
   "source": [
    "- 이런 배치 데이터를 다룰 때는 첫 번째 축을 배치 축 또는 배치 차원이라고 함"
   ]
  },
  {
   "cell_type": "markdown",
   "metadata": {},
   "source": [
    "#### 2.2.8 텐서의 실제 사례\n",
    "- 벡터 데이터 : (samples, features), 2D\n",
    "- 시계열 데이터, sequence 데이터 : (samples, timesteps ,features), 3D\n",
    "- 이미지 데이터 : (samples, height, width, channels), (samples, channels, height, width), 4D\n",
    "- 동영상 데이터 : (samples, frames, height, width, channels) 또는 (samples, frames, channels, height, width), 5D"
   ]
  },
  {
   "cell_type": "markdown",
   "metadata": {},
   "source": [
    "#### 2.2.9 벡터 데이터 ~ 2.2.12 비디오 데이터\n",
    "- 자세한 내용은 책 참조\n",
    "\n",
    "\n",
    "흑백 이지미의 경우 컬러 채널의 차원 크기는 1\n",
    "- 256 * 256 크기의 흑백 이미지에 대한 128개의 배치는 (128, 256, 256, 1)\n",
    "\n",
    "이미지 텐서 크기를 지정하는 방법은 두 가지\n",
    "- channel_last\n",
    "  - 텐서플로우에서 사용\n",
    "- channel_first\n",
    "  - 씨애노에서 사용\n",
    "- keras는 둘 다 지원"
   ]
  },
  {
   "cell_type": "markdown",
   "metadata": {},
   "source": [
    "### 2.3 신경망의 톱니바퀴 : 텐서 연산"
   ]
  },
  {
   "cell_type": "markdown",
   "metadata": {},
   "source": [
    "```python\n",
    "keras.layers.Dense(512, activation='relu')\n",
    "```\n",
    "\n",
    "```bash\n",
    "output = relu(dot(W, input) + b)\n",
    "```\n",
    "\n",
    "- 정리하면 3개의 텐서 연산이 위 수식에 있다.\n",
    "- 입력 텐서와 텐서 W 사이이 dot product\n",
    "- 그 결과를 b와 덧셈\n",
    "- 마지막으로 relu 연산 ( relu(x) 는 max(x, 0)임 )"
   ]
  },
  {
   "cell_type": "markdown",
   "metadata": {},
   "source": [
    "#### 2.3.1 원소별 연산\n",
    "- relu 함수와 덧셈은 원소별 연산. 자세한 코든느 책 잠조"
   ]
  },
  {
   "cell_type": "code",
   "execution_count": null,
   "metadata": {},
   "outputs": [],
   "source": []
  },
  {
   "cell_type": "code",
   "execution_count": null,
   "metadata": {},
   "outputs": [],
   "source": []
  },
  {
   "cell_type": "code",
   "execution_count": null,
   "metadata": {},
   "outputs": [],
   "source": []
  }
 ],
 "metadata": {
  "kernelspec": {
   "display_name": "Python 3",
   "language": "python",
   "name": "python3"
  },
  "language_info": {
   "codemirror_mode": {
    "name": "ipython",
    "version": 3
   },
   "file_extension": ".py",
   "mimetype": "text/x-python",
   "name": "python",
   "nbconvert_exporter": "python",
   "pygments_lexer": "ipython3",
   "version": "3.6.6"
  }
 },
 "nbformat": 4,
 "nbformat_minor": 2
}
