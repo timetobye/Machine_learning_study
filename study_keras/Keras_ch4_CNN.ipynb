{
 "cells": [
  {
   "cell_type": "markdown",
   "metadata": {},
   "source": [
    "### 4.1 CNN 원리"
   ]
  },
  {
   "cell_type": "markdown",
   "metadata": {},
   "source": [
    "### 4.2.1 분류 CNN 모델링"
   ]
  },
  {
   "cell_type": "code",
   "execution_count": 6,
   "metadata": {},
   "outputs": [],
   "source": [
    "import keras\n",
    "from keras import models, layers"
   ]
  },
  {
   "cell_type": "markdown",
   "metadata": {},
   "source": [
    "- Conv2D : 2차원 합성곱을 계산하는 클래스\n",
    "- MaxPooling2D : 2차원 맥스풀링을 계산하는 클래스\n",
    "- Flatten : 다차원의 입력을 1차원의 입력으로 변환하는 클래스"
   ]
  },
  {
   "cell_type": "code",
   "execution_count": 7,
   "metadata": {},
   "outputs": [],
   "source": [
    "# 딥러닝 엔진 직접 제어 가능\n",
    "\n",
    "from keras import backend"
   ]
  },
  {
   "cell_type": "markdown",
   "metadata": {},
   "source": [
    "- 분류 CNN 모델링은 객체지향으로 구성 "
   ]
  },
  {
   "cell_type": "code",
   "execution_count": 10,
   "metadata": {},
   "outputs": [],
   "source": [
    "class model(models.Sequential):\n",
    "    def __init__(self, input_shape, num_classes):\n",
    "        super().__init__()   # 기본 특성을 상속한 부모 함수를 부름 models.Sequential.__init__(self) 와 동일\n",
    "      \n",
    "    \n",
    "        \"\"\"\n",
    "        입력 계층의 형태는 객체의 초기화 변수인 input_shape를 따름\n",
    "        초기화 함수의 입력값이므로 모델의 인스턴스를 만들 때 정해집니다.\n",
    "        합성곱 계층은 input_shape가 2차원 이미지들로 구성된다는 점, RGB로 여러 색상을 표현하기 때문에 input_shape의 길이가 3인 리스트\n",
    "        \"\"\"\n",
    "        self.add(layers.Conv2D(\n",
    "            32, kernel_size=(3,3),\n",
    "            activation='relu',\n",
    "            input_shape=input_shape))\n",
    "\n",
    "        \"\"\"\n",
    "        특이 사항 : 커널 수 64개\n",
    "        MaxPool2D : 합성곱을 한 뒤에 인접한 2 * 2 셀들을 묶어서 가장 큰 값만 내보내는 부속 계층\n",
    "        dropout : 0.25\n",
    "        Flatten : 입력을 벡터로 바꿉니다. 2차원 벡터를 1차원 벡터로 변환 시킵니다.\n",
    "        \"\"\"\n",
    "        self.add(layers.Conv2D(64, (3,3), activation='relu'))\n",
    "        self.add(layers.MaxPool2D(pool_size=(2,2)))\n",
    "        self.add(layers.Dropout(0.25))\n",
    "        self.add(layers.Flatten())\n",
    "\n",
    "\n",
    "        self.add(layers.Dense(128, activation='relu'))\n",
    "        self.add(layers.Dropout(0.5))\n",
    "        self.add(layers.Dense(num_classes, activation='softmax'))\n",
    "\n",
    "\n",
    "        self.compile(\n",
    "            loss=keras.losses.categorical_crossentropy,\n",
    "            optimizer=keras.optimizers.Adadelta(),\n",
    "            metrics=['accuracy']\n",
    "        )"
   ]
  },
  {
   "cell_type": "markdown",
   "metadata": {},
   "source": [
    "### 4.2.2 분류 CNN을 위한 데이터 준비\n",
    "\n",
    "- x_train, x_test : 학습 및 성능 평가에 사용할 필기체 이미지 변수들의 배열\n",
    "- y_train, y_test : 학습과 성능 평가에 사용할 필기체 이미지의 레이블 정보의 배열\n",
    "\n",
    "#### DNN과 CNN의 차이\n",
    "\n",
    "1. 이미지를 벡터화 하지 않고 그대로 사용, 2차원 이미지를 1차원으로 변환하지 않음\n",
    "2. 흑백 이미지의 채널 정보를 처리하려면 추가적인 차원을 이미지 데이터에 포함해야 합니다.\n",
    "  - 컬러 이미지는 RGB색상을 다루는 채널정보가 이미지 데이터에 이미 포함되어 있어 이미지를 나타내는 각 입력 데이터가 3차원으로 구성\n",
    "  - 흑백 이미지는 채널 정보가 존재하지 않아서 입력 데이터의 차원을 하나 더 추가해야 함."
   ]
  },
  {
   "cell_type": "code",
   "execution_count": 11,
   "metadata": {},
   "outputs": [],
   "source": [
    "from keras import datasets"
   ]
  },
  {
   "cell_type": "code",
   "execution_count": 12,
   "metadata": {},
   "outputs": [
    {
     "name": "stdout",
     "output_type": "stream",
     "text": [
      "Downloading data from https://s3.amazonaws.com/img-datasets/mnist.npz\n",
      "11493376/11490434 [==============================] - 31s 3us/step\n"
     ]
    }
   ],
   "source": [
    "(x_train, y_train), (x_test, y_test) = datasets.mnist.load_data()"
   ]
  },
  {
   "cell_type": "markdown",
   "metadata": {},
   "source": [
    "채널은 이미지 배열의 앞 단에 추가되어야 할 수도 있고, 뒷 단에 추가되어야 할 수도 있습니다.\n",
    "- 케라스의 시스템 파라미터인 'image_data_format'으로 지정\n",
    "\n",
    "\n",
    "```python3\n",
    "x_train.reshape(x_train.shape[0], 1, img_rows, img_cols)\n",
    "- 샘플 수, 채널 수, 이미지의 가로 길이, 이미지의 세로 길이로 구성\n",
    "```"
   ]
  },
  {
   "cell_type": "code",
   "execution_count": null,
   "metadata": {},
   "outputs": [],
   "source": [
    "if backend.image_data_format() == 'channels_first':\n",
    "    x_train = x_train.reshape(x_train.shape[0], 1, img_rows, img_cols)\n",
    "    x_test = x_test.reshape(x_test.shape[0], 1, img_rows, img_cols)\n",
    "    input_shape = (1, img_rows, img_cols) # 이미지 정보가 앞에 들어감\n",
    "    \n",
    "else:\n",
    "    x_train = x_train.reshape(x_train.shape[0], img_rows, img_cols, 1)\n",
    "    x_test = x_test.reshape(x_test.shape[0], img_rows, img_cols, 1)\n",
    "    input_shape = (img_rows, img_cols, 1) # 이미지 정보가 끝에 들어감"
   ]
  },
  {
   "cell_type": "markdown",
   "metadata": {},
   "source": [
    "### 4.2.3 학습 효과 분석"
   ]
  },
  {
   "cell_type": "code",
   "execution_count": 14,
   "metadata": {},
   "outputs": [],
   "source": [
    "import matplotlib.pyplot as plt\n",
    "\n",
    "%matplotlib inline"
   ]
  },
  {
   "cell_type": "code",
   "execution_count": 13,
   "metadata": {},
   "outputs": [],
   "source": [
    "def plot_acc(history, title=None):\n",
    "    # summarize history for accuracy\n",
    "    if not isinstance(history, dict):\n",
    "        history = history.history\n",
    "\n",
    "    plt.plot(history['acc'])\n",
    "    plt.plot(history['val_acc'])\n",
    "    if title is not None:\n",
    "        plt.title(title)\n",
    "    plt.ylabel('Accracy')\n",
    "    plt.xlabel('Epoch')\n",
    "    plt.legend(['Training data', 'Validation data'], loc=0)\n",
    "    # plt.show()\n",
    "\n",
    "\n",
    "def plot_loss(history, title=None):\n",
    "    # summarize history for loss\n",
    "    if not isinstance(history, dict):\n",
    "        history = history.history\n",
    "\n",
    "    plt.plot(history['loss'])\n",
    "    plt.plot(history['val_loss'])\n",
    "    if title is not None:\n",
    "        plt.title(title)\n",
    "    plt.ylabel('Loss')\n",
    "    plt.xlabel('Epoch')\n",
    "    plt.legend(['Training data', 'Validation data'], loc=0)\n",
    "    # plt.show()\n"
   ]
  },
  {
   "cell_type": "markdown",
   "metadata": {},
   "source": [
    "### 4.2.4 분류 CNN 학습 및 성능 평가"
   ]
  },
  {
   "cell_type": "code",
   "execution_count": 17,
   "metadata": {},
   "outputs": [],
   "source": [
    "import keras\n",
    "import matplotlib.pyplot as plt\n",
    "from keras import models, layers\n",
    "from keras import backend\n",
    "from keras import datasets\n",
    "\n",
    "%matplotlib inline"
   ]
  },
  {
   "cell_type": "code",
   "execution_count": 23,
   "metadata": {},
   "outputs": [],
   "source": [
    "# 분류 CNN 모델링\n",
    "\n",
    "class CNN(models.Sequential):\n",
    "    def __init__(self, input_shape, num_classes):\n",
    "        super().__init__()\n",
    "\n",
    "        self.add(layers.Conv2D(\n",
    "            32, kernel_size=(3,3),\n",
    "            activation='relu',\n",
    "            input_shape=input_shape))\n",
    "\n",
    "        self.add(layers.Conv2D(64, (3,3), activation='relu'))\n",
    "        self.add(layers.MaxPool2D(pool_size=(2,2)))\n",
    "        self.add(layers.Dropout(0.25))\n",
    "        self.add(layers.Flatten())\n",
    "\n",
    "        self.add(layers.Dense(128, activation='relu'))\n",
    "        self.add(layers.Dropout(0.5))\n",
    "        self.add(layers.Dense(num_classes, activation='softmax'))\n",
    "\n",
    "        self.compile(\n",
    "            loss=keras.losses.categorical_crossentropy,\n",
    "            optimizer='rmsprop',\n",
    "            metrics=['accuracy']\n",
    "        )\n",
    "        \n",
    "# 분류 CNN을 위한 데이터 준비\n",
    "\n",
    "class DATA():\n",
    "    def __init__(self):\n",
    "        num_classes = 10\n",
    "        \n",
    "        (x_train, y_train), (x_test, y_test) = datasets.mnist.load_data()\n",
    "        \n",
    "        img_rows, img_cols = x_train.shape[1:]\n",
    "        \n",
    "        \n",
    "        if backend.image_data_format() == 'channels_first':\n",
    "            x_train = x_train.reshape(x_train.shape[0], 1, img_rows, img_cols)\n",
    "            x_test = x_test.reshape(x_test.shape[0], 1, img_rows, img_cols)\n",
    "            input_shape = (1, img_rows, img_cols) # 이미지 정보가 앞에 들어감\n",
    "    \n",
    "        else:\n",
    "            x_train = x_train.reshape(x_train.shape[0], img_rows, img_cols, 1)\n",
    "            x_test = x_test.reshape(x_test.shape[0], img_rows, img_cols, 1)\n",
    "            input_shape = (img_rows, img_cols, 1) # 이미지 정보가 끝에 들어감\n",
    "            \n",
    "        x_train = x_train.astype('float32')\n",
    "        x_test = x_test.astype('float32')\n",
    "        \n",
    "        x_train /= 255\n",
    "        x_test /= 255\n",
    "        \n",
    "        \"\"\"\n",
    "        to_categorical\n",
    "            keras.utils.to_categorical(y, num_classes=None, dtype='float32')\n",
    "            Converts a class vector (integers) to binary class matrix.\n",
    "\n",
    "            E.g. for use with categorical_crossentropy.\n",
    "\n",
    "            Arguments\n",
    "\n",
    "            y: class vector to be converted into a matrix (integers from 0 to num_classes).\n",
    "            num_classes: total number of classes.\n",
    "            dtype: The data type expected by the input, as a string (float32, float64, int32...)\n",
    "            Returns\n",
    "\n",
    "            A binary matrix representation of the input. The classes axis is placed last.\n",
    "        \"\"\"\n",
    "        \n",
    "        y_train = keras.utils.to_categorical(y_train, num_classes)\n",
    "        y_test = keras.utils.to_categorical(y_test, num_classes)\n",
    "        \n",
    "        self.input_shape = input_shape\n",
    "        self.num_classes = num_classes\n",
    "        self.x_train, self.y_train = x_train, y_train\n",
    "        self.x_test, self.y_test = x_test, y_test"
   ]
  },
  {
   "cell_type": "code",
   "execution_count": 25,
   "metadata": {},
   "outputs": [
    {
     "name": "stdout",
     "output_type": "stream",
     "text": [
      "Train on 48000 samples, validate on 12000 samples\n",
      "Epoch 1/10\n",
      "48000/48000 [==============================] - 71s 1ms/step - loss: 0.1894 - acc: 0.9442 - val_loss: 0.0710 - val_acc: 0.9784\n",
      "Epoch 2/10\n",
      "48000/48000 [==============================] - 71s 1ms/step - loss: 0.0956 - acc: 0.9732 - val_loss: 0.0683 - val_acc: 0.9804\n",
      "Epoch 3/10\n",
      "48000/48000 [==============================] - 70s 1ms/step - loss: 0.0927 - acc: 0.9742 - val_loss: 0.0592 - val_acc: 0.9838\n",
      "Epoch 4/10\n",
      "48000/48000 [==============================] - 71s 1ms/step - loss: 0.0961 - acc: 0.9736 - val_loss: 0.0602 - val_acc: 0.9828\n",
      "Epoch 5/10\n",
      "48000/48000 [==============================] - 73s 2ms/step - loss: 0.1039 - acc: 0.9724 - val_loss: 0.0602 - val_acc: 0.9842\n",
      "Epoch 6/10\n",
      "48000/48000 [==============================] - 73s 2ms/step - loss: 0.1073 - acc: 0.9709 - val_loss: 0.0660 - val_acc: 0.9832\n",
      "Epoch 7/10\n",
      "48000/48000 [==============================] - 73s 2ms/step - loss: 0.1114 - acc: 0.9711 - val_loss: 0.0664 - val_acc: 0.9825\n",
      "Epoch 8/10\n",
      "48000/48000 [==============================] - 72s 1ms/step - loss: 0.1174 - acc: 0.9696 - val_loss: 0.0862 - val_acc: 0.9791\n",
      "Epoch 9/10\n",
      "48000/48000 [==============================] - 71s 1ms/step - loss: 0.1252 - acc: 0.9682 - val_loss: 0.0698 - val_acc: 0.9827\n",
      "Epoch 10/10\n",
      "48000/48000 [==============================] - 73s 2ms/step - loss: 0.1267 - acc: 0.9678 - val_loss: 0.0658 - val_acc: 0.9826\n",
      "10000/10000 [==============================] - 3s 251us/step\n",
      "\n",
      "Test loss: 0.05857148541940842\n",
      "Test accuracy: 0.9837\n"
     ]
    },
    {
     "data": {
      "image/png": "[encoded data removed]",
      "text/plain": [
       "<Figure size 432x288 with 1 Axes>"
      ]
     },
     "metadata": {
      "needs_background": "light"
     },
     "output_type": "display_data"
    },
    {
     "data": {
      "image/png": "[encoded data removed]",
      "text/plain": [
       "<Figure size 432x288 with 1 Axes>"
      ]
     },
     "metadata": {
      "needs_background": "light"
     },
     "output_type": "display_data"
    }
   ],
   "source": [
    "# 분류 CNN 학습 및 성능 평가\n",
    "\n",
    "def main():\n",
    "    batch_size = 20\n",
    "    epochs = 10\n",
    "    \n",
    "    data = DATA()\n",
    "    model = CNN(data.input_shape, data.num_classes)\n",
    "    \n",
    "    history = model.fit(\n",
    "        data.x_train,\n",
    "        data.y_train,\n",
    "        epochs=epochs,\n",
    "        batch_size=batch_size,\n",
    "        validation_split=0.2\n",
    "    )\n",
    "    \n",
    "    score = model.evaluate(data.x_test, data.y_test)\n",
    "    print()\n",
    "    print('Test loss:', score[0])\n",
    "    print('Test accuracy:', score[1])\n",
    "\n",
    "    plot_loss(history)\n",
    "    plt.show()\n",
    "    plot_acc(history)\n",
    "    plt.show()\n",
    "    \n",
    "\n",
    "if __name__ == '__main__':\n",
    "    main()"
   ]
  },
  {
   "cell_type": "markdown",
   "metadata": {},
   "source": [
    "---------------------"
   ]
  },
  {
   "cell_type": "markdown",
   "metadata": {},
   "source": [
    "### 4.3 분류 CNN 학습 및 성능 평가\n",
    "\n",
    "1. 분류 CNN 패키지 임포트\n",
    "2. 분류 CNN 모델링\n",
    "3. 분류 CNN을 위한 데이터 준비\n",
    "4. 분류 CNN의 학습 및 성능 평가를 위한 머신 클래스\n",
    "5. 분류 CNN의 수행"
   ]
  },
  {
   "cell_type": "markdown",
   "metadata": {},
   "source": [
    "### 4.3.1 분류 CNN 패키지 임포트"
   ]
  },
  {
   "cell_type": "code",
   "execution_count": 29,
   "metadata": {},
   "outputs": [],
   "source": [
    "import numpy as np\n",
    "import matplotlib.pyplot as plt\n",
    "import os\n",
    "from sklearn import model_selection, metrics\n",
    "from sklearn.preprocessing import MinMaxScaler\n",
    "from keras import backend as K\n",
    "from keras.utils import np_utils\n",
    "from keras.models import Model\n",
    "from keras.layers import Input, Conv2D, MaxPooling2D, Flatten, Dense, Dropout\n",
    "from kerasapp import skeras # 학습 곡선을 그리는 plot_loss(), plot_acc()를 모아 둔 파일\n",
    "from kerasapp import sfile # 학습 결과 저장하는 함수"
   ]
  },
  {
   "cell_type": "markdown",
   "metadata": {},
   "source": [
    "### 4.3.2 분류 CNN 모델링\n",
    "\n",
    "\n",
    "#### LeNet\n",
    "- LeNet 신경망은 레콘 교수 팀에서 만든 합성곱 방식 인공신경망\n",
    "- 합성곱 계층 두 개와 완전 연결 계층 하나로 구성"
   ]
  },
  {
   "cell_type": "code",
   "execution_count": 31,
   "metadata": {},
   "outputs": [],
   "source": [
    "# CNN은 모델의 일종이므로 케라스의 Model 클래스를 상속해서 만들었음\n",
    "\n",
    "class CNN(Model):\n",
    "    def __init__(model, nb_classes, in_shape=None):\n",
    "        model.nb_classes = nb_classes\n",
    "        model.in_shape = in_shape\n",
    "        model.build_model() # 모델 만들기\n",
    "        super().__init__(model.x, model.y)\n",
    "        model.compile()\n",
    "        \n",
    "    def build_model(model):\n",
    "        nb_classes = model.nb_classes\n",
    "        in_shape = model.in_shape\n",
    "        \n",
    "        \n",
    "        \"\"\"\n",
    "        주어진 입력 이미지으 ㅣ크기를 처리하는 입력 계층을 정의\n",
    "        그 다음은 완전 연결 계층으로 구성된 은닉 계층 두 개를 정의\n",
    "        두 은닉 계층 모두 (3, 3) 크기로 구성된 합성곱 필터를 사용\n",
    "        \"\"\"\n",
    "        x = Input(in_shape)\n",
    "        h = Conv2D(\n",
    "            32, \n",
    "            kernel_size=(3, 3), \n",
    "            activation='relu',\n",
    "            input_shape=in_shape)(x)\n",
    "        \n",
    "        h = Conv2D(\n",
    "            64,\n",
    "            (3, 3),\n",
    "            activation='relu')(h)\n",
    "        \n",
    "        \"\"\"\n",
    "        합성곱 계층의 처리 결과를 완전 연결 계층으로 보내기 위해 3차원 텐서를 1차원 벡터로 바꾸는 Flatten 작업\n",
    "        맥스풀링 작업이 마치고 나면 입력 크기가 가로 세로 두 축으로 각각 반씩 줄어듭니다.\n",
    "        여기까지 작업 한 것이 합성곱 계층의 출력임을 변수 z_c1을 사용해서 저장\n",
    "        이렇게 해두면 x와 z_c1 사이의 모델을 만들면 추후 합성곱 계층을 지난 결과를 별도로 분석 할 수 있음\n",
    "        \"\"\"\n",
    "        h = MaxPooling2D(pool_size=(2,2))(h)\n",
    "        h = Dropout(0.25)(h)\n",
    "        h = Flatten()(h)\n",
    "        z_c1 = h\n",
    "        \n",
    "        \"\"\"\n",
    "        완전 연결 계층은 128개 노드로 구성되었으며, Relu를 활성화 함수로 사용\n",
    "        출력 계층으로 나가기 전의 완전 연결 계층 출력도 별도로 저장, z_f1 = h\n",
    "        \"\"\"\n",
    "        h = Dense(128, activation='relu')(h)\n",
    "        h = Dropout(0.5)(h)\n",
    "        z_f1 = h\n",
    "        \n",
    "        \"\"\"\n",
    "        출력 계층을 nb_classes에 해당하는 만큼의 노드 수로 구성, 활성화 함수 소프트맥스로 지정\n",
    "        z_c1, z_f1을 이용해 부가적인 2가지 모델 생성\n",
    "        또한 본 모델을 만들 수 있도록 입력과 출력을 멤버 변수로 정의\n",
    "        \"\"\"\n",
    "        y = Dense(nb_classes, activation='softmax', name='preds')(h)\n",
    "        \n",
    "        model.c1_part = Model(x, z_c1)\n",
    "        model.f1_part = Model(x, z_f1)\n",
    "        \n",
    "        model.x, model.y = x, y\n",
    "        \n",
    "    def compile(model):\n",
    "        Model.compile(\n",
    "            model,\n",
    "            loss='categorical_crossentropy',\n",
    "            optimizer='adadelta',\n",
    "            metrics=['accuracy']\n",
    "        )"
   ]
  },
  {
   "cell_type": "markdown",
   "metadata": {},
   "source": [
    "### 4.3.3 분류 CNN을 위한 데이터 준비"
   ]
  },
  {
   "cell_type": "code",
   "execution_count": 42,
   "metadata": {},
   "outputs": [],
   "source": [
    "class Dataset():\n",
    "    def __init__(self, X, y, nb_classes, scaling=True, test_size=0.2, random_state=0):\n",
    "        \"\"\"\n",
    "        X is originally vector. Hence, it will be transformed to 2D images with a channel.\n",
    "        \"\"\"\n",
    "        \n",
    "        self.X = X\n",
    "        self.add_channels()\n",
    "        \n",
    "        \n",
    "        X = self.X\n",
    "        # the data, shuffled and split between train and test sets\n",
    "        \n",
    "        X_train, X_test, y_train, y_test = model_selection.train_test_split(X, y, test_size=0.2, random_state=random_state)\n",
    "        \n",
    "        print(X_train.shape, y_train.shape)\n",
    "        \n",
    "        X_train = X_train.astype('float32')\n",
    "        X_test = X_test.astype('float32')\n",
    "        \n",
    "        if scaling:\n",
    "            # scaling to have (0, 1) for each feature(each pixel)\n",
    "            \n",
    "            scaler = MinMaxScaler()\n",
    "            n = X_train.shape[0]\n",
    "            \n",
    "            X_train = scaler.fit_transform(\n",
    "                X_train.reshape(n, -1)).reshape(X_train.shape)\n",
    "            \n",
    "            n = X_test.shape[0]\n",
    "            X_test = scaler.transform(\n",
    "                X_test.reshape(n, -1)).reshape(X_test.shape)\n",
    "            \n",
    "            self.scaler = scaler\n",
    "            \n",
    "        print('X_train shape:', X_train.shape)\n",
    "        print(X_train.shape[0], 'train samples')\n",
    "        print(X_test.shape[0], 'test samples')\n",
    "        \n",
    "        # convert class vectors to binary class matrices\n",
    "        \n",
    "        Y_train = np_utils.to_categorical(y_train, nb_classes)\n",
    "        Y_test = np_utils.to_categorical(y_test, nb_classes)\n",
    "        \n",
    "        self.X_train, self.X_test = X_train, X_test\n",
    "        self.Y_train, self.Y_test = Y_train, Y_test\n",
    "        self.y_train, self.y_test = y_train, y_test\n",
    "        \n",
    "    def add_channels(self):\n",
    "        X = self.X\n",
    "        \n",
    "        if len(X.shape) == 3:\n",
    "            N, img_rows, img_cols = X.shape\n",
    "            \n",
    "            if K.image_dim_ordering == 'th':\n",
    "                X = X.reshape(X.shape[0], 1, img_rows, img_cols)\n",
    "                input_shape = (1, img_rows, img_cols)\n",
    "            else:\n",
    "                X = X.reshape(X.shape[0], img_rows, img_cols, 1)\n",
    "                input_shape = (img_rows, img_cols, 1)\n",
    "        else:\n",
    "            input_shape = X.shape[1:] # channel is already included\n",
    "            \n",
    "        self.X = X\n",
    "        self.input_shape = input_shape"
   ]
  },
  {
   "cell_type": "code",
   "execution_count": null,
   "metadata": {},
   "outputs": [],
   "source": []
  },
  {
   "cell_type": "code",
   "execution_count": null,
   "metadata": {},
   "outputs": [],
   "source": []
  }
 ],
 "metadata": {
  "kernelspec": {
   "display_name": "Python 3",
   "language": "python",
   "name": "python3"
  },
  "language_info": {
   "codemirror_mode": {
    "name": "ipython",
    "version": 3
   },
   "file_extension": ".py",
   "mimetype": "text/x-python",
   "name": "python",
   "nbconvert_exporter": "python",
   "pygments_lexer": "ipython3",
   "version": "3.7.3"
  }
 },
 "nbformat": 4,
 "nbformat_minor": 2
}
