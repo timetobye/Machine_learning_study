{
 "cells": [
  {
   "cell_type": "markdown",
   "metadata": {},
   "source": [
    "ch1. 케라스 시작하기\n",
    "------"
   ]
  },
  {
   "cell_type": "markdown",
   "metadata": {},
   "source": [
    "## 1.1 케라스 설치\n",
    "\n",
    "- **!pip install keras==2.0.5**\n",
    "- 책은 keras 2.0.5를 기준으로 설명됨\n",
    "- 학습은 macOS high sierra 환경에서 docker로 jupyter를 실행시켜서 하였음\n",
    "- 1.3 이전까지 내용 생략"
   ]
  },
  {
   "cell_type": "markdown",
   "metadata": {},
   "source": [
    "## 1.3 케라스 사용"
   ]
  },
  {
   "cell_type": "markdown",
   "metadata": {},
   "source": [
    "#### 1.3.1 실습 내용 소개\n",
    "\n",
    "- 간단한 예측 실습\n",
    "- 단순 선형 예측 모델"
   ]
  },
  {
   "cell_type": "markdown",
   "metadata": {},
   "source": [
    "#### 1.3.2 텍스트 모드 실습"
   ]
  },
  {
   "cell_type": "code",
   "execution_count": 1,
   "metadata": {},
   "outputs": [
    {
     "name": "stderr",
     "output_type": "stream",
     "text": [
      "Using TensorFlow backend.\n"
     ]
    }
   ],
   "source": [
    "import keras\n",
    "import numpy as np"
   ]
  },
  {
   "cell_type": "code",
   "execution_count": 2,
   "metadata": {},
   "outputs": [],
   "source": [
    "x = np.array([0, 1, 2, 3, 4])\n",
    "y = x * 2 + 1"
   ]
  },
  {
   "cell_type": "code",
   "execution_count": 3,
   "metadata": {},
   "outputs": [
    {
     "name": "stdout",
     "output_type": "stream",
     "text": [
      "[0 1 2 3 4] [1 3 5 7 9]\n"
     ]
    }
   ],
   "source": [
    "print(x, y)"
   ]
  },
  {
   "cell_type": "markdown",
   "metadata": {},
   "source": [
    "- 구성할 인공신경망은 **가중치 하나**와 **편향값** 하나를 가지는 매우 간단한 모델\n",
    "- 입력 계층(1개 노드) -> 완전 연결 계층(1개 노드) -> 출력 계층(1개 노드)\n",
    "  - 완전 연결 계층(fully connected or dense layer)\n",
    "  - 입력 벡터에 가중치 벡터를 내적하고 편향값을 빼주는 동작을 함\n",
    "\n",
    "**구현**\n",
    "- 케라스의 서브패키지인 models와 layers사용\n",
    "- models\n",
    "  - 신경망의 각 계층을 연결하여 하나의 모델을 만든 후 컴파일, 학습, 예측을 담당\n",
    "- layers\n",
    "  - 신경망의 각 계층을 만드는 클래스들을 제공\n",
    "  - 여기서는 가장 기본이 되는 Dense 클래스를 사용\n",
    "- models.Sequential() 을 사용해서 모델을 만듬을 알림"
   ]
  },
  {
   "cell_type": "code",
   "execution_count": 4,
   "metadata": {},
   "outputs": [],
   "source": [
    "# model이라는 인스턴스 생성\n",
    "model = keras.models.Sequential()\n",
    "\n",
    "# 계층 추가\n",
    "model.add(keras.layers.Dense(1, input_shape=(1,)))"
   ]
  },
  {
   "cell_type": "markdown",
   "metadata": {},
   "source": [
    "- 추가한 인공지능 계층은 입력 노드 하나와 가중치 하나를 가지는 선형 처리 계층\n",
    "- 내부적으로 계층은 편향값을 가지고 있으므로 미지수 둘을 포함하는 셈\n",
    "- 만든 모델을 어떻게 학습할지 파라미터로 지정하고 컴파일"
   ]
  },
  {
   "cell_type": "code",
   "execution_count": 10,
   "metadata": {},
   "outputs": [],
   "source": [
    "model.compile(optimizer='SGD', loss='mse')"
   ]
  },
  {
   "cell_type": "markdown",
   "metadata": {},
   "source": [
    "- 컴파일 : 모델 파라미터를 통해 모델 구조를 생성하는 단계를 의미\n",
    "  - SGD : 확률적 경사 하강법, stochastic gradient descent\n",
    "  - mse : loss function의 한 종류, 평균제곱오차(mean square error)"
   ]
  },
  {
   "cell_type": "code",
   "execution_count": 9,
   "metadata": {},
   "outputs": [
    {
     "data": {
      "text/plain": [
       "\u001b[0;31mSignature:\u001b[0m\n",
       "\u001b[0mmodel\u001b[0m\u001b[0;34m.\u001b[0m\u001b[0mcompile\u001b[0m\u001b[0;34m(\u001b[0m\u001b[0;34m\u001b[0m\n",
       "\u001b[0;34m\u001b[0m    \u001b[0moptimizer\u001b[0m\u001b[0;34m,\u001b[0m\u001b[0;34m\u001b[0m\n",
       "\u001b[0;34m\u001b[0m    \u001b[0mloss\u001b[0m\u001b[0;34m=\u001b[0m\u001b[0;32mNone\u001b[0m\u001b[0;34m,\u001b[0m\u001b[0;34m\u001b[0m\n",
       "\u001b[0;34m\u001b[0m    \u001b[0mmetrics\u001b[0m\u001b[0;34m=\u001b[0m\u001b[0;32mNone\u001b[0m\u001b[0;34m,\u001b[0m\u001b[0;34m\u001b[0m\n",
       "\u001b[0;34m\u001b[0m    \u001b[0mloss_weights\u001b[0m\u001b[0;34m=\u001b[0m\u001b[0;32mNone\u001b[0m\u001b[0;34m,\u001b[0m\u001b[0;34m\u001b[0m\n",
       "\u001b[0;34m\u001b[0m    \u001b[0msample_weight_mode\u001b[0m\u001b[0;34m=\u001b[0m\u001b[0;32mNone\u001b[0m\u001b[0;34m,\u001b[0m\u001b[0;34m\u001b[0m\n",
       "\u001b[0;34m\u001b[0m    \u001b[0mweighted_metrics\u001b[0m\u001b[0;34m=\u001b[0m\u001b[0;32mNone\u001b[0m\u001b[0;34m,\u001b[0m\u001b[0;34m\u001b[0m\n",
       "\u001b[0;34m\u001b[0m    \u001b[0mtarget_tensors\u001b[0m\u001b[0;34m=\u001b[0m\u001b[0;32mNone\u001b[0m\u001b[0;34m,\u001b[0m\u001b[0;34m\u001b[0m\n",
       "\u001b[0;34m\u001b[0m    \u001b[0;34m**\u001b[0m\u001b[0mkwargs\u001b[0m\u001b[0;34m,\u001b[0m\u001b[0;34m\u001b[0m\n",
       "\u001b[0;34m\u001b[0m\u001b[0;34m)\u001b[0m\u001b[0;34m\u001b[0m\u001b[0m\n",
       "\u001b[0;31mDocstring:\u001b[0m\n",
       "Configures the model for training.\n",
       "\n",
       "# Arguments\n",
       "    optimizer: String (name of optimizer) or optimizer instance.\n",
       "        See [optimizers](/optimizers).\n",
       "    loss: String (name of objective function) or objective function.\n",
       "        See [losses](/losses).\n",
       "        If the model has multiple outputs, you can use a different loss\n",
       "        on each output by passing a dictionary or a list of losses.\n",
       "        The loss value that will be minimized by the model\n",
       "        will then be the sum of all individual losses.\n",
       "    metrics: List of metrics to be evaluated by the model\n",
       "        during training and testing.\n",
       "        Typically you will use `metrics=['accuracy']`.\n",
       "        To specify different metrics for different outputs of a\n",
       "        multi-output model, you could also pass a dictionary,\n",
       "        such as `metrics={'output_a': 'accuracy'}`.\n",
       "    loss_weights: Optional list or dictionary specifying scalar\n",
       "        coefficients (Python floats) to weight the loss contributions\n",
       "        of different model outputs.\n",
       "        The loss value that will be minimized by the model\n",
       "        will then be the *weighted sum* of all individual losses,\n",
       "        weighted by the `loss_weights` coefficients.\n",
       "        If a list, it is expected to have a 1:1 mapping\n",
       "        to the model's outputs. If a tensor, it is expected to map\n",
       "        output names (strings) to scalar coefficients.\n",
       "    sample_weight_mode: If you need to do timestep-wise\n",
       "        sample weighting (2D weights), set this to `\"temporal\"`.\n",
       "        `None` defaults to sample-wise weights (1D).\n",
       "        If the model has multiple outputs, you can use a different\n",
       "        `sample_weight_mode` on each output by passing a\n",
       "        dictionary or a list of modes.\n",
       "    weighted_metrics: List of metrics to be evaluated and weighted\n",
       "        by sample_weight or class_weight during training and testing.\n",
       "    target_tensors: By default, Keras will create placeholders for the\n",
       "        model's target, which will be fed with the target data during\n",
       "        training. If instead you would like to use your own\n",
       "        target tensors (in turn, Keras will not expect external\n",
       "        Numpy data for these targets at training time), you\n",
       "        can specify them via the `target_tensors` argument. It can be\n",
       "        a single tensor (for a single-output model), a list of tensors,\n",
       "        or a dict mapping output names to target tensors.\n",
       "    **kwargs: When using the Theano/CNTK backends, these arguments\n",
       "        are passed into `K.function`.\n",
       "        When using the TensorFlow backend,\n",
       "        these arguments are passed into `tf.Session.run`.\n",
       "\n",
       "# Raises\n",
       "    ValueError: In case of invalid arguments for\n",
       "        `optimizer`, `loss`, `metrics` or `sample_weight_mode`.\n",
       "\u001b[0;31mFile:\u001b[0m      ~/anaconda3/lib/python3.6/site-packages/keras/engine/training.py\n",
       "\u001b[0;31mType:\u001b[0m      method\n"
      ]
     },
     "metadata": {},
     "output_type": "display_data"
    }
   ],
   "source": [
    "# keras.models.Sequential?\n",
    "# model.add?\n",
    "model.compile?"
   ]
  },
  {
   "cell_type": "code",
   "execution_count": 11,
   "metadata": {},
   "outputs": [
    {
     "data": {
      "text/plain": [
       "<keras.callbacks.History at 0x12388f5f8>"
      ]
     },
     "execution_count": 11,
     "metadata": {},
     "output_type": "execute_result"
    }
   ],
   "source": [
    "# training\n",
    "# epoch - 학습을 진행하는 총 에포크를 의미, 신경망을 학습할 때 학습 데이터 전체가 사용된 한 회 또는 한 세대\n",
    "\n",
    "model.fit(x[:2], y[:2], epochs=1000, verbose=0)"
   ]
  },
  {
   "cell_type": "code",
   "execution_count": 12,
   "metadata": {},
   "outputs": [
    {
     "data": {
      "text/plain": [
       "\u001b[0;31mSignature:\u001b[0m \u001b[0mmodel\u001b[0m\u001b[0;34m.\u001b[0m\u001b[0mpredict\u001b[0m\u001b[0;34m(\u001b[0m\u001b[0mx\u001b[0m\u001b[0;34m,\u001b[0m \u001b[0mbatch_size\u001b[0m\u001b[0;34m=\u001b[0m\u001b[0;32mNone\u001b[0m\u001b[0;34m,\u001b[0m \u001b[0mverbose\u001b[0m\u001b[0;34m=\u001b[0m\u001b[0;36m0\u001b[0m\u001b[0;34m,\u001b[0m \u001b[0msteps\u001b[0m\u001b[0;34m=\u001b[0m\u001b[0;32mNone\u001b[0m\u001b[0;34m)\u001b[0m\u001b[0;34m\u001b[0m\u001b[0m\n",
       "\u001b[0;31mDocstring:\u001b[0m\n",
       "Generates output predictions for the input samples.\n",
       "\n",
       "Computation is done in batches.\n",
       "\n",
       "# Arguments\n",
       "    x: The input data, as a Numpy array\n",
       "        (or list of Numpy arrays if the model has multiple inputs).\n",
       "    batch_size: Integer. If unspecified, it will default to 32.\n",
       "    verbose: Verbosity mode, 0 or 1.\n",
       "    steps: Total number of steps (batches of samples)\n",
       "        before declaring the prediction round finished.\n",
       "        Ignored with the default value of `None`.\n",
       "\n",
       "# Returns\n",
       "    Numpy array(s) of predictions.\n",
       "\n",
       "# Raises\n",
       "    ValueError: In case of mismatch between the provided\n",
       "        input data and the model's expectations,\n",
       "        or in case a stateful model receives a number of samples\n",
       "        that is not a multiple of the batch size.\n",
       "\u001b[0;31mFile:\u001b[0m      ~/anaconda3/lib/python3.6/site-packages/keras/engine/training.py\n",
       "\u001b[0;31mType:\u001b[0m      method\n"
      ]
     },
     "metadata": {},
     "output_type": "display_data"
    }
   ],
   "source": [
    "model.predict?"
   ]
  },
  {
   "cell_type": "code",
   "execution_count": 13,
   "metadata": {},
   "outputs": [
    {
     "name": "stdout",
     "output_type": "stream",
     "text": [
      "Targets: [5 7 9]\n",
      "Predictions: [4.9811873 6.967574  8.953961 ]\n"
     ]
    }
   ],
   "source": [
    "# model.predict 하면 예측\n",
    "# flatten 을 사용하면 1차원으로 펴줌\n",
    "print('Targets:', y[2:])\n",
    "print('Predictions:', model.predict(x[2:]).flatten())"
   ]
  },
  {
   "cell_type": "code",
   "execution_count": 14,
   "metadata": {},
   "outputs": [
    {
     "name": "stdout",
     "output_type": "stream",
     "text": [
      "Targets: [5 7 9]\n",
      "Predictions: [[5.0034213]\n",
      " [7.0058966]\n",
      " [9.008372 ]]\n"
     ]
    }
   ],
   "source": [
    "print('Targets:', y[2:])\n",
    "print('Predictions:', model.predict(x[2:]))"
   ]
  },
  {
   "cell_type": "code",
   "execution_count": 14,
   "metadata": {},
   "outputs": [
    {
     "name": "stdout",
     "output_type": "stream",
     "text": [
      "[4.9559054 6.9239984 8.892091 ]\n"
     ]
    }
   ],
   "source": [
    "# 전체 코드\n",
    "\n",
    "model = keras.models.Sequential()\n",
    "\n",
    "x = np.array([0, 1, 2, 3, 4])\n",
    "y = x * 2 + 1\n",
    "\n",
    "model.add(keras.layers.Dense(1, input_shape=(1,)))\n",
    "model.compile(optimizer='SGD', loss='mse')\n",
    "\n",
    "model.fit(x[:2], y[:2], epochs=1000, verbose=0)\n",
    "\n",
    "result = model.predict(x[2:])\n",
    "print(result.flatten())"
   ]
  }
 ],
 "metadata": {
  "kernelspec": {
   "display_name": "Python 3",
   "language": "python",
   "name": "python3"
  },
  "language_info": {
   "codemirror_mode": {
    "name": "ipython",
    "version": 3
   },
   "file_extension": ".py",
   "mimetype": "text/x-python",
   "name": "python",
   "nbconvert_exporter": "python",
   "pygments_lexer": "ipython3",
   "version": "3.6.6"
  }
 },
 "nbformat": 4,
 "nbformat_minor": 2
}
