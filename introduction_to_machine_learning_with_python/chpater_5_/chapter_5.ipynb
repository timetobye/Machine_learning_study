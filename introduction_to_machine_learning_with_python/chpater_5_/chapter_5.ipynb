{
 "cells": [
  {
   "cell_type": "markdown",
   "metadata": {},
   "source": [
    "5장 모델 평가\n",
    "------"
   ]
  },
  {
   "cell_type": "code",
   "execution_count": 1,
   "metadata": {},
   "outputs": [],
   "source": [
    "# example code\n",
    "\n",
    "import pandas as pd\n",
    "import numpy as np\n",
    "import matplotlib.pyplot as plt\n",
    "import matplotlib\n",
    "import os\n",
    "import mglearn\n",
    "import warnings\n",
    "from sklearn.datasets import make_blobs\n",
    "from sklearn.linear_model import LogisticRegression\n",
    "from sklearn.model_selection import train_test_split\n",
    "from matplotlib import font_manager, rc\n",
    "warnings.filterwarnings(action='ignore')\n",
    "apple = font_manager.FontProperties(fname = '/Library/Fonts/AppleGothic.ttf').get_name()\n",
    "rc('font', family = apple)\n",
    "matplotlib.rcParams['axes.unicode_minus'] = False\n",
    "\n",
    "%matplotlib inline"
   ]
  },
  {
   "cell_type": "code",
   "execution_count": 2,
   "metadata": {},
   "outputs": [],
   "source": [
    "X, y = make_blobs(random_state=0)"
   ]
  },
  {
   "cell_type": "code",
   "execution_count": 3,
   "metadata": {},
   "outputs": [],
   "source": [
    "X_train, X_test, y_train, y_test = train_test_split(X, y, random_state=0)"
   ]
  },
  {
   "cell_type": "code",
   "execution_count": 4,
   "metadata": {},
   "outputs": [
    {
     "data": {
      "text/plain": [
       "LogisticRegression(C=1.0, class_weight=None, dual=False, fit_intercept=True,\n",
       "          intercept_scaling=1, max_iter=100, multi_class='warn',\n",
       "          n_jobs=None, penalty='l2', random_state=None, solver='warn',\n",
       "          tol=0.0001, verbose=0, warm_start=False)"
      ]
     },
     "execution_count": 4,
     "metadata": {},
     "output_type": "execute_result"
    }
   ],
   "source": [
    "logreg = LogisticRegression()\n",
    "logreg.fit(X_train, y_train)"
   ]
  },
  {
   "cell_type": "code",
   "execution_count": 5,
   "metadata": {},
   "outputs": [
    {
     "data": {
      "text/plain": [
       "0.88"
      ]
     },
     "execution_count": 5,
     "metadata": {},
     "output_type": "execute_result"
    }
   ],
   "source": [
    "# Return the mean accuracy on the given test data and labels.\n",
    "# logreg.score?\n",
    "\n",
    "logreg.score(X_test, y_test)"
   ]
  },
  {
   "cell_type": "markdown",
   "metadata": {},
   "source": [
    "## 5.1 Cross_validation : 교차 검증\n",
    "\n",
    "데이터를 여러 번 반복해서 나누고 여러 모델을 학습\n",
    "- 가장 널리 사용되는 방법은 K-fold cross_validation\n",
    "\n",
    "  \n",
    "  \n",
    "### K-fold cross_validation\n",
    "- k 는 특정 숫자, 보통 5 또는 10을 사용\n",
    "- 데이터를 먼저 fold(폴드) 라고 하는 (거의) 비슷한 크기의 '부분 집합' 다섯 개로 나눔\n",
    "- 그 다음 일련의 모델을 만듬\n",
    "  - 첫 번째 모델은 첫 번째 폴드를 테스트 세트로 사용하고 나머지 폴드를 훈련 세트로 사용하여 학습, 즉 이 모델은 폴드 2~5까지의 데이터를 사용해 만들어지고 폴드 1을 사용해 정확도를 평가\n",
    "  - 두 번쨰 모델은 두 번째 폴드를 테스트 세트로 사용하고 1,3,4,5 폴드를 훈련 데이터로 사용\n",
    "  - 다섯 번의 분할 측정 후 결과를 냄"
   ]
  },
  {
   "cell_type": "code",
   "execution_count": 6,
   "metadata": {},
   "outputs": [],
   "source": [
    "import mglearn"
   ]
  },
  {
   "cell_type": "code",
   "execution_count": 7,
   "metadata": {},
   "outputs": [
    {
     "data": {
      "image/png": "[encoded data removed]",
      "text/plain": [
       "<Figure size 864x144 with 1 Axes>"
      ]
     },
     "metadata": {
      "needs_background": "light"
     },
     "output_type": "display_data"
    }
   ],
   "source": [
    "mglearn.plots.plot_cross_validation()"
   ]
  },
  {
   "cell_type": "markdown",
   "metadata": {},
   "source": [
    "### 5.1.1 scikit-learn의 교차 검증\n",
    "\n",
    "scikit-learn의 교차 검증은 model_selection 모듈의 cross_val_score 함수로 구현됨\n",
    "- 매개변수는 모델과 훈련 데이터, 타깃 레이블"
   ]
  },
  {
   "cell_type": "code",
   "execution_count": 8,
   "metadata": {},
   "outputs": [],
   "source": [
    "from sklearn.model_selection import cross_val_score\n",
    "from sklearn.datasets import load_iris\n",
    "from sklearn.linear_model import LogisticRegression"
   ]
  },
  {
   "cell_type": "code",
   "execution_count": 9,
   "metadata": {},
   "outputs": [
    {
     "name": "stdout",
     "output_type": "stream",
     "text": [
      "cross val socre : [1.         0.96666667 0.93333333 0.9        1.        ]\n"
     ]
    }
   ],
   "source": [
    "iris = load_iris()\n",
    "logreg = LogisticRegression()\n",
    "\n",
    "scores = cross_val_score(logreg, iris.data, iris.target, cv=5)\n",
    "print(f\"cross val socre : {scores}\")"
   ]
  },
  {
   "cell_type": "code",
   "execution_count": 10,
   "metadata": {},
   "outputs": [
    {
     "name": "stdout",
     "output_type": "stream",
     "text": [
      "cross val mean score : 0.9600000000000002\n"
     ]
    }
   ],
   "source": [
    "# 보통 간단하게 나타내려고 평균을 냄\n",
    "\n",
    "print(f\"cross val mean score : {scores.mean()}\")"
   ]
  },
  {
   "cell_type": "code",
   "execution_count": 11,
   "metadata": {},
   "outputs": [
    {
     "data": {
      "text/plain": [
       "{'fit_time': array([0.00078607, 0.00049186, 0.0004859 , 0.00047517, 0.00046015]),\n",
       " 'score_time': array([0.00027585, 0.00016594, 0.00017619, 0.00017786, 0.00017571]),\n",
       " 'test_score': array([1.        , 0.96666667, 0.93333333, 0.9       , 1.        ]),\n",
       " 'train_score': array([0.95      , 0.96666667, 0.96666667, 0.975     , 0.95833333])}"
      ]
     },
     "metadata": {},
     "output_type": "display_data"
    }
   ],
   "source": [
    "# cross_val_score 와 비슷한 결과를 주는데 dict로 리턴함\n",
    "\n",
    "from sklearn.model_selection import cross_validate\n",
    "res = cross_validate(logreg, iris.data, iris.target, cv=5,\n",
    "                     return_train_score=True)\n",
    "display(res)"
   ]
  },
  {
   "cell_type": "code",
   "execution_count": 12,
   "metadata": {},
   "outputs": [
    {
     "data": {
      "text/html": [
       "<div>\n",
       "<style scoped>\n",
       "    .dataframe tbody tr th:only-of-type {\n",
       "        vertical-align: middle;\n",
       "    }\n",
       "\n",
       "    .dataframe tbody tr th {\n",
       "        vertical-align: top;\n",
       "    }\n",
       "\n",
       "    .dataframe thead th {\n",
       "        text-align: right;\n",
       "    }\n",
       "</style>\n",
       "<table border=\"1\" class=\"dataframe\">\n",
       "  <thead>\n",
       "    <tr style=\"text-align: right;\">\n",
       "      <th></th>\n",
       "      <th>fit_time</th>\n",
       "      <th>score_time</th>\n",
       "      <th>test_score</th>\n",
       "      <th>train_score</th>\n",
       "    </tr>\n",
       "  </thead>\n",
       "  <tbody>\n",
       "    <tr>\n",
       "      <th>0</th>\n",
       "      <td>0.000786</td>\n",
       "      <td>0.000276</td>\n",
       "      <td>1.000000</td>\n",
       "      <td>0.950000</td>\n",
       "    </tr>\n",
       "    <tr>\n",
       "      <th>1</th>\n",
       "      <td>0.000492</td>\n",
       "      <td>0.000166</td>\n",
       "      <td>0.966667</td>\n",
       "      <td>0.966667</td>\n",
       "    </tr>\n",
       "    <tr>\n",
       "      <th>2</th>\n",
       "      <td>0.000486</td>\n",
       "      <td>0.000176</td>\n",
       "      <td>0.933333</td>\n",
       "      <td>0.966667</td>\n",
       "    </tr>\n",
       "    <tr>\n",
       "      <th>3</th>\n",
       "      <td>0.000475</td>\n",
       "      <td>0.000178</td>\n",
       "      <td>0.900000</td>\n",
       "      <td>0.975000</td>\n",
       "    </tr>\n",
       "    <tr>\n",
       "      <th>4</th>\n",
       "      <td>0.000460</td>\n",
       "      <td>0.000176</td>\n",
       "      <td>1.000000</td>\n",
       "      <td>0.958333</td>\n",
       "    </tr>\n",
       "  </tbody>\n",
       "</table>\n",
       "</div>"
      ],
      "text/plain": [
       "   fit_time  score_time  test_score  train_score\n",
       "0  0.000786    0.000276    1.000000     0.950000\n",
       "1  0.000492    0.000166    0.966667     0.966667\n",
       "2  0.000486    0.000176    0.933333     0.966667\n",
       "3  0.000475    0.000178    0.900000     0.975000\n",
       "4  0.000460    0.000176    1.000000     0.958333"
      ]
     },
     "metadata": {},
     "output_type": "display_data"
    }
   ],
   "source": [
    "res_df = pd.DataFrame(res)\n",
    "display(res_df)"
   ]
  },
  {
   "cell_type": "code",
   "execution_count": 13,
   "metadata": {},
   "outputs": [
    {
     "data": {
      "text/plain": [
       "fit_time       0.000540\n",
       "score_time     0.000194\n",
       "test_score     0.960000\n",
       "train_score    0.963333\n",
       "dtype: float64"
      ]
     },
     "execution_count": 13,
     "metadata": {},
     "output_type": "execute_result"
    }
   ],
   "source": [
    "res_df.mean()"
   ]
  },
  {
   "cell_type": "markdown",
   "metadata": {},
   "source": [
    "### 5.1.2 교차 검증의 장점\n",
    "\n",
    "**장점**\n",
    "- train_test_split은 무작위로 나눌 경우 운에 의해 데이터 셋이 결정됨(한쪽에 쏠릴 경우도 발생)\n",
    "- 교차검증을 이용하면 테스트 세트에 각 샘플이 정확하게 한 번씩 들어감\n",
    "  - 각 샘플은 폴드 중 하나에 속하며, 각 폴드는 한 번씩 테스트 세트가 됨\n",
    "  - 그렇기 때문에 교차 검증의 점수를 높이기 위해서 모든 샘플에 있는 모델일 일반화가 잘 되어야 함\n",
    "- 데이터를 여러개로 나누다 보면 모델이 train data에 얼마나 민감한지 알 수 있다.\n",
    "  - iris 데이터로 90~100%가 나왔는데 범위가 넒음\n",
    "  - 이를 바탕으로 새로운 데이터를 적용했을 때 최악과 최선의 경우를 짐작할 수 있음\n",
    "- train_test_split처럼 분할을 한 번 하는 것보다 더 효율적으로 데이터를 사용 할 수 있음\n",
    "\n",
    "**단점**\n",
    "- 연산 비용 증가\n",
    "- 대략 모델 개수만큼 느림\n",
    "\n",
    "**Notice**\n",
    "- 교차 검증은 새로운 데이터에 적용할 모델을 만드는 방법이 아니라는 것을 잊지 말아야 함\n",
    "- 교차 검증 함수는 모델을 반환하지 않음\n",
    "- 교차 검증의 목적은 단지 주어진 데이터셋에 학습된 알고리즘이 얼마나 잘 일반화될지 평가하는 것"
   ]
  },
  {
   "cell_type": "markdown",
   "metadata": {},
   "source": [
    "### 5.1.3 계층별 K-겹 교차 검증과 그외 전략들\n",
    "\n",
    "항상 K-fold로 나누는 건 좋지 않다. iris를 보자"
   ]
  },
  {
   "cell_type": "code",
   "execution_count": 14,
   "metadata": {},
   "outputs": [
    {
     "name": "stdout",
     "output_type": "stream",
     "text": [
      "[0 0 0 0 0 0 0 0 0 0 0 0 0 0 0 0 0 0 0 0 0 0 0 0 0 0 0 0 0 0 0 0 0 0 0 0 0\n",
      " 0 0 0 0 0 0 0 0 0 0 0 0 0 1 1 1 1 1 1 1 1 1 1 1 1 1 1 1 1 1 1 1 1 1 1 1 1\n",
      " 1 1 1 1 1 1 1 1 1 1 1 1 1 1 1 1 1 1 1 1 1 1 1 1 1 1 2 2 2 2 2 2 2 2 2 2 2\n",
      " 2 2 2 2 2 2 2 2 2 2 2 2 2 2 2 2 2 2 2 2 2 2 2 2 2 2 2 2 2 2 2 2 2 2 2 2 2\n",
      " 2 2]\n"
     ]
    }
   ],
   "source": [
    "iris = load_iris()\n",
    "print(iris.target)"
   ]
  },
  {
   "cell_type": "markdown",
   "metadata": {},
   "source": [
    "- 1/3은 0 클래스, 1/3은 1 클래스, 나머지 1/3은 2 클래스\n",
    "- 교차 검증을 하면 특정 데이터만 가지게 된다.\n",
    "- 이를 방지하기 위해서는 Stratified k-fold cross-validation(계층별 k-겹 교차 검증)을 사용\n",
    "  - 폴드 안의 클래스 비율이 전체 데이터셋의 클래스 비율과 같도록 데이터를 나눔\n",
    "\n",
    "cross_val_score 함수에서 폴드를 나눌 때...\n",
    "- 분류 : StratifiedKFold 사용\n",
    "- 회귀 : 단순 KFold 사용"
   ]
  },
  {
   "cell_type": "code",
   "execution_count": 15,
   "metadata": {},
   "outputs": [
    {
     "data": {
      "image/png": "[encoded data removed]",
      "text/plain": [
       "<Figure size 864x360 with 2 Axes>"
      ]
     },
     "metadata": {
      "needs_background": "light"
     },
     "output_type": "display_data"
    }
   ],
   "source": [
    "mglearn.plots.plot_stratified_cross_validation()"
   ]
  },
  {
   "cell_type": "markdown",
   "metadata": {},
   "source": [
    "#### 교차 검증 상세 옵션\n",
    "\n",
    "- cv parameter를 이용하여 폴드 개수 조정\n",
    "- 교차 검증 분할기(cross-validation splitter)를 전달함으로써 데이털르 분할할 때 더 세밀하게 제어 가능"
   ]
  },
  {
   "cell_type": "code",
   "execution_count": 16,
   "metadata": {},
   "outputs": [],
   "source": [
    "from sklearn.model_selection import KFold\n",
    "kfold = KFold(n_splits=5)"
   ]
  },
  {
   "cell_type": "code",
   "execution_count": 17,
   "metadata": {},
   "outputs": [
    {
     "name": "stdout",
     "output_type": "stream",
     "text": [
      "Cross-validation scores:\n",
      "[1.         0.93333333 0.43333333 0.96666667 0.43333333]\n"
     ]
    }
   ],
   "source": [
    "print(\"Cross-validation scores:\\n{}\".format(\n",
    "      cross_val_score(logreg, iris.data, iris.target, cv=kfold)))"
   ]
  },
  {
   "cell_type": "code",
   "execution_count": 18,
   "metadata": {},
   "outputs": [
    {
     "name": "stdout",
     "output_type": "stream",
     "text": [
      "Cross-validation scores:\n",
      "[0. 0. 0.]\n"
     ]
    }
   ],
   "source": [
    "kfold = KFold(n_splits=3)\n",
    "print(\"Cross-validation scores:\\n{}\".format(\n",
    "    cross_val_score(logreg, iris.data, iris.target, cv=kfold)))"
   ]
  },
  {
   "cell_type": "code",
   "execution_count": 19,
   "metadata": {},
   "outputs": [
    {
     "name": "stdout",
     "output_type": "stream",
     "text": [
      "Cross-validation scores:\n",
      "[0.9  0.96 0.96]\n"
     ]
    }
   ],
   "source": [
    "# KFold with suffle\n",
    "\n",
    "kfold = KFold(n_splits=3, shuffle=True, random_state=0)\n",
    "print(\"Cross-validation scores:\\n{}\".format(\n",
    "    cross_val_score(logreg, iris.data, iris.target, cv=kfold)))"
   ]
  },
  {
   "cell_type": "markdown",
   "metadata": {},
   "source": [
    "#### LOOCV\n",
    "\n",
    "- Leave-one-out cross-validation\n",
    "- 교차 검증은 폴드 하나에 샘플 하나만 들어 있는 k-겹 교차 검증\n",
    "- 각 반복에서 하나의 데이터 포인트를 선택해 테스트 세트로 사용\n",
    "- 데이터셋이 클 때는 시간이 매우 오래 걸리지만, 작은 데이터셋에서는 이따금 더 좋은 결과를 가져옴"
   ]
  },
  {
   "cell_type": "code",
   "execution_count": 20,
   "metadata": {},
   "outputs": [
    {
     "name": "stdout",
     "output_type": "stream",
     "text": [
      "Number of cv iterations:  150\n",
      "Mean accuracy: 0.95\n"
     ]
    }
   ],
   "source": [
    "from sklearn.model_selection import LeaveOneOut\n",
    "loo = LeaveOneOut()\n",
    "scores = cross_val_score(logreg, iris.data, iris.target, cv=loo)\n",
    "print(\"Number of cv iterations: \", len(scores))\n",
    "print(\"Mean accuracy: {:.2f}\".format(scores.mean()))"
   ]
  },
  {
   "cell_type": "markdown",
   "metadata": {},
   "source": [
    "#### 임의 분할 교차 검증\n",
    "- 입력 예정"
   ]
  },
  {
   "cell_type": "markdown",
   "metadata": {},
   "source": [
    "#### 그룹별 교차 검증\n",
    "- 입력 예정"
   ]
  },
  {
   "cell_type": "markdown",
   "metadata": {},
   "source": [
    "#### 반복 교차 검증\n",
    "- 입력 예정"
   ]
  },
  {
   "cell_type": "markdown",
   "metadata": {},
   "source": [
    "## 5.2 Grid search\n",
    "\n",
    "매개 변수 튜닝\n",
    "- 힘든 작업임\n",
    "- 해야함\n",
    "- 설정된 모든 조합을 해보는 것이라고 이해하면 편함"
   ]
  },
  {
   "cell_type": "markdown",
   "metadata": {},
   "source": [
    "### 5.2.1 간단한 그리드 서치"
   ]
  },
  {
   "cell_type": "code",
   "execution_count": 21,
   "metadata": {},
   "outputs": [
    {
     "name": "stdout",
     "output_type": "stream",
     "text": [
      "Size of training set: 112   size of test set: 38\n",
      "Best score: 0.97\n",
      "Best parameters: {'C': 100, 'gamma': 0.001}\n"
     ]
    }
   ],
   "source": [
    "# simple Grid seasrch\n",
    "\n",
    "from sklearn.svm import SVC\n",
    "\n",
    "X_train, X_test, y_train, y_test = train_test_split(\n",
    "    iris.data, iris.target, random_state=0)\n",
    "print(\"Size of training set: {}   size of test set: {}\".format(\n",
    "      X_train.shape[0], X_test.shape[0]))\n",
    "\n",
    "best_score = 0\n",
    "\n",
    "for gamma in [0.001, 0.01, 0.1, 1, 10, 100]:\n",
    "    for C in [0.001, 0.01, 0.1, 1, 10, 100]:\n",
    "        # for each combination of parameters, train an SVC\n",
    "        svm = SVC(gamma=gamma, C=C)\n",
    "        svm.fit(X_train, y_train)\n",
    "        # evaluate the SVC on the test set\n",
    "        score = svm.score(X_test, y_test)\n",
    "        # if we got a better score, store the score and parameters\n",
    "        if score > best_score:\n",
    "            best_score = score\n",
    "            best_parameters = {'C': C, 'gamma': gamma}\n",
    "\n",
    "print(\"Best score: {:.2f}\".format(best_score))\n",
    "print(\"Best parameters: {}\".format(best_parameters)) "
   ]
  },
  {
   "cell_type": "markdown",
   "metadata": {},
   "source": [
    "### 5.2.2 The danger of overfitting the parameters and the validation set(매개변수 과대적합과 검증 세트)"
   ]
  },
  {
   "cell_type": "markdown",
   "metadata": {},
   "source": [
    "- 위의 결과 모델 정확도가 97%, 오버피팅의 위험성\n",
    "- 이 정확도는 새로운 데이터에까지 이어지지 않을 수 있다.\n",
    "- 매개변수를 조정하기 위해 테스트 세트를 이미 사용했기 때문에 모델이 얼마나 좋은지 펴가하는 데는 더 이상 사용할 수 없다.\n",
    "- 즉, 평가를 위해서는 모델을 만들 때 사용하지 않은 독립된 데이터셋이 필요\n",
    "\n",
    "이를 해결하기 위해..데이터를 다시 나눠서 세 개의 세트로 만들어 이 문제를 해결할 수 있다.\n",
    "- 훈련 세트로 모델을 만들고, 검증(또는 개발) 세트로는 모델의 매개변수를 선택하고, 테스트 세트로는 선택된 매개변수의 성능을 평가"
   ]
  },
  {
   "cell_type": "code",
   "execution_count": 22,
   "metadata": {},
   "outputs": [
    {
     "data": {
      "image/png": "[encoded data removed]",
      "text/plain": [
       "<Figure size 1080x72 with 1 Axes>"
      ]
     },
     "metadata": {
      "needs_background": "light"
     },
     "output_type": "display_data"
    }
   ],
   "source": [
    "mglearn.plots.plot_threefold_split()"
   ]
  },
  {
   "cell_type": "markdown",
   "metadata": {},
   "source": [
    "- 검증 세트를 사용해 최적의 매개변수를 선택한 후, 그 매개변수에서 훈련 세트와 검증 세트 데이터를 모두 이용해 모델을 다시 만듬\n",
    "- 가능한 많은 데이터를 이용하기 위해서이다."
   ]
  },
  {
   "cell_type": "code",
   "execution_count": 23,
   "metadata": {},
   "outputs": [
    {
     "name": "stdout",
     "output_type": "stream",
     "text": [
      "Size of training set: 84   size of validation set: 28   size of test set: 38\n",
      "\n",
      "Best score on validation set: 0.96\n",
      "Best parameters:  {'C': 10, 'gamma': 0.001}\n",
      "Test set score with best parameters: 0.92\n"
     ]
    }
   ],
   "source": [
    "from sklearn.svm import SVC\n",
    "# split data into train+validation set and test set\n",
    "X_trainval, X_test, y_trainval, y_test = train_test_split(\n",
    "    iris.data, iris.target, random_state=0)\n",
    "# split train+validation set into training and validation sets\n",
    "X_train, X_valid, y_train, y_valid = train_test_split(\n",
    "    X_trainval, y_trainval, random_state=1)\n",
    "print(\"Size of training set: {}   size of validation set: {}   size of test set:\"\n",
    "      \" {}\\n\".format(X_train.shape[0], X_valid.shape[0], X_test.shape[0]))\n",
    "\n",
    "best_score = 0\n",
    "\n",
    "for gamma in [0.001, 0.01, 0.1, 1, 10, 100]:\n",
    "    for C in [0.001, 0.01, 0.1, 1, 10, 100]:\n",
    "        # for each combination of parameters, train an SVC\n",
    "        svm = SVC(gamma=gamma, C=C)\n",
    "        svm.fit(X_train, y_train)\n",
    "        \n",
    "        # evaluate the SVC on the validation set\n",
    "        score = svm.score(X_valid, y_valid)\n",
    "        \n",
    "        # if we got a better score, store the score and parameters\n",
    "        if score > best_score:\n",
    "            best_score = score\n",
    "            best_parameters = {'C': C, 'gamma': gamma}\n",
    "\n",
    "# rebuild a model on the combined training and validation set,\n",
    "# and evaluate it on the test set\n",
    "svm = SVC(**best_parameters)\n",
    "svm.fit(X_trainval, y_trainval)\n",
    "test_score = svm.score(X_test, y_test)\n",
    "print(\"Best score on validation set: {:.2f}\".format(best_score))\n",
    "print(\"Best parameters: \", best_parameters)\n",
    "print(\"Test set score with best parameters: {:.2f}\".format(test_score))"
   ]
  },
  {
   "cell_type": "markdown",
   "metadata": {},
   "source": [
    "### 5.2.3 교차 검증을 사용한 그리드 서치"
   ]
  },
  {
   "cell_type": "code",
   "execution_count": 24,
   "metadata": {},
   "outputs": [
    {
     "data": {
      "text/plain": [
       "SVC(C=100, cache_size=200, class_weight=None, coef0=0.0,\n",
       "  decision_function_shape='ovr', degree=3, gamma=0.01, kernel='rbf',\n",
       "  max_iter=-1, probability=False, random_state=None, shrinking=True,\n",
       "  tol=0.001, verbose=False)"
      ]
     },
     "execution_count": 24,
     "metadata": {},
     "output_type": "execute_result"
    }
   ],
   "source": [
    "for gamma in [0.001, 0.01, 0.1, 1, 10, 100]:\n",
    "    for C in [0.001, 0.01, 0.1, 1, 10, 100]:\n",
    "        # for each combination of parameters,\n",
    "        # train an SVC\n",
    "        svm = SVC(gamma=gamma, C=C)\n",
    "        \n",
    "        # perform cross-validation\n",
    "        scores = cross_val_score(svm, X_trainval, y_trainval, cv=5)\n",
    "        \n",
    "        # compute mean cross-validation accuracy\n",
    "        score = np.mean(scores)\n",
    "        \n",
    "        # if we got a better score, store the score and parameters\n",
    "        if score > best_score:\n",
    "            best_score = score\n",
    "            best_parameters = {'C': C, 'gamma': gamma}\n",
    "# rebuild a model on the combined training and validation set\n",
    "svm = SVC(**best_parameters)\n",
    "svm.fit(X_trainval, y_trainval)"
   ]
  },
  {
   "cell_type": "code",
   "execution_count": 25,
   "metadata": {},
   "outputs": [],
   "source": [
    "kfold = KFold(n_splits=10)"
   ]
  },
  {
   "cell_type": "code",
   "execution_count": 26,
   "metadata": {},
   "outputs": [
    {
     "data": {
      "text/plain": [
       "SVC(C=100, cache_size=200, class_weight=None, coef0=0.0,\n",
       "  decision_function_shape='ovr', degree=3, gamma=0.01, kernel='rbf',\n",
       "  max_iter=-1, probability=False, random_state=None, shrinking=True,\n",
       "  tol=0.001, verbose=False)"
      ]
     },
     "execution_count": 26,
     "metadata": {},
     "output_type": "execute_result"
    }
   ],
   "source": [
    "for gamma in [0.001, 0.01, 0.1, 1, 10, 100]:\n",
    "    for C in [0.001, 0.01, 0.1, 1, 10, 100]:\n",
    "        # for each combination of parameters,\n",
    "        # train an SVC\n",
    "        svm = SVC(gamma=gamma, C=C)\n",
    "        \n",
    "        # perform cross-validation\n",
    "        scores = cross_val_score(svm, X_trainval, y_trainval, cv=kfold)\n",
    "        \n",
    "        # compute mean cross-validation accuracy\n",
    "        score = np.mean(scores)\n",
    "        \n",
    "        # if we got a better score, store the score and parameters\n",
    "        if score > best_score:\n",
    "            best_score = score\n",
    "            best_parameters = {'C': C, 'gamma': gamma}\n",
    "# rebuild a model on the combined training and validation set\n",
    "svm = SVC(**best_parameters)\n",
    "svm.fit(X_trainval, y_trainval)"
   ]
  },
  {
   "cell_type": "code",
   "execution_count": 27,
   "metadata": {},
   "outputs": [
    {
     "data": {
      "image/png": "[encoded data removed]",
      "text/plain": [
       "<Figure size 720x216 with 1 Axes>"
      ]
     },
     "metadata": {
      "needs_background": "light"
     },
     "output_type": "display_data"
    }
   ],
   "source": [
    "mglearn.plots.plot_cross_val_selection()"
   ]
  },
  {
   "cell_type": "code",
   "execution_count": 28,
   "metadata": {},
   "outputs": [
    {
     "data": {
      "image/png": "[encoded data removed]",
      "text/plain": [
       "<Figure size 700x210 with 1 Axes>"
      ]
     },
     "metadata": {
      "needs_background": "light"
     },
     "output_type": "display_data"
    }
   ],
   "source": [
    "mglearn.plots.plot_grid_search_overview()"
   ]
  },
  {
   "cell_type": "markdown",
   "metadata": {},
   "source": [
    "#### GridSearchCV 사용"
   ]
  },
  {
   "cell_type": "code",
   "execution_count": 29,
   "metadata": {},
   "outputs": [
    {
     "name": "stdout",
     "output_type": "stream",
     "text": [
      "Parameter grid:\n",
      "{'C': [0.001, 0.01, 0.1, 1, 10, 100], 'gamma': [0.001, 0.01, 0.1, 1, 10, 100]}\n"
     ]
    }
   ],
   "source": [
    "param_grid = {\n",
    "    'C': [0.001, 0.01, 0.1, 1, 10, 100],\n",
    "    'gamma': [0.001, 0.01, 0.1, 1, 10, 100]\n",
    "}\n",
    "print(\"Parameter grid:\\n{}\".format(param_grid))\n",
    "\n",
    "from sklearn.model_selection import GridSearchCV\n",
    "from sklearn.svm import SVC\n",
    "grid_search = GridSearchCV(SVC(), param_grid, cv=5, return_train_score=True)"
   ]
  },
  {
   "cell_type": "code",
   "execution_count": 30,
   "metadata": {},
   "outputs": [],
   "source": [
    "X_train, X_test, y_train, y_test = train_test_split(\n",
    "    iris.data, iris.target, random_state=0)"
   ]
  },
  {
   "cell_type": "code",
   "execution_count": 31,
   "metadata": {},
   "outputs": [
    {
     "data": {
      "text/plain": [
       "GridSearchCV(cv=5, error_score='raise-deprecating',\n",
       "       estimator=SVC(C=1.0, cache_size=200, class_weight=None, coef0=0.0,\n",
       "  decision_function_shape='ovr', degree=3, gamma='auto_deprecated',\n",
       "  kernel='rbf', max_iter=-1, probability=False, random_state=None,\n",
       "  shrinking=True, tol=0.001, verbose=False),\n",
       "       fit_params=None, iid='warn', n_jobs=None,\n",
       "       param_grid={'C': [0.001, 0.01, 0.1, 1, 10, 100], 'gamma': [0.001, 0.01, 0.1, 1, 10, 100]},\n",
       "       pre_dispatch='2*n_jobs', refit=True, return_train_score=True,\n",
       "       scoring=None, verbose=0)"
      ]
     },
     "execution_count": 31,
     "metadata": {},
     "output_type": "execute_result"
    }
   ],
   "source": [
    "grid_search.fit(X_train, y_train)"
   ]
  },
  {
   "cell_type": "code",
   "execution_count": 32,
   "metadata": {},
   "outputs": [
    {
     "name": "stdout",
     "output_type": "stream",
     "text": [
      "Test set score: 0.97\n"
     ]
    }
   ],
   "source": [
    "print(\"Test set score: {:.2f}\".format(grid_search.score(X_test, y_test)))"
   ]
  },
  {
   "cell_type": "code",
   "execution_count": 33,
   "metadata": {},
   "outputs": [
    {
     "name": "stdout",
     "output_type": "stream",
     "text": [
      "Best parameters: {'C': 100, 'gamma': 0.01}\n",
      "Best cross-validation score: 0.97\n"
     ]
    }
   ],
   "source": [
    "print(\"Best parameters: {}\".format(grid_search.best_params_))\n",
    "\n",
    "# 최상의 교차 검증 정확도(이 매개변수 설정으로 각 분할에서 얻은 정확도의 평균)이 best_score_에 저장되어 있음\n",
    "print(\"Best cross-validation score: {:.2f}\".format(grid_search.best_score_))"
   ]
  },
  {
   "cell_type": "markdown",
   "metadata": {},
   "source": [
    "가끔은 만들어진 실제 모델에 직접 접근해야 할 때가 있다. 예를 들면...계수나 특성 중요도를 살필 때\n",
    "- best_estimator_ 속성에서 얻을 수 있다."
   ]
  },
  {
   "cell_type": "code",
   "execution_count": 34,
   "metadata": {},
   "outputs": [
    {
     "name": "stdout",
     "output_type": "stream",
     "text": [
      "Best estimator:\n",
      "SVC(C=100, cache_size=200, class_weight=None, coef0=0.0,\n",
      "  decision_function_shape='ovr', degree=3, gamma=0.01, kernel='rbf',\n",
      "  max_iter=-1, probability=False, random_state=None, shrinking=True,\n",
      "  tol=0.001, verbose=False)\n"
     ]
    }
   ],
   "source": [
    "print(\"Best estimator:\\n{}\".format(grid_search.best_estimator_))\n"
   ]
  },
  {
   "cell_type": "markdown",
   "metadata": {},
   "source": [
    "### 교차 검증 결과 분석\n",
    "- 그리드 서치의 결과는 cv_results_ 속성에 담김"
   ]
  },
  {
   "cell_type": "code",
   "execution_count": 35,
   "metadata": {},
   "outputs": [
    {
     "data": {
      "text/html": [
       "<div>\n",
       "<style scoped>\n",
       "    .dataframe tbody tr th:only-of-type {\n",
       "        vertical-align: middle;\n",
       "    }\n",
       "\n",
       "    .dataframe tbody tr th {\n",
       "        vertical-align: top;\n",
       "    }\n",
       "\n",
       "    .dataframe thead th {\n",
       "        text-align: right;\n",
       "    }\n",
       "</style>\n",
       "<table border=\"1\" class=\"dataframe\">\n",
       "  <thead>\n",
       "    <tr style=\"text-align: right;\">\n",
       "      <th></th>\n",
       "      <th>mean_fit_time</th>\n",
       "      <th>std_fit_time</th>\n",
       "      <th>mean_score_time</th>\n",
       "      <th>std_score_time</th>\n",
       "      <th>param_C</th>\n",
       "      <th>param_gamma</th>\n",
       "      <th>params</th>\n",
       "      <th>split0_test_score</th>\n",
       "      <th>split1_test_score</th>\n",
       "      <th>split2_test_score</th>\n",
       "      <th>...</th>\n",
       "      <th>mean_test_score</th>\n",
       "      <th>std_test_score</th>\n",
       "      <th>rank_test_score</th>\n",
       "      <th>split0_train_score</th>\n",
       "      <th>split1_train_score</th>\n",
       "      <th>split2_train_score</th>\n",
       "      <th>split3_train_score</th>\n",
       "      <th>split4_train_score</th>\n",
       "      <th>mean_train_score</th>\n",
       "      <th>std_train_score</th>\n",
       "    </tr>\n",
       "  </thead>\n",
       "  <tbody>\n",
       "    <tr>\n",
       "      <th>0</th>\n",
       "      <td>0.000543</td>\n",
       "      <td>0.000117</td>\n",
       "      <td>0.000266</td>\n",
       "      <td>0.000048</td>\n",
       "      <td>0.001</td>\n",
       "      <td>0.001</td>\n",
       "      <td>{'C': 0.001, 'gamma': 0.001}</td>\n",
       "      <td>0.375</td>\n",
       "      <td>0.347826</td>\n",
       "      <td>0.363636</td>\n",
       "      <td>...</td>\n",
       "      <td>0.366071</td>\n",
       "      <td>0.011371</td>\n",
       "      <td>22</td>\n",
       "      <td>0.363636</td>\n",
       "      <td>0.370787</td>\n",
       "      <td>0.366667</td>\n",
       "      <td>0.366667</td>\n",
       "      <td>0.362637</td>\n",
       "      <td>0.366079</td>\n",
       "      <td>0.002852</td>\n",
       "    </tr>\n",
       "    <tr>\n",
       "      <th>1</th>\n",
       "      <td>0.000513</td>\n",
       "      <td>0.000079</td>\n",
       "      <td>0.000239</td>\n",
       "      <td>0.000034</td>\n",
       "      <td>0.001</td>\n",
       "      <td>0.01</td>\n",
       "      <td>{'C': 0.001, 'gamma': 0.01}</td>\n",
       "      <td>0.375</td>\n",
       "      <td>0.347826</td>\n",
       "      <td>0.363636</td>\n",
       "      <td>...</td>\n",
       "      <td>0.366071</td>\n",
       "      <td>0.011371</td>\n",
       "      <td>22</td>\n",
       "      <td>0.363636</td>\n",
       "      <td>0.370787</td>\n",
       "      <td>0.366667</td>\n",
       "      <td>0.366667</td>\n",
       "      <td>0.362637</td>\n",
       "      <td>0.366079</td>\n",
       "      <td>0.002852</td>\n",
       "    </tr>\n",
       "    <tr>\n",
       "      <th>2</th>\n",
       "      <td>0.000445</td>\n",
       "      <td>0.000005</td>\n",
       "      <td>0.000212</td>\n",
       "      <td>0.000012</td>\n",
       "      <td>0.001</td>\n",
       "      <td>0.1</td>\n",
       "      <td>{'C': 0.001, 'gamma': 0.1}</td>\n",
       "      <td>0.375</td>\n",
       "      <td>0.347826</td>\n",
       "      <td>0.363636</td>\n",
       "      <td>...</td>\n",
       "      <td>0.366071</td>\n",
       "      <td>0.011371</td>\n",
       "      <td>22</td>\n",
       "      <td>0.363636</td>\n",
       "      <td>0.370787</td>\n",
       "      <td>0.366667</td>\n",
       "      <td>0.366667</td>\n",
       "      <td>0.362637</td>\n",
       "      <td>0.366079</td>\n",
       "      <td>0.002852</td>\n",
       "    </tr>\n",
       "    <tr>\n",
       "      <th>3</th>\n",
       "      <td>0.000447</td>\n",
       "      <td>0.000012</td>\n",
       "      <td>0.000212</td>\n",
       "      <td>0.000014</td>\n",
       "      <td>0.001</td>\n",
       "      <td>1</td>\n",
       "      <td>{'C': 0.001, 'gamma': 1}</td>\n",
       "      <td>0.375</td>\n",
       "      <td>0.347826</td>\n",
       "      <td>0.363636</td>\n",
       "      <td>...</td>\n",
       "      <td>0.366071</td>\n",
       "      <td>0.011371</td>\n",
       "      <td>22</td>\n",
       "      <td>0.363636</td>\n",
       "      <td>0.370787</td>\n",
       "      <td>0.366667</td>\n",
       "      <td>0.366667</td>\n",
       "      <td>0.362637</td>\n",
       "      <td>0.366079</td>\n",
       "      <td>0.002852</td>\n",
       "    </tr>\n",
       "    <tr>\n",
       "      <th>4</th>\n",
       "      <td>0.000453</td>\n",
       "      <td>0.000014</td>\n",
       "      <td>0.000209</td>\n",
       "      <td>0.000010</td>\n",
       "      <td>0.001</td>\n",
       "      <td>10</td>\n",
       "      <td>{'C': 0.001, 'gamma': 10}</td>\n",
       "      <td>0.375</td>\n",
       "      <td>0.347826</td>\n",
       "      <td>0.363636</td>\n",
       "      <td>...</td>\n",
       "      <td>0.366071</td>\n",
       "      <td>0.011371</td>\n",
       "      <td>22</td>\n",
       "      <td>0.363636</td>\n",
       "      <td>0.370787</td>\n",
       "      <td>0.366667</td>\n",
       "      <td>0.366667</td>\n",
       "      <td>0.362637</td>\n",
       "      <td>0.366079</td>\n",
       "      <td>0.002852</td>\n",
       "    </tr>\n",
       "  </tbody>\n",
       "</table>\n",
       "<p>5 rows × 22 columns</p>\n",
       "</div>"
      ],
      "text/plain": [
       "   mean_fit_time  std_fit_time  mean_score_time  std_score_time param_C  \\\n",
       "0       0.000543      0.000117         0.000266        0.000048   0.001   \n",
       "1       0.000513      0.000079         0.000239        0.000034   0.001   \n",
       "2       0.000445      0.000005         0.000212        0.000012   0.001   \n",
       "3       0.000447      0.000012         0.000212        0.000014   0.001   \n",
       "4       0.000453      0.000014         0.000209        0.000010   0.001   \n",
       "\n",
       "  param_gamma                        params  split0_test_score  \\\n",
       "0       0.001  {'C': 0.001, 'gamma': 0.001}              0.375   \n",
       "1        0.01   {'C': 0.001, 'gamma': 0.01}              0.375   \n",
       "2         0.1    {'C': 0.001, 'gamma': 0.1}              0.375   \n",
       "3           1      {'C': 0.001, 'gamma': 1}              0.375   \n",
       "4          10     {'C': 0.001, 'gamma': 10}              0.375   \n",
       "\n",
       "   split1_test_score  split2_test_score  ...  mean_test_score  std_test_score  \\\n",
       "0           0.347826           0.363636  ...         0.366071        0.011371   \n",
       "1           0.347826           0.363636  ...         0.366071        0.011371   \n",
       "2           0.347826           0.363636  ...         0.366071        0.011371   \n",
       "3           0.347826           0.363636  ...         0.366071        0.011371   \n",
       "4           0.347826           0.363636  ...         0.366071        0.011371   \n",
       "\n",
       "   rank_test_score  split0_train_score  split1_train_score  \\\n",
       "0               22            0.363636            0.370787   \n",
       "1               22            0.363636            0.370787   \n",
       "2               22            0.363636            0.370787   \n",
       "3               22            0.363636            0.370787   \n",
       "4               22            0.363636            0.370787   \n",
       "\n",
       "   split2_train_score  split3_train_score  split4_train_score  \\\n",
       "0            0.366667            0.366667            0.362637   \n",
       "1            0.366667            0.366667            0.362637   \n",
       "2            0.366667            0.366667            0.362637   \n",
       "3            0.366667            0.366667            0.362637   \n",
       "4            0.366667            0.366667            0.362637   \n",
       "\n",
       "   mean_train_score  std_train_score  \n",
       "0          0.366079         0.002852  \n",
       "1          0.366079         0.002852  \n",
       "2          0.366079         0.002852  \n",
       "3          0.366079         0.002852  \n",
       "4          0.366079         0.002852  \n",
       "\n",
       "[5 rows x 22 columns]"
      ]
     },
     "metadata": {},
     "output_type": "display_data"
    }
   ],
   "source": [
    "# convert to Dataframe\n",
    "results = pd.DataFrame(grid_search.cv_results_)\n",
    "# show the first 5 rows\n",
    "display(results.head())"
   ]
  },
  {
   "cell_type": "code",
   "execution_count": 36,
   "metadata": {},
   "outputs": [
    {
     "data": {
      "text/plain": [
       "<matplotlib.collections.PolyCollection at 0x1c1a78ce80>"
      ]
     },
     "execution_count": 36,
     "metadata": {},
     "output_type": "execute_result"
    },
    {
     "data": {
      "image/png": "[encoded data removed]",
      "text/plain": [
       "<Figure size 432x288 with 1 Axes>"
      ]
     },
     "metadata": {
      "needs_background": "light"
     },
     "output_type": "display_data"
    }
   ],
   "source": [
    "scores = np.array(results.mean_test_score).reshape(6, 6)\n",
    "\n",
    "# plot the mean cross-validation scores\n",
    "mglearn.tools.heatmap(scores, xlabel='gamma', xticklabels=param_grid['gamma'],\n",
    "                      ylabel='C', yticklabels=param_grid['C'], cmap=\"viridis\")"
   ]
  },
  {
   "cell_type": "code",
   "execution_count": 37,
   "metadata": {},
   "outputs": [
    {
     "data": {
      "text/plain": [
       "<matplotlib.colorbar.Colorbar at 0x1c1abaf550>"
      ]
     },
     "execution_count": 37,
     "metadata": {},
     "output_type": "execute_result"
    },
    {
     "data": {
      "image/png": "[encoded data removed]",
      "text/plain": [
       "<Figure size 936x360 with 4 Axes>"
      ]
     },
     "metadata": {
      "needs_background": "light"
     },
     "output_type": "display_data"
    }
   ],
   "source": [
    "fig, axes = plt.subplots(1, 3, figsize=(13, 5))\n",
    "\n",
    "param_grid_linear = {'C': np.linspace(1, 2, 6),\n",
    "                     'gamma':  np.linspace(1, 2, 6)}\n",
    "\n",
    "param_grid_one_log = {'C': np.linspace(1, 2, 6),\n",
    "                      'gamma':  np.logspace(-3, 2, 6)}\n",
    "\n",
    "param_grid_range = {'C': np.logspace(-3, 2, 6),\n",
    "                    'gamma':  np.logspace(-7, -2, 6)}\n",
    "\n",
    "for param_grid, ax in zip([param_grid_linear, param_grid_one_log,\n",
    "                           param_grid_range], axes):\n",
    "    grid_search = GridSearchCV(SVC(), param_grid, cv=5)\n",
    "    grid_search.fit(X_train, y_train)\n",
    "    scores = grid_search.cv_results_['mean_test_score'].reshape(6, 6)\n",
    "\n",
    "    # plot the mean cross-validation scores\n",
    "    scores_image = mglearn.tools.heatmap(\n",
    "        scores, xlabel='gamma', ylabel='C', xticklabels=param_grid['gamma'],\n",
    "        yticklabels=param_grid['C'], cmap=\"viridis\", ax=ax)\n",
    "\n",
    "plt.colorbar(scores_image, ax=axes.tolist())"
   ]
  },
  {
   "cell_type": "markdown",
   "metadata": {},
   "source": [
    "#### 비대칭 매개변수 그리드 탐색\n",
    "\n",
    "- GridSearchCV에 전달할 param_grid를 딕셔너리의 리스트로 만들어서 전달하면, 비대칭 매개변수 적용 가능"
   ]
  },
  {
   "cell_type": "code",
   "execution_count": 38,
   "metadata": {},
   "outputs": [
    {
     "name": "stdout",
     "output_type": "stream",
     "text": [
      "List of grids:\n",
      "[{'kernel': ['rbf'], 'C': [0.001, 0.01, 0.1, 1, 10, 100], 'gamma': [0.001, 0.01, 0.1, 1, 10, 100]}, {'kernel': ['linear'], 'C': [0.001, 0.01, 0.1, 1, 10, 100]}]\n"
     ]
    }
   ],
   "source": [
    "param_grid = [{'kernel': ['rbf'],\n",
    "               'C': [0.001, 0.01, 0.1, 1, 10, 100],\n",
    "               'gamma': [0.001, 0.01, 0.1, 1, 10, 100]},\n",
    "              {'kernel': ['linear'],\n",
    "               'C': [0.001, 0.01, 0.1, 1, 10, 100]}]\n",
    "print(\"List of grids:\\n{}\".format(param_grid))"
   ]
  },
  {
   "cell_type": "code",
   "execution_count": 39,
   "metadata": {},
   "outputs": [
    {
     "name": "stdout",
     "output_type": "stream",
     "text": [
      "Best parameters: {'C': 100, 'gamma': 0.01, 'kernel': 'rbf'}\n",
      "Best cross-validation score: 0.97\n"
     ]
    }
   ],
   "source": [
    "grid_search = GridSearchCV(SVC(), param_grid, cv=5,\n",
    "                          return_train_score=True)\n",
    "grid_search.fit(X_train, y_train)\n",
    "print(\"Best parameters: {}\".format(grid_search.best_params_))\n",
    "print(\"Best cross-validation score: {:.2f}\".format(grid_search.best_score_))"
   ]
  },
  {
   "cell_type": "code",
   "execution_count": 40,
   "metadata": {},
   "outputs": [
    {
     "data": {
      "text/html": [
       "<div>\n",
       "<style scoped>\n",
       "    .dataframe tbody tr th:only-of-type {\n",
       "        vertical-align: middle;\n",
       "    }\n",
       "\n",
       "    .dataframe tbody tr th {\n",
       "        vertical-align: top;\n",
       "    }\n",
       "\n",
       "    .dataframe thead th {\n",
       "        text-align: right;\n",
       "    }\n",
       "</style>\n",
       "<table border=\"1\" class=\"dataframe\">\n",
       "  <thead>\n",
       "    <tr style=\"text-align: right;\">\n",
       "      <th></th>\n",
       "      <th>0</th>\n",
       "      <th>1</th>\n",
       "      <th>2</th>\n",
       "      <th>3</th>\n",
       "      <th>4</th>\n",
       "      <th>5</th>\n",
       "      <th>6</th>\n",
       "      <th>7</th>\n",
       "      <th>8</th>\n",
       "      <th>9</th>\n",
       "      <th>...</th>\n",
       "      <th>32</th>\n",
       "      <th>33</th>\n",
       "      <th>34</th>\n",
       "      <th>35</th>\n",
       "      <th>36</th>\n",
       "      <th>37</th>\n",
       "      <th>38</th>\n",
       "      <th>39</th>\n",
       "      <th>40</th>\n",
       "      <th>41</th>\n",
       "    </tr>\n",
       "  </thead>\n",
       "  <tbody>\n",
       "    <tr>\n",
       "      <th>mean_fit_time</th>\n",
       "      <td>0.000518703</td>\n",
       "      <td>0.000512409</td>\n",
       "      <td>0.000570679</td>\n",
       "      <td>0.000522184</td>\n",
       "      <td>0.000500107</td>\n",
       "      <td>0.000550795</td>\n",
       "      <td>0.000538015</td>\n",
       "      <td>0.00042491</td>\n",
       "      <td>0.000440598</td>\n",
       "      <td>0.000549221</td>\n",
       "      <td>...</td>\n",
       "      <td>0.000281334</td>\n",
       "      <td>0.000374365</td>\n",
       "      <td>0.000592232</td>\n",
       "      <td>0.000857353</td>\n",
       "      <td>0.000523615</td>\n",
       "      <td>0.000410223</td>\n",
       "      <td>0.000350046</td>\n",
       "      <td>0.00031414</td>\n",
       "      <td>0.000300121</td>\n",
       "      <td>0.000306225</td>\n",
       "    </tr>\n",
       "    <tr>\n",
       "      <th>std_fit_time</th>\n",
       "      <td>7.80503e-05</td>\n",
       "      <td>0.00010368</td>\n",
       "      <td>3.07826e-05</td>\n",
       "      <td>7.93934e-05</td>\n",
       "      <td>2.24274e-05</td>\n",
       "      <td>8.28448e-05</td>\n",
       "      <td>7.11114e-05</td>\n",
       "      <td>4.21509e-06</td>\n",
       "      <td>7.65171e-06</td>\n",
       "      <td>0.000147493</td>\n",
       "      <td>...</td>\n",
       "      <td>1.6436e-05</td>\n",
       "      <td>3.52184e-05</td>\n",
       "      <td>9.38942e-05</td>\n",
       "      <td>0.000283587</td>\n",
       "      <td>0.000123723</td>\n",
       "      <td>6.08076e-05</td>\n",
       "      <td>4.65537e-05</td>\n",
       "      <td>1.4091e-05</td>\n",
       "      <td>1.25349e-05</td>\n",
       "      <td>2.49348e-05</td>\n",
       "    </tr>\n",
       "    <tr>\n",
       "      <th>mean_score_time</th>\n",
       "      <td>0.000240993</td>\n",
       "      <td>0.000243044</td>\n",
       "      <td>0.000280857</td>\n",
       "      <td>0.000237751</td>\n",
       "      <td>0.000241423</td>\n",
       "      <td>0.000282907</td>\n",
       "      <td>0.000261402</td>\n",
       "      <td>0.000207663</td>\n",
       "      <td>0.000201368</td>\n",
       "      <td>0.000214863</td>\n",
       "      <td>...</td>\n",
       "      <td>0.000177431</td>\n",
       "      <td>0.000189304</td>\n",
       "      <td>0.000201416</td>\n",
       "      <td>0.000250196</td>\n",
       "      <td>0.000214624</td>\n",
       "      <td>0.000214195</td>\n",
       "      <td>0.00024786</td>\n",
       "      <td>0.000193357</td>\n",
       "      <td>0.000174284</td>\n",
       "      <td>0.000180292</td>\n",
       "    </tr>\n",
       "    <tr>\n",
       "      <th>std_score_time</th>\n",
       "      <td>6.2989e-05</td>\n",
       "      <td>4.45881e-05</td>\n",
       "      <td>3.64558e-05</td>\n",
       "      <td>3.38546e-05</td>\n",
       "      <td>5.34888e-05</td>\n",
       "      <td>6.71741e-05</td>\n",
       "      <td>6.06267e-05</td>\n",
       "      <td>2.06537e-05</td>\n",
       "      <td>2.18826e-06</td>\n",
       "      <td>1.43324e-05</td>\n",
       "      <td>...</td>\n",
       "      <td>1.90377e-06</td>\n",
       "      <td>8.183e-06</td>\n",
       "      <td>1.43957e-05</td>\n",
       "      <td>2.22324e-05</td>\n",
       "      <td>2.18053e-05</td>\n",
       "      <td>3.78486e-05</td>\n",
       "      <td>0.000108142</td>\n",
       "      <td>1.7461e-05</td>\n",
       "      <td>1.49274e-06</td>\n",
       "      <td>1.09001e-05</td>\n",
       "    </tr>\n",
       "    <tr>\n",
       "      <th>param_C</th>\n",
       "      <td>0.001</td>\n",
       "      <td>0.001</td>\n",
       "      <td>0.001</td>\n",
       "      <td>0.001</td>\n",
       "      <td>0.001</td>\n",
       "      <td>0.001</td>\n",
       "      <td>0.01</td>\n",
       "      <td>0.01</td>\n",
       "      <td>0.01</td>\n",
       "      <td>0.01</td>\n",
       "      <td>...</td>\n",
       "      <td>100</td>\n",
       "      <td>100</td>\n",
       "      <td>100</td>\n",
       "      <td>100</td>\n",
       "      <td>0.001</td>\n",
       "      <td>0.01</td>\n",
       "      <td>0.1</td>\n",
       "      <td>1</td>\n",
       "      <td>10</td>\n",
       "      <td>100</td>\n",
       "    </tr>\n",
       "    <tr>\n",
       "      <th>param_gamma</th>\n",
       "      <td>0.001</td>\n",
       "      <td>0.01</td>\n",
       "      <td>0.1</td>\n",
       "      <td>1</td>\n",
       "      <td>10</td>\n",
       "      <td>100</td>\n",
       "      <td>0.001</td>\n",
       "      <td>0.01</td>\n",
       "      <td>0.1</td>\n",
       "      <td>1</td>\n",
       "      <td>...</td>\n",
       "      <td>0.1</td>\n",
       "      <td>1</td>\n",
       "      <td>10</td>\n",
       "      <td>100</td>\n",
       "      <td>NaN</td>\n",
       "      <td>NaN</td>\n",
       "      <td>NaN</td>\n",
       "      <td>NaN</td>\n",
       "      <td>NaN</td>\n",
       "      <td>NaN</td>\n",
       "    </tr>\n",
       "    <tr>\n",
       "      <th>param_kernel</th>\n",
       "      <td>rbf</td>\n",
       "      <td>rbf</td>\n",
       "      <td>rbf</td>\n",
       "      <td>rbf</td>\n",
       "      <td>rbf</td>\n",
       "      <td>rbf</td>\n",
       "      <td>rbf</td>\n",
       "      <td>rbf</td>\n",
       "      <td>rbf</td>\n",
       "      <td>rbf</td>\n",
       "      <td>...</td>\n",
       "      <td>rbf</td>\n",
       "      <td>rbf</td>\n",
       "      <td>rbf</td>\n",
       "      <td>rbf</td>\n",
       "      <td>linear</td>\n",
       "      <td>linear</td>\n",
       "      <td>linear</td>\n",
       "      <td>linear</td>\n",
       "      <td>linear</td>\n",
       "      <td>linear</td>\n",
       "    </tr>\n",
       "    <tr>\n",
       "      <th>params</th>\n",
       "      <td>{'C': 0.001, 'gamma': 0.001, 'kernel': 'rbf'}</td>\n",
       "      <td>{'C': 0.001, 'gamma': 0.01, 'kernel': 'rbf'}</td>\n",
       "      <td>{'C': 0.001, 'gamma': 0.1, 'kernel': 'rbf'}</td>\n",
       "      <td>{'C': 0.001, 'gamma': 1, 'kernel': 'rbf'}</td>\n",
       "      <td>{'C': 0.001, 'gamma': 10, 'kernel': 'rbf'}</td>\n",
       "      <td>{'C': 0.001, 'gamma': 100, 'kernel': 'rbf'}</td>\n",
       "      <td>{'C': 0.01, 'gamma': 0.001, 'kernel': 'rbf'}</td>\n",
       "      <td>{'C': 0.01, 'gamma': 0.01, 'kernel': 'rbf'}</td>\n",
       "      <td>{'C': 0.01, 'gamma': 0.1, 'kernel': 'rbf'}</td>\n",
       "      <td>{'C': 0.01, 'gamma': 1, 'kernel': 'rbf'}</td>\n",
       "      <td>...</td>\n",
       "      <td>{'C': 100, 'gamma': 0.1, 'kernel': 'rbf'}</td>\n",
       "      <td>{'C': 100, 'gamma': 1, 'kernel': 'rbf'}</td>\n",
       "      <td>{'C': 100, 'gamma': 10, 'kernel': 'rbf'}</td>\n",
       "      <td>{'C': 100, 'gamma': 100, 'kernel': 'rbf'}</td>\n",
       "      <td>{'C': 0.001, 'kernel': 'linear'}</td>\n",
       "      <td>{'C': 0.01, 'kernel': 'linear'}</td>\n",
       "      <td>{'C': 0.1, 'kernel': 'linear'}</td>\n",
       "      <td>{'C': 1, 'kernel': 'linear'}</td>\n",
       "      <td>{'C': 10, 'kernel': 'linear'}</td>\n",
       "      <td>{'C': 100, 'kernel': 'linear'}</td>\n",
       "    </tr>\n",
       "    <tr>\n",
       "      <th>split0_test_score</th>\n",
       "      <td>0.375</td>\n",
       "      <td>0.375</td>\n",
       "      <td>0.375</td>\n",
       "      <td>0.375</td>\n",
       "      <td>0.375</td>\n",
       "      <td>0.375</td>\n",
       "      <td>0.375</td>\n",
       "      <td>0.375</td>\n",
       "      <td>0.375</td>\n",
       "      <td>0.375</td>\n",
       "      <td>...</td>\n",
       "      <td>0.958333</td>\n",
       "      <td>0.916667</td>\n",
       "      <td>0.875</td>\n",
       "      <td>0.541667</td>\n",
       "      <td>0.375</td>\n",
       "      <td>0.916667</td>\n",
       "      <td>0.958333</td>\n",
       "      <td>1</td>\n",
       "      <td>0.958333</td>\n",
       "      <td>0.958333</td>\n",
       "    </tr>\n",
       "    <tr>\n",
       "      <th>split1_test_score</th>\n",
       "      <td>0.347826</td>\n",
       "      <td>0.347826</td>\n",
       "      <td>0.347826</td>\n",
       "      <td>0.347826</td>\n",
       "      <td>0.347826</td>\n",
       "      <td>0.347826</td>\n",
       "      <td>0.347826</td>\n",
       "      <td>0.347826</td>\n",
       "      <td>0.347826</td>\n",
       "      <td>0.347826</td>\n",
       "      <td>...</td>\n",
       "      <td>1</td>\n",
       "      <td>1</td>\n",
       "      <td>0.956522</td>\n",
       "      <td>0.521739</td>\n",
       "      <td>0.347826</td>\n",
       "      <td>0.826087</td>\n",
       "      <td>0.913043</td>\n",
       "      <td>0.956522</td>\n",
       "      <td>1</td>\n",
       "      <td>1</td>\n",
       "    </tr>\n",
       "    <tr>\n",
       "      <th>split2_test_score</th>\n",
       "      <td>0.363636</td>\n",
       "      <td>0.363636</td>\n",
       "      <td>0.363636</td>\n",
       "      <td>0.363636</td>\n",
       "      <td>0.363636</td>\n",
       "      <td>0.363636</td>\n",
       "      <td>0.363636</td>\n",
       "      <td>0.363636</td>\n",
       "      <td>0.363636</td>\n",
       "      <td>0.363636</td>\n",
       "      <td>...</td>\n",
       "      <td>1</td>\n",
       "      <td>1</td>\n",
       "      <td>1</td>\n",
       "      <td>0.590909</td>\n",
       "      <td>0.363636</td>\n",
       "      <td>0.818182</td>\n",
       "      <td>1</td>\n",
       "      <td>1</td>\n",
       "      <td>1</td>\n",
       "      <td>1</td>\n",
       "    </tr>\n",
       "    <tr>\n",
       "      <th>split3_test_score</th>\n",
       "      <td>0.363636</td>\n",
       "      <td>0.363636</td>\n",
       "      <td>0.363636</td>\n",
       "      <td>0.363636</td>\n",
       "      <td>0.363636</td>\n",
       "      <td>0.363636</td>\n",
       "      <td>0.363636</td>\n",
       "      <td>0.363636</td>\n",
       "      <td>0.363636</td>\n",
       "      <td>0.363636</td>\n",
       "      <td>...</td>\n",
       "      <td>0.863636</td>\n",
       "      <td>0.863636</td>\n",
       "      <td>0.818182</td>\n",
       "      <td>0.590909</td>\n",
       "      <td>0.363636</td>\n",
       "      <td>0.772727</td>\n",
       "      <td>0.909091</td>\n",
       "      <td>0.954545</td>\n",
       "      <td>0.909091</td>\n",
       "      <td>0.909091</td>\n",
       "    </tr>\n",
       "    <tr>\n",
       "      <th>split4_test_score</th>\n",
       "      <td>0.380952</td>\n",
       "      <td>0.380952</td>\n",
       "      <td>0.380952</td>\n",
       "      <td>0.380952</td>\n",
       "      <td>0.380952</td>\n",
       "      <td>0.380952</td>\n",
       "      <td>0.380952</td>\n",
       "      <td>0.380952</td>\n",
       "      <td>0.380952</td>\n",
       "      <td>0.380952</td>\n",
       "      <td>...</td>\n",
       "      <td>0.952381</td>\n",
       "      <td>0.952381</td>\n",
       "      <td>0.952381</td>\n",
       "      <td>0.619048</td>\n",
       "      <td>0.380952</td>\n",
       "      <td>0.904762</td>\n",
       "      <td>0.952381</td>\n",
       "      <td>0.952381</td>\n",
       "      <td>0.952381</td>\n",
       "      <td>0.952381</td>\n",
       "    </tr>\n",
       "    <tr>\n",
       "      <th>mean_test_score</th>\n",
       "      <td>0.366071</td>\n",
       "      <td>0.366071</td>\n",
       "      <td>0.366071</td>\n",
       "      <td>0.366071</td>\n",
       "      <td>0.366071</td>\n",
       "      <td>0.366071</td>\n",
       "      <td>0.366071</td>\n",
       "      <td>0.366071</td>\n",
       "      <td>0.366071</td>\n",
       "      <td>0.366071</td>\n",
       "      <td>...</td>\n",
       "      <td>0.955357</td>\n",
       "      <td>0.946429</td>\n",
       "      <td>0.919643</td>\n",
       "      <td>0.571429</td>\n",
       "      <td>0.366071</td>\n",
       "      <td>0.848214</td>\n",
       "      <td>0.946429</td>\n",
       "      <td>0.973214</td>\n",
       "      <td>0.964286</td>\n",
       "      <td>0.964286</td>\n",
       "    </tr>\n",
       "    <tr>\n",
       "      <th>std_test_score</th>\n",
       "      <td>0.0113708</td>\n",
       "      <td>0.0113708</td>\n",
       "      <td>0.0113708</td>\n",
       "      <td>0.0113708</td>\n",
       "      <td>0.0113708</td>\n",
       "      <td>0.0113708</td>\n",
       "      <td>0.0113708</td>\n",
       "      <td>0.0113708</td>\n",
       "      <td>0.0113708</td>\n",
       "      <td>0.0113708</td>\n",
       "      <td>...</td>\n",
       "      <td>0.0495662</td>\n",
       "      <td>0.0519227</td>\n",
       "      <td>0.0647906</td>\n",
       "      <td>0.0356525</td>\n",
       "      <td>0.0113708</td>\n",
       "      <td>0.0547783</td>\n",
       "      <td>0.0332185</td>\n",
       "      <td>0.0223995</td>\n",
       "      <td>0.0338387</td>\n",
       "      <td>0.0338387</td>\n",
       "    </tr>\n",
       "    <tr>\n",
       "      <th>rank_test_score</th>\n",
       "      <td>27</td>\n",
       "      <td>27</td>\n",
       "      <td>27</td>\n",
       "      <td>27</td>\n",
       "      <td>27</td>\n",
       "      <td>27</td>\n",
       "      <td>27</td>\n",
       "      <td>27</td>\n",
       "      <td>27</td>\n",
       "      <td>27</td>\n",
       "      <td>...</td>\n",
       "      <td>9</td>\n",
       "      <td>11</td>\n",
       "      <td>17</td>\n",
       "      <td>24</td>\n",
       "      <td>27</td>\n",
       "      <td>21</td>\n",
       "      <td>11</td>\n",
       "      <td>1</td>\n",
       "      <td>3</td>\n",
       "      <td>3</td>\n",
       "    </tr>\n",
       "    <tr>\n",
       "      <th>split0_train_score</th>\n",
       "      <td>0.363636</td>\n",
       "      <td>0.363636</td>\n",
       "      <td>0.363636</td>\n",
       "      <td>0.363636</td>\n",
       "      <td>0.363636</td>\n",
       "      <td>0.363636</td>\n",
       "      <td>0.363636</td>\n",
       "      <td>0.363636</td>\n",
       "      <td>0.363636</td>\n",
       "      <td>0.363636</td>\n",
       "      <td>...</td>\n",
       "      <td>0.988636</td>\n",
       "      <td>1</td>\n",
       "      <td>1</td>\n",
       "      <td>1</td>\n",
       "      <td>0.363636</td>\n",
       "      <td>0.886364</td>\n",
       "      <td>0.965909</td>\n",
       "      <td>0.988636</td>\n",
       "      <td>0.988636</td>\n",
       "      <td>0.988636</td>\n",
       "    </tr>\n",
       "    <tr>\n",
       "      <th>split1_train_score</th>\n",
       "      <td>0.370787</td>\n",
       "      <td>0.370787</td>\n",
       "      <td>0.370787</td>\n",
       "      <td>0.370787</td>\n",
       "      <td>0.370787</td>\n",
       "      <td>0.370787</td>\n",
       "      <td>0.370787</td>\n",
       "      <td>0.370787</td>\n",
       "      <td>0.370787</td>\n",
       "      <td>0.370787</td>\n",
       "      <td>...</td>\n",
       "      <td>0.977528</td>\n",
       "      <td>1</td>\n",
       "      <td>1</td>\n",
       "      <td>1</td>\n",
       "      <td>0.370787</td>\n",
       "      <td>0.88764</td>\n",
       "      <td>0.977528</td>\n",
       "      <td>0.977528</td>\n",
       "      <td>0.988764</td>\n",
       "      <td>0.988764</td>\n",
       "    </tr>\n",
       "    <tr>\n",
       "      <th>split2_train_score</th>\n",
       "      <td>0.366667</td>\n",
       "      <td>0.366667</td>\n",
       "      <td>0.366667</td>\n",
       "      <td>0.366667</td>\n",
       "      <td>0.366667</td>\n",
       "      <td>0.366667</td>\n",
       "      <td>0.366667</td>\n",
       "      <td>0.366667</td>\n",
       "      <td>0.366667</td>\n",
       "      <td>0.366667</td>\n",
       "      <td>...</td>\n",
       "      <td>0.977778</td>\n",
       "      <td>1</td>\n",
       "      <td>1</td>\n",
       "      <td>1</td>\n",
       "      <td>0.366667</td>\n",
       "      <td>0.866667</td>\n",
       "      <td>0.944444</td>\n",
       "      <td>0.977778</td>\n",
       "      <td>0.977778</td>\n",
       "      <td>0.988889</td>\n",
       "    </tr>\n",
       "    <tr>\n",
       "      <th>split3_train_score</th>\n",
       "      <td>0.366667</td>\n",
       "      <td>0.366667</td>\n",
       "      <td>0.366667</td>\n",
       "      <td>0.366667</td>\n",
       "      <td>0.366667</td>\n",
       "      <td>0.366667</td>\n",
       "      <td>0.366667</td>\n",
       "      <td>0.366667</td>\n",
       "      <td>0.366667</td>\n",
       "      <td>0.366667</td>\n",
       "      <td>...</td>\n",
       "      <td>1</td>\n",
       "      <td>1</td>\n",
       "      <td>1</td>\n",
       "      <td>1</td>\n",
       "      <td>0.366667</td>\n",
       "      <td>0.755556</td>\n",
       "      <td>0.977778</td>\n",
       "      <td>0.988889</td>\n",
       "      <td>0.988889</td>\n",
       "      <td>1</td>\n",
       "    </tr>\n",
       "    <tr>\n",
       "      <th>split4_train_score</th>\n",
       "      <td>0.362637</td>\n",
       "      <td>0.362637</td>\n",
       "      <td>0.362637</td>\n",
       "      <td>0.362637</td>\n",
       "      <td>0.362637</td>\n",
       "      <td>0.362637</td>\n",
       "      <td>0.362637</td>\n",
       "      <td>0.362637</td>\n",
       "      <td>0.362637</td>\n",
       "      <td>0.362637</td>\n",
       "      <td>...</td>\n",
       "      <td>1</td>\n",
       "      <td>1</td>\n",
       "      <td>1</td>\n",
       "      <td>1</td>\n",
       "      <td>0.362637</td>\n",
       "      <td>0.879121</td>\n",
       "      <td>0.967033</td>\n",
       "      <td>0.989011</td>\n",
       "      <td>1</td>\n",
       "      <td>1</td>\n",
       "    </tr>\n",
       "    <tr>\n",
       "      <th>mean_train_score</th>\n",
       "      <td>0.366079</td>\n",
       "      <td>0.366079</td>\n",
       "      <td>0.366079</td>\n",
       "      <td>0.366079</td>\n",
       "      <td>0.366079</td>\n",
       "      <td>0.366079</td>\n",
       "      <td>0.366079</td>\n",
       "      <td>0.366079</td>\n",
       "      <td>0.366079</td>\n",
       "      <td>0.366079</td>\n",
       "      <td>...</td>\n",
       "      <td>0.988788</td>\n",
       "      <td>1</td>\n",
       "      <td>1</td>\n",
       "      <td>1</td>\n",
       "      <td>0.366079</td>\n",
       "      <td>0.855069</td>\n",
       "      <td>0.966538</td>\n",
       "      <td>0.984368</td>\n",
       "      <td>0.988813</td>\n",
       "      <td>0.993258</td>\n",
       "    </tr>\n",
       "    <tr>\n",
       "      <th>std_train_score</th>\n",
       "      <td>0.00285176</td>\n",
       "      <td>0.00285176</td>\n",
       "      <td>0.00285176</td>\n",
       "      <td>0.00285176</td>\n",
       "      <td>0.00285176</td>\n",
       "      <td>0.00285176</td>\n",
       "      <td>0.00285176</td>\n",
       "      <td>0.00285176</td>\n",
       "      <td>0.00285176</td>\n",
       "      <td>0.00285176</td>\n",
       "      <td>...</td>\n",
       "      <td>0.00999451</td>\n",
       "      <td>0</td>\n",
       "      <td>0</td>\n",
       "      <td>0</td>\n",
       "      <td>0.00285176</td>\n",
       "      <td>0.0503114</td>\n",
       "      <td>0.0121316</td>\n",
       "      <td>0.00548507</td>\n",
       "      <td>0.00702801</td>\n",
       "      <td>0.00550551</td>\n",
       "    </tr>\n",
       "  </tbody>\n",
       "</table>\n",
       "<p>23 rows × 42 columns</p>\n",
       "</div>"
      ],
      "text/plain": [
       "                                                               0   \\\n",
       "mean_fit_time                                         0.000518703   \n",
       "std_fit_time                                          7.80503e-05   \n",
       "mean_score_time                                       0.000240993   \n",
       "std_score_time                                         6.2989e-05   \n",
       "param_C                                                     0.001   \n",
       "param_gamma                                                 0.001   \n",
       "param_kernel                                                  rbf   \n",
       "params              {'C': 0.001, 'gamma': 0.001, 'kernel': 'rbf'}   \n",
       "split0_test_score                                           0.375   \n",
       "split1_test_score                                        0.347826   \n",
       "split2_test_score                                        0.363636   \n",
       "split3_test_score                                        0.363636   \n",
       "split4_test_score                                        0.380952   \n",
       "mean_test_score                                          0.366071   \n",
       "std_test_score                                          0.0113708   \n",
       "rank_test_score                                                27   \n",
       "split0_train_score                                       0.363636   \n",
       "split1_train_score                                       0.370787   \n",
       "split2_train_score                                       0.366667   \n",
       "split3_train_score                                       0.366667   \n",
       "split4_train_score                                       0.362637   \n",
       "mean_train_score                                         0.366079   \n",
       "std_train_score                                        0.00285176   \n",
       "\n",
       "                                                              1   \\\n",
       "mean_fit_time                                        0.000512409   \n",
       "std_fit_time                                          0.00010368   \n",
       "mean_score_time                                      0.000243044   \n",
       "std_score_time                                       4.45881e-05   \n",
       "param_C                                                    0.001   \n",
       "param_gamma                                                 0.01   \n",
       "param_kernel                                                 rbf   \n",
       "params              {'C': 0.001, 'gamma': 0.01, 'kernel': 'rbf'}   \n",
       "split0_test_score                                          0.375   \n",
       "split1_test_score                                       0.347826   \n",
       "split2_test_score                                       0.363636   \n",
       "split3_test_score                                       0.363636   \n",
       "split4_test_score                                       0.380952   \n",
       "mean_test_score                                         0.366071   \n",
       "std_test_score                                         0.0113708   \n",
       "rank_test_score                                               27   \n",
       "split0_train_score                                      0.363636   \n",
       "split1_train_score                                      0.370787   \n",
       "split2_train_score                                      0.366667   \n",
       "split3_train_score                                      0.366667   \n",
       "split4_train_score                                      0.362637   \n",
       "mean_train_score                                        0.366079   \n",
       "std_train_score                                       0.00285176   \n",
       "\n",
       "                                                             2   \\\n",
       "mean_fit_time                                       0.000570679   \n",
       "std_fit_time                                        3.07826e-05   \n",
       "mean_score_time                                     0.000280857   \n",
       "std_score_time                                      3.64558e-05   \n",
       "param_C                                                   0.001   \n",
       "param_gamma                                                 0.1   \n",
       "param_kernel                                                rbf   \n",
       "params              {'C': 0.001, 'gamma': 0.1, 'kernel': 'rbf'}   \n",
       "split0_test_score                                         0.375   \n",
       "split1_test_score                                      0.347826   \n",
       "split2_test_score                                      0.363636   \n",
       "split3_test_score                                      0.363636   \n",
       "split4_test_score                                      0.380952   \n",
       "mean_test_score                                        0.366071   \n",
       "std_test_score                                        0.0113708   \n",
       "rank_test_score                                              27   \n",
       "split0_train_score                                     0.363636   \n",
       "split1_train_score                                     0.370787   \n",
       "split2_train_score                                     0.366667   \n",
       "split3_train_score                                     0.366667   \n",
       "split4_train_score                                     0.362637   \n",
       "mean_train_score                                       0.366079   \n",
       "std_train_score                                      0.00285176   \n",
       "\n",
       "                                                           3   \\\n",
       "mean_fit_time                                     0.000522184   \n",
       "std_fit_time                                      7.93934e-05   \n",
       "mean_score_time                                   0.000237751   \n",
       "std_score_time                                    3.38546e-05   \n",
       "param_C                                                 0.001   \n",
       "param_gamma                                                 1   \n",
       "param_kernel                                              rbf   \n",
       "params              {'C': 0.001, 'gamma': 1, 'kernel': 'rbf'}   \n",
       "split0_test_score                                       0.375   \n",
       "split1_test_score                                    0.347826   \n",
       "split2_test_score                                    0.363636   \n",
       "split3_test_score                                    0.363636   \n",
       "split4_test_score                                    0.380952   \n",
       "mean_test_score                                      0.366071   \n",
       "std_test_score                                      0.0113708   \n",
       "rank_test_score                                            27   \n",
       "split0_train_score                                   0.363636   \n",
       "split1_train_score                                   0.370787   \n",
       "split2_train_score                                   0.366667   \n",
       "split3_train_score                                   0.366667   \n",
       "split4_train_score                                   0.362637   \n",
       "mean_train_score                                     0.366079   \n",
       "std_train_score                                    0.00285176   \n",
       "\n",
       "                                                            4   \\\n",
       "mean_fit_time                                      0.000500107   \n",
       "std_fit_time                                       2.24274e-05   \n",
       "mean_score_time                                    0.000241423   \n",
       "std_score_time                                     5.34888e-05   \n",
       "param_C                                                  0.001   \n",
       "param_gamma                                                 10   \n",
       "param_kernel                                               rbf   \n",
       "params              {'C': 0.001, 'gamma': 10, 'kernel': 'rbf'}   \n",
       "split0_test_score                                        0.375   \n",
       "split1_test_score                                     0.347826   \n",
       "split2_test_score                                     0.363636   \n",
       "split3_test_score                                     0.363636   \n",
       "split4_test_score                                     0.380952   \n",
       "mean_test_score                                       0.366071   \n",
       "std_test_score                                       0.0113708   \n",
       "rank_test_score                                             27   \n",
       "split0_train_score                                    0.363636   \n",
       "split1_train_score                                    0.370787   \n",
       "split2_train_score                                    0.366667   \n",
       "split3_train_score                                    0.366667   \n",
       "split4_train_score                                    0.362637   \n",
       "mean_train_score                                      0.366079   \n",
       "std_train_score                                     0.00285176   \n",
       "\n",
       "                                                             5   \\\n",
       "mean_fit_time                                       0.000550795   \n",
       "std_fit_time                                        8.28448e-05   \n",
       "mean_score_time                                     0.000282907   \n",
       "std_score_time                                      6.71741e-05   \n",
       "param_C                                                   0.001   \n",
       "param_gamma                                                 100   \n",
       "param_kernel                                                rbf   \n",
       "params              {'C': 0.001, 'gamma': 100, 'kernel': 'rbf'}   \n",
       "split0_test_score                                         0.375   \n",
       "split1_test_score                                      0.347826   \n",
       "split2_test_score                                      0.363636   \n",
       "split3_test_score                                      0.363636   \n",
       "split4_test_score                                      0.380952   \n",
       "mean_test_score                                        0.366071   \n",
       "std_test_score                                        0.0113708   \n",
       "rank_test_score                                              27   \n",
       "split0_train_score                                     0.363636   \n",
       "split1_train_score                                     0.370787   \n",
       "split2_train_score                                     0.366667   \n",
       "split3_train_score                                     0.366667   \n",
       "split4_train_score                                     0.362637   \n",
       "mean_train_score                                       0.366079   \n",
       "std_train_score                                      0.00285176   \n",
       "\n",
       "                                                              6   \\\n",
       "mean_fit_time                                        0.000538015   \n",
       "std_fit_time                                         7.11114e-05   \n",
       "mean_score_time                                      0.000261402   \n",
       "std_score_time                                       6.06267e-05   \n",
       "param_C                                                     0.01   \n",
       "param_gamma                                                0.001   \n",
       "param_kernel                                                 rbf   \n",
       "params              {'C': 0.01, 'gamma': 0.001, 'kernel': 'rbf'}   \n",
       "split0_test_score                                          0.375   \n",
       "split1_test_score                                       0.347826   \n",
       "split2_test_score                                       0.363636   \n",
       "split3_test_score                                       0.363636   \n",
       "split4_test_score                                       0.380952   \n",
       "mean_test_score                                         0.366071   \n",
       "std_test_score                                         0.0113708   \n",
       "rank_test_score                                               27   \n",
       "split0_train_score                                      0.363636   \n",
       "split1_train_score                                      0.370787   \n",
       "split2_train_score                                      0.366667   \n",
       "split3_train_score                                      0.366667   \n",
       "split4_train_score                                      0.362637   \n",
       "mean_train_score                                        0.366079   \n",
       "std_train_score                                       0.00285176   \n",
       "\n",
       "                                                             7   \\\n",
       "mean_fit_time                                        0.00042491   \n",
       "std_fit_time                                        4.21509e-06   \n",
       "mean_score_time                                     0.000207663   \n",
       "std_score_time                                      2.06537e-05   \n",
       "param_C                                                    0.01   \n",
       "param_gamma                                                0.01   \n",
       "param_kernel                                                rbf   \n",
       "params              {'C': 0.01, 'gamma': 0.01, 'kernel': 'rbf'}   \n",
       "split0_test_score                                         0.375   \n",
       "split1_test_score                                      0.347826   \n",
       "split2_test_score                                      0.363636   \n",
       "split3_test_score                                      0.363636   \n",
       "split4_test_score                                      0.380952   \n",
       "mean_test_score                                        0.366071   \n",
       "std_test_score                                        0.0113708   \n",
       "rank_test_score                                              27   \n",
       "split0_train_score                                     0.363636   \n",
       "split1_train_score                                     0.370787   \n",
       "split2_train_score                                     0.366667   \n",
       "split3_train_score                                     0.366667   \n",
       "split4_train_score                                     0.362637   \n",
       "mean_train_score                                       0.366079   \n",
       "std_train_score                                      0.00285176   \n",
       "\n",
       "                                                            8   \\\n",
       "mean_fit_time                                      0.000440598   \n",
       "std_fit_time                                       7.65171e-06   \n",
       "mean_score_time                                    0.000201368   \n",
       "std_score_time                                     2.18826e-06   \n",
       "param_C                                                   0.01   \n",
       "param_gamma                                                0.1   \n",
       "param_kernel                                               rbf   \n",
       "params              {'C': 0.01, 'gamma': 0.1, 'kernel': 'rbf'}   \n",
       "split0_test_score                                        0.375   \n",
       "split1_test_score                                     0.347826   \n",
       "split2_test_score                                     0.363636   \n",
       "split3_test_score                                     0.363636   \n",
       "split4_test_score                                     0.380952   \n",
       "mean_test_score                                       0.366071   \n",
       "std_test_score                                       0.0113708   \n",
       "rank_test_score                                             27   \n",
       "split0_train_score                                    0.363636   \n",
       "split1_train_score                                    0.370787   \n",
       "split2_train_score                                    0.366667   \n",
       "split3_train_score                                    0.366667   \n",
       "split4_train_score                                    0.362637   \n",
       "mean_train_score                                      0.366079   \n",
       "std_train_score                                     0.00285176   \n",
       "\n",
       "                                                          9   ...  \\\n",
       "mean_fit_time                                    0.000549221  ...   \n",
       "std_fit_time                                     0.000147493  ...   \n",
       "mean_score_time                                  0.000214863  ...   \n",
       "std_score_time                                   1.43324e-05  ...   \n",
       "param_C                                                 0.01  ...   \n",
       "param_gamma                                                1  ...   \n",
       "param_kernel                                             rbf  ...   \n",
       "params              {'C': 0.01, 'gamma': 1, 'kernel': 'rbf'}  ...   \n",
       "split0_test_score                                      0.375  ...   \n",
       "split1_test_score                                   0.347826  ...   \n",
       "split2_test_score                                   0.363636  ...   \n",
       "split3_test_score                                   0.363636  ...   \n",
       "split4_test_score                                   0.380952  ...   \n",
       "mean_test_score                                     0.366071  ...   \n",
       "std_test_score                                     0.0113708  ...   \n",
       "rank_test_score                                           27  ...   \n",
       "split0_train_score                                  0.363636  ...   \n",
       "split1_train_score                                  0.370787  ...   \n",
       "split2_train_score                                  0.366667  ...   \n",
       "split3_train_score                                  0.366667  ...   \n",
       "split4_train_score                                  0.362637  ...   \n",
       "mean_train_score                                    0.366079  ...   \n",
       "std_train_score                                   0.00285176  ...   \n",
       "\n",
       "                                                           32  \\\n",
       "mean_fit_time                                     0.000281334   \n",
       "std_fit_time                                       1.6436e-05   \n",
       "mean_score_time                                   0.000177431   \n",
       "std_score_time                                    1.90377e-06   \n",
       "param_C                                                   100   \n",
       "param_gamma                                               0.1   \n",
       "param_kernel                                              rbf   \n",
       "params              {'C': 100, 'gamma': 0.1, 'kernel': 'rbf'}   \n",
       "split0_test_score                                    0.958333   \n",
       "split1_test_score                                           1   \n",
       "split2_test_score                                           1   \n",
       "split3_test_score                                    0.863636   \n",
       "split4_test_score                                    0.952381   \n",
       "mean_test_score                                      0.955357   \n",
       "std_test_score                                      0.0495662   \n",
       "rank_test_score                                             9   \n",
       "split0_train_score                                   0.988636   \n",
       "split1_train_score                                   0.977528   \n",
       "split2_train_score                                   0.977778   \n",
       "split3_train_score                                          1   \n",
       "split4_train_score                                          1   \n",
       "mean_train_score                                     0.988788   \n",
       "std_train_score                                    0.00999451   \n",
       "\n",
       "                                                         33  \\\n",
       "mean_fit_time                                   0.000374365   \n",
       "std_fit_time                                    3.52184e-05   \n",
       "mean_score_time                                 0.000189304   \n",
       "std_score_time                                    8.183e-06   \n",
       "param_C                                                 100   \n",
       "param_gamma                                               1   \n",
       "param_kernel                                            rbf   \n",
       "params              {'C': 100, 'gamma': 1, 'kernel': 'rbf'}   \n",
       "split0_test_score                                  0.916667   \n",
       "split1_test_score                                         1   \n",
       "split2_test_score                                         1   \n",
       "split3_test_score                                  0.863636   \n",
       "split4_test_score                                  0.952381   \n",
       "mean_test_score                                    0.946429   \n",
       "std_test_score                                    0.0519227   \n",
       "rank_test_score                                          11   \n",
       "split0_train_score                                        1   \n",
       "split1_train_score                                        1   \n",
       "split2_train_score                                        1   \n",
       "split3_train_score                                        1   \n",
       "split4_train_score                                        1   \n",
       "mean_train_score                                          1   \n",
       "std_train_score                                           0   \n",
       "\n",
       "                                                          34  \\\n",
       "mean_fit_time                                    0.000592232   \n",
       "std_fit_time                                     9.38942e-05   \n",
       "mean_score_time                                  0.000201416   \n",
       "std_score_time                                   1.43957e-05   \n",
       "param_C                                                  100   \n",
       "param_gamma                                               10   \n",
       "param_kernel                                             rbf   \n",
       "params              {'C': 100, 'gamma': 10, 'kernel': 'rbf'}   \n",
       "split0_test_score                                      0.875   \n",
       "split1_test_score                                   0.956522   \n",
       "split2_test_score                                          1   \n",
       "split3_test_score                                   0.818182   \n",
       "split4_test_score                                   0.952381   \n",
       "mean_test_score                                     0.919643   \n",
       "std_test_score                                     0.0647906   \n",
       "rank_test_score                                           17   \n",
       "split0_train_score                                         1   \n",
       "split1_train_score                                         1   \n",
       "split2_train_score                                         1   \n",
       "split3_train_score                                         1   \n",
       "split4_train_score                                         1   \n",
       "mean_train_score                                           1   \n",
       "std_train_score                                            0   \n",
       "\n",
       "                                                           35  \\\n",
       "mean_fit_time                                     0.000857353   \n",
       "std_fit_time                                      0.000283587   \n",
       "mean_score_time                                   0.000250196   \n",
       "std_score_time                                    2.22324e-05   \n",
       "param_C                                                   100   \n",
       "param_gamma                                               100   \n",
       "param_kernel                                              rbf   \n",
       "params              {'C': 100, 'gamma': 100, 'kernel': 'rbf'}   \n",
       "split0_test_score                                    0.541667   \n",
       "split1_test_score                                    0.521739   \n",
       "split2_test_score                                    0.590909   \n",
       "split3_test_score                                    0.590909   \n",
       "split4_test_score                                    0.619048   \n",
       "mean_test_score                                      0.571429   \n",
       "std_test_score                                      0.0356525   \n",
       "rank_test_score                                            24   \n",
       "split0_train_score                                          1   \n",
       "split1_train_score                                          1   \n",
       "split2_train_score                                          1   \n",
       "split3_train_score                                          1   \n",
       "split4_train_score                                          1   \n",
       "mean_train_score                                            1   \n",
       "std_train_score                                             0   \n",
       "\n",
       "                                                  36  \\\n",
       "mean_fit_time                            0.000523615   \n",
       "std_fit_time                             0.000123723   \n",
       "mean_score_time                          0.000214624   \n",
       "std_score_time                           2.18053e-05   \n",
       "param_C                                        0.001   \n",
       "param_gamma                                      NaN   \n",
       "param_kernel                                  linear   \n",
       "params              {'C': 0.001, 'kernel': 'linear'}   \n",
       "split0_test_score                              0.375   \n",
       "split1_test_score                           0.347826   \n",
       "split2_test_score                           0.363636   \n",
       "split3_test_score                           0.363636   \n",
       "split4_test_score                           0.380952   \n",
       "mean_test_score                             0.366071   \n",
       "std_test_score                             0.0113708   \n",
       "rank_test_score                                   27   \n",
       "split0_train_score                          0.363636   \n",
       "split1_train_score                          0.370787   \n",
       "split2_train_score                          0.366667   \n",
       "split3_train_score                          0.366667   \n",
       "split4_train_score                          0.362637   \n",
       "mean_train_score                            0.366079   \n",
       "std_train_score                           0.00285176   \n",
       "\n",
       "                                                 37  \\\n",
       "mean_fit_time                           0.000410223   \n",
       "std_fit_time                            6.08076e-05   \n",
       "mean_score_time                         0.000214195   \n",
       "std_score_time                          3.78486e-05   \n",
       "param_C                                        0.01   \n",
       "param_gamma                                     NaN   \n",
       "param_kernel                                 linear   \n",
       "params              {'C': 0.01, 'kernel': 'linear'}   \n",
       "split0_test_score                          0.916667   \n",
       "split1_test_score                          0.826087   \n",
       "split2_test_score                          0.818182   \n",
       "split3_test_score                          0.772727   \n",
       "split4_test_score                          0.904762   \n",
       "mean_test_score                            0.848214   \n",
       "std_test_score                            0.0547783   \n",
       "rank_test_score                                  21   \n",
       "split0_train_score                         0.886364   \n",
       "split1_train_score                          0.88764   \n",
       "split2_train_score                         0.866667   \n",
       "split3_train_score                         0.755556   \n",
       "split4_train_score                         0.879121   \n",
       "mean_train_score                           0.855069   \n",
       "std_train_score                           0.0503114   \n",
       "\n",
       "                                                38  \\\n",
       "mean_fit_time                          0.000350046   \n",
       "std_fit_time                           4.65537e-05   \n",
       "mean_score_time                         0.00024786   \n",
       "std_score_time                         0.000108142   \n",
       "param_C                                        0.1   \n",
       "param_gamma                                    NaN   \n",
       "param_kernel                                linear   \n",
       "params              {'C': 0.1, 'kernel': 'linear'}   \n",
       "split0_test_score                         0.958333   \n",
       "split1_test_score                         0.913043   \n",
       "split2_test_score                                1   \n",
       "split3_test_score                         0.909091   \n",
       "split4_test_score                         0.952381   \n",
       "mean_test_score                           0.946429   \n",
       "std_test_score                           0.0332185   \n",
       "rank_test_score                                 11   \n",
       "split0_train_score                        0.965909   \n",
       "split1_train_score                        0.977528   \n",
       "split2_train_score                        0.944444   \n",
       "split3_train_score                        0.977778   \n",
       "split4_train_score                        0.967033   \n",
       "mean_train_score                          0.966538   \n",
       "std_train_score                          0.0121316   \n",
       "\n",
       "                                              39  \\\n",
       "mean_fit_time                         0.00031414   \n",
       "std_fit_time                          1.4091e-05   \n",
       "mean_score_time                      0.000193357   \n",
       "std_score_time                        1.7461e-05   \n",
       "param_C                                        1   \n",
       "param_gamma                                  NaN   \n",
       "param_kernel                              linear   \n",
       "params              {'C': 1, 'kernel': 'linear'}   \n",
       "split0_test_score                              1   \n",
       "split1_test_score                       0.956522   \n",
       "split2_test_score                              1   \n",
       "split3_test_score                       0.954545   \n",
       "split4_test_score                       0.952381   \n",
       "mean_test_score                         0.973214   \n",
       "std_test_score                         0.0223995   \n",
       "rank_test_score                                1   \n",
       "split0_train_score                      0.988636   \n",
       "split1_train_score                      0.977528   \n",
       "split2_train_score                      0.977778   \n",
       "split3_train_score                      0.988889   \n",
       "split4_train_score                      0.989011   \n",
       "mean_train_score                        0.984368   \n",
       "std_train_score                       0.00548507   \n",
       "\n",
       "                                               40  \\\n",
       "mean_fit_time                         0.000300121   \n",
       "std_fit_time                          1.25349e-05   \n",
       "mean_score_time                       0.000174284   \n",
       "std_score_time                        1.49274e-06   \n",
       "param_C                                        10   \n",
       "param_gamma                                   NaN   \n",
       "param_kernel                               linear   \n",
       "params              {'C': 10, 'kernel': 'linear'}   \n",
       "split0_test_score                        0.958333   \n",
       "split1_test_score                               1   \n",
       "split2_test_score                               1   \n",
       "split3_test_score                        0.909091   \n",
       "split4_test_score                        0.952381   \n",
       "mean_test_score                          0.964286   \n",
       "std_test_score                          0.0338387   \n",
       "rank_test_score                                 3   \n",
       "split0_train_score                       0.988636   \n",
       "split1_train_score                       0.988764   \n",
       "split2_train_score                       0.977778   \n",
       "split3_train_score                       0.988889   \n",
       "split4_train_score                              1   \n",
       "mean_train_score                         0.988813   \n",
       "std_train_score                        0.00702801   \n",
       "\n",
       "                                                41  \n",
       "mean_fit_time                          0.000306225  \n",
       "std_fit_time                           2.49348e-05  \n",
       "mean_score_time                        0.000180292  \n",
       "std_score_time                         1.09001e-05  \n",
       "param_C                                        100  \n",
       "param_gamma                                    NaN  \n",
       "param_kernel                                linear  \n",
       "params              {'C': 100, 'kernel': 'linear'}  \n",
       "split0_test_score                         0.958333  \n",
       "split1_test_score                                1  \n",
       "split2_test_score                                1  \n",
       "split3_test_score                         0.909091  \n",
       "split4_test_score                         0.952381  \n",
       "mean_test_score                           0.964286  \n",
       "std_test_score                           0.0338387  \n",
       "rank_test_score                                  3  \n",
       "split0_train_score                        0.988636  \n",
       "split1_train_score                        0.988764  \n",
       "split2_train_score                        0.988889  \n",
       "split3_train_score                               1  \n",
       "split4_train_score                               1  \n",
       "mean_train_score                          0.993258  \n",
       "std_train_score                         0.00550551  \n",
       "\n",
       "[23 rows x 42 columns]"
      ]
     },
     "metadata": {},
     "output_type": "display_data"
    }
   ],
   "source": [
    "results = pd.DataFrame(grid_search.cv_results_)\n",
    "# we display the transposed table so that it better fits on the page:\n",
    "display(results.T)"
   ]
  },
  {
   "cell_type": "markdown",
   "metadata": {},
   "source": [
    "### 중첩 교차 검증\n",
    "- 내용 보강 할 것"
   ]
  },
  {
   "cell_type": "markdown",
   "metadata": {},
   "source": [
    "## 5.3 평가 지표와 측정 - Evaluation Metrics and Scoring\n",
    "\n",
    "### 5.3.1 생략\n",
    "\n",
    "### 5.3.2 이진 분류의 평가 지표\n",
    "\n",
    "- 이진 분류 : Positive class, Negative Class"
   ]
  },
  {
   "cell_type": "markdown",
   "metadata": {},
   "source": [
    "#### 에러의 종류\n",
    "\n",
    "정확도만으로 예측 성능을 측정하기에는 부족함\n",
    "\n",
    "\n",
    "- 암진단\n",
    "  - 양성 : 추가 검사 대상\n",
    "  - 음성 : 건강\n",
    "\n",
    "\n",
    "- 건강한 사람을 양성으로 분류하면...?\n",
    "  - 잘못된 양성 예측을 거짓 양성이라고 함\n",
    "  - false positive\n",
    "  - type 1 error\n",
    "\n",
    "\n",
    "- 암에 걸린 사람을 음성으로 분류\n",
    "  - 잘못된 음성 예측 오류를 거짓 음성이라고 함\n",
    "  - false negative\n",
    "  - type 2 error"
   ]
  },
  {
   "cell_type": "markdown",
   "metadata": {},
   "source": [
    "### Imbalanced datasets - 불균형 데이터셋\n",
    "- 한 클래스가 다른 것보다 훨씬 많은 데이터셋을 불균형 데이터셋이라고 함\n",
    "- 참고 : https://www.kaggle.com/janiobachmann/credit-fraud-dealing-with-imbalanced-datasets"
   ]
  },
  {
   "cell_type": "code",
   "execution_count": 41,
   "metadata": {},
   "outputs": [],
   "source": [
    "from sklearn.datasets import load_digits\n",
    "\n",
    "digits = load_digits()\n",
    "y = digits.target == 9 \n",
    "\n",
    "X_train, X_test, y_train, y_test = train_test_split(\n",
    "    digits.data, y, random_state=0)"
   ]
  },
  {
   "cell_type": "code",
   "execution_count": 42,
   "metadata": {},
   "outputs": [
    {
     "name": "stdout",
     "output_type": "stream",
     "text": [
      "Unique predicted labels: [False]\n",
      "Test score: 0.90\n"
     ]
    }
   ],
   "source": [
    "from sklearn.dummy import DummyClassifier\n",
    "\n",
    "dummy_majority = DummyClassifier(strategy='most_frequent').fit(X_train, y_train)\n",
    "pred_most_frequent = dummy_majority.predict(X_test)\n",
    "print(\"Unique predicted labels: {}\".format(np.unique(pred_most_frequent)))\n",
    "print(\"Test score: {:.2f}\".format(dummy_majority.score(X_test, y_test)))"
   ]
  },
  {
   "cell_type": "markdown",
   "metadata": {},
   "source": [
    "- 90%가 나올리가..."
   ]
  },
  {
   "cell_type": "code",
   "execution_count": 43,
   "metadata": {},
   "outputs": [
    {
     "name": "stdout",
     "output_type": "stream",
     "text": [
      "Test score: 0.92\n"
     ]
    }
   ],
   "source": [
    "from sklearn.tree import DecisionTreeClassifier\n",
    "\n",
    "tree = DecisionTreeClassifier(max_depth=2).fit(X_train, y_train)\n",
    "pred_tree = tree.predict(X_test)\n",
    "print(\"Test score: {:.2f}\".format(tree.score(X_test, y_test)))"
   ]
  },
  {
   "cell_type": "code",
   "execution_count": 44,
   "metadata": {},
   "outputs": [
    {
     "name": "stdout",
     "output_type": "stream",
     "text": [
      "dummy score: 0.82\n",
      "logreg score: 0.98\n"
     ]
    }
   ],
   "source": [
    "from sklearn.linear_model import LogisticRegression\n",
    "\n",
    "dummy = DummyClassifier().fit(X_train, y_train)\n",
    "pred_dummy = dummy.predict(X_test)\n",
    "print(\"dummy score: {:.2f}\".format(dummy.score(X_test, y_test)))\n",
    "\n",
    "logreg = LogisticRegression(C=0.1).fit(X_train, y_train)\n",
    "pred_logreg = logreg.predict(X_test)\n",
    "print(\"logreg score: {:.2f}\".format(logreg.score(X_test, y_test)))"
   ]
  },
  {
   "cell_type": "markdown",
   "metadata": {},
   "source": [
    "### Confusion matrix - 오차 행렬\n",
    "- 이진 분류 평가 결과를 나타낼 때 가장 널리 사용하는 방법 중 하나"
   ]
  },
  {
   "cell_type": "code",
   "execution_count": 45,
   "metadata": {},
   "outputs": [
    {
     "name": "stdout",
     "output_type": "stream",
     "text": [
      "[[401   2]\n",
      " [  8  39]]\n"
     ]
    }
   ],
   "source": [
    "from sklearn.metrics import confusion_matrix\n",
    "\n",
    "confusion_matrix_result = confusion_matrix(y_test, pred_logreg)\n",
    "print(confusion_matrix_result)"
   ]
  },
  {
   "cell_type": "code",
   "execution_count": 46,
   "metadata": {},
   "outputs": [
    {
     "data": {
      "image/png": "[encoded data removed]",
      "text/plain": [
       "<Figure size 576x576 with 1 Axes>"
      ]
     },
     "metadata": {
      "needs_background": "light"
     },
     "output_type": "display_data"
    }
   ],
   "source": [
    "mglearn.plots.plot_confusion_matrix_illustration()"
   ]
  },
  {
   "cell_type": "markdown",
   "metadata": {},
   "source": [
    "- 오차 행렬의 대각 행렬은 정확히 분류된 경우이고, 다른 항목은 한 클래스의 샘플들이 다른 클래스로 잘못 분류된 경우가 얼마나 많은지 알려줌\n",
    "  - 대각 형렬? : A[i, i] ex) A[0, 0], A[1, 1]\n",
    "- https://scikit-learn.org/stable/modules/generated/sklearn.metrics.confusion_matrix.html"
   ]
  },
  {
   "cell_type": "code",
   "execution_count": 47,
   "metadata": {},
   "outputs": [
    {
     "data": {
      "text/plain": [
       "array([[2, 0, 0],\n",
       "       [0, 0, 1],\n",
       "       [1, 0, 2]])"
      ]
     },
     "execution_count": 47,
     "metadata": {},
     "output_type": "execute_result"
    }
   ],
   "source": [
    "y_true = [2, 0, 2, 2, 0, 1]\n",
    "y_pred = [0, 0, 2, 2, 0, 2]\n",
    "confusion_matrix(y_true, y_pred)"
   ]
  },
  {
   "cell_type": "code",
   "execution_count": 48,
   "metadata": {},
   "outputs": [
    {
     "data": {
      "text/plain": [
       "(0, 2, 1, 1)"
      ]
     },
     "execution_count": 48,
     "metadata": {},
     "output_type": "execute_result"
    }
   ],
   "source": [
    "tn, fp, fn, tp = confusion_matrix([0, 1, 0, 1], [1, 1, 1, 0]).ravel()\n",
    "(tn, fp, fn, tp)"
   ]
  },
  {
   "cell_type": "code",
   "execution_count": 49,
   "metadata": {},
   "outputs": [
    {
     "data": {
      "image/png": "[encoded data removed]",
      "text/plain": [
       "<Figure size 432x288 with 1 Axes>"
      ]
     },
     "metadata": {
      "needs_background": "light"
     },
     "output_type": "display_data"
    }
   ],
   "source": [
    "mglearn.plots.plot_binary_confusion_matrix()"
   ]
  },
  {
   "cell_type": "markdown",
   "metadata": {},
   "source": [
    "- TP : 양성 클래스를 양성으로 예측함\n",
    "- TN : 음성 클래스를 음성으로 예측함\n",
    "- FP : 음성 클래스를 양성으로 잘못 예측함\n",
    "- FN : 양성 클래스를 음성으로 잘못 예측함"
   ]
  },
  {
   "cell_type": "code",
   "execution_count": 50,
   "metadata": {},
   "outputs": [
    {
     "name": "stdout",
     "output_type": "stream",
     "text": [
      "Most frequent class:\n",
      "[[403   0]\n",
      " [ 47   0]]\n",
      "\n",
      "Dummy model:\n",
      "[[362  41]\n",
      " [ 40   7]]\n",
      "\n",
      "Decision tree:\n",
      "[[390  13]\n",
      " [ 24  23]]\n",
      "\n",
      "Logistic Regression\n",
      "[[401   2]\n",
      " [  8  39]]\n"
     ]
    }
   ],
   "source": [
    "print(\"Most frequent class:\")\n",
    "print(confusion_matrix(y_test, pred_most_frequent))\n",
    "print(\"\\nDummy model:\")\n",
    "print(confusion_matrix(y_test, pred_dummy))\n",
    "print(\"\\nDecision tree:\")\n",
    "print(confusion_matrix(y_test, pred_tree))\n",
    "print(\"\\nLogistic Regression\")\n",
    "print(confusion_matrix(y_test, pred_logreg))"
   ]
  },
  {
   "cell_type": "markdown",
   "metadata": {},
   "source": [
    "#### 정확도와의 관계\n",
    "\n",
    "정확도 - accuracy\n",
    "- (TP + TN) / (TP + TN + FP + FN)\n",
    "- 정확도는 정확히 예측한 수(TP와 TN)를 전체 샘플 수(오차 행렬 모든 항목의 합)로 나눈 것\n",
    "- 예측이 정답과 얼마나 정확한가?\n",
    "\n",
    "#### 정밀도, 재현율, f-점수\n",
    "\n",
    "**정밀도 - precision**\n",
    "- 양성으로 예측된 것(TP + FP) 중 얼마나 많은 샘플이 진짜 양성(TP)인지 측정\n",
    "- 예측한 것중에 정답의 비율은?\n",
    "- TP / (TP + FP)\n",
    "- precision은 FP를 줄이는 것이 목표일 때 성능 지표로 사용\n",
    "- 예를 들어 임상 실험을 통해 신약의 치료 효과를 예측하는 모델이 있다고 함\n",
    "  - 단 한 번의 실험으로 결과 잘 나오길 기대\n",
    "  - 이럴 경우 거짓 양성(FP)이 많이 안 나오는게 중요\n",
    "  - 다른 말로 하면 높은 정밀도가 필요\n",
    "- 정밀도는 그래서 PPV - 양성 예측도 라고 함\n",
    "  - Positive Predictive Value\n",
    "\n",
    "**재현율 - recall**\n",
    "- 모든 양성 샘플을 식별해야 할 때 성능 지표로 사용\n",
    "- 찾아야 할 것중에 실제로 찾은 비율은?\n",
    "- 즉 거짓 음성(FN)을 피하는 것이 중요할 때 사용\n",
    "- TP / (TP + FN)\n",
    "- 예를 들면 건강한 사람이 일부 포함되더라도 암에 걸린 사람을 빠짐 없이 찾는 것\n",
    "- 민감도(sensitivity), 적중률(hit rate), True Positive rate(TPR) 이라고도 함\n",
    "\n",
    "presision과 recall은 상충함\n",
    "- 그래서 둘 중 하나만으로 전체 그림을 볼 수는 없음\n",
    "\n",
    "\n",
    "**f-점수 - f1-score**\n",
    "- presision과 recall의 조화 평균은 f1-score을 이용함\n",
    "- 두 항목을 같이 고려하므로 불균형한 이진 분류 데이터셋에서는 정확도보다 나은 지표가 될 수 있음\n",
    "\n",
    "\n",
    "참고\n",
    "- https://en.wikipedia.org/wiki/Confusion_matrix\n",
    "- https://nittaku.tistory.com/295\n",
    "- https://sumniya.tistory.com/26"
   ]
  },
  {
   "cell_type": "markdown",
   "metadata": {},
   "source": [
    "<img src=\"confusion_matrix_note.PNG\">"
   ]
  },
  {
   "cell_type": "markdown",
   "metadata": {},
   "source": [
    "<img src=\"confusion_matrix_wiki.png\">"
   ]
  },
  {
   "cell_type": "code",
   "execution_count": 52,
   "metadata": {},
   "outputs": [
    {
     "name": "stdout",
     "output_type": "stream",
     "text": [
      "빈도 기반 더미 모델의 f1 score: 0.00\n",
      "무작위 더미 모델의 f1 score: 0.15\n",
      "트리 모델의 f1 score: 0.55\n",
      "로지스틱 회귀 모델의 f1 score: 0.89\n"
     ]
    }
   ],
   "source": [
    "from sklearn.metrics import f1_score\n",
    "print(\"빈도 기반 더미 모델의 f1 score: {:.2f}\".format(\n",
    "    f1_score(y_test, pred_most_frequent)))\n",
    "print(\"무작위 더미 모델의 f1 score: {:.2f}\".format(f1_score(y_test, pred_dummy)))\n",
    "print(\"트리 모델의 f1 score: {:.2f}\".format(f1_score(y_test, pred_tree)))\n",
    "print(\"로지스틱 회귀 모델의 f1 score: {:.2f}\".format(\n",
    "    f1_score(y_test, pred_logreg)))"
   ]
  },
  {
   "cell_type": "code",
   "execution_count": 53,
   "metadata": {},
   "outputs": [
    {
     "name": "stdout",
     "output_type": "stream",
     "text": [
      "              precision    recall  f1-score   support\n",
      "\n",
      "        9 아님       0.90      1.00      0.94       403\n",
      "           9       0.00      0.00      0.00        47\n",
      "\n",
      "   micro avg       0.90      0.90      0.90       450\n",
      "   macro avg       0.45      0.50      0.47       450\n",
      "weighted avg       0.80      0.90      0.85       450\n",
      "\n"
     ]
    }
   ],
   "source": [
    "from sklearn.metrics import classification_report\n",
    "print(classification_report(y_test, pred_most_frequent,\n",
    "                            target_names=[\"9 아님\", \"9\"]))"
   ]
  },
  {
   "cell_type": "code",
   "execution_count": 54,
   "metadata": {},
   "outputs": [
    {
     "name": "stdout",
     "output_type": "stream",
     "text": [
      "              precision    recall  f1-score   support\n",
      "\n",
      "        9 아님       0.90      0.90      0.90       403\n",
      "           9       0.15      0.15      0.15        47\n",
      "\n",
      "   micro avg       0.82      0.82      0.82       450\n",
      "   macro avg       0.52      0.52      0.52       450\n",
      "weighted avg       0.82      0.82      0.82       450\n",
      "\n"
     ]
    }
   ],
   "source": [
    "print(classification_report(y_test, pred_dummy,\n",
    "                            target_names=[\"9 아님\", \"9\"]))"
   ]
  },
  {
   "cell_type": "code",
   "execution_count": 55,
   "metadata": {},
   "outputs": [
    {
     "name": "stdout",
     "output_type": "stream",
     "text": [
      "              precision    recall  f1-score   support\n",
      "\n",
      "        9 아님       0.98      1.00      0.99       403\n",
      "           9       0.95      0.83      0.89        47\n",
      "\n",
      "   micro avg       0.98      0.98      0.98       450\n",
      "   macro avg       0.97      0.91      0.94       450\n",
      "weighted avg       0.98      0.98      0.98       450\n",
      "\n"
     ]
    }
   ],
   "source": [
    "print(classification_report(y_test, pred_logreg,\n",
    "                            target_names=[\"9 아님\", \"9\"]))"
   ]
  },
  {
   "cell_type": "markdown",
   "metadata": {},
   "source": [
    "### 불확실성 고려\n",
    "- 내용 추가 예정"
   ]
  },
  {
   "cell_type": "code",
   "execution_count": 57,
   "metadata": {},
   "outputs": [],
   "source": [
    "X, y = make_blobs(n_samples=(400, 50), cluster_std=[7.0, 2], random_state=22)\n",
    "X_train, X_test, y_train, y_test = train_test_split(X, y, random_state=0)\n",
    "svc = SVC(gamma=.05).fit(X_train, y_train)        "
   ]
  },
  {
   "cell_type": "markdown",
   "metadata": {},
   "source": [
    "---------"
   ]
  },
  {
   "cell_type": "markdown",
   "metadata": {},
   "source": [
    "### 정밀도-재현율 곡선과 ROC 곡선\n",
    "\n",
    "- 운영포인트(operating point) : 분류기의 필요조건을 지정 하는 것\n",
    "- 명확하지 않은 경우가 많음\n",
    "- 이런 경우 문제를 더 잘 이해하기 위해 모든 임계값을 조사해보거나, 한 번에 정밀도나 재현율의 모든 장단점을 살펴보는 것이 좋음\n",
    "\n",
    "\n",
    "#### precision - recall curve : 정밀도 - 재현율 곡선"
   ]
  },
  {
   "cell_type": "code",
   "execution_count": 58,
   "metadata": {},
   "outputs": [],
   "source": [
    "from sklearn.metrics import precision_recall_curve\n",
    "precision, recall, thresholds = precision_recall_curve(\n",
    "    y_test, svc.decision_function(X_test))"
   ]
  },
  {
   "cell_type": "code",
   "execution_count": 59,
   "metadata": {},
   "outputs": [
    {
     "data": {
      "text/plain": [
       "<matplotlib.legend.Legend at 0x1c1af5ef60>"
      ]
     },
     "execution_count": 59,
     "metadata": {},
     "output_type": "execute_result"
    },
    {
     "data": {
      "image/png": "[encoded data removed]",
      "text/plain": [
       "<Figure size 432x288 with 1 Axes>"
      ]
     },
     "metadata": {
      "needs_background": "light"
     },
     "output_type": "display_data"
    }
   ],
   "source": [
    "# 부드러운 곡선을 위해 데이터 포인트 수를 늘립니다\n",
    "X, y = make_blobs(n_samples=(4000, 500), cluster_std=[7.0, 2], random_state=22)\n",
    "X_train, X_test, y_train, y_test = train_test_split(X, y, random_state=0)\n",
    "\n",
    "svc = SVC(gamma=.05).fit(X_train, y_train)\n",
    "\n",
    "precision, recall, thresholds = precision_recall_curve(\n",
    "    y_test, svc.decision_function(X_test))\n",
    "# 0에 가까운 임계값을 찾습니다\n",
    "close_zero = np.argmin(np.abs(thresholds))\n",
    "plt.plot(precision[close_zero], recall[close_zero], 'o', markersize=10,\n",
    "         label=\"임계값 0\", fillstyle=\"none\", c='k', mew=2)\n",
    "\n",
    "plt.plot(precision, recall, label=\"정밀도-재현율 곡선\")\n",
    "plt.xlabel(\"정밀도\")\n",
    "plt.ylabel(\"재현율\")\n",
    "plt.legend(loc=\"best\")"
   ]
  },
  {
   "cell_type": "markdown",
   "metadata": {},
   "source": [
    "- 곡선이 오른쪽 위로 갈수록 더 좋은 분류기\n",
    "- 오른쪽 위 지점은 한 임계값에서 정밀도와 재현율이 모두 높은 곳\n",
    "- 곡선의 임계값이 매우 낮아 전부 양성 클래스가 되는 왼쪽 위에서 시작\n",
    "- 임계값이 커지면서 곡선은 정밀도가 높아지는 쪼그로 ㅣ동하지만 재현율은 낮아짐\n",
    "- 임계값을 높일수록 ㅑㅇ성으로 분류된 포인트 대부분이 진짜 양성(TP)이 되며, 정밀도가 매우 높아지지만 재현율은 낮아짐\n",
    "- **정밀도가 높아져도 재현율이 높게 유지될수록 더 좋은 모델**"
   ]
  },
  {
   "cell_type": "code",
   "execution_count": 60,
   "metadata": {},
   "outputs": [
    {
     "data": {
      "text/plain": [
       "<matplotlib.legend.Legend at 0x1c1b058860>"
      ]
     },
     "execution_count": 60,
     "metadata": {},
     "output_type": "execute_result"
    },
    {
     "data": {
      "image/png": "[encoded data removed]",
      "text/plain": [
       "<Figure size 432x288 with 1 Axes>"
      ]
     },
     "metadata": {
      "needs_background": "light"
     },
     "output_type": "display_data"
    }
   ],
   "source": [
    "from sklearn.ensemble import RandomForestClassifier\n",
    "\n",
    "rf = RandomForestClassifier(n_estimators=100, random_state=0, max_features=2)\n",
    "rf.fit(X_train, y_train)\n",
    "\n",
    "# RandomForestClassifier는 decision_function 대신 predict_proba를 제공합니다.\n",
    "precision_rf, recall_rf, thresholds_rf = precision_recall_curve(\n",
    "    y_test, rf.predict_proba(X_test)[:, 1])\n",
    "\n",
    "plt.plot(precision, recall, label=\"svc\")\n",
    "\n",
    "plt.plot(precision[close_zero], recall[close_zero], 'o', markersize=10,\n",
    "         label=\"svc: 임계값 0\", fillstyle=\"none\", c='k', mew=2)\n",
    "\n",
    "plt.plot(precision_rf, recall_rf, label=\"rf\")\n",
    "\n",
    "close_default_rf = np.argmin(np.abs(thresholds_rf - 0.5))\n",
    "plt.plot(precision_rf[close_default_rf], recall_rf[close_default_rf], '^', c='k',\n",
    "         markersize=10, label=\"rf: 임계값 0.5\", fillstyle=\"none\", mew=2)\n",
    "plt.xlabel(\"정밀도\")\n",
    "plt.ylabel(\"재현율\")\n",
    "plt.legend(loc=\"best\")"
   ]
  },
  {
   "cell_type": "code",
   "execution_count": 61,
   "metadata": {},
   "outputs": [
    {
     "name": "stdout",
     "output_type": "stream",
     "text": [
      "랜덤 포레스트의 f1_score: 0.610\n",
      "svc의 f1_score: 0.656\n"
     ]
    }
   ],
   "source": [
    "print(\"랜덤 포레스트의 f1_score: {:.3f}\".format(\n",
    "    f1_score(y_test, rf.predict(X_test))))\n",
    "print(\"svc의 f1_score: {:.3f}\".format(f1_score(y_test, svc.predict(X_test))))"
   ]
  },
  {
   "cell_type": "code",
   "execution_count": 62,
   "metadata": {},
   "outputs": [
    {
     "name": "stdout",
     "output_type": "stream",
     "text": [
      "랜덤 포레스트의 평균 정밀도: 0.660\n",
      "svc의 평균 정밀도: 0.666\n"
     ]
    }
   ],
   "source": [
    "from sklearn.metrics import average_precision_score\n",
    "ap_rf = average_precision_score(y_test, rf.predict_proba(X_test)[:, 1])\n",
    "ap_svc = average_precision_score(y_test, svc.decision_function(X_test))\n",
    "print(\"랜덤 포레스트의 평균 정밀도: {:.3f}\".format(ap_rf))\n",
    "print(\"svc의 평균 정밀도: {:.3f}\".format(ap_svc))"
   ]
  },
  {
   "cell_type": "markdown",
   "metadata": {},
   "source": [
    "### ROC 곡선\n",
    "- 여러 임계값에서 분류기의 트성을 분석하는 데 널리 사용하는 도구\n",
    "- 모든 임계값을 고려\n",
    "- 진짜 양성 비율(TPR)에 대한 거짓 양성 비율(FPR)을 나타냄\n",
    "  - TPR = recall\n",
    "  - FPR = FP / (FP + TN)"
   ]
  },
  {
   "cell_type": "code",
   "execution_count": 63,
   "metadata": {},
   "outputs": [
    {
     "data": {
      "text/plain": [
       "<matplotlib.legend.Legend at 0x1c1b0d8da0>"
      ]
     },
     "execution_count": 63,
     "metadata": {},
     "output_type": "execute_result"
    },
    {
     "data": {
      "image/png": "[encoded data removed]",
      "text/plain": [
       "<Figure size 432x288 with 1 Axes>"
      ]
     },
     "metadata": {
      "needs_background": "light"
     },
     "output_type": "display_data"
    }
   ],
   "source": [
    "from sklearn.metrics import roc_curve\n",
    "fpr, tpr, thresholds = roc_curve(y_test, svc.decision_function(X_test))\n",
    "\n",
    "plt.plot(fpr, tpr, label=\"ROC 곡선\")\n",
    "plt.xlabel(\"FPR\")\n",
    "plt.ylabel(\"TPR (재현율)\")\n",
    "# 0 근처의 임계값을 찾습니다\n",
    "close_zero = np.argmin(np.abs(thresholds))\n",
    "plt.plot(fpr[close_zero], tpr[close_zero], 'o', markersize=10,\n",
    "         label=\"임계값 0\", fillstyle=\"none\", c='k', mew=2)\n",
    "plt.legend(loc=4)"
   ]
  },
  {
   "cell_type": "markdown",
   "metadata": {},
   "source": [
    "- ROC 곡선은 왼쪽 위에 가까울수록 이상적\n",
    "- 거짓 양성 비율(FPR)이 낮게 유지 되면서 재현율이 높은 분류기가 좋은 것"
   ]
  },
  {
   "cell_type": "code",
   "execution_count": 64,
   "metadata": {},
   "outputs": [
    {
     "data": {
      "text/plain": [
       "<matplotlib.legend.Legend at 0x1c1a19fa58>"
      ]
     },
     "execution_count": 64,
     "metadata": {},
     "output_type": "execute_result"
    },
    {
     "data": {
      "image/png": "[encoded data removed]",
      "text/plain": [
       "<Figure size 432x288 with 1 Axes>"
      ]
     },
     "metadata": {
      "needs_background": "light"
     },
     "output_type": "display_data"
    }
   ],
   "source": [
    "fpr_rf, tpr_rf, thresholds_rf = roc_curve(y_test, rf.predict_proba(X_test)[:, 1])\n",
    "\n",
    "plt.plot(fpr, tpr, label=\"SVC의 ROC 곡선\")\n",
    "plt.plot(fpr_rf, tpr_rf, label=\"RF의 ROC 곡선\")\n",
    "\n",
    "plt.xlabel(\"FPR\")\n",
    "plt.ylabel(\"TPR (재현율)\")\n",
    "plt.plot(fpr[close_zero], tpr[close_zero], 'o', markersize=10,\n",
    "         label=\"SVC 임계값 0\", fillstyle=\"none\", c='k', mew=2)\n",
    "close_default_rf = np.argmin(np.abs(thresholds_rf - 0.5))\n",
    "plt.plot(fpr_rf[close_default_rf], tpr[close_default_rf], '^', markersize=10,\n",
    "         label=\"RF 임계값 0.5\", fillstyle=\"none\", c='k', mew=2)\n",
    "\n",
    "plt.legend(loc=4)"
   ]
  },
  {
   "cell_type": "markdown",
   "metadata": {},
   "source": [
    "- 곡선 아래의 면적값 하나로 ROC 곡선을 요약할 때가 많음\n",
    "- 이 면적을 보통 AUC(area under the curve)\n",
    "  - AUC는 0과 1사이의 곡선 아래 면적이므로 항상 0(최악)과 1(최선) 사이의 값을 가짐\n",
    "  - 아무리 클래스가 불균형하더라도 무작위로 예측한 AUC 값은 0.5가 됨(값이 같으면 결국 일직선이 되니까)\n",
    "- 불균형 데이터셋에서는 정확도보다 AUC가 훨씬 좋은 지표\n",
    "  - AUC는 양성 샘플의 순위를 평가하는 것으로 볼 수 있다.\n",
    "  - 이는 분류기에서 ㅜ작위로 선택한 양성 클래스 포인트의 점수가 무작위로 선택한 음성 클래스 포인트의 점수보다 높을 확률과 같다.\n",
    "  - 그래서 AUC가 1일 때는 모든 양성 포인트의 점수가 모든 음성 포인트의 점수보다 높다."
   ]
  },
  {
   "cell_type": "code",
   "execution_count": 65,
   "metadata": {},
   "outputs": [
    {
     "name": "stdout",
     "output_type": "stream",
     "text": [
      "랜덤 포레스트의 AUC: 0.937\n",
      "SVC의 AUC: 0.916\n"
     ]
    }
   ],
   "source": [
    "from sklearn.metrics import roc_auc_score\n",
    "rf_auc = roc_auc_score(y_test, rf.predict_proba(X_test)[:, 1])\n",
    "svc_auc = roc_auc_score(y_test, svc.decision_function(X_test))\n",
    "print(\"랜덤 포레스트의 AUC: {:.3f}\".format(rf_auc))\n",
    "print(\"SVC의 AUC: {:.3f}\".format(svc_auc))"
   ]
  },
  {
   "cell_type": "code",
   "execution_count": 66,
   "metadata": {},
   "outputs": [
    {
     "name": "stdout",
     "output_type": "stream",
     "text": [
      "gamma = 1.00  정확도 = 0.90  AUC = 0.50\n",
      "gamma = 0.10  정확도 = 0.90  AUC = 0.96\n",
      "gamma = 0.01  정확도 = 0.90  AUC = 1.00\n"
     ]
    },
    {
     "data": {
      "text/plain": [
       "<matplotlib.legend.Legend at 0x1c1a7d18d0>"
      ]
     },
     "execution_count": 66,
     "metadata": {},
     "output_type": "execute_result"
    },
    {
     "data": {
      "image/png": "[encoded data removed]",
      "text/plain": [
       "<Figure size 432x288 with 1 Axes>"
      ]
     },
     "metadata": {
      "needs_background": "light"
     },
     "output_type": "display_data"
    }
   ],
   "source": [
    "y = digits.target == 9\n",
    "\n",
    "X_train, X_test, y_train, y_test = train_test_split(\n",
    "    digits.data, y, random_state=0)\n",
    "\n",
    "plt.figure()\n",
    "\n",
    "for gamma in [1, 0.1, 0.01]:\n",
    "    svc = SVC(gamma=gamma).fit(X_train, y_train)\n",
    "    accuracy = svc.score(X_test, y_test)\n",
    "    auc = roc_auc_score(y_test, svc.decision_function(X_test))\n",
    "    fpr, tpr, _ = roc_curve(y_test , svc.decision_function(X_test))\n",
    "    print(\"gamma = {:.2f}  정확도 = {:.2f}  AUC = {:.2f}\".format(\n",
    "        gamma, accuracy, auc))\n",
    "    plt.plot(fpr, tpr, label=\"gamma={:.2f}\".format(gamma))\n",
    "plt.xlabel(\"FPR\")\n",
    "plt.ylabel(\"TPR\")\n",
    "plt.xlim(-0.01, 1)\n",
    "plt.ylim(0, 1.02)\n",
    "plt.legend(loc=\"best\")"
   ]
  },
  {
   "cell_type": "markdown",
   "metadata": {},
   "source": [
    "### 5.3.3 다중 분류의 평가 지표\n",
    "\n",
    "- 다중 분류는 이진 분류를 기반으로 유래\n",
    "- 다만 해석이 어려움"
   ]
  },
  {
   "cell_type": "code",
   "execution_count": 67,
   "metadata": {},
   "outputs": [
    {
     "name": "stdout",
     "output_type": "stream",
     "text": [
      "정확도: 0.953\n",
      "오차 행렬:\n",
      " [[37  0  0  0  0  0  0  0  0  0]\n",
      " [ 0 39  0  0  0  0  2  0  2  0]\n",
      " [ 0  0 41  3  0  0  0  0  0  0]\n",
      " [ 0  0  1 43  0  0  0  0  0  1]\n",
      " [ 0  0  0  0 38  0  0  0  0  0]\n",
      " [ 0  1  0  0  0 47  0  0  0  0]\n",
      " [ 0  0  0  0  0  0 52  0  0  0]\n",
      " [ 0  1  0  1  1  0  0 45  0  0]\n",
      " [ 0  3  1  0  0  0  0  0 43  1]\n",
      " [ 0  0  0  1  0  1  0  0  1 44]]\n"
     ]
    }
   ],
   "source": [
    "from sklearn.metrics import accuracy_score\n",
    "\n",
    "X_train, X_test, y_train, y_test = train_test_split(\n",
    "    digits.data, digits.target, random_state=0)\n",
    "\n",
    "lr = LogisticRegression(solver='liblinear', multi_class='ovr').fit(X_train, y_train)\n",
    "pred = lr.predict(X_test)\n",
    "\n",
    "print(\"정확도: {:.3f}\".format(accuracy_score(y_test, pred)))\n",
    "print(\"오차 행렬:\\n\", confusion_matrix(y_test, pred))"
   ]
  },
  {
   "cell_type": "code",
   "execution_count": 68,
   "metadata": {},
   "outputs": [
    {
     "data": {
      "image/png": "[encoded data removed]",
      "text/plain": [
       "<Figure size 432x288 with 1 Axes>"
      ]
     },
     "metadata": {
      "needs_background": "light"
     },
     "output_type": "display_data"
    }
   ],
   "source": [
    "scores_image = mglearn.tools.heatmap(\n",
    "    confusion_matrix(y_test, pred), xlabel='예측 레이블',\n",
    "    ylabel='진짜 레이블', xticklabels=digits.target_names,\n",
    "    yticklabels=digits.target_names, cmap=plt.cm.gray_r, fmt=\"%d\")    \n",
    "plt.title(\"오차 행렬\")\n",
    "plt.gca().invert_yaxis()"
   ]
  },
  {
   "cell_type": "code",
   "execution_count": 69,
   "metadata": {},
   "outputs": [
    {
     "name": "stdout",
     "output_type": "stream",
     "text": [
      "              precision    recall  f1-score   support\n",
      "\n",
      "           0       1.00      1.00      1.00        37\n",
      "           1       0.89      0.91      0.90        43\n",
      "           2       0.95      0.93      0.94        44\n",
      "           3       0.90      0.96      0.92        45\n",
      "           4       0.97      1.00      0.99        38\n",
      "           5       0.98      0.98      0.98        48\n",
      "           6       0.96      1.00      0.98        52\n",
      "           7       1.00      0.94      0.97        48\n",
      "           8       0.93      0.90      0.91        48\n",
      "           9       0.96      0.94      0.95        47\n",
      "\n",
      "   micro avg       0.95      0.95      0.95       450\n",
      "   macro avg       0.95      0.95      0.95       450\n",
      "weighted avg       0.95      0.95      0.95       450\n",
      "\n"
     ]
    }
   ],
   "source": [
    "print(classification_report(y_test, pred))"
   ]
  },
  {
   "cell_type": "markdown",
   "metadata": {},
   "source": [
    "- 0은 오차가 없으므로 1이 나옴\n",
    "- 클래스 7은 다른 클래스가 7로 잘못 분류한 것이 없어서 정밀도(precision)이 0\n",
    "- 클래스 6은 거짓 음성(FN)이 없어서 재현율(recall)이 1이다.\n",
    "- 이 모델은 1,3,8을 분류하는데 어려움을 겪는다."
   ]
  },
  {
   "cell_type": "markdown",
   "metadata": {},
   "source": [
    "다중 분류에서 불균형 데이터셋을 위해 가장 널리 사용하는 평가 지표는 f1-점수의 다중 분류 버전\n",
    "- 다중 클래스용 f1-score는 한 클래스를 야성 클래스로 두고 나머지 클래스들을 음성 클래스로 간주하여 클래스마다 f1-score 계산\n",
    "- 그런 다음 클래스 별로 클래스별 f1-score점수를 아래 전략 중 하나를 사용하여 평균 냄\n",
    "  - macro 평균 : 가중치 없이 동일한 비중으로 다룸\n",
    "  - weighted 평균 : 클래스별 샘플 수로 가중치를 두어 f1-score 평균 구함\n",
    "  - micro 평균 : 모든 클래스의 FP, FN, TP의 총수를 헤아린 다음 recall, precision, f1-score를 계산"
   ]
  },
  {
   "cell_type": "code",
   "execution_count": 70,
   "metadata": {},
   "outputs": [
    {
     "name": "stdout",
     "output_type": "stream",
     "text": [
      "micro 평균 f1 점수: 0.953\n",
      "macro 평균 f1 점수: 0.954\n"
     ]
    }
   ],
   "source": [
    "print(\"micro 평균 f1 점수: {:.3f}\".format(f1_score(y_test, pred, average=\"micro\")))\n",
    "print(\"macro 평균 f1 점수: {:.3f}\".format(f1_score(y_test, pred, average=\"macro\")))"
   ]
  },
  {
   "cell_type": "markdown",
   "metadata": {},
   "source": [
    "### 5.3.4 회귀의 평가 지표\n",
    "- 회귀 평가는 분류에서와 비슷하게 할 수 있음\n",
    "- 그러나 대부분 R^2(회귀선을 설명하는 공식)만 이용해도 충분\n",
    "- MSE, RMSE 등을 이용할수도 있음"
   ]
  },
  {
   "cell_type": "markdown",
   "metadata": {},
   "source": [
    "### 5.3.5 모델 선택에서 평가 지표 사용하기\n",
    "- GridSearchCV, cross_val_score를 사용하여 모델을 선택할 때, AUC 같은 평가 지표를 사용하고 싶은 경우가 많다.\n",
    "- 역시 구현해놓음"
   ]
  },
  {
   "cell_type": "code",
   "execution_count": 71,
   "metadata": {},
   "outputs": [
    {
     "name": "stdout",
     "output_type": "stream",
     "text": [
      "기본 평가 지표: [0.9        0.9        0.89972145 0.89972145 0.89972145]\n",
      "정확도 지표: [0.9        0.9        0.89972145 0.89972145 0.89972145]\n",
      "평균 정밀도 지표: [0.97968342 0.97740563 0.9781204  0.99040404 0.95507256]\n"
     ]
    }
   ],
   "source": [
    "# 분류의 기본 평가 지표는 정확도 입니다\n",
    "print(\"기본 평가 지표:\",\n",
    "      cross_val_score(SVC(), digits.data, digits.target == 9, cv=5))\n",
    "# scoring=\"accuracy\"의 결과와 같습니다.\n",
    "explicit_accuracy =  cross_val_score(SVC(), digits.data, digits.target == 9,\n",
    "                                     scoring=\"accuracy\", cv=5)\n",
    "print(\"정확도 지표:\", explicit_accuracy)\n",
    "ap =  cross_val_score(SVC(), digits.data, digits.target == 9,\n",
    "                           scoring=\"average_precision\", cv=5)\n",
    "print(\"평균 정밀도 지표:\", ap)"
   ]
  },
  {
   "cell_type": "code",
   "execution_count": 72,
   "metadata": {},
   "outputs": [
    {
     "data": {
      "text/html": [
       "<div>\n",
       "<style scoped>\n",
       "    .dataframe tbody tr th:only-of-type {\n",
       "        vertical-align: middle;\n",
       "    }\n",
       "\n",
       "    .dataframe tbody tr th {\n",
       "        vertical-align: top;\n",
       "    }\n",
       "\n",
       "    .dataframe thead th {\n",
       "        text-align: right;\n",
       "    }\n",
       "</style>\n",
       "<table border=\"1\" class=\"dataframe\">\n",
       "  <thead>\n",
       "    <tr style=\"text-align: right;\">\n",
       "      <th></th>\n",
       "      <th>fit_time</th>\n",
       "      <th>score_time</th>\n",
       "      <th>test_accuracy</th>\n",
       "      <th>train_accuracy</th>\n",
       "      <th>test_average_precision</th>\n",
       "      <th>train_average_precision</th>\n",
       "      <th>test_recall_macro</th>\n",
       "      <th>train_recall_macro</th>\n",
       "    </tr>\n",
       "  </thead>\n",
       "  <tbody>\n",
       "    <tr>\n",
       "      <th>0</th>\n",
       "      <td>0.170643</td>\n",
       "      <td>0.111651</td>\n",
       "      <td>0.900000</td>\n",
       "      <td>1.0</td>\n",
       "      <td>0.979683</td>\n",
       "      <td>1.0</td>\n",
       "      <td>0.5</td>\n",
       "      <td>1.0</td>\n",
       "    </tr>\n",
       "    <tr>\n",
       "      <th>1</th>\n",
       "      <td>0.165349</td>\n",
       "      <td>0.097501</td>\n",
       "      <td>0.900000</td>\n",
       "      <td>1.0</td>\n",
       "      <td>0.977406</td>\n",
       "      <td>1.0</td>\n",
       "      <td>0.5</td>\n",
       "      <td>1.0</td>\n",
       "    </tr>\n",
       "    <tr>\n",
       "      <th>2</th>\n",
       "      <td>0.161877</td>\n",
       "      <td>0.098433</td>\n",
       "      <td>0.899721</td>\n",
       "      <td>1.0</td>\n",
       "      <td>0.978120</td>\n",
       "      <td>1.0</td>\n",
       "      <td>0.5</td>\n",
       "      <td>1.0</td>\n",
       "    </tr>\n",
       "    <tr>\n",
       "      <th>3</th>\n",
       "      <td>0.160110</td>\n",
       "      <td>0.097818</td>\n",
       "      <td>0.899721</td>\n",
       "      <td>1.0</td>\n",
       "      <td>0.990404</td>\n",
       "      <td>1.0</td>\n",
       "      <td>0.5</td>\n",
       "      <td>1.0</td>\n",
       "    </tr>\n",
       "    <tr>\n",
       "      <th>4</th>\n",
       "      <td>0.160385</td>\n",
       "      <td>0.097913</td>\n",
       "      <td>0.899721</td>\n",
       "      <td>1.0</td>\n",
       "      <td>0.955073</td>\n",
       "      <td>1.0</td>\n",
       "      <td>0.5</td>\n",
       "      <td>1.0</td>\n",
       "    </tr>\n",
       "  </tbody>\n",
       "</table>\n",
       "</div>"
      ],
      "text/plain": [
       "   fit_time  score_time  test_accuracy  train_accuracy  \\\n",
       "0  0.170643    0.111651       0.900000             1.0   \n",
       "1  0.165349    0.097501       0.900000             1.0   \n",
       "2  0.161877    0.098433       0.899721             1.0   \n",
       "3  0.160110    0.097818       0.899721             1.0   \n",
       "4  0.160385    0.097913       0.899721             1.0   \n",
       "\n",
       "   test_average_precision  train_average_precision  test_recall_macro  \\\n",
       "0                0.979683                      1.0                0.5   \n",
       "1                0.977406                      1.0                0.5   \n",
       "2                0.978120                      1.0                0.5   \n",
       "3                0.990404                      1.0                0.5   \n",
       "4                0.955073                      1.0                0.5   \n",
       "\n",
       "   train_recall_macro  \n",
       "0                 1.0  \n",
       "1                 1.0  \n",
       "2                 1.0  \n",
       "3                 1.0  \n",
       "4                 1.0  "
      ]
     },
     "metadata": {},
     "output_type": "display_data"
    }
   ],
   "source": [
    "res = cross_validate(SVC(), digits.data, digits.target == 9,\n",
    "                     scoring=[\"accuracy\", \"average_precision\", \"recall_macro\"],\n",
    "                     return_train_score=True, cv=5)\n",
    "display(pd.DataFrame(res))"
   ]
  },
  {
   "cell_type": "code",
   "execution_count": 74,
   "metadata": {},
   "outputs": [
    {
     "name": "stdout",
     "output_type": "stream",
     "text": [
      "정확도 지표를 사용한 그리드 서치\n",
      "최적의 파라미터: {'gamma': 0.0001}\n",
      "최상의 교차 검증 점수 (정확도)): 0.970\n",
      "테스트 세트 평균 정밀도: 0.966\n",
      "테스트 세트 정확도: 0.973\n"
     ]
    }
   ],
   "source": [
    "X_train, X_test, y_train, y_test = train_test_split(\n",
    "    digits.data, digits.target == 9, random_state=0)\n",
    "\n",
    "# 일부러 적절하지 않은 그리드를 만듭니다\n",
    "param_grid = {'gamma': [0.0001, 0.01, 0.1, 1, 10]}\n",
    "\n",
    "# 기본 정확도 측정 지표를 사용합니다\n",
    "grid = GridSearchCV(SVC(), param_grid=param_grid)\n",
    "grid.fit(X_train, y_train)\n",
    "\n",
    "print(\"정확도 지표를 사용한 그리드 서치\")\n",
    "print(\"최적의 파라미터:\", grid.best_params_)\n",
    "print(\"최상의 교차 검증 점수 (정확도)): {:.3f}\".format(grid.best_score_))\n",
    "print(\"테스트 세트 평균 정밀도: {:.3f}\".format(\n",
    "      average_precision_score(y_test, grid.decision_function(X_test))))\n",
    "print(\"테스트 세트 정확도: {:.3f}\".format(\n",
    "      # grid.score 점수와 동일합니다\n",
    "      accuracy_score(y_test, grid.predict(X_test))))"
   ]
  },
  {
   "cell_type": "code",
   "execution_count": 75,
   "metadata": {},
   "outputs": [
    {
     "name": "stdout",
     "output_type": "stream",
     "text": [
      "평균 정밀도 지표를 사용한 그리드 서치\n",
      "최적의 파라미터: {'gamma': 0.01}\n",
      "최상의 교차 검증 점수 (평균 정밀도): 0.985\n",
      "테스트 세트 평균 정밀도: 0.996\n",
      "테스트 세트 정확도: 0.896\n"
     ]
    }
   ],
   "source": [
    "# 평균 정밀도 지표 사용\n",
    "grid = GridSearchCV(SVC(), param_grid=param_grid, scoring=\"average_precision\")\n",
    "grid.fit(X_train, y_train)\n",
    "\n",
    "print(\"평균 정밀도 지표를 사용한 그리드 서치\")\n",
    "print(\"최적의 파라미터:\", grid.best_params_)\n",
    "print(\"최상의 교차 검증 점수 (평균 정밀도): {:.3f}\".format(grid.best_score_))\n",
    "print(\"테스트 세트 평균 정밀도: {:.3f}\".format(\n",
    "      # grid.score 점수와 동일합니다\n",
    "      average_precision_score(y_test, grid.decision_function(X_test))))\n",
    "print(\"테스트 세트 정확도: {:.3f}\".format(\n",
    "      accuracy_score(y_test, grid.predict(X_test))))"
   ]
  },
  {
   "cell_type": "code",
   "execution_count": 76,
   "metadata": {},
   "outputs": [
    {
     "name": "stdout",
     "output_type": "stream",
     "text": [
      "가능한 평가 방식:\n",
      " ['accuracy', 'adjusted_mutual_info_score', 'adjusted_rand_score', 'average_precision', 'balanced_accuracy', 'brier_score_loss', 'completeness_score', 'explained_variance', 'f1', 'f1_macro', 'f1_micro', 'f1_samples', 'f1_weighted', 'fowlkes_mallows_score', 'homogeneity_score', 'mutual_info_score', 'neg_log_loss', 'neg_mean_absolute_error', 'neg_mean_squared_error', 'neg_mean_squared_log_error', 'neg_median_absolute_error', 'normalized_mutual_info_score', 'precision', 'precision_macro', 'precision_micro', 'precision_samples', 'precision_weighted', 'r2', 'recall', 'recall_macro', 'recall_micro', 'recall_samples', 'recall_weighted', 'roc_auc', 'v_measure_score']\n"
     ]
    }
   ],
   "source": [
    "from sklearn.metrics.scorer import SCORERS\n",
    "print(\"가능한 평가 방식:\\n\", sorted(SCORERS.keys()))"
   ]
  },
  {
   "cell_type": "markdown",
   "metadata": {},
   "source": [
    "#### Scoring\n",
    "\n",
    "**분류**\n",
    "- accuracy\n",
    "- ROC\n",
    "- roc_auc\n",
    "- 정확도-재현율 곡선의 아래 면적인 average_precision\n",
    "- f1_score : macro, micro, weighted\n",
    "\n",
    "**회귀**\n",
    "- R^2\n",
    "- mean_squared_error : 평균 제곱 오차\n",
    "- mean_absolute_error : 평균 절댓값 오차"
   ]
  }
 ],
 "metadata": {
  "kernelspec": {
   "display_name": "Python 3",
   "language": "python",
   "name": "python3"
  },
  "language_info": {
   "codemirror_mode": {
    "name": "ipython",
    "version": 3
   },
   "file_extension": ".py",
   "mimetype": "text/x-python",
   "name": "python",
   "nbconvert_exporter": "python",
   "pygments_lexer": "ipython3",
   "version": "3.7.3"
  }
 },
 "nbformat": 4,
 "nbformat_minor": 2
}
