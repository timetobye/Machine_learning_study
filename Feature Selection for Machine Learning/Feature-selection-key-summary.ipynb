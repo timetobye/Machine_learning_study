{
 "cells": [
  {
   "cell_type": "markdown",
   "metadata": {},
   "source": [
    "## Section 1. Introduction"
   ]
  },
  {
   "cell_type": "markdown",
   "metadata": {},
   "source": [
    "### install pakage\n",
    "\n",
    "- 없는 것만 설치\n",
    "\n",
    "#### mlxtend\n",
    "- mlxtend is a python library that will allow you to perform step forward feature selection, step backward feature selection and exhaustive searches.\n",
    "\n",
    "```python3\n",
    "!pip install mlxtend\n",
    "```\n",
    "\n",
    "#### kaggle dataset download\n",
    "- 강의 참고\n"
   ]
  },
  {
   "cell_type": "markdown",
   "metadata": {},
   "source": [
    "## Section 2. Feature selection "
   ]
  },
  {
   "cell_type": "markdown",
   "metadata": {},
   "source": [
    "### Feature selection method\n",
    "\n",
    "#### Filter methods\n",
    "- variance\n",
    "- correlation\n",
    "- Univariate selection\n",
    "\n",
    "Model agnostic\n",
    "- features selected by these procedures can in general be used in any machine learning algorithms\n",
    "\n",
    "Fast computation\n",
    "\n",
    "\n",
    "#### basic\n",
    "- constant features\n",
    "- Quasi-constant features\n",
    "- duplicated features for one hot encoding of categorical variables\n",
    "\n",
    "\n",
    "#### Wrapper methods\n",
    "- Forward selection\n",
    "  - adds 1 feature at a time\n",
    "- Backward selection\n",
    "  - Removes 1 feature at a time\n",
    "- Exhaustive search\n",
    "  - Searches across all possible feature combinations\n",
    "\n",
    "Detect interactions between variables\n",
    "\n",
    "Find the optimal feature subset for the desired classifier\n",
    "\n",
    "Search\n",
    "- greedy algorithms\n",
    "- aim to find the best possible combinations\n",
    "- pdf 참고\n",
    "\n",
    "\n",
    "#### Embedded methods\n",
    "- Lasso\n",
    "- Tree importance\n",
    "- Regression coefficients\n",
    "\n",
    "characteristic\n",
    "- Faster than wrapper methods\n",
    "- more accurate than filter methods\n",
    "- Detect interactions betwwen variables\n",
    "- find the feature subset for the algorithm being trained\n",
    "- train a machine learning algorithm\n",
    "- Derive the feature importance\n",
    "- Remove non-important features\n"
   ]
  },
  {
   "cell_type": "code",
   "execution_count": null,
   "metadata": {},
   "outputs": [],
   "source": []
  }
 ],
 "metadata": {
  "kernelspec": {
   "display_name": "Python 3",
   "language": "python",
   "name": "python3"
  },
  "language_info": {
   "codemirror_mode": {
    "name": "ipython",
    "version": 3
   },
   "file_extension": ".py",
   "mimetype": "text/x-python",
   "name": "python",
   "nbconvert_exporter": "python",
   "pygments_lexer": "ipython3",
   "version": "3.7.3"
  }
 },
 "nbformat": 4,
 "nbformat_minor": 2
}
