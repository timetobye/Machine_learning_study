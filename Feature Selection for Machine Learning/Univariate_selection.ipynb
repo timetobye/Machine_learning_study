{
 "cells": [
  {
   "cell_type": "markdown",
   "metadata": {},
   "source": [
    "## Univariate feature selection\n",
    "\n",
    "Univariate feature selection works by selecting the best features based on univariate statistical tests (ANOVA). The methods based on F-test estimate the degree of linear dependency between two random variables. They assume a linear relationship between the feature and the target. These methods also assume that the variables follow a Gaussian distribution.\n",
    "\n",
    "These may not always be the case for the variables in your dataset, so if looking to implement these procedure, you will need to corroborate these assumptions.\n",
    "\n",
    "I will demonstrate how to select features based on univariate tests using sklearn on a regression and classification problem. For classification I will use the Paribas claims dataset from Kaggle. For regression, the House Price dataset from Kaggle.\n",
    "\n",
    "For the sake of the demonstration, I will assume that the variables show a linear relationship with the target, and that they are normally distributed. But when or if you choose to implement these selection procedure for your features, you will have to check that this is the case, to make sure you are implementing the right method."
   ]
  },
  {
   "cell_type": "markdown",
   "metadata": {},
   "source": [
    "- 참고 자료\n",
    "  - http://blog.naver.com/PostView.nhn?blogId=ssdyka&logNo=221292406449&categoryNo=24&parentCategoryNo=0&viewDate=&currentPage=1&postListTopCurrentPage=1&from=postView&userTopListOpen=true&userTopListCount=5&userTopListManageOpen=false&userTopListCurrentPage=1"
   ]
  },
  {
   "cell_type": "code",
   "execution_count": 1,
   "metadata": {},
   "outputs": [],
   "source": [
    "import pandas as pd\n",
    "import numpy as np\n",
    "\n",
    "import matplotlib.pyplot as plt\n",
    "import seaborn as sns\n",
    "%matplotlib inline\n",
    "\n",
    "from sklearn.model_selection import train_test_split\n",
    "\n",
    "from sklearn.feature_selection import f_classif, f_regression\n",
    "from sklearn.feature_selection import SelectKBest, SelectPercentile"
   ]
  },
  {
   "cell_type": "code",
   "execution_count": 7,
   "metadata": {},
   "outputs": [
    {
     "data": {
      "text/plain": [
       "(50000, 133)"
      ]
     },
     "execution_count": 7,
     "metadata": {},
     "output_type": "execute_result"
    }
   ],
   "source": [
    "file_path = 'train.csv'\n",
    "data = pd.read_csv(file_path, nrows=50000)\n",
    "data.shape"
   ]
  },
  {
   "cell_type": "code",
   "execution_count": 8,
   "metadata": {},
   "outputs": [
    {
     "data": {
      "text/html": [
       "<div>\n",
       "<style scoped>\n",
       "    .dataframe tbody tr th:only-of-type {\n",
       "        vertical-align: middle;\n",
       "    }\n",
       "\n",
       "    .dataframe tbody tr th {\n",
       "        vertical-align: top;\n",
       "    }\n",
       "\n",
       "    .dataframe thead th {\n",
       "        text-align: right;\n",
       "    }\n",
       "</style>\n",
       "<table border=\"1\" class=\"dataframe\">\n",
       "  <thead>\n",
       "    <tr style=\"text-align: right;\">\n",
       "      <th></th>\n",
       "      <th>ID</th>\n",
       "      <th>target</th>\n",
       "      <th>v1</th>\n",
       "      <th>v2</th>\n",
       "      <th>v3</th>\n",
       "      <th>v4</th>\n",
       "      <th>v5</th>\n",
       "      <th>v6</th>\n",
       "      <th>v7</th>\n",
       "      <th>v8</th>\n",
       "      <th>...</th>\n",
       "      <th>v122</th>\n",
       "      <th>v123</th>\n",
       "      <th>v124</th>\n",
       "      <th>v125</th>\n",
       "      <th>v126</th>\n",
       "      <th>v127</th>\n",
       "      <th>v128</th>\n",
       "      <th>v129</th>\n",
       "      <th>v130</th>\n",
       "      <th>v131</th>\n",
       "    </tr>\n",
       "  </thead>\n",
       "  <tbody>\n",
       "    <tr>\n",
       "      <th>0</th>\n",
       "      <td>3</td>\n",
       "      <td>1</td>\n",
       "      <td>1.335739</td>\n",
       "      <td>8.727474</td>\n",
       "      <td>C</td>\n",
       "      <td>3.921026</td>\n",
       "      <td>7.915266</td>\n",
       "      <td>2.599278</td>\n",
       "      <td>3.176895</td>\n",
       "      <td>0.012941</td>\n",
       "      <td>...</td>\n",
       "      <td>8.000000</td>\n",
       "      <td>1.989780</td>\n",
       "      <td>0.035754</td>\n",
       "      <td>AU</td>\n",
       "      <td>1.804126</td>\n",
       "      <td>3.113719</td>\n",
       "      <td>2.024285</td>\n",
       "      <td>0</td>\n",
       "      <td>0.636365</td>\n",
       "      <td>2.857144</td>\n",
       "    </tr>\n",
       "    <tr>\n",
       "      <th>1</th>\n",
       "      <td>4</td>\n",
       "      <td>1</td>\n",
       "      <td>NaN</td>\n",
       "      <td>NaN</td>\n",
       "      <td>C</td>\n",
       "      <td>NaN</td>\n",
       "      <td>9.191265</td>\n",
       "      <td>NaN</td>\n",
       "      <td>NaN</td>\n",
       "      <td>2.301630</td>\n",
       "      <td>...</td>\n",
       "      <td>NaN</td>\n",
       "      <td>NaN</td>\n",
       "      <td>0.598896</td>\n",
       "      <td>AF</td>\n",
       "      <td>NaN</td>\n",
       "      <td>NaN</td>\n",
       "      <td>1.957825</td>\n",
       "      <td>0</td>\n",
       "      <td>NaN</td>\n",
       "      <td>NaN</td>\n",
       "    </tr>\n",
       "    <tr>\n",
       "      <th>2</th>\n",
       "      <td>5</td>\n",
       "      <td>1</td>\n",
       "      <td>0.943877</td>\n",
       "      <td>5.310079</td>\n",
       "      <td>C</td>\n",
       "      <td>4.410969</td>\n",
       "      <td>5.326159</td>\n",
       "      <td>3.979592</td>\n",
       "      <td>3.928571</td>\n",
       "      <td>0.019645</td>\n",
       "      <td>...</td>\n",
       "      <td>9.333333</td>\n",
       "      <td>2.477596</td>\n",
       "      <td>0.013452</td>\n",
       "      <td>AE</td>\n",
       "      <td>1.773709</td>\n",
       "      <td>3.922193</td>\n",
       "      <td>1.120468</td>\n",
       "      <td>2</td>\n",
       "      <td>0.883118</td>\n",
       "      <td>1.176472</td>\n",
       "    </tr>\n",
       "    <tr>\n",
       "      <th>3</th>\n",
       "      <td>6</td>\n",
       "      <td>1</td>\n",
       "      <td>0.797415</td>\n",
       "      <td>8.304757</td>\n",
       "      <td>C</td>\n",
       "      <td>4.225930</td>\n",
       "      <td>11.627438</td>\n",
       "      <td>2.097700</td>\n",
       "      <td>1.987549</td>\n",
       "      <td>0.171947</td>\n",
       "      <td>...</td>\n",
       "      <td>7.018256</td>\n",
       "      <td>1.812795</td>\n",
       "      <td>0.002267</td>\n",
       "      <td>CJ</td>\n",
       "      <td>1.415230</td>\n",
       "      <td>2.954381</td>\n",
       "      <td>1.990847</td>\n",
       "      <td>1</td>\n",
       "      <td>1.677108</td>\n",
       "      <td>1.034483</td>\n",
       "    </tr>\n",
       "    <tr>\n",
       "      <th>4</th>\n",
       "      <td>8</td>\n",
       "      <td>1</td>\n",
       "      <td>NaN</td>\n",
       "      <td>NaN</td>\n",
       "      <td>C</td>\n",
       "      <td>NaN</td>\n",
       "      <td>NaN</td>\n",
       "      <td>NaN</td>\n",
       "      <td>NaN</td>\n",
       "      <td>NaN</td>\n",
       "      <td>...</td>\n",
       "      <td>NaN</td>\n",
       "      <td>NaN</td>\n",
       "      <td>NaN</td>\n",
       "      <td>Z</td>\n",
       "      <td>NaN</td>\n",
       "      <td>NaN</td>\n",
       "      <td>NaN</td>\n",
       "      <td>0</td>\n",
       "      <td>NaN</td>\n",
       "      <td>NaN</td>\n",
       "    </tr>\n",
       "  </tbody>\n",
       "</table>\n",
       "<p>5 rows × 133 columns</p>\n",
       "</div>"
      ],
      "text/plain": [
       "   ID  target        v1        v2 v3        v4         v5        v6        v7  \\\n",
       "0   3       1  1.335739  8.727474  C  3.921026   7.915266  2.599278  3.176895   \n",
       "1   4       1       NaN       NaN  C       NaN   9.191265       NaN       NaN   \n",
       "2   5       1  0.943877  5.310079  C  4.410969   5.326159  3.979592  3.928571   \n",
       "3   6       1  0.797415  8.304757  C  4.225930  11.627438  2.097700  1.987549   \n",
       "4   8       1       NaN       NaN  C       NaN        NaN       NaN       NaN   \n",
       "\n",
       "         v8  ...      v122      v123      v124  v125      v126      v127  \\\n",
       "0  0.012941  ...  8.000000  1.989780  0.035754    AU  1.804126  3.113719   \n",
       "1  2.301630  ...       NaN       NaN  0.598896    AF       NaN       NaN   \n",
       "2  0.019645  ...  9.333333  2.477596  0.013452    AE  1.773709  3.922193   \n",
       "3  0.171947  ...  7.018256  1.812795  0.002267    CJ  1.415230  2.954381   \n",
       "4       NaN  ...       NaN       NaN       NaN     Z       NaN       NaN   \n",
       "\n",
       "       v128  v129      v130      v131  \n",
       "0  2.024285     0  0.636365  2.857144  \n",
       "1  1.957825     0       NaN       NaN  \n",
       "2  1.120468     2  0.883118  1.176472  \n",
       "3  1.990847     1  1.677108  1.034483  \n",
       "4       NaN     0       NaN       NaN  \n",
       "\n",
       "[5 rows x 133 columns]"
      ]
     },
     "execution_count": 8,
     "metadata": {},
     "output_type": "execute_result"
    }
   ],
   "source": [
    "data.head()"
   ]
  },
  {
   "cell_type": "code",
   "execution_count": 9,
   "metadata": {},
   "outputs": [
    {
     "data": {
      "text/plain": [
       "(50000, 114)"
      ]
     },
     "execution_count": 9,
     "metadata": {},
     "output_type": "execute_result"
    }
   ],
   "source": [
    "# In practice, feature selection should be done after data pre-processing,\n",
    "# so ideally, all the categorical variables are encoded into numbers,\n",
    "# and then you can assess how deterministic they are of the target\n",
    "\n",
    "# here for simplicity I will use only numerical variables\n",
    "# select numerical columns:\n",
    "\n",
    "numerics = ['int16', 'int32', 'int64', 'float16', 'float32', 'float64']\n",
    "numerical_vars = list(data.select_dtypes(include=numerics).columns)\n",
    "data = data[numerical_vars]\n",
    "data.shape"
   ]
  },
  {
   "cell_type": "code",
   "execution_count": 11,
   "metadata": {},
   "outputs": [
    {
     "data": {
      "text/plain": [
       "['ID', 'target', 'v1', 'v2', 'v4', 'v5', 'v6', 'v7', 'v8', 'v9']"
      ]
     },
     "execution_count": 11,
     "metadata": {},
     "output_type": "execute_result"
    }
   ],
   "source": [
    "numerical_vars[0:10]"
   ]
  },
  {
   "cell_type": "markdown",
   "metadata": {},
   "source": [
    "### Important\n",
    "\n",
    "In all feature selection procedures, it is good practice to select the features by examining only the training set. And this is to avoid overfit."
   ]
  },
  {
   "cell_type": "code",
   "execution_count": 12,
   "metadata": {},
   "outputs": [
    {
     "data": {
      "text/plain": [
       "((35000, 112), (15000, 112))"
      ]
     },
     "execution_count": 12,
     "metadata": {},
     "output_type": "execute_result"
    }
   ],
   "source": [
    "# separate train and test sets\n",
    "X_train, X_test, y_train, y_test = train_test_split(\n",
    "    data.drop(labels=['target', 'ID'], axis=1),\n",
    "    data['target'],\n",
    "    test_size=0.3,\n",
    "    random_state=0)\n",
    "\n",
    "X_train.shape, X_test.shape"
   ]
  },
  {
   "cell_type": "code",
   "execution_count": 13,
   "metadata": {},
   "outputs": [
    {
     "data": {
      "text/plain": [
       "(array([2.11162492e+01, 5.06903417e+00, 4.27818275e+00, 1.95927569e+01,\n",
       "        8.53173465e+00, 1.54298512e+01, 5.46509341e+00, 3.04682965e+01,\n",
       "        8.24285946e+02, 2.68913033e+01, 9.66316909e+01, 3.19551560e+01,\n",
       "        6.33578816e+02, 3.81883239e+01, 2.66401706e+01, 3.21455592e-01,\n",
       "        5.48803980e+00, 3.13932541e+01, 2.39185299e+01, 9.98605317e+01,\n",
       "        2.38686426e+01, 5.13173713e+00, 1.14013701e+01, 1.47892193e+01,\n",
       "        2.09524865e+01, 1.82398726e+01, 3.47714707e+01, 5.14114122e+01,\n",
       "        3.36632813e+02, 2.50797299e+01, 4.91492071e+01, 2.84653396e+01,\n",
       "        1.48795180e+02, 1.83116171e+00, 3.93028656e+01, 2.20369384e+01,\n",
       "        2.60488115e+01, 1.35485945e+01, 1.22121075e+01, 3.79558867e+01,\n",
       "        6.12330299e+00, 4.72631041e+01, 2.57529828e+01, 2.25353557e+03,\n",
       "        6.30730647e+01, 2.71971830e+01, 3.57244547e+00, 5.47203890e+01,\n",
       "        1.87468953e+01, 3.63673671e+01, 1.33672376e+01, 9.62825324e+00,\n",
       "        1.60122231e+01, 3.15569360e+02, 5.92990567e+00, 1.47799610e+00,\n",
       "        1.88168967e+01, 2.31550693e+01, 3.39125923e+01, 3.07439646e+01,\n",
       "        2.94671679e+01, 2.21646296e+02, 4.08098635e+01, 4.27615421e-02,\n",
       "        2.30619371e+01, 2.84308723e+01, 3.92602421e+01, 5.00308960e+01,\n",
       "        7.99124051e+00, 5.17599557e+01, 4.39920447e+01, 6.04977737e+01,\n",
       "        2.63776459e+01, 1.13283365e+01, 3.26261658e-03, 4.37831948e+00,\n",
       "        2.87921450e+01, 1.95541038e+01, 3.24049049e+00, 2.97941380e+01,\n",
       "        2.55998495e+01, 1.75487794e+01, 1.64130974e+01, 2.03296436e+01,\n",
       "        6.23607720e+00, 3.05850206e+00, 2.32848600e+00, 4.53018051e+00,\n",
       "        3.41060300e+01, 2.96215497e+01, 1.92358703e+00, 6.80204164e+00,\n",
       "        5.96499482e+00, 4.61221949e-01, 4.37129986e+01, 2.17095191e+02,\n",
       "        2.20237595e+01, 1.50231984e+01, 1.15133166e+01, 1.91165316e+01,\n",
       "        8.52798037e+01, 1.38599974e+01, 5.26659973e+01, 2.29319125e+01,\n",
       "        8.11300571e+01, 3.70126161e+00, 2.20791898e+01, 1.37462484e+01,\n",
       "        2.14933456e+00, 7.50239337e+02, 5.26979708e+01, 4.00535095e+00]),\n",
       " array([4.33754264e-006, 2.43631270e-002, 3.86119289e-002, 9.61212723e-006,\n",
       "        3.49229731e-003, 8.57891849e-005, 1.94056210e-002, 3.41770774e-008,\n",
       "        3.40661191e-179, 2.16421152e-007, 8.93721855e-023, 1.58999006e-008,\n",
       "        1.42841240e-138, 6.49428388e-010, 2.46431937e-007, 5.70737834e-001,\n",
       "        1.91525699e-002, 2.12293418e-008, 1.00945047e-006, 1.75813607e-023,\n",
       "        1.03593333e-006, 2.34982892e-002, 7.34697874e-004, 1.20433642e-004,\n",
       "        4.72433448e-006, 1.95271852e-005, 3.74164521e-009, 7.63836429e-013,\n",
       "        7.75510386e-075, 5.52751541e-007, 2.41507044e-012, 9.59828788e-008,\n",
       "        3.73009883e-034, 1.75999132e-001, 3.67135710e-010, 2.68465562e-006,\n",
       "        3.34633000e-007, 2.32814407e-004, 4.75390544e-004, 7.31495865e-010,\n",
       "        1.33458324e-002, 6.31092827e-012, 3.90009889e-007, 0.00000000e+000,\n",
       "        2.05096945e-015, 1.84769740e-007, 5.87539933e-002, 1.42068254e-013,\n",
       "        1.49680564e-005, 1.65051386e-009, 2.56433011e-004, 1.91759304e-003,\n",
       "        6.30643113e-005, 2.72301793e-070, 1.48909983e-002, 2.24096514e-001,\n",
       "        1.44289068e-005, 1.50070745e-006, 5.81474208e-009, 2.96540029e-008,\n",
       "        5.72494306e-008, 5.62890337e-050, 1.69888477e-010, 8.36176131e-001,\n",
       "        1.57513415e-006, 9.77055332e-008, 3.75229068e-010, 1.54181038e-012,\n",
       "        4.70308516e-003, 6.39754745e-013, 3.34507100e-011, 7.56755347e-015,\n",
       "        2.82274218e-007, 7.64152958e-004, 9.54450473e-001, 3.64060524e-002,\n",
       "        8.10884387e-008, 9.80847011e-006, 7.18477363e-002, 4.83699956e-008,\n",
       "        4.22194357e-007, 2.80715968e-005, 5.10418830e-005, 6.53941559e-006,\n",
       "        1.25219001e-002, 8.03244452e-002, 1.27034406e-001, 3.33090700e-002,\n",
       "        5.26497932e-009, 5.28698926e-008, 1.65470600e-001, 9.10923623e-003,\n",
       "        1.45975560e-002, 4.97057938e-001, 3.85697489e-011, 5.45713526e-049,\n",
       "        2.70314050e-006, 1.06391319e-004, 6.91759156e-004, 1.23329449e-005,\n",
       "        2.73113046e-020, 1.97254720e-004, 4.03581972e-013, 1.68527785e-006,\n",
       "        2.21754132e-019, 5.43794426e-002, 2.62624437e-006, 2.09561056e-004,\n",
       "        1.42640681e-001, 1.89474469e-163, 3.97074713e-013, 4.53637600e-002]))"
      ]
     },
     "execution_count": 13,
     "metadata": {},
     "output_type": "execute_result"
    }
   ],
   "source": [
    "# calculate the univariate statistical measure between\n",
    "# each of the variables and the target\n",
    "# similarly to chi2, the output is the array of f-scores\n",
    "# and an array of pvalues, which are the ones we will compare\n",
    "\n",
    "univariate = f_classif(X_train.fillna(0), y_train)\n",
    "univariate"
   ]
  },
  {
   "cell_type": "code",
   "execution_count": 14,
   "metadata": {},
   "outputs": [],
   "source": [
    "# let's add the variable names and order it for clearer visualisation\n",
    "univariate = pd.Series(univariate[1])\n",
    "univariate.index = X_train.columns\n",
    "univariate.sort_values(ascending=False, inplace=True)"
   ]
  },
  {
   "cell_type": "code",
   "execution_count": 15,
   "metadata": {},
   "outputs": [
    {
     "data": {
      "text/plain": [
       "<matplotlib.axes._subplots.AxesSubplot at 0x1a2aca99b0>"
      ]
     },
     "execution_count": 15,
     "metadata": {},
     "output_type": "execute_result"
    },
    {
     "data": {
      "image/png": "[encoded data removed]",
      "text/plain": [
       "<Figure size 1440x576 with 1 Axes>"
      ]
     },
     "metadata": {
      "needs_background": "light"
     },
     "output_type": "display_data"
    }
   ],
   "source": [
    "# and now let's plot the p values\n",
    "univariate.sort_values(ascending=False).plot.bar(figsize=(20, 8))"
   ]
  },
  {
   "cell_type": "markdown",
   "metadata": {},
   "source": [
    "Remember that the lower the p_value, the most predictive the feature is in principle. There are a few features that do not seem to have predictive power according to this tests, which are those on the left with pvalues above 0.05. Given that typically in statistics one uses a pvalue of 0.05 as a cut-off, I am inclined to believe that those features with pvalue > 0.05 are indeed not important. However, keep in mind that this test assumes a linear relationship, so it might also be the case that the feature is related to the target but not in a linear manner.\n",
    "\n",
    "Further investigation is needed if we want to know the true nature of the relationship between feature and target.\n",
    "\n",
    "Similarly to what I mentioned in the previous lecture, in big datasets it is not unusual that the pvalues of the different features are really small. This does not say as much about the relevance of the feature. Mostly it indicates that it is a big the dataset.\n",
    "\n",
    "Once again, where we put the cut-off to select features is a bit arbitrary. One way is to select the top 10, 20 features. Alternatively, the top 10th percentile. For this, you can use anova in combination with SelectKBest or SelectPercentile from sklearn. See below."
   ]
  },
  {
   "cell_type": "code",
   "execution_count": 16,
   "metadata": {},
   "outputs": [
    {
     "data": {
      "text/plain": [
       "Index(['v10', 'v14', 'v21', 'v34', 'v38', 'v50', 'v62', 'v72', 'v114', 'v129'], dtype='object')"
      ]
     },
     "execution_count": 16,
     "metadata": {},
     "output_type": "execute_result"
    }
   ],
   "source": [
    "# here I will select the top 10 features\n",
    "sel_ = SelectKBest(f_classif, k=10).fit(X_train.fillna(0), y_train)\n",
    "X_train.columns[sel_.get_support()]"
   ]
  },
  {
   "cell_type": "code",
   "execution_count": 17,
   "metadata": {},
   "outputs": [
    {
     "data": {
      "text/plain": [
       "(35000, 10)"
      ]
     },
     "execution_count": 17,
     "metadata": {},
     "output_type": "execute_result"
    }
   ],
   "source": [
    "X_train = sel_.transform(X_train.fillna(0))\n",
    "X_train.shape"
   ]
  },
  {
   "cell_type": "markdown",
   "metadata": {},
   "source": [
    "### Regression"
   ]
  },
  {
   "cell_type": "code",
   "execution_count": 19,
   "metadata": {},
   "outputs": [
    {
     "data": {
      "text/plain": [
       "(1460, 81)"
      ]
     },
     "execution_count": 19,
     "metadata": {},
     "output_type": "execute_result"
    }
   ],
   "source": [
    "# load dataset\n",
    "data = pd.read_csv('houseprice_train.csv')\n",
    "data.shape"
   ]
  },
  {
   "cell_type": "code",
   "execution_count": 20,
   "metadata": {},
   "outputs": [
    {
     "data": {
      "text/plain": [
       "(1460, 38)"
      ]
     },
     "execution_count": 20,
     "metadata": {},
     "output_type": "execute_result"
    }
   ],
   "source": [
    "# In practice, feature selection should be done after data pre-processing,\n",
    "# so ideally, all the categorical variables are encoded into numbers,\n",
    "# and then you can assess how deterministic they are of the target\n",
    "\n",
    "# here for simplicity I will use only numerical variables\n",
    "# select numerical columns:\n",
    "\n",
    "numerics = ['int16', 'int32', 'int64', 'float16', 'float32', 'float64']\n",
    "numerical_vars = list(data.select_dtypes(include=numerics).columns)\n",
    "data = data[numerical_vars]\n",
    "data.shape"
   ]
  },
  {
   "cell_type": "code",
   "execution_count": 21,
   "metadata": {},
   "outputs": [
    {
     "data": {
      "text/plain": [
       "((1022, 37), (438, 37))"
      ]
     },
     "execution_count": 21,
     "metadata": {},
     "output_type": "execute_result"
    }
   ],
   "source": [
    "# separate train and test sets\n",
    "X_train, X_test, y_train, y_test = train_test_split(\n",
    "    data.drop(labels=['SalePrice'], axis=1),\n",
    "    data['SalePrice'],\n",
    "    test_size=0.3,\n",
    "    random_state=0)\n",
    "\n",
    "X_train.shape, X_test.shape"
   ]
  },
  {
   "cell_type": "code",
   "execution_count": 22,
   "metadata": {},
   "outputs": [
    {
     "data": {
      "text/plain": [
       "(array([5.09113760e-01, 6.73682615e+00, 3.94145023e+01, 7.33363614e+01,\n",
       "        1.62857050e+03, 1.38505790e+00, 3.65097556e+02, 3.62663803e+02,\n",
       "        3.04197009e+02, 1.93160129e+02, 2.64166379e-01, 4.33623731e+01,\n",
       "        6.54341155e+02, 6.05576313e+02, 1.28758896e+02, 4.21311432e-02,\n",
       "        1.13187965e+03, 5.98878339e+01, 3.74697166e-01, 4.97954582e+02,\n",
       "        8.65303218e+01, 3.89632778e+01, 1.92381821e+01, 4.31845019e+02,\n",
       "        2.93787921e+02, 7.95849269e+01, 7.58024880e+02, 7.27175552e+02,\n",
       "        1.02368716e+02, 1.09493897e+02, 1.42760011e+01, 3.52022335e+00,\n",
       "        9.59825179e+00, 1.22112072e+00, 7.33481415e-01, 2.11044803e+00,\n",
       "        2.78001568e+00]),\n",
       " array([4.75685975e-001, 9.57991693e-003, 5.06213650e-010, 3.98274527e-017,\n",
       "        1.42257159e-213, 2.39516038e-001, 8.26023733e-070, 2.03038106e-069,\n",
       "        8.04969151e-060, 2.41079365e-040, 6.07383462e-001, 7.26891935e-011,\n",
       "        6.70757414e-112, 2.41864868e-105, 3.45788546e-028, 8.37410946e-001,\n",
       "        1.53312942e-167, 2.40752943e-014, 5.40591400e-001, 3.82659966e-090,\n",
       "        8.14428943e-020, 6.32389876e-010, 1.27359099e-005, 2.92810962e-080,\n",
       "        4.56582052e-058, 2.09825253e-018, 3.16142686e-125, 2.40845357e-121,\n",
       "        5.37449335e-023, 2.06877117e-024, 1.67005152e-004, 6.09096484e-002,\n",
       "        2.00091638e-003, 2.69401412e-001, 3.91958201e-001, 1.46604031e-001,\n",
       "        9.57542024e-002]))"
      ]
     },
     "execution_count": 22,
     "metadata": {},
     "output_type": "execute_result"
    }
   ],
   "source": [
    "univariate = f_regression(X_train.fillna(0), y_train)\n",
    "univariate"
   ]
  },
  {
   "cell_type": "code",
   "execution_count": 23,
   "metadata": {},
   "outputs": [
    {
     "data": {
      "text/plain": [
       "0      4.756860e-01\n",
       "1      9.579917e-03\n",
       "2      5.062137e-10\n",
       "3      3.982745e-17\n",
       "4     1.422572e-213\n",
       "5      2.395160e-01\n",
       "6      8.260237e-70\n",
       "7      2.030381e-69\n",
       "8      8.049692e-60\n",
       "9      2.410794e-40\n",
       "10     6.073835e-01\n",
       "11     7.268919e-11\n",
       "12    6.707574e-112\n",
       "13    2.418649e-105\n",
       "14     3.457885e-28\n",
       "15     8.374109e-01\n",
       "16    1.533129e-167\n",
       "17     2.407529e-14\n",
       "18     5.405914e-01\n",
       "19     3.826600e-90\n",
       "20     8.144289e-20\n",
       "21     6.323899e-10\n",
       "22     1.273591e-05\n",
       "23     2.928110e-80\n",
       "24     4.565821e-58\n",
       "25     2.098253e-18\n",
       "26    3.161427e-125\n",
       "27    2.408454e-121\n",
       "28     5.374493e-23\n",
       "29     2.068771e-24\n",
       "30     1.670052e-04\n",
       "31     6.090965e-02\n",
       "32     2.000916e-03\n",
       "33     2.694014e-01\n",
       "34     3.919582e-01\n",
       "35     1.466040e-01\n",
       "36     9.575420e-02\n",
       "dtype: float64"
      ]
     },
     "execution_count": 23,
     "metadata": {},
     "output_type": "execute_result"
    }
   ],
   "source": [
    "univariate = pd.Series(univariate[1])\n",
    "univariate"
   ]
  },
  {
   "cell_type": "code",
   "execution_count": 25,
   "metadata": {},
   "outputs": [
    {
     "data": {
      "text/plain": [
       "Id                4.756860e-01\n",
       "MSSubClass        9.579917e-03\n",
       "LotFrontage       5.062137e-10\n",
       "LotArea           3.982745e-17\n",
       "OverallQual      1.422572e-213\n",
       "OverallCond       2.395160e-01\n",
       "YearBuilt         8.260237e-70\n",
       "YearRemodAdd      2.030381e-69\n",
       "MasVnrArea        8.049692e-60\n",
       "BsmtFinSF1        2.410794e-40\n",
       "BsmtFinSF2        6.073835e-01\n",
       "BsmtUnfSF         7.268919e-11\n",
       "TotalBsmtSF      6.707574e-112\n",
       "1stFlrSF         2.418649e-105\n",
       "2ndFlrSF          3.457885e-28\n",
       "LowQualFinSF      8.374109e-01\n",
       "GrLivArea        1.533129e-167\n",
       "BsmtFullBath      2.407529e-14\n",
       "BsmtHalfBath      5.405914e-01\n",
       "FullBath          3.826600e-90\n",
       "HalfBath          8.144289e-20\n",
       "BedroomAbvGr      6.323899e-10\n",
       "KitchenAbvGr      1.273591e-05\n",
       "TotRmsAbvGrd      2.928110e-80\n",
       "Fireplaces        4.565821e-58\n",
       "GarageYrBlt       2.098253e-18\n",
       "GarageCars       3.161427e-125\n",
       "GarageArea       2.408454e-121\n",
       "WoodDeckSF        5.374493e-23\n",
       "OpenPorchSF       2.068771e-24\n",
       "EnclosedPorch     1.670052e-04\n",
       "3SsnPorch         6.090965e-02\n",
       "ScreenPorch       2.000916e-03\n",
       "PoolArea          2.694014e-01\n",
       "MiscVal           3.919582e-01\n",
       "MoSold            1.466040e-01\n",
       "YrSold            9.575420e-02\n",
       "dtype: float64"
      ]
     },
     "execution_count": 25,
     "metadata": {},
     "output_type": "execute_result"
    }
   ],
   "source": [
    "univariate.index = X_train.columns\n",
    "univariate"
   ]
  },
  {
   "cell_type": "code",
   "execution_count": 26,
   "metadata": {},
   "outputs": [],
   "source": [
    "univariate.sort_values(ascending=False, inplace=True)"
   ]
  },
  {
   "cell_type": "code",
   "execution_count": 27,
   "metadata": {},
   "outputs": [
    {
     "data": {
      "text/plain": [
       "<matplotlib.axes._subplots.AxesSubplot at 0x1a2aca21d0>"
      ]
     },
     "execution_count": 27,
     "metadata": {},
     "output_type": "execute_result"
    },
    {
     "data": {
      "image/png": "[encoded data removed]",
      "text/plain": [
       "<Figure size 1440x576 with 1 Axes>"
      ]
     },
     "metadata": {
      "needs_background": "light"
     },
     "output_type": "display_data"
    }
   ],
   "source": [
    "univariate.sort_values(ascending=False).plot.bar(figsize=(20,8))"
   ]
  },
  {
   "cell_type": "markdown",
   "metadata": {},
   "source": [
    "Here again, there seem to be a bunch of features towards the left with pvalues above 0.05, which are candidates to be removed, as this means that the features do not statistically significantly discriminate the target."
   ]
  },
  {
   "cell_type": "code",
   "execution_count": 28,
   "metadata": {},
   "outputs": [
    {
     "data": {
      "text/plain": [
       "Index(['OverallQual', 'GrLivArea', 'GarageCars', 'GarageArea'], dtype='object')"
      ]
     },
     "execution_count": 28,
     "metadata": {},
     "output_type": "execute_result"
    }
   ],
   "source": [
    "# here I will select the top 10 percentile\n",
    "sel_ = SelectPercentile(f_regression, percentile=10).fit(X_train.fillna(0), y_train)\n",
    "X_train.columns[sel_.get_support()]"
   ]
  },
  {
   "cell_type": "code",
   "execution_count": 29,
   "metadata": {},
   "outputs": [
    {
     "data": {
      "text/plain": [
       "(1022, 4)"
      ]
     },
     "execution_count": 29,
     "metadata": {},
     "output_type": "execute_result"
    }
   ],
   "source": [
    "X_train = sel_.transform(X_train.fillna(0))\n",
    "X_train.shape"
   ]
  },
  {
   "cell_type": "markdown",
   "metadata": {},
   "source": [
    "I would say again that I rarely use these methods to select features. I do use them though when investigating the relationship of specific variables  with the target in bespoke problems that do not necessarily culminate in machine learning model building.\n",
    "\n",
    "In any case, I wanted to have them covered in the course and you can play with them and see if you find them useful.\n",
    "\n",
    "That is all for this lecture, I hope you enjoyed it and see you in the next one!"
   ]
  }
 ],
 "metadata": {
  "kernelspec": {
   "display_name": "Python 3",
   "language": "python",
   "name": "python3"
  },
  "language_info": {
   "codemirror_mode": {
    "name": "ipython",
    "version": 3
   },
   "file_extension": ".py",
   "mimetype": "text/x-python",
   "name": "python",
   "nbconvert_exporter": "python",
   "pygments_lexer": "ipython3",
   "version": "3.7.3"
  }
 },
 "nbformat": 4,
 "nbformat_minor": 2
}
