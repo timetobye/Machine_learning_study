{
 "cells": [
  {
   "cell_type": "markdown",
   "metadata": {},
   "source": [
    "Chapter 04 검증 메트릭\n",
    "------"
   ]
  },
  {
   "cell_type": "markdown",
   "metadata": {},
   "source": [
    "### 주요 측정 항목\n",
    "\n",
    "분류 학습에서 주로 사용하는 메트릭\n",
    "- Accuracy\n",
    "- Precision\n",
    "- recall\n",
    "- F1-score\n",
    "- AUC(Area Under the ROC curve)\n",
    "- 로그 손실\n",
    "- P@K(정밀도 at k)\n",
    "- AP@k(평균정밀도 at k)\n",
    "- MAP@k(Mean Average Precision at k)\n",
    "\n",
    "회귀학습에서 일반적으로 사용하는 메트릭\n",
    "- MAE(Mean Absolute Error)\n",
    "- MSE(Mean Squared Error)\n",
    "- RMSE(Root Mean Squared Error)\n",
    "- RMSLE(Root Mean Squared Log Error)\n",
    "- MPE(Mean Percentage Error)\n",
    "- MAPE(Mean Absolute Percentage Error)\n",
    "- R^2"
   ]
  },
  {
   "cell_type": "markdown",
   "metadata": {},
   "source": [
    "이진 분류 문제\n",
    "- 기흉 판별 문제\n",
    "- 학습 데이터 / 검증 데이터\n",
    "  - 학습 데이터의 각각 세트에는 양성 50 / 음성 50장 - 총 100장 샘플\n",
    "- 샘플의 개수가 같을 때는 일반적으로 정확도, 정밀도, 리콜, F1 Score를 이용"
   ]
  },
  {
   "cell_type": "code",
   "execution_count": 1,
   "metadata": {},
   "outputs": [],
   "source": [
    "# 정확도 : 모델이 얼마나 정확하게 분류하는지를 측정\n",
    "\n",
    "def accuracy(y_true, y_pred):\n",
    "    \"\"\"\n",
    "    정확도를 계산하는 함수\n",
    "    :param y_true: 타겟 값의 목록\n",
    "    :param y_pred: 예측 값의 목록\n",
    "    :return: 정확도\n",
    "    \"\"\"\n",
    "    \n",
    "    correct_counter = 0\n",
    "    \n",
    "    for yt, yp in zip(y_true, y_pred):\n",
    "        if yt == yp:\n",
    "            correct_counter += 1\n",
    "            \n",
    "    return correct_counter / len(y_true)"
   ]
  },
  {
   "cell_type": "code",
   "execution_count": 2,
   "metadata": {},
   "outputs": [
    {
     "name": "stderr",
     "output_type": "stream",
     "text": [
      "/opt/conda/lib/python3.7/importlib/_bootstrap.py:219: RuntimeWarning: numpy.ufunc size changed, may indicate binary incompatibility. Expected 192 from C header, got 216 from PyObject\n",
      "  return f(*args, **kwds)\n"
     ]
    },
    {
     "data": {
      "text/plain": [
       "0.625"
      ]
     },
     "execution_count": 2,
     "metadata": {},
     "output_type": "execute_result"
    }
   ],
   "source": [
    "from sklearn import metrics\n",
    "\n",
    "l1 = [0, 1, 1, 1, 0, 0, 0, 1]\n",
    "l2 = [0, 1, 0, 1, 0, 1, 0, 0]\n",
    "\n",
    "metrics.accuracy_score(l1, l2)"
   ]
  },
  {
   "cell_type": "markdown",
   "metadata": {},
   "source": [
    "데이터를 바꿔보자\n",
    "- 180개의 음성 / 20개의 양성\n",
    "- 각각의 세트에는 90개의 음성 / 10개의 양성\n",
    "\n",
    "타겟 변수가 편향되어 있을 경우\n",
    "- 하나의 범주가 다른 범주보다 훨씬 많을 때\n",
    "- 모델의 정확도를 높이는 것은 도움이 되지 않음\n",
    "- 정밀도를 사용하는 것이 이럴 때는 도움\n",
    "\n",
    "몇 가지 용어\n",
    "- TP(True Positive) : 이미지가 기흉이 있다고 예측했고, 실제로 기흉이 있는 경우 -> 모델이 양의 범주라고 맞게 예측한 경우\n",
    "- TN(True Negative) : 이미지가 정상이라고 예측했고, 실제로 기흉이 없는 이미지인 경우 -> 모델이 음의 범주라고 맞게 예측한 경우\n",
    "- FP(False Positive) : 이미지가 기흉이 있다고 예측했지만, 실제로 기흉이 없는 이미지인 경우 -> 모델이 양의 범주라고 잘못 예측한 경우\n",
    "- FN(False Negative) : 이미지가 정상이라고 예측했지만, 실제로 기흉이 있는 이미지인 경우 -> 모델이 음의 범주라고 잘못 예측한 경우"
   ]
  },
  {
   "cell_type": "code",
   "execution_count": 4,
   "metadata": {},
   "outputs": [],
   "source": [
    "def true_positive(y_true, y_pred):\n",
    "    \"\"\"\n",
    "    TP를 계산하는 함수\n",
    "    :param y_true: 타겟 값의 목록\n",
    "    :param y_pred: 예측 값의 목록\n",
    "    :return: TP의 개수\n",
    "    \"\"\"\n",
    "\n",
    "    tp = 0\n",
    "\n",
    "    for yt, yp in zip(y_true, y_pred):\n",
    "        if yt == 1 and yp == 1:\n",
    "            tp += 1\n",
    "\n",
    "    return tp\n",
    "\n",
    "\n",
    "def true_negative(y_true, y_pred):\n",
    "    \"\"\"\n",
    "    TN를 계산하는 함수\n",
    "    :param y_true: 타겟 값의 목록\n",
    "    :param y_pred: 예측 값의 목록\n",
    "    :return: TN의 개수\n",
    "    \"\"\"\n",
    "\n",
    "    tn = 0\n",
    "\n",
    "    for yt, yp in zip(y_true, y_pred):\n",
    "        if yt == 0 and yp == 0:\n",
    "            tn += 1\n",
    "\n",
    "    return tn\n",
    "\n",
    "\n",
    "def false_positive(y_true, y_pred):\n",
    "    \"\"\"\n",
    "    FP를 계산하는 함수\n",
    "    :param y_true: 타겟 값의 목록\n",
    "    :param y_pred: 예측 값의 목록\n",
    "    :return: FP의 개수\n",
    "    \"\"\"\n",
    "\n",
    "    fp = 0\n",
    "\n",
    "    for yt, yp in zip(y_true, y_pred):\n",
    "        if yt == 1 and yp == 0:\n",
    "            fp += 1\n",
    "\n",
    "    return fp\n",
    "\n",
    "\n",
    "def false_negative(y_true, y_pred):\n",
    "    \"\"\"\n",
    "    FN를 계산하는 함수\n",
    "    :param y_true: 타겟 값의 목록\n",
    "    :param y_pred: 예측 값의 목록\n",
    "    :return: FN의 개수\n",
    "    \"\"\"\n",
    "\n",
    "    fn = 0\n",
    "\n",
    "    for yt, yp in zip(y_true, y_pred):\n",
    "        if yt == 0 and yp == 1:\n",
    "            fn += 1\n",
    "\n",
    "    return fn"
   ]
  },
  {
   "cell_type": "code",
   "execution_count": 6,
   "metadata": {},
   "outputs": [
    {
     "data": {
      "text/plain": [
       "(2, 3)"
      ]
     },
     "execution_count": 6,
     "metadata": {},
     "output_type": "execute_result"
    }
   ],
   "source": [
    "l1 = [0, 1, 1, 1, 0, 0, 0, 1]\n",
    "l2 = [0, 1, 0, 1, 0, 1, 0, 0]\n",
    "\n",
    "true_positive(l1, l2), true_negative(l1, l2)"
   ]
  },
  {
   "cell_type": "code",
   "execution_count": 7,
   "metadata": {},
   "outputs": [
    {
     "data": {
      "text/plain": [
       "(2, 1)"
      ]
     },
     "execution_count": 7,
     "metadata": {},
     "output_type": "execute_result"
    }
   ],
   "source": [
    "false_positive(l1, l2), false_negative(l1, l2)"
   ]
  },
  {
   "cell_type": "markdown",
   "metadata": {},
   "source": [
    "정확도 = (TP + TN) / (TP + FP + FN + TN)"
   ]
  },
  {
   "cell_type": "code",
   "execution_count": 9,
   "metadata": {},
   "outputs": [],
   "source": [
    "def accuracy_v2(y_true, y_pred):\n",
    "    \"\"\"\n",
    "    tp/tn/fp/fn 을 사용하여 정확도를 계산하는 함수\n",
    "    :param y_true: 타겟 값의 목록\n",
    "    :param y_pred: 예측 값의 목록\n",
    "    :return: 정확도\n",
    "    \"\"\"\n",
    "\n",
    "    tp = true_positive(y_true, y_pred)\n",
    "    tn = true_negative(y_true, y_pred)\n",
    "    fp = false_positive(y_true, y_pred)\n",
    "    fn = false_negative(y_true, y_pred)\n",
    "    \n",
    "    accuracy_score = (tp + tn) / (tp + tn + fp + fn)\n",
    "    \n",
    "    return accuracy_score"
   ]
  },
  {
   "cell_type": "code",
   "execution_count": 10,
   "metadata": {},
   "outputs": [
    {
     "data": {
      "text/plain": [
       "0.625"
      ]
     },
     "execution_count": 10,
     "metadata": {},
     "output_type": "execute_result"
    }
   ],
   "source": [
    "accuracy_v2(l1, l2)"
   ]
  },
  {
   "cell_type": "markdown",
   "metadata": {},
   "source": [
    "**정밀도 = TP / (TP + FP)**\n",
    "\n",
    "예를 들면....\n",
    "- 편향된 데ㅣ터로 만든 모델이 90개의 음성 이미지 중 80개를 정확하게 예측하고 10개의 양성 이미지 중 8개를 정확하게 예측했다고 가정\n",
    "- 이 경우 정확도는 88%\n",
    "- 100개의 이미지 중, 10개의 음성 이미지와 2개의 양성 이미지를 잘못 예측\n",
    "  - TP : 8, TN : 80, FP : 10, FN : 2\n",
    "  - 정밀도를 계산하면 8 / (8 + 10) = 0.444\n",
    "  - 모델이 양성이라고 예측한 경우, 예측한 44.4% 맞았다고 해석할 수 있다."
   ]
  },
  {
   "cell_type": "code",
   "execution_count": 11,
   "metadata": {},
   "outputs": [],
   "source": [
    "def precision(y_true, y_pred):\n",
    "    \"\"\"\n",
    "    정밀도를 계산하는 함수\n",
    "    :param y_true: 타겟 값의 목록\n",
    "    :param y_pred: 예측 값의 목록\n",
    "    :return: 정밀도\n",
    "    \"\"\"\n",
    "\n",
    "    tp = true_positive(y_true, y_pred)\n",
    "    fp = false_positive(y_true, y_pred)\n",
    "\n",
    "    precision_result = (tp) / (tp + fp)\n",
    "\n",
    "    return precision_result"
   ]
  },
  {
   "cell_type": "code",
   "execution_count": 12,
   "metadata": {},
   "outputs": [
    {
     "data": {
      "text/plain": [
       "0.5"
      ]
     },
     "execution_count": 12,
     "metadata": {},
     "output_type": "execute_result"
    }
   ],
   "source": [
    "precision(l1, l2)"
   ]
  },
  {
   "cell_type": "code",
   "execution_count": null,
   "metadata": {},
   "outputs": [],
   "source": []
  },
  {
   "cell_type": "code",
   "execution_count": null,
   "metadata": {},
   "outputs": [],
   "source": []
  },
  {
   "cell_type": "code",
   "execution_count": null,
   "metadata": {},
   "outputs": [],
   "source": []
  },
  {
   "cell_type": "code",
   "execution_count": null,
   "metadata": {},
   "outputs": [],
   "source": []
  },
  {
   "cell_type": "code",
   "execution_count": null,
   "metadata": {},
   "outputs": [],
   "source": []
  }
 ],
 "metadata": {
  "kernelspec": {
   "display_name": "Python 3",
   "language": "python",
   "name": "python3"
  },
  "language_info": {
   "codemirror_mode": {
    "name": "ipython",
    "version": 3
   },
   "file_extension": ".py",
   "mimetype": "text/x-python",
   "name": "python",
   "nbconvert_exporter": "python",
   "pygments_lexer": "ipython3",
   "version": "3.7.6"
  }
 },
 "nbformat": 4,
 "nbformat_minor": 4
}
