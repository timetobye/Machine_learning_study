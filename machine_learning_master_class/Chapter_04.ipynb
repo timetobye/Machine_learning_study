{
 "cells": [
  {
   "cell_type": "markdown",
   "metadata": {},
   "source": [
    "Chapter 04 검증 메트릭\n",
    "------"
   ]
  },
  {
   "cell_type": "markdown",
   "metadata": {},
   "source": [
    "### 주요 측정 항목\n",
    "\n",
    "분류 학습에서 주로 사용하는 메트릭\n",
    "- Accuracy\n",
    "- Precision\n",
    "- recall\n",
    "- F1-score\n",
    "- AUC(Area Under the ROC curve)\n",
    "- 로그 손실\n",
    "- P@K(정밀도 at k)\n",
    "- AP@k(평균정밀도 at k)\n",
    "- MAP@k(Mean Average Precision at k)\n",
    "\n",
    "회귀학습에서 일반적으로 사용하는 메트릭\n",
    "- MAE(Mean Absolute Error)\n",
    "- MSE(Mean Squared Error)\n",
    "- RMSE(Root Mean Squared Error)\n",
    "- RMSLE(Root Mean Squared Log Error)\n",
    "- MPE(Mean Percentage Error)\n",
    "- MAPE(Mean Absolute Percentage Error)\n",
    "- R^2"
   ]
  },
  {
   "cell_type": "markdown",
   "metadata": {},
   "source": [
    "이진 분류 문제\n",
    "- 기흉 판별 문제\n",
    "- 학습 데이터 / 검증 데이터\n",
    "  - 학습 데이터의 각각 세트에는 양성 50 / 음성 50장 - 총 100장 샘플\n",
    "- 샘플의 개수가 같을 때는 일반적으로 정확도, 정밀도, 리콜, F1 Score를 이용"
   ]
  },
  {
   "cell_type": "code",
   "execution_count": 1,
   "metadata": {},
   "outputs": [],
   "source": [
    "# 정확도 : 모델이 얼마나 정확하게 분류하는지를 측정\n",
    "\n",
    "def accuracy(y_true, y_pred):\n",
    "    \"\"\"\n",
    "    정확도를 계산하는 함수\n",
    "    :param y_true: 타겟 값의 목록\n",
    "    :param y_pred: 예측 값의 목록\n",
    "    :return: 정확도\n",
    "    \"\"\"\n",
    "    \n",
    "    correct_counter = 0\n",
    "    \n",
    "    for yt, yp in zip(y_true, y_pred):\n",
    "        if yt == yp:\n",
    "            correct_counter += 1\n",
    "            \n",
    "    return correct_counter / len(y_true)"
   ]
  },
  {
   "cell_type": "code",
   "execution_count": 2,
   "metadata": {},
   "outputs": [
    {
     "name": "stderr",
     "output_type": "stream",
     "text": [
      "/opt/conda/lib/python3.7/importlib/_bootstrap.py:219: RuntimeWarning: numpy.ufunc size changed, may indicate binary incompatibility. Expected 192 from C header, got 216 from PyObject\n",
      "  return f(*args, **kwds)\n"
     ]
    },
    {
     "data": {
      "text/plain": [
       "0.625"
      ]
     },
     "execution_count": 2,
     "metadata": {},
     "output_type": "execute_result"
    }
   ],
   "source": [
    "from sklearn import metrics\n",
    "\n",
    "l1 = [0, 1, 1, 1, 0, 0, 0, 1]\n",
    "l2 = [0, 1, 0, 1, 0, 1, 0, 0]\n",
    "\n",
    "metrics.accuracy_score(l1, l2)"
   ]
  },
  {
   "cell_type": "markdown",
   "metadata": {},
   "source": [
    "데이터를 바꿔보자\n",
    "- 180개의 음성 / 20개의 양성\n",
    "- 각각의 세트에는 90개의 음성 / 10개의 양성\n",
    "\n",
    "타겟 변수가 편향되어 있을 경우\n",
    "- 하나의 범주가 다른 범주보다 훨씬 많을 때\n",
    "- 모델의 정확도를 높이는 것은 도움이 되지 않음\n",
    "- 정밀도를 사용하는 것이 이럴 때는 도움\n",
    "\n",
    "몇 가지 용어\n",
    "- TP(True Positive) : 이미지가 기흉이 있다고 예측했고, 실제로 기흉이 있는 경우 -> 모델이 양의 범주라고 맞게 예측한 경우\n",
    "- TN(True Negative) : 이미지가 정상이라고 예측했고, 실제로 기흉이 없는 이미지인 경우 -> 모델이 음의 범주라고 맞게 예측한 경우\n",
    "- FP(False Positive) : 이미지가 기흉이 있다고 예측했지만, 실제로 기흉이 없는 이미지인 경우 -> 모델이 양의 범주라고 잘못 예측한 경우\n",
    "- FN(False Negative) : 이미지가 정상이라고 예측했지만, 실제로 기흉이 있는 이미지인 경우 -> 모델이 음의 범주라고 잘못 예측한 경우"
   ]
  },
  {
   "cell_type": "code",
   "execution_count": 14,
   "metadata": {},
   "outputs": [],
   "source": [
    "def true_positive(y_true, y_pred):\n",
    "    \"\"\"\n",
    "    TP를 계산하는 함수\n",
    "    :param y_true: 타겟 값의 목록\n",
    "    :param y_pred: 예측 값의 목록\n",
    "    :return: TP의 개수\n",
    "    \"\"\"\n",
    "\n",
    "    tp = 0\n",
    "\n",
    "    for yt, yp in zip(y_true, y_pred):\n",
    "        if yt == 1 and yp == 1:\n",
    "            tp += 1\n",
    "\n",
    "    return tp\n",
    "\n",
    "\n",
    "def true_negative(y_true, y_pred):\n",
    "    \"\"\"\n",
    "    TN를 계산하는 함수\n",
    "    :param y_true: 타겟 값의 목록\n",
    "    :param y_pred: 예측 값의 목록\n",
    "    :return: TN의 개수\n",
    "    \"\"\"\n",
    "\n",
    "    tn = 0\n",
    "\n",
    "    for yt, yp in zip(y_true, y_pred):\n",
    "        if yt == 0 and yp == 0:\n",
    "            tn += 1\n",
    "\n",
    "    return tn\n",
    "\n",
    "\n",
    "def false_positive(y_true, y_pred):\n",
    "    \"\"\"\n",
    "    FP를 계산하는 함수\n",
    "    :param y_true: 타겟 값의 목록\n",
    "    :param y_pred: 예측 값의 목록\n",
    "    :return: FP의 개수\n",
    "    \"\"\"\n",
    "\n",
    "    fp = 0\n",
    "\n",
    "    for yt, yp in zip(y_true, y_pred):\n",
    "        if yt == 0 and yp == 1:\n",
    "            fp += 1\n",
    "\n",
    "    return fp\n",
    "\n",
    "\n",
    "def false_negative(y_true, y_pred):\n",
    "    \"\"\"\n",
    "    FN를 계산하는 함수\n",
    "    :param y_true: 타겟 값의 목록\n",
    "    :param y_pred: 예측 값의 목록\n",
    "    :return: FN의 개수\n",
    "    \"\"\"\n",
    "\n",
    "    fn = 0\n",
    "\n",
    "    for yt, yp in zip(y_true, y_pred):\n",
    "        if yt == 1 and yp == 0:\n",
    "            fn += 1\n",
    "\n",
    "    return fn"
   ]
  },
  {
   "cell_type": "code",
   "execution_count": 15,
   "metadata": {},
   "outputs": [
    {
     "data": {
      "text/plain": [
       "(2, 3)"
      ]
     },
     "execution_count": 15,
     "metadata": {},
     "output_type": "execute_result"
    }
   ],
   "source": [
    "l1 = [0, 1, 1, 1, 0, 0, 0, 1]\n",
    "l2 = [0, 1, 0, 1, 0, 1, 0, 0]\n",
    "\n",
    "true_positive(l1, l2), true_negative(l1, l2)"
   ]
  },
  {
   "cell_type": "code",
   "execution_count": 16,
   "metadata": {},
   "outputs": [
    {
     "data": {
      "text/plain": [
       "(1, 2)"
      ]
     },
     "execution_count": 16,
     "metadata": {},
     "output_type": "execute_result"
    }
   ],
   "source": [
    "false_positive(l1, l2), false_negative(l1, l2)"
   ]
  },
  {
   "cell_type": "markdown",
   "metadata": {},
   "source": [
    "정확도 = (TP + TN) / (TP + FP + FN + TN)"
   ]
  },
  {
   "cell_type": "code",
   "execution_count": 18,
   "metadata": {},
   "outputs": [],
   "source": [
    "def accuracy_v2(y_true, y_pred):\n",
    "    \"\"\"\n",
    "    tp/tn/fp/fn 을 사용하여 정확도를 계산하는 함수\n",
    "    :param y_true: 타겟 값의 목록\n",
    "    :param y_pred: 예측 값의 목록\n",
    "    :return: 정확도\n",
    "    \"\"\"\n",
    "\n",
    "    tp = true_positive(y_true, y_pred)\n",
    "    tn = true_negative(y_true, y_pred)\n",
    "    fp = false_positive(y_true, y_pred)\n",
    "    fn = false_negative(y_true, y_pred)\n",
    "    \n",
    "    accuracy_score = (tp + tn) / (tp + tn + fp + fn)\n",
    "    \n",
    "    return accuracy_score"
   ]
  },
  {
   "cell_type": "code",
   "execution_count": 19,
   "metadata": {},
   "outputs": [
    {
     "data": {
      "text/plain": [
       "0.625"
      ]
     },
     "execution_count": 19,
     "metadata": {},
     "output_type": "execute_result"
    }
   ],
   "source": [
    "accuracy_v2(l1, l2)"
   ]
  },
  {
   "cell_type": "markdown",
   "metadata": {},
   "source": [
    "**정밀도 = TP / (TP + FP)**\n",
    "\n",
    "예를 들면....\n",
    "- 편향된 데ㅣ터로 만든 모델이 90개의 음성 이미지 중 80개를 정확하게 예측하고 10개의 양성 이미지 중 8개를 정확하게 예측했다고 가정\n",
    "- 이 경우 정확도는 88%\n",
    "- 100개의 이미지 중, 10개의 음성 이미지와 2개의 양성 이미지를 잘못 예측\n",
    "  - TP : 8, TN : 80, FP : 10, FN : 2\n",
    "  - 정밀도를 계산하면 8 / (8 + 10) = 0.444\n",
    "  - 모델이 양성이라고 예측한 경우, 예측한 44.4% 맞았다고 해석할 수 있다."
   ]
  },
  {
   "cell_type": "code",
   "execution_count": 11,
   "metadata": {},
   "outputs": [],
   "source": [
    "def precision(y_true, y_pred):\n",
    "    \"\"\"\n",
    "    정밀도를 계산하는 함수\n",
    "    :param y_true: 타겟 값의 목록\n",
    "    :param y_pred: 예측 값의 목록\n",
    "    :return: 정밀도\n",
    "    \"\"\"\n",
    "\n",
    "    tp = true_positive(y_true, y_pred)\n",
    "    fp = false_positive(y_true, y_pred)\n",
    "\n",
    "    precision_result = (tp) / (tp + fp)\n",
    "\n",
    "    return precision_result"
   ]
  },
  {
   "cell_type": "code",
   "execution_count": 17,
   "metadata": {},
   "outputs": [
    {
     "data": {
      "text/plain": [
       "0.6666666666666666"
      ]
     },
     "execution_count": 17,
     "metadata": {},
     "output_type": "execute_result"
    }
   ],
   "source": [
    "l1 = [0, 1, 1, 1, 0, 0, 0, 1]\n",
    "l2 = [0, 1, 0, 1, 0, 1, 0, 0]\n",
    "\n",
    "precision(l1, l2)"
   ]
  },
  {
   "cell_type": "markdown",
   "metadata": {},
   "source": [
    "Recall = TP / (TP + FN)\n",
    "- 8 / (8 + 2) = 0.8\n",
    "- 모델이 양성 이미지 중 80%를 맞게 예측했다고 해석"
   ]
  },
  {
   "cell_type": "code",
   "execution_count": 20,
   "metadata": {},
   "outputs": [],
   "source": [
    "def recall(y_true, y_pred):\n",
    "    \"\"\"\n",
    "    리콜을 계산하는 함수\n",
    "    :param y_true: 타겟 값의 목록\n",
    "    :param y_pred: 예측 값의 목록\n",
    "    :return: 리콜\n",
    "    \"\"\"\n",
    "\n",
    "    tp = true_positive(y_true, y_pred)\n",
    "    fn = false_negative(y_true, y_pred)\n",
    "\n",
    "    recall_result = (tp) / (tp + fn)\n",
    "\n",
    "    return recall_result"
   ]
  },
  {
   "cell_type": "code",
   "execution_count": 21,
   "metadata": {},
   "outputs": [
    {
     "data": {
      "text/plain": [
       "0.5"
      ]
     },
     "execution_count": 21,
     "metadata": {},
     "output_type": "execute_result"
    }
   ],
   "source": [
    "recall(l1, l2)"
   ]
  },
  {
   "cell_type": "markdown",
   "metadata": {},
   "source": [
    "좋은 모델?\n",
    "- 정밀도와 리콜이 모두 높아야 함\n",
    "- 대부분의 모델은 확률을 예측 -> 범주로 전환하기 위해 보통 0.5(50%)의 기준점을 사용\n",
    "- 때로는 적합하지 않음\n",
    "- 기준점에 따른 정밀도와 리콜의 변화를 그래프로 그릴 수 있음\n",
    "- PR Curve(precision-recall)"
   ]
  },
  {
   "cell_type": "code",
   "execution_count": 22,
   "metadata": {},
   "outputs": [],
   "source": [
    "y_true = [0, 0, 0, 1, 0, 0, 0, 0, 0, 0,\n",
    "        1, 0, 0, 0, 0, 0, 0, 0, 1, 0]\n",
    "y_pred = [0.02638412, 0.11114267, 0.31620708,\n",
    "            0.0490937, 0.0191491, 0.17554844,\n",
    "            0.15952202, 0.03819563, 0.11639273,\n",
    "            0.079377, 0.08584789, 0.39095342,\n",
    "            0.27259048, 0.03447096, 0.04644807,\n",
    "            0.03543574, 0.18521942, 0.05934905,\n",
    "            0.61977213, 0.33056815]"
   ]
  },
  {
   "cell_type": "code",
   "execution_count": 23,
   "metadata": {},
   "outputs": [],
   "source": [
    "precisions = []\n",
    "recalls = []\n",
    "\n",
    "# how we assumed these thresholds is a long story\n",
    "thresholds = [0.0490937 , 0.05934905, 0.079377,\n",
    "            0.08584789, 0.11114267, 0.11639273,\n",
    "            0.15952202, 0.17554844, 0.18521942,\n",
    "            0.27259048, 0.31620708, 0.33056815,\n",
    "            0.39095342, 0.61977213]\n",
    "# for every threshold, calculate predictions in binary\n",
    "# and append calculated precisions and recalls\n",
    "# to their respective lists\n",
    "\n",
    "for i in thresholds:\n",
    "    temp_prediction = [1 if x >= i else 0 for x in y_pred]\n",
    "\n",
    "    p = precision(y_true, temp_prediction)\n",
    "    r = recall(y_true, temp_prediction)\n",
    "    \n",
    "    precisions.append(p)\n",
    "    recalls.append(r)"
   ]
  },
  {
   "cell_type": "code",
   "execution_count": 25,
   "metadata": {},
   "outputs": [
    {
     "name": "stderr",
     "output_type": "stream",
     "text": [
      "/opt/conda/lib/python3.7/importlib/_bootstrap.py:219: RuntimeWarning: numpy.ufunc size changed, may indicate binary incompatibility. Expected 192 from C header, got 216 from PyObject\n",
      "  return f(*args, **kwds)\n",
      "/opt/conda/lib/python3.7/importlib/_bootstrap.py:219: RuntimeWarning: numpy.ufunc size changed, may indicate binary incompatibility. Expected 192 from C header, got 216 from PyObject\n",
      "  return f(*args, **kwds)\n"
     ]
    }
   ],
   "source": [
    "import matplotlib\n",
    "import matplotlib.pyplot as plt\n",
    "import numpy as np\n",
    "import pandas as pd\n",
    "import seaborn as sns\n",
    "\n",
    "matplotlib.rc('xtick', labelsize=20)\n",
    "matplotlib.rc('ytick', labelsize=20)\n",
    "\n",
    "%matplotlib inline"
   ]
  },
  {
   "cell_type": "code",
   "execution_count": 28,
   "metadata": {},
   "outputs": [
    {
     "data": {
      "text/plain": [
       "Text(0, 0.5, 'Precision')"
      ]
     },
     "execution_count": 28,
     "metadata": {},
     "output_type": "execute_result"
    },
    {
     "data": {
      "image/png": "[encoded data removed]",
      "text/plain": [
       "<Figure size 1440x504 with 1 Axes>"
      ]
     },
     "metadata": {
      "needs_background": "light"
     },
     "output_type": "display_data"
    }
   ],
   "source": [
    "plt.figure(figsize=(20, 7))\n",
    "plt.plot(recalls, precisions)\n",
    "plt.xlabel('Recall', fontsize=15)\n",
    "plt.ylabel('Precision', fontsize=15)"
   ]
  },
  {
   "cell_type": "markdown",
   "metadata": {},
   "source": [
    "정밀도와 리콜이 동시에 높은 기준점을 선택하기는 어려움\n",
    "\n",
    "F1 Score 는 정밀도와 리콜을 조합한 메트릭으로 정밀도와 리콜의 조화평균으로 정의\n",
    "- 정밀도를 P\n",
    "- 리콜을 R\n",
    "- F1-Score = 2PR / (P + R) = 2TP / (2TP + FP + FN)"
   ]
  },
  {
   "cell_type": "code",
   "execution_count": 29,
   "metadata": {},
   "outputs": [],
   "source": [
    "def f1(y_true, y_pred):\n",
    "    \"\"\"\n",
    "    f1 score 을 계산하는 함수\n",
    "    :param y_true: 타겟 값의 목록\n",
    "    :param y_pred: 예측 값의 목록\n",
    "    :return: f1 score\n",
    "    \"\"\"\n",
    "\n",
    "    p = precision(y_true, y_pred)\n",
    "    r = recall(y_true, y_pred)\n",
    "\n",
    "    f1_score_result = (2 * p * r) / (p + r) \n",
    "\n",
    "    return f1_score_result"
   ]
  },
  {
   "cell_type": "code",
   "execution_count": 30,
   "metadata": {},
   "outputs": [],
   "source": [
    "from sklearn import metrics"
   ]
  },
  {
   "cell_type": "code",
   "execution_count": 31,
   "metadata": {},
   "outputs": [
    {
     "data": {
      "text/plain": [
       "0.5714285714285715"
      ]
     },
     "execution_count": 31,
     "metadata": {},
     "output_type": "execute_result"
    }
   ],
   "source": [
    "y_true = [0, 0, 0, 1, 0, 0, 0, 0, 0, 0,\n",
    "            1, 0, 0, 0, 0, 0, 0, 0, 1, 0]\n",
    "y_pred = [0, 0, 1, 0, 0, 0, 1, 0, 0, 0,\n",
    "            1, 0, 0, 0, 0, 0, 0, 0, 1, 0]\n",
    "f1(y_true, y_pred)"
   ]
  },
  {
   "cell_type": "code",
   "execution_count": 32,
   "metadata": {},
   "outputs": [
    {
     "data": {
      "text/plain": [
       "0.5714285714285715"
      ]
     },
     "execution_count": 32,
     "metadata": {},
     "output_type": "execute_result"
    }
   ],
   "source": [
    "metrics.f1_score(y_true, y_pred)"
   ]
  },
  {
   "cell_type": "markdown",
   "metadata": {},
   "source": [
    "정밀도와 리콜을 따로 확인하는 대신, F1 스코어를 사용할 수 있음\n",
    "- 0에서 1 사이 값을 가짐\n",
    "- 완벽한 예측 모델의 F1 스코어 역시 0에서 1 사이 값을 가진다.\n",
    "- 완벽한 예측 모델은 1을 가짐\n",
    "- 편한된 데이터의 경우!!!! 정확도 대신 F1 Score(혹은 precision, recall) 을 사용하라\n",
    "\n",
    "**TPR** 도 중요한 용어\n",
    "- True Positive Rate\n",
    "- TPR = TP / (TP + FN)\n",
    "- recall 과 동일\n",
    "- TPR 과 recall 은 민감도(Sensitivity) 라고도 불림"
   ]
  },
  {
   "cell_type": "code",
   "execution_count": 33,
   "metadata": {},
   "outputs": [],
   "source": [
    "def tpr(y_true, y_pred):\n",
    "    \"\"\"\n",
    "    tpr 계산하는 함수\n",
    "    :param y_true: 타겟 값의 목록\n",
    "    :param y_pred: 예측 값의 목록\n",
    "    :return: tpr\n",
    "    \"\"\"\n",
    "    return recall(y_true, y_pred)"
   ]
  },
  {
   "cell_type": "markdown",
   "metadata": {},
   "source": [
    "**FPR**\n",
    "- False Positive Rate\n",
    "- FPR = FP / (TN + FP)\n",
    "- 1 - FPR 은 특이도(specificity) 혹은 TNR(True Negative Rate) 라고도 부름\n",
    "\n",
    "가장 중요한 용어는 TPR, FPR"
   ]
  },
  {
   "cell_type": "code",
   "execution_count": 34,
   "metadata": {},
   "outputs": [],
   "source": [
    "def fpr(y_true, y_pred):\n",
    "    \"\"\"\n",
    "    fpr 계산하는 함수\n",
    "    :param y_true: 타겟 값의 목록\n",
    "    :param y_pred: 예측 값의 목록\n",
    "    :return: fpr\n",
    "    \"\"\"\n",
    "    \n",
    "    fp = false_positive(y_true, y_pred)\n",
    "    tn = true_negative(y_true, y_pred)\n",
    "    \n",
    "    fpr_result = fp / (fp + tn)\n",
    "    \n",
    "    return fpr_result\n"
   ]
  },
  {
   "cell_type": "code",
   "execution_count": 35,
   "metadata": {},
   "outputs": [],
   "source": [
    "tpr_list = []\n",
    "fpr_list = []\n",
    "\n",
    "# 타겟 값\n",
    "y_true = [0, 0, 0, 0, 1, 0, 1, 0, 0, 1, 0, 1, 0, 0, 1]\n",
    "\n",
    "# 샘플의 타겟 값이 1일 확률\n",
    "y_pred = [0.1, 0.3, 0.2, 0.6, 0.8, 0.05, 0.9, 0.5, 0.3, 0.66, 0.3, 0.2, 0.85, 0.15, 0.99]\n",
    "\n",
    "# 기준점들\n",
    "thresholds = [0, 0.1, 0.2, 0.3, 0.4, 0.5, 0.6, 0.7, 0.8, 0.85, 0.9, 0.99, 1.0]\n",
    "\n",
    "for thresh in thresholds:\n",
    "    temp_pred = [1 if x >= thresh else 0 for x in y_pred]\n",
    "    \n",
    "    temp_tpr = tpr(y_true, temp_pred)\n",
    "    temp_fpr = fpr(y_true, temp_pred)\n",
    "    \n",
    "    tpr_list.append(temp_tpr)\n",
    "    fpr_list.append(temp_fpr)"
   ]
  },
  {
   "cell_type": "code",
   "execution_count": 39,
   "metadata": {},
   "outputs": [
    {
     "data": {
      "image/png": "[encoded data removed]",
      "text/plain": [
       "<Figure size 360x360 with 1 Axes>"
      ]
     },
     "metadata": {
      "needs_background": "light"
     },
     "output_type": "display_data"
    }
   ],
   "source": [
    "plt.figure(figsize=(5, 5))\n",
    "plt.fill_between(fpr_list, tpr_list, alpha=0.4)\n",
    "plt.plot(fpr_list, tpr_list, lw=3)\n",
    "plt.xlim(0, 1.0)\n",
    "plt.ylim(0, 1.0)\n",
    "plt.xlabel('FPR', fontsize=15)\n",
    "plt.ylabel('TPR', fontsize=15)\n",
    "plt.show()"
   ]
  },
  {
   "cell_type": "markdown",
   "metadata": {},
   "source": [
    "이 커브를 **ROC(Receiver Operating Characteristic) 커브** 라고 함\n",
    "- ROC 커브 아래의 면적은 AUC(Area Under ROC Curve) 라고 함(편향된 이진분류 학습에서 자주 사용)"
   ]
  },
  {
   "cell_type": "code",
   "execution_count": 40,
   "metadata": {},
   "outputs": [
    {
     "data": {
      "text/plain": [
       "0.8300000000000001"
      ]
     },
     "execution_count": 40,
     "metadata": {},
     "output_type": "execute_result"
    }
   ],
   "source": [
    "from sklearn import metrics\n",
    "\n",
    "y_true = [0, 0, 0, 0, 1, 0, 1, 0, 0, 1, 0, 1, 0, 0, 1]\n",
    "y_pred = [\n",
    "    0.1, 0.3, 0.2, 0.6, 0.8, 0.05,\n",
    "    0.9, 0.5, 0.3, 0.66, 0.3, 0.2,\n",
    "    0.85, 0.15, 0.99\n",
    "]\n",
    "metrics.roc_auc_score(y_true, y_pred)"
   ]
  },
  {
   "cell_type": "markdown",
   "metadata": {},
   "source": [
    "AUC 는 0에서 1사이의 값을 가진다.\n",
    "- AUC = 1\n",
    "  - 완벽한 모델, 대부분 검증에 실수가 있었을 가능성이 있음\n",
    "  - 데이터 처리와 검증 파이프라인을 점검\n",
    "  - 실수가 아니면 만세\n",
    "- AUC = 0\n",
    "  - 완벽하게 틀린 (혹은 완벽한) 모델\n",
    "  - 예측 확률 p 를 1-p 로 반전해보세요\n",
    "  - 다른 것도 점검해보고...\n",
    "- AUC = 0.5\n",
    "  - 랜덤한 모델\n",
    "  - 이진분류에서 모든 타겟 변수를 0.5로 예측하면 AUC가 0.5가 된다.\n",
    "  \n",
    "0 ~ 0.5 의 AUC 를 가지는 모델은 랜덤보다 못함을 의미함\n",
    "- 대부분 범주를 잘못 적용했을 때 일어남\n",
    "\n",
    "AUC 해석 방법\n",
    "- if...AUC = 0.85\n",
    "\n",
    "> 기흉 이미지 중 임의로 한 이미지를 선택하고 정상 이미지 중 임의로 한 이미지를 선택하면, 기흉 이미지에 대한 모델의\n",
    "예측 값이 정상 이미지에 대한 예측 값보다 높을 확률이 85%임을 의미\n",
    "\n",
    "시험 데이터에 대한 예측을 할 떄\n",
    "- 필요에 따라 어느 경우에는 확률을 -> 모델의 예측 값이 이미 확률이므로 별도 작업 불필요\n",
    "- 어느 경우에는 실제 범주를 예측 해야 함 -> 기준점을 선택해야 함\n",
    "  - 이진분류의 경우 예측 확률과 기준점으로 다음과 같이 예측 범주를 결정\n",
    "  - 예측범주 = 예측 확률 >= 기준점\n",
    "  - 즉, 예측 확률이 기준점과 같거나 높은 샘플의 예측 범주는 1이고 나머지 샘플의 예측 범주는 0이 됨\n",
    " \n",
    "참고 문서\n",
    "- https://bioinformaticsandme.tistory.com/328\n",
    "\n",
    "\n",
    "기준저을 선택하는데 ROC 커브 사용 가능\n",
    "- 기준점이 FPR과 TPR에 영향을 주는지, 어떻게 FP와 TP에 영향을 주는지 알 수 있음\n",
    "- 예를 들어...낮은 FP를 원하면 기준점을 높여야 함 -> 이 경우 FN 는 높아짐\n",
    "- 트레이드 오프를 고려하여 최적의 기준점을 찾아야 함"
   ]
  },
  {
   "cell_type": "code",
   "execution_count": 41,
   "metadata": {},
   "outputs": [],
   "source": [
    "# empty lists to store true positive\n",
    "# and false positive values\n",
    "tp_list = []\n",
    "fp_list = []\n",
    "\n",
    "# actual targets\n",
    "y_true = [0, 0, 0, 0, 1, 0, 1, 0, 0, 1, 0, 1, 0, 0, 1]\n",
    "\n",
    "# predicted probabilities of a sample being 1\n",
    "y_pred = [\n",
    "    0.1, 0.3, 0.2, 0.6, 0.8, 0.05,\n",
    "    0.9, 0.5, 0.3, 0.66, 0.3, 0.2,\n",
    "    0.85, 0.15, 0.99\n",
    "]\n",
    "\n",
    "# some handmade thresholds\n",
    "thresholds = [\n",
    "    0, 0.1, 0.2, 0.3, 0.4, 0.5, 0.6, 0.7, 0.8, 0.85, 0.9, 0.99, 1.0\n",
    "]\n",
    "\n",
    "# loop over all thresholds\n",
    "for thresh in thresholds:\n",
    "    # calculate predictions for a given threshold\n",
    "    temp_pred = [1 if x >= thresh else 0 for x in y_pred]\n",
    "    # calculate tp\n",
    "    temp_tp = true_positive(y_true, temp_pred)\n",
    "    # calculate fp\n",
    "    temp_fp = false_positive(y_true, temp_pred)\n",
    "    # append tp and fp to lists\n",
    "    tp_list.append(temp_tp)\n",
    "    fp_list.append(temp_fp)"
   ]
  },
  {
   "cell_type": "markdown",
   "metadata": {},
   "source": [
    "보통 ROC 커브의 좌상단에 해당하는 기준점이 좋은 선택\n",
    "- 그림 참고\n",
    "- 기준점이 0.6일 때 비교적 낮은 FP(2개 혹은 20%)를 유지하며 높은 TP(4개 혹은 80%) 얻을 수 있음\n",
    "\n",
    "AUC는 이진분류 메트릭으로 널리 사용"
   ]
  },
  {
   "cell_type": "markdown",
   "metadata": {},
   "source": [
    "**log loss(로그 손실)**도 중요한 개념이다.\n",
    "\n",
    "Log Loss = - 1.0 * ( target * log(prediction) + (1 - target) * log(1 - prediction) )\n",
    "- y 는 0이나 1의 값을 갖는 타겟 변수\n",
    "- p는 샘플이 범주 1에 속할 확률\n",
    "\n",
    "복수의 샘플의 경우 로그 손실은 개별 샘플에 대한 로그 손실이 평균 값\n",
    "- 로그 손실은 오차가 큰 예측 값에 큰 패널티를 준다는 것!\n",
    "- 실제 범주가 1인 샘플을 0으로 예측하거나 실제 범주가 0인 샘플을 1로 예측하면 로그 손실은 무한대가 됨"
   ]
  },
  {
   "cell_type": "code",
   "execution_count": 42,
   "metadata": {},
   "outputs": [],
   "source": [
    "import numpy as np\n",
    "\n",
    "def log_loss(y_true, y_proba):\n",
    "    \"\"\"\n",
    "    log loss 계산하는 함수\n",
    "    :param y_true: 타겟 값의 목록\n",
    "    :param y_proba: 예측 값의 목록\n",
    "    :return: log loss\n",
    "    \"\"\"\n",
    "\n",
    "    # 극단적인 확률 값을 조정하는데 사용할 epsilon 값\n",
    "    epsilon = 1e-15\n",
    "    \n",
    "    # 샘플 별 로그 손실을 저장할 목록\n",
    "    loss = []\n",
    "    \n",
    "    # 모든 타겟 값과 예측 값에 대해 로그 손실을 계산\n",
    "    \n",
    "    for yt, yp in zip(y_true, y_proba):\n",
    "        \n",
    "        # 확률 값을 아래와 같이 조정\n",
    "        # 0 -> 1e-15\n",
    "        # 1 -> 1-1e-15\n",
    "        # 왜 위와 같이 조정하냐면....\n",
    "        yp = np.clip(yp, epsilon, 1 - epsilon)\n",
    "        \n",
    "        temp_loss = - 1.0 * (yt * np.log(yp) + (1 - yt) * np.log(1-yp))\n",
    "        \n",
    "        # 로그 손실 목록에 추가\n",
    "        loss.append(temp_loss)\n",
    "        \n",
    "    return np.mean(loss)"
   ]
  },
  {
   "cell_type": "code",
   "execution_count": 43,
   "metadata": {},
   "outputs": [
    {
     "data": {
      "text/plain": [
       "0.49882711861432294"
      ]
     },
     "execution_count": 43,
     "metadata": {},
     "output_type": "execute_result"
    }
   ],
   "source": [
    "y_true = [0, 0, 0, 0, 1, 0, 1, 0, 0, 1, 0, 1, 0, 0, 1]\n",
    "y_proba = [\n",
    "    0.1, 0.3, 0.2, 0.6, 0.8, 0.05,\n",
    "    0.9, 0.5, 0.3, 0.66, 0.3, 0.2,\n",
    "    0.85, 0.15, 0.99\n",
    "]\n",
    "log_loss(y_true, y_proba)"
   ]
  },
  {
   "cell_type": "code",
   "execution_count": 44,
   "metadata": {},
   "outputs": [
    {
     "data": {
      "text/plain": [
       "0.49882711861432294"
      ]
     },
     "execution_count": 44,
     "metadata": {},
     "output_type": "execute_result"
    }
   ],
   "source": [
    "from sklearn import metrics\n",
    "\n",
    "metrics.log_loss(y_true, y_proba)"
   ]
  },
  {
   "cell_type": "markdown",
   "metadata": {},
   "source": [
    "로그 손실의 구현은 간단하지만...해석이 어려움\n",
    "- 다른 메트릭보다 많은 페널티를 부여\n",
    "- 범주 1에 속한 샘플이 범주 1에 속할 확률을 51% 예측한 경우 로그 손실은....\n",
    "\n",
    "```bash\n",
    "- 1.0 * ( 1 * log(0.51) + (1 - 1) * log(1 – 0.51) ) = 0.67\n",
    "```\n",
    "\n",
    "범주 0에 속한 샘플이 범주 1 에 속할 확률을 49%로 예측한 경우 로그 손실은....\n",
    "\n",
    "```bash\n",
    "- 1.0 * ( 0 * log(0.49) + (1 - 0) * log(1 – 0.49) ) = 0.67\n",
    "```\n",
    "\n",
    "즉, 0.5 를 기준점으로 사용하면 완벽하게 범주를 맞출 수 있음에도 불구하고 로그 손실은 여전히 높음\n",
    "\n",
    "로그 손실을 사용할 때는 확실하지 않은 예측(확률 값 50% 주위)은 로그 손실을 높인다는 점을 염두 해야 함\n",
    "\n",
    "----\n",
    "\n",
    "다중범주분류 문제\n",
    "- multi-class classification \n",
    "- multi-class classification 에 대해서도 정밀도와 리콜을 구할 수 있음\n",
    "- 모든 범주의 값을 조합하는데 세 가지 방법이 있음\n",
    "  - Macro averaged precision(매크로 평균 정밀도) : calculate precision for all classes individually and then average them, 각각의 범주의 정밀도를 계산한 후, 정밀도의 평균을 계산\n",
    "  - Micro averaged precision(마이크로 평균 정밀도) : calculate class wise true positive and false positive and then use that to calculate overall precision, 모든 범주에 걸쳐 TP 와 FP 를 합산한 후 정밀도를 계산\n",
    "  - Weighted precision(가중 평균 정밀도) : same as macro but in this case, it is weighted average depending on the number of items in each class, 각각의 범주의 정밀도를 계산한 후, 각 범주에 해당하는 샘플 개수를 가중치로 정밀도의 가중 평균을 계산"
   ]
  },
  {
   "cell_type": "code",
   "execution_count": 47,
   "metadata": {},
   "outputs": [],
   "source": [
    "def macro_precision(y_true, y_pred):\n",
    "    \"\"\"\n",
    "    macro_precision 계산하는 함수\n",
    "    :param y_true: 타겟 값의 목록\n",
    "    :param y_proba: 예측 값의 목록\n",
    "    :return: macro_precision\n",
    "    \"\"\"\n",
    "\n",
    "    # 타겟 값의 목록에서 고유 값의 개수를 찾아 범주의 개수를 구한다.\n",
    "    num_classes = len(np.unique(y_true))\n",
    "\n",
    "    # 정밀도를 0으로 초기화\n",
    "    precision = 0\n",
    "\n",
    "    # 모든 범주에 대해 계산한다.\n",
    "    for class_ in range(num_classes):\n",
    "        # 현재 범주 이외의 범주는 음의 범주로 간주\n",
    "        temp_true = [1 if p == class_ else 0 for p in y_true]\n",
    "        temp_pred = [1 if p == class_ else 0 for p in y_pred]\n",
    "\n",
    "        # 현재 범주에 대한 tp를 계산\n",
    "        tp = true_positive(temp_true, temp_pred)\n",
    "\n",
    "        # 현재 범주에 대한 fp를 계산\n",
    "        fp = false_positive(temp_true, temp_pred)\n",
    "\n",
    "        # 현재 범주에 대한 정밀도를 계산\n",
    "        temp_precision = tp / (tp + fp)\n",
    "\n",
    "        # 모든 범주에 대한 정밀도를 합산\n",
    "        precision += temp_precision\n",
    "\n",
    "    # 모든 범주의 정밀도의 합을 범주의 개수로 나누어 매크로 평균 정밀도 계산\n",
    "    precision /= num_classes\n",
    "    \n",
    "    return precision\n",
    "\n",
    "\n",
    "import numpy as np\n",
    "def micro_precision(y_true, y_pred):\n",
    "    \"\"\"\n",
    "    Function to calculate micro averaged precision\n",
    "    :param y_true: list of true values\n",
    "    :param y_pred: list of predicted values\n",
    "    :return: micro precision score\n",
    "    \"\"\"\n",
    "    # find the number of classes by taking\n",
    "    # length of unique values in true list\n",
    "    num_classes = len(np.unique(y_true))\n",
    "    # initialize tp and fp to 0\n",
    "    tp = 0\n",
    "    fp = 0\n",
    "    # loop over all classes\n",
    "    for class_ in range(num_classes):\n",
    "        # all classes except current are considered negative\n",
    "        temp_true = [1 if p == class_ else 0 for p in y_true]\n",
    "        temp_pred = [1 if p == class_ else 0 for p in y_pred]\n",
    "        # calculate true positive for current class\n",
    "        # and update overall tp\n",
    "        tp += true_positive(temp_true, temp_pred)\n",
    "        # calculate false positive for current class\n",
    "        # and update overall tp\n",
    "        fp += false_positive(temp_true, temp_pred)\n",
    "    # calculate and return overall precision\n",
    "    precision = tp / (tp + fp)\n",
    "    \n",
    "    return precision\n",
    "\n",
    "\n",
    "from collections import Counter\n",
    "import numpy as np\n",
    "def weighted_precision(y_true, y_pred):\n",
    "    \"\"\"\n",
    "    Function to calculate weighted averaged precision\n",
    "    :param y_true: list of true values\n",
    "    :param y_pred: list of predicted values\n",
    "    :return: weighted precision score\n",
    "    \"\"\"\n",
    "    # find the number of classes by taking\n",
    "    # length of unique values in true list\n",
    "    num_classes = len(np.unique(y_true))\n",
    "    # create class:sample count dictionary\n",
    "    # it looks something like this:\n",
    "    # {0: 20, 1:15, 2:21}\n",
    "    class_counts = Counter(y_true)\n",
    "    # initialize precision to 0\n",
    "    precision = 0\n",
    "    # loop over all classes\n",
    "    for class_ in range(num_classes):\n",
    "        # all classes except current are considered negative\n",
    "        temp_true = [1 if p == class_ else 0 for p in y_true]\n",
    "        temp_pred = [1 if p == class_ else 0 for p in y_pred]\n",
    "        # calculate tp and fp for class\n",
    "        tp = true_positive(temp_true, temp_pred)\n",
    "        fp = false_positive(temp_true, temp_pred)\n",
    "        # calculate precision of class\n",
    "        temp_precision = tp / (tp + fp)\n",
    "        # multiply precision with count of samples in class\n",
    "        weighted_precision = class_counts[class_] * temp_precision\n",
    "        # add to overall precision\n",
    "        precision += weighted_precision\n",
    "    # calculate overall precision by dividing by\n",
    "    # total number of samples\n",
    "    overall_precision = precision / len(y_true)\n",
    "    \n",
    "    return overall_precision"
   ]
  },
  {
   "cell_type": "code",
   "execution_count": 48,
   "metadata": {},
   "outputs": [
    {
     "name": "stdout",
     "output_type": "stream",
     "text": [
      "0.3611111111111111\n",
      "0.3611111111111111\n",
      "0.4444444444444444\n",
      "0.4444444444444444\n",
      "0.39814814814814814\n",
      "0.39814814814814814\n"
     ]
    }
   ],
   "source": [
    "from sklearn import metrics\n",
    "y_true = [0, 1, 2, 0, 1, 2, 0, 2, 2]\n",
    "y_pred = [0, 2, 1, 0, 2, 1, 0, 0, 2]\n",
    "\n",
    "print(macro_precision(y_true, y_pred))\n",
    "print(metrics.precision_score(y_true, y_pred, average=\"macro\"))\n",
    "\n",
    "print(micro_precision(y_true, y_pred))\n",
    "print(metrics.precision_score(y_true, y_pred, average=\"micro\"))\n",
    "\n",
    "print(weighted_precision(y_true, y_pred))\n",
    "print(metrics.precision_score(y_true, y_pred, average=\"weighted\"))"
   ]
  },
  {
   "cell_type": "markdown",
   "metadata": {},
   "source": [
    "마찬가지로 다중범주에서의 리콜도 구현할 수 있음\n",
    "- 정밀도와 리콜은 TP, FP, FN으로 계산하로 F1 은 정밀도와 리콜로 계산 "
   ]
  },
  {
   "cell_type": "code",
   "execution_count": 49,
   "metadata": {},
   "outputs": [],
   "source": [
    "def weighted_f1(y_true, y_pred):\n",
    "    \"\"\"\n",
    "    Function to calculate weighted f1 score\n",
    "    :param y_true: list of true values\n",
    "    :param y_proba: list of predicted values\n",
    "    :return: weighted f1 score\n",
    "    \"\"\"\n",
    "    # find the number of classes by taking\n",
    "    # length of unique values in true list\n",
    "    num_classes = len(np.unique(y_true))\n",
    "    # create class:sample count dictionary\n",
    "    # it looks something like this:\n",
    "    # {0: 20, 1:15, 2:21}\n",
    "    class_counts = Counter(y_true)\n",
    "    # initialize f1 to 0\n",
    "    f1 = 0\n",
    "    # loop over all classes\n",
    "    for class_ in range(num_classes):\n",
    "        # all classes except current are considered negative\n",
    "        temp_true = [1 if p == class_ else 0 for p in y_true]\n",
    "        temp_pred = [1 if p == class_ else 0 for p in y_pred]\n",
    "        # calculate precision and recall for class\n",
    "        p = precision(temp_true, temp_pred)\n",
    "        r = recall(temp_true, temp_pred)\n",
    "        # calculate f1 of class\n",
    "        if p + r != 0:\n",
    "            temp_f1 = 2 * p * r / (p + r)\n",
    "        else:\n",
    "            temp_f1 = 0\n",
    "        # multiply f1 with count of samples in class\n",
    "        weighted_f1 = class_counts[class_] * temp_f1\n",
    "        # add to f1 precision\n",
    "        f1 += weighted_f1\n",
    "    # calculate overall F1 by dividing by\n",
    "    # total number of samples\n",
    "    overall_f1 = f1 / len(y_true)\n",
    "    return overall_f1"
   ]
  },
  {
   "cell_type": "code",
   "execution_count": 50,
   "metadata": {},
   "outputs": [],
   "source": [
    "from sklearn import metrics\n",
    "y_true = [0, 1, 2, 0, 1, 2, 0, 2, 2]\n",
    "y_pred = [0, 2, 1, 0, 2, 1, 0, 0, 2]"
   ]
  },
  {
   "cell_type": "code",
   "execution_count": 51,
   "metadata": {},
   "outputs": [
    {
     "data": {
      "text/plain": [
       "0.41269841269841273"
      ]
     },
     "execution_count": 51,
     "metadata": {},
     "output_type": "execute_result"
    }
   ],
   "source": [
    "weighted_f1(y_true, y_pred)"
   ]
  },
  {
   "cell_type": "code",
   "execution_count": 53,
   "metadata": {},
   "outputs": [
    {
     "data": {
      "text/plain": [
       "0.41269841269841273"
      ]
     },
     "execution_count": 53,
     "metadata": {},
     "output_type": "execute_result"
    }
   ],
   "source": [
    "metrics.f1_score(y_true, y_pred, average=\"weighted\")"
   ]
  },
  {
   "cell_type": "markdown",
   "metadata": {},
   "source": [
    "confusion matrix"
   ]
  },
  {
   "cell_type": "code",
   "execution_count": 55,
   "metadata": {},
   "outputs": [
    {
     "data": {
      "image/png": "[encoded data removed]",
      "text/plain": [
       "<Figure size 720x720 with 1 Axes>"
      ]
     },
     "metadata": {},
     "output_type": "display_data"
    }
   ],
   "source": [
    "import matplotlib.pyplot as plt\n",
    "import seaborn as sns\n",
    "from sklearn import metrics\n",
    "\n",
    "# some targets\n",
    "y_true = [0, 1, 2, 0, 1, 2, 0, 2, 2]\n",
    "\n",
    "#some predictions\n",
    "y_pred = [0, 2, 1, 0, 2, 1, 0, 0, 2]\n",
    "\n",
    "# get confusion matrix from sklearn\n",
    "cm = metrics.confusion_matrix(y_true, y_pred)\n",
    "\n",
    "# plot using matplotlib and seaborn\n",
    "plt.figure(figsize=(10, 10))\n",
    "cmap = sns.cubehelix_palette(\n",
    "    50, hue=0.05, rot=0, light=0.9, dark=0, as_cmap=True)\n",
    "sns.set(font_scale=2.5)\n",
    "sns.heatmap(cm, annot=True, cmap=cmap, cbar=False)\n",
    "plt.ylabel('Actual Labels', fontsize=20)\n",
    "plt.xlabel('Predicted Labels', fontsize=20)\n",
    "plt.show()"
   ]
  },
  {
   "cell_type": "markdown",
   "metadata": {},
   "source": [
    "**multi-label classification**\n",
    "\n",
    "다중 레이블 분류\n",
    "- 각각의 샘플이 하나 혹은 복수의 범주에 속할 수 있음\n",
    "- 책 참고(그림에서 여러 항목 추출...)"
   ]
  },
  {
   "cell_type": "code",
   "execution_count": null,
   "metadata": {},
   "outputs": [],
   "source": []
  },
  {
   "cell_type": "code",
   "execution_count": null,
   "metadata": {},
   "outputs": [],
   "source": []
  },
  {
   "cell_type": "code",
   "execution_count": null,
   "metadata": {},
   "outputs": [],
   "source": []
  },
  {
   "cell_type": "code",
   "execution_count": null,
   "metadata": {},
   "outputs": [],
   "source": []
  },
  {
   "cell_type": "code",
   "execution_count": null,
   "metadata": {},
   "outputs": [],
   "source": []
  },
  {
   "cell_type": "code",
   "execution_count": null,
   "metadata": {},
   "outputs": [],
   "source": []
  },
  {
   "cell_type": "code",
   "execution_count": null,
   "metadata": {},
   "outputs": [],
   "source": []
  },
  {
   "cell_type": "code",
   "execution_count": null,
   "metadata": {},
   "outputs": [],
   "source": []
  },
  {
   "cell_type": "code",
   "execution_count": null,
   "metadata": {},
   "outputs": [],
   "source": []
  },
  {
   "cell_type": "code",
   "execution_count": null,
   "metadata": {},
   "outputs": [],
   "source": []
  },
  {
   "cell_type": "code",
   "execution_count": null,
   "metadata": {},
   "outputs": [],
   "source": []
  },
  {
   "cell_type": "code",
   "execution_count": null,
   "metadata": {},
   "outputs": [],
   "source": []
  },
  {
   "cell_type": "code",
   "execution_count": null,
   "metadata": {},
   "outputs": [],
   "source": []
  }
 ],
 "metadata": {
  "kernelspec": {
   "display_name": "Python 3",
   "language": "python",
   "name": "python3"
  },
  "language_info": {
   "codemirror_mode": {
    "name": "ipython",
    "version": 3
   },
   "file_extension": ".py",
   "mimetype": "text/x-python",
   "name": "python",
   "nbconvert_exporter": "python",
   "pygments_lexer": "ipython3",
   "version": "3.7.6"
  }
 },
 "nbformat": 4,
 "nbformat_minor": 4
}
